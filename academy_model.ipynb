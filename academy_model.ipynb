{
 "cells": [
  {
   "cell_type": "code",
   "execution_count": 1,
   "metadata": {},
   "outputs": [],
   "source": [
    "import pandas as pd\n",
    "import numpy as np\n",
    "\n",
    "import matplotlib.pyplot as plt\n",
    "%matplotlib inline\n",
    "import seaborn as sns"
   ]
  },
  {
   "cell_type": "code",
   "execution_count": 8,
   "metadata": {},
   "outputs": [],
   "source": [
    "\n",
    "from sklearn.metrics import confusion_matrix\n",
    "from sklearn.metrics import accuracy_score\n",
    "from sklearn.metrics import f1_score \n"
   ]
  },
  {
   "cell_type": "code",
   "execution_count": 2,
   "metadata": {
    "scrolled": true
   },
   "outputs": [
    {
     "data": {
      "text/html": [
       "<div>\n",
       "<style scoped>\n",
       "    .dataframe tbody tr th:only-of-type {\n",
       "        vertical-align: middle;\n",
       "    }\n",
       "\n",
       "    .dataframe tbody tr th {\n",
       "        vertical-align: top;\n",
       "    }\n",
       "\n",
       "    .dataframe thead th {\n",
       "        text-align: right;\n",
       "    }\n",
       "</style>\n",
       "<table border=\"1\" class=\"dataframe\">\n",
       "  <thead>\n",
       "    <tr style=\"text-align: right;\">\n",
       "      <th></th>\n",
       "      <th>year_film</th>\n",
       "      <th>year_ceremony</th>\n",
       "      <th>ceremony</th>\n",
       "      <th>category</th>\n",
       "      <th>name</th>\n",
       "      <th>film</th>\n",
       "      <th>win</th>\n",
       "      <th>Gross</th>\n",
       "      <th>Date</th>\n",
       "      <th>Runtime</th>\n",
       "      <th>...</th>\n",
       "      <th>Dec</th>\n",
       "      <th>Feb</th>\n",
       "      <th>Jan</th>\n",
       "      <th>Jul</th>\n",
       "      <th>Jun</th>\n",
       "      <th>Mar</th>\n",
       "      <th>May</th>\n",
       "      <th>Nov</th>\n",
       "      <th>Oct</th>\n",
       "      <th>Sep</th>\n",
       "    </tr>\n",
       "  </thead>\n",
       "  <tbody>\n",
       "    <tr>\n",
       "      <td>0</td>\n",
       "      <td>1976</td>\n",
       "      <td>1977</td>\n",
       "      <td>49</td>\n",
       "      <td>BEST PICTURE</td>\n",
       "      <td>Walter Coblenz Producer</td>\n",
       "      <td>All the Presidents Men</td>\n",
       "      <td>False</td>\n",
       "      <td>7.060000e+07</td>\n",
       "      <td>Apr</td>\n",
       "      <td>138</td>\n",
       "      <td>...</td>\n",
       "      <td>0</td>\n",
       "      <td>0</td>\n",
       "      <td>0</td>\n",
       "      <td>0</td>\n",
       "      <td>0</td>\n",
       "      <td>0</td>\n",
       "      <td>0</td>\n",
       "      <td>0</td>\n",
       "      <td>0</td>\n",
       "      <td>0</td>\n",
       "    </tr>\n",
       "    <tr>\n",
       "      <td>1</td>\n",
       "      <td>1976</td>\n",
       "      <td>1977</td>\n",
       "      <td>49</td>\n",
       "      <td>BEST PICTURE</td>\n",
       "      <td>Robert F Blumofe and Harold Leventhal Producers</td>\n",
       "      <td>Bound for Glory</td>\n",
       "      <td>False</td>\n",
       "      <td>5.986694e+07</td>\n",
       "      <td>Dec</td>\n",
       "      <td>147</td>\n",
       "      <td>...</td>\n",
       "      <td>1</td>\n",
       "      <td>0</td>\n",
       "      <td>0</td>\n",
       "      <td>0</td>\n",
       "      <td>0</td>\n",
       "      <td>0</td>\n",
       "      <td>0</td>\n",
       "      <td>0</td>\n",
       "      <td>0</td>\n",
       "      <td>0</td>\n",
       "    </tr>\n",
       "    <tr>\n",
       "      <td>2</td>\n",
       "      <td>1976</td>\n",
       "      <td>1977</td>\n",
       "      <td>49</td>\n",
       "      <td>BEST PICTURE</td>\n",
       "      <td>Howard Gottfried Producer</td>\n",
       "      <td>Network</td>\n",
       "      <td>False</td>\n",
       "      <td>2.368988e+07</td>\n",
       "      <td>Nov</td>\n",
       "      <td>121</td>\n",
       "      <td>...</td>\n",
       "      <td>0</td>\n",
       "      <td>0</td>\n",
       "      <td>0</td>\n",
       "      <td>0</td>\n",
       "      <td>0</td>\n",
       "      <td>0</td>\n",
       "      <td>0</td>\n",
       "      <td>1</td>\n",
       "      <td>0</td>\n",
       "      <td>0</td>\n",
       "    </tr>\n",
       "    <tr>\n",
       "      <td>3</td>\n",
       "      <td>1976</td>\n",
       "      <td>1977</td>\n",
       "      <td>49</td>\n",
       "      <td>BEST PICTURE</td>\n",
       "      <td>Irwin Winkler and Robert Chartoff Producers</td>\n",
       "      <td>Rocky</td>\n",
       "      <td>True</td>\n",
       "      <td>1.172351e+08</td>\n",
       "      <td>Dec</td>\n",
       "      <td>120</td>\n",
       "      <td>...</td>\n",
       "      <td>1</td>\n",
       "      <td>0</td>\n",
       "      <td>0</td>\n",
       "      <td>0</td>\n",
       "      <td>0</td>\n",
       "      <td>0</td>\n",
       "      <td>0</td>\n",
       "      <td>0</td>\n",
       "      <td>0</td>\n",
       "      <td>0</td>\n",
       "    </tr>\n",
       "    <tr>\n",
       "      <td>4</td>\n",
       "      <td>1976</td>\n",
       "      <td>1977</td>\n",
       "      <td>49</td>\n",
       "      <td>BEST PICTURE</td>\n",
       "      <td>Michael Phillips and Julia Phillips Producers</td>\n",
       "      <td>Taxi Driver</td>\n",
       "      <td>False</td>\n",
       "      <td>2.826257e+07</td>\n",
       "      <td>Feb</td>\n",
       "      <td>114</td>\n",
       "      <td>...</td>\n",
       "      <td>0</td>\n",
       "      <td>1</td>\n",
       "      <td>0</td>\n",
       "      <td>0</td>\n",
       "      <td>0</td>\n",
       "      <td>0</td>\n",
       "      <td>0</td>\n",
       "      <td>0</td>\n",
       "      <td>0</td>\n",
       "      <td>0</td>\n",
       "    </tr>\n",
       "  </tbody>\n",
       "</table>\n",
       "<p>5 rows × 49 columns</p>\n",
       "</div>"
      ],
      "text/plain": [
       "   year_film  year_ceremony  ceremony      category  \\\n",
       "0       1976           1977        49  BEST PICTURE   \n",
       "1       1976           1977        49  BEST PICTURE   \n",
       "2       1976           1977        49  BEST PICTURE   \n",
       "3       1976           1977        49  BEST PICTURE   \n",
       "4       1976           1977        49  BEST PICTURE   \n",
       "\n",
       "                                              name                    film  \\\n",
       "0                          Walter Coblenz Producer  All the Presidents Men   \n",
       "1  Robert F Blumofe and Harold Leventhal Producers         Bound for Glory   \n",
       "2                        Howard Gottfried Producer                 Network   \n",
       "3      Irwin Winkler and Robert Chartoff Producers                   Rocky   \n",
       "4    Michael Phillips and Julia Phillips Producers             Taxi Driver   \n",
       "\n",
       "     win         Gross Date  Runtime  ...  Dec  Feb  Jan  Jul  Jun  Mar  May  \\\n",
       "0  False  7.060000e+07  Apr      138  ...    0    0    0    0    0    0    0   \n",
       "1  False  5.986694e+07  Dec      147  ...    1    0    0    0    0    0    0   \n",
       "2  False  2.368988e+07  Nov      121  ...    0    0    0    0    0    0    0   \n",
       "3   True  1.172351e+08  Dec      120  ...    1    0    0    0    0    0    0   \n",
       "4  False  2.826257e+07  Feb      114  ...    0    1    0    0    0    0    0   \n",
       "\n",
       "   Nov  Oct  Sep  \n",
       "0    0    0    0  \n",
       "1    0    0    0  \n",
       "2    1    0    0  \n",
       "3    0    0    0  \n",
       "4    0    0    0  \n",
       "\n",
       "[5 rows x 49 columns]"
      ]
     },
     "execution_count": 2,
     "metadata": {},
     "output_type": "execute_result"
    }
   ],
   "source": [
    "final_best = pd.read_csv(\"final_best.csv\")\n",
    "final_best.drop(\"Documentary\", axis =1, inplace =True)\n",
    "final_best = pd.concat([final_best,pd.get_dummies(final_best['Date'])], axis=1)\n",
    "final_best.head()"
   ]
  },
  {
   "cell_type": "code",
   "execution_count": 3,
   "metadata": {},
   "outputs": [
    {
     "name": "stdout",
     "output_type": "stream",
     "text": [
      "<class 'pandas.core.frame.DataFrame'>\n",
      "RangeIndex: 254 entries, 0 to 253\n",
      "Data columns (total 49 columns):\n",
      "year_film        254 non-null int64\n",
      "year_ceremony    254 non-null int64\n",
      "ceremony         254 non-null int64\n",
      "category         254 non-null object\n",
      "name             254 non-null object\n",
      "film             254 non-null object\n",
      "win              254 non-null bool\n",
      "Gross            254 non-null float64\n",
      "Date             254 non-null object\n",
      "Runtime          254 non-null int64\n",
      "Awards           254 non-null float64\n",
      "nominations      254 non-null float64\n",
      "imdb             254 non-null float64\n",
      "tomato           254 non-null float64\n",
      "Metacr           254 non-null float64\n",
      "imdbVotes        254 non-null float64\n",
      "Thriller         254 non-null float64\n",
      "Short            254 non-null float64\n",
      "Comedy           254 non-null float64\n",
      "Fantasy          254 non-null float64\n",
      "Animation        254 non-null float64\n",
      "Mystery          254 non-null float64\n",
      "Music            254 non-null float64\n",
      "Biography        254 non-null float64\n",
      "Drama            254 non-null float64\n",
      "Western          254 non-null float64\n",
      "Sci-Fi           254 non-null float64\n",
      "Musical          254 non-null float64\n",
      "History          254 non-null float64\n",
      "Action           254 non-null float64\n",
      "Crime            254 non-null float64\n",
      "Romance          254 non-null float64\n",
      "Family           254 non-null float64\n",
      "Adventure        254 non-null float64\n",
      "Sport            254 non-null float64\n",
      "Horror           254 non-null float64\n",
      "War              254 non-null float64\n",
      "Apr              254 non-null uint8\n",
      "Aug              254 non-null uint8\n",
      "Dec              254 non-null uint8\n",
      "Feb              254 non-null uint8\n",
      "Jan              254 non-null uint8\n",
      "Jul              254 non-null uint8\n",
      "Jun              254 non-null uint8\n",
      "Mar              254 non-null uint8\n",
      "May              254 non-null uint8\n",
      "Nov              254 non-null uint8\n",
      "Oct              254 non-null uint8\n",
      "Sep              254 non-null uint8\n",
      "dtypes: bool(1), float64(28), int64(4), object(4), uint8(12)\n",
      "memory usage: 74.8+ KB\n"
     ]
    }
   ],
   "source": [
    "final_best.info()"
   ]
  },
  {
   "cell_type": "code",
   "execution_count": 4,
   "metadata": {},
   "outputs": [],
   "source": [
    "final_best['win'] = final_best['win'].apply(lambda x : 1 if (x == True) else 0)"
   ]
  },
  {
   "cell_type": "code",
   "execution_count": 5,
   "metadata": {
    "scrolled": true
   },
   "outputs": [
    {
     "data": {
      "text/html": [
       "<div>\n",
       "<style scoped>\n",
       "    .dataframe tbody tr th:only-of-type {\n",
       "        vertical-align: middle;\n",
       "    }\n",
       "\n",
       "    .dataframe tbody tr th {\n",
       "        vertical-align: top;\n",
       "    }\n",
       "\n",
       "    .dataframe thead th {\n",
       "        text-align: right;\n",
       "    }\n",
       "</style>\n",
       "<table border=\"1\" class=\"dataframe\">\n",
       "  <thead>\n",
       "    <tr style=\"text-align: right;\">\n",
       "      <th></th>\n",
       "      <th>year_film</th>\n",
       "      <th>year_ceremony</th>\n",
       "      <th>ceremony</th>\n",
       "      <th>category</th>\n",
       "      <th>name</th>\n",
       "      <th>film</th>\n",
       "      <th>win</th>\n",
       "      <th>Gross</th>\n",
       "      <th>Date</th>\n",
       "      <th>Runtime</th>\n",
       "      <th>...</th>\n",
       "      <th>Dec</th>\n",
       "      <th>Feb</th>\n",
       "      <th>Jan</th>\n",
       "      <th>Jul</th>\n",
       "      <th>Jun</th>\n",
       "      <th>Mar</th>\n",
       "      <th>May</th>\n",
       "      <th>Nov</th>\n",
       "      <th>Oct</th>\n",
       "      <th>Sep</th>\n",
       "    </tr>\n",
       "  </thead>\n",
       "  <tbody>\n",
       "    <tr>\n",
       "      <td>0</td>\n",
       "      <td>1976</td>\n",
       "      <td>1977</td>\n",
       "      <td>49</td>\n",
       "      <td>BEST PICTURE</td>\n",
       "      <td>Walter Coblenz Producer</td>\n",
       "      <td>All the Presidents Men</td>\n",
       "      <td>0</td>\n",
       "      <td>7.060000e+07</td>\n",
       "      <td>Apr</td>\n",
       "      <td>138</td>\n",
       "      <td>...</td>\n",
       "      <td>0</td>\n",
       "      <td>0</td>\n",
       "      <td>0</td>\n",
       "      <td>0</td>\n",
       "      <td>0</td>\n",
       "      <td>0</td>\n",
       "      <td>0</td>\n",
       "      <td>0</td>\n",
       "      <td>0</td>\n",
       "      <td>0</td>\n",
       "    </tr>\n",
       "    <tr>\n",
       "      <td>1</td>\n",
       "      <td>1976</td>\n",
       "      <td>1977</td>\n",
       "      <td>49</td>\n",
       "      <td>BEST PICTURE</td>\n",
       "      <td>Robert F Blumofe and Harold Leventhal Producers</td>\n",
       "      <td>Bound for Glory</td>\n",
       "      <td>0</td>\n",
       "      <td>5.986694e+07</td>\n",
       "      <td>Dec</td>\n",
       "      <td>147</td>\n",
       "      <td>...</td>\n",
       "      <td>1</td>\n",
       "      <td>0</td>\n",
       "      <td>0</td>\n",
       "      <td>0</td>\n",
       "      <td>0</td>\n",
       "      <td>0</td>\n",
       "      <td>0</td>\n",
       "      <td>0</td>\n",
       "      <td>0</td>\n",
       "      <td>0</td>\n",
       "    </tr>\n",
       "    <tr>\n",
       "      <td>2</td>\n",
       "      <td>1976</td>\n",
       "      <td>1977</td>\n",
       "      <td>49</td>\n",
       "      <td>BEST PICTURE</td>\n",
       "      <td>Howard Gottfried Producer</td>\n",
       "      <td>Network</td>\n",
       "      <td>0</td>\n",
       "      <td>2.368988e+07</td>\n",
       "      <td>Nov</td>\n",
       "      <td>121</td>\n",
       "      <td>...</td>\n",
       "      <td>0</td>\n",
       "      <td>0</td>\n",
       "      <td>0</td>\n",
       "      <td>0</td>\n",
       "      <td>0</td>\n",
       "      <td>0</td>\n",
       "      <td>0</td>\n",
       "      <td>1</td>\n",
       "      <td>0</td>\n",
       "      <td>0</td>\n",
       "    </tr>\n",
       "    <tr>\n",
       "      <td>3</td>\n",
       "      <td>1976</td>\n",
       "      <td>1977</td>\n",
       "      <td>49</td>\n",
       "      <td>BEST PICTURE</td>\n",
       "      <td>Irwin Winkler and Robert Chartoff Producers</td>\n",
       "      <td>Rocky</td>\n",
       "      <td>1</td>\n",
       "      <td>1.172351e+08</td>\n",
       "      <td>Dec</td>\n",
       "      <td>120</td>\n",
       "      <td>...</td>\n",
       "      <td>1</td>\n",
       "      <td>0</td>\n",
       "      <td>0</td>\n",
       "      <td>0</td>\n",
       "      <td>0</td>\n",
       "      <td>0</td>\n",
       "      <td>0</td>\n",
       "      <td>0</td>\n",
       "      <td>0</td>\n",
       "      <td>0</td>\n",
       "    </tr>\n",
       "    <tr>\n",
       "      <td>4</td>\n",
       "      <td>1976</td>\n",
       "      <td>1977</td>\n",
       "      <td>49</td>\n",
       "      <td>BEST PICTURE</td>\n",
       "      <td>Michael Phillips and Julia Phillips Producers</td>\n",
       "      <td>Taxi Driver</td>\n",
       "      <td>0</td>\n",
       "      <td>2.826257e+07</td>\n",
       "      <td>Feb</td>\n",
       "      <td>114</td>\n",
       "      <td>...</td>\n",
       "      <td>0</td>\n",
       "      <td>1</td>\n",
       "      <td>0</td>\n",
       "      <td>0</td>\n",
       "      <td>0</td>\n",
       "      <td>0</td>\n",
       "      <td>0</td>\n",
       "      <td>0</td>\n",
       "      <td>0</td>\n",
       "      <td>0</td>\n",
       "    </tr>\n",
       "  </tbody>\n",
       "</table>\n",
       "<p>5 rows × 49 columns</p>\n",
       "</div>"
      ],
      "text/plain": [
       "   year_film  year_ceremony  ceremony      category  \\\n",
       "0       1976           1977        49  BEST PICTURE   \n",
       "1       1976           1977        49  BEST PICTURE   \n",
       "2       1976           1977        49  BEST PICTURE   \n",
       "3       1976           1977        49  BEST PICTURE   \n",
       "4       1976           1977        49  BEST PICTURE   \n",
       "\n",
       "                                              name                    film  \\\n",
       "0                          Walter Coblenz Producer  All the Presidents Men   \n",
       "1  Robert F Blumofe and Harold Leventhal Producers         Bound for Glory   \n",
       "2                        Howard Gottfried Producer                 Network   \n",
       "3      Irwin Winkler and Robert Chartoff Producers                   Rocky   \n",
       "4    Michael Phillips and Julia Phillips Producers             Taxi Driver   \n",
       "\n",
       "   win         Gross Date  Runtime  ...  Dec  Feb  Jan  Jul  Jun  Mar  May  \\\n",
       "0    0  7.060000e+07  Apr      138  ...    0    0    0    0    0    0    0   \n",
       "1    0  5.986694e+07  Dec      147  ...    1    0    0    0    0    0    0   \n",
       "2    0  2.368988e+07  Nov      121  ...    0    0    0    0    0    0    0   \n",
       "3    1  1.172351e+08  Dec      120  ...    1    0    0    0    0    0    0   \n",
       "4    0  2.826257e+07  Feb      114  ...    0    1    0    0    0    0    0   \n",
       "\n",
       "   Nov  Oct  Sep  \n",
       "0    0    0    0  \n",
       "1    0    0    0  \n",
       "2    1    0    0  \n",
       "3    0    0    0  \n",
       "4    0    0    0  \n",
       "\n",
       "[5 rows x 49 columns]"
      ]
     },
     "execution_count": 5,
     "metadata": {},
     "output_type": "execute_result"
    }
   ],
   "source": [
    "final_best.head()"
   ]
  },
  {
   "cell_type": "code",
   "execution_count": 6,
   "metadata": {
    "scrolled": false
   },
   "outputs": [
    {
     "data": {
      "text/plain": [
       "Index(['year_film', 'year_ceremony', 'ceremony', 'category', 'name', 'film',\n",
       "       'win', 'Gross', 'Date', 'Runtime', 'Awards', 'nominations', 'imdb',\n",
       "       'tomato', 'Metacr', 'imdbVotes', 'Thriller', 'Short', 'Comedy',\n",
       "       'Fantasy', 'Animation', 'Mystery', 'Music', 'Biography', 'Drama',\n",
       "       'Western', 'Sci-Fi', 'Musical', 'History', 'Action', 'Crime', 'Romance',\n",
       "       'Family', 'Adventure', 'Sport', 'Horror', 'War', 'Apr', 'Aug', 'Dec',\n",
       "       'Feb', 'Jan', 'Jul', 'Jun', 'Mar', 'May', 'Nov', 'Oct', 'Sep'],\n",
       "      dtype='object')"
      ]
     },
     "execution_count": 6,
     "metadata": {},
     "output_type": "execute_result"
    }
   ],
   "source": [
    "final_best.columns"
   ]
  },
  {
   "cell_type": "markdown",
   "metadata": {},
   "source": [
    "## Train_data, Train_label 분리"
   ]
  },
  {
   "cell_type": "code",
   "execution_count": 6,
   "metadata": {},
   "outputs": [],
   "source": [
    "\n",
    "train_data = final_best.drop([\"win\",\"year_film\",\"year_ceremony\",\"ceremony\",\"category\",\"name\",\"film\",\"Date\"],axis=1)\n",
    "train_label = final_best[\"win\"]\n"
   ]
  },
  {
   "cell_type": "code",
   "execution_count": 7,
   "metadata": {},
   "outputs": [],
   "source": []
  },
  {
   "cell_type": "markdown",
   "metadata": {},
   "source": [
    "## 연속형 변수 StandardScaler로 평균 0, 표준편차 1 이 되는 값으로 변경 \n",
    "\n",
    "스케일링  \n",
    "스케일링은 자료 집합에 적용되는 전처리 과정으로 모든 자료에 선형 변환을 적용하여 전체 자료의 분포를 평균 0, 분산 1이 되도록   만드는 과정이다.스케일링은 자료의 오버플로우(overflow)나 언더플로우(underflow)를 방지하고 독립 변수의 공분산 행렬의 조건수  (condition number)를 감소시켜 최적화 과정에서의 안정성 및 수렴 속도를 향상시킨다.  \n",
    "  \n",
    "\n",
    "scikit-learn에서는 다음과 같은 스케일링 클래스를 제공한다.  \n",
    "  \n",
    "* StandardScaler(X): 평균이 0과 표준편차가 1이 되도록 변환.  \n",
    "* RobustScaler(X): 중앙값(median)이 0, IQR(interquartile range)이 1이 되도록 변환.  \n",
    "* MinMaxScaler(X): 최대값이 각각 1, 최소값이 0이 되도록 변환.  \n",
    "* MaxAbsScaler(X): 0을 기준으로 절대값이 가장 큰 수가 1또는 -1이 되도록 변환.  "
   ]
  },
  {
   "cell_type": "code",
   "execution_count": 9,
   "metadata": {},
   "outputs": [],
   "source": [
    "from sklearn.preprocessing import StandardScaler"
   ]
  },
  {
   "cell_type": "code",
   "execution_count": 10,
   "metadata": {},
   "outputs": [
    {
     "data": {
      "text/html": [
       "<div>\n",
       "<style scoped>\n",
       "    .dataframe tbody tr th:only-of-type {\n",
       "        vertical-align: middle;\n",
       "    }\n",
       "\n",
       "    .dataframe tbody tr th {\n",
       "        vertical-align: top;\n",
       "    }\n",
       "\n",
       "    .dataframe thead th {\n",
       "        text-align: right;\n",
       "    }\n",
       "</style>\n",
       "<table border=\"1\" class=\"dataframe\">\n",
       "  <thead>\n",
       "    <tr style=\"text-align: right;\">\n",
       "      <th></th>\n",
       "      <th>Gross</th>\n",
       "      <th>Runtime</th>\n",
       "      <th>Awards</th>\n",
       "      <th>nominations</th>\n",
       "      <th>imdb</th>\n",
       "      <th>tomato</th>\n",
       "      <th>Metacr</th>\n",
       "      <th>imdbVotes</th>\n",
       "      <th>Thriller</th>\n",
       "      <th>Short</th>\n",
       "      <th>...</th>\n",
       "      <th>Dec</th>\n",
       "      <th>Feb</th>\n",
       "      <th>Jan</th>\n",
       "      <th>Jul</th>\n",
       "      <th>Jun</th>\n",
       "      <th>Mar</th>\n",
       "      <th>May</th>\n",
       "      <th>Nov</th>\n",
       "      <th>Oct</th>\n",
       "      <th>Sep</th>\n",
       "    </tr>\n",
       "  </thead>\n",
       "  <tbody>\n",
       "    <tr>\n",
       "      <td>0</td>\n",
       "      <td>-0.217217</td>\n",
       "      <td>0.389799</td>\n",
       "      <td>13.0</td>\n",
       "      <td>-0.887770</td>\n",
       "      <td>0.635889</td>\n",
       "      <td>0.547883</td>\n",
       "      <td>-0.019685</td>\n",
       "      <td>-0.645448</td>\n",
       "      <td>1.0</td>\n",
       "      <td>0.0</td>\n",
       "      <td>...</td>\n",
       "      <td>0</td>\n",
       "      <td>0</td>\n",
       "      <td>0</td>\n",
       "      <td>0</td>\n",
       "      <td>0</td>\n",
       "      <td>0</td>\n",
       "      <td>0</td>\n",
       "      <td>0</td>\n",
       "      <td>0</td>\n",
       "      <td>0</td>\n",
       "    </tr>\n",
       "    <tr>\n",
       "      <td>1</td>\n",
       "      <td>-0.320594</td>\n",
       "      <td>0.740617</td>\n",
       "      <td>4.0</td>\n",
       "      <td>-1.022498</td>\n",
       "      <td>-0.854225</td>\n",
       "      <td>-0.252807</td>\n",
       "      <td>-0.988183</td>\n",
       "      <td>-0.889990</td>\n",
       "      <td>0.0</td>\n",
       "      <td>0.0</td>\n",
       "      <td>...</td>\n",
       "      <td>1</td>\n",
       "      <td>0</td>\n",
       "      <td>0</td>\n",
       "      <td>0</td>\n",
       "      <td>0</td>\n",
       "      <td>0</td>\n",
       "      <td>0</td>\n",
       "      <td>0</td>\n",
       "      <td>0</td>\n",
       "      <td>0</td>\n",
       "    </tr>\n",
       "    <tr>\n",
       "      <td>2</td>\n",
       "      <td>-0.669039</td>\n",
       "      <td>-0.272859</td>\n",
       "      <td>16.0</td>\n",
       "      <td>-0.820407</td>\n",
       "      <td>0.848762</td>\n",
       "      <td>0.433499</td>\n",
       "      <td>0.270865</td>\n",
       "      <td>-0.537342</td>\n",
       "      <td>0.0</td>\n",
       "      <td>0.0</td>\n",
       "      <td>...</td>\n",
       "      <td>0</td>\n",
       "      <td>0</td>\n",
       "      <td>0</td>\n",
       "      <td>0</td>\n",
       "      <td>0</td>\n",
       "      <td>0</td>\n",
       "      <td>0</td>\n",
       "      <td>1</td>\n",
       "      <td>0</td>\n",
       "      <td>0</td>\n",
       "    </tr>\n",
       "    <tr>\n",
       "      <td>3</td>\n",
       "      <td>0.231958</td>\n",
       "      <td>-0.311839</td>\n",
       "      <td>17.0</td>\n",
       "      <td>-0.887770</td>\n",
       "      <td>0.848762</td>\n",
       "      <td>0.662267</td>\n",
       "      <td>-0.988183</td>\n",
       "      <td>0.404938</td>\n",
       "      <td>0.0</td>\n",
       "      <td>0.0</td>\n",
       "      <td>...</td>\n",
       "      <td>1</td>\n",
       "      <td>0</td>\n",
       "      <td>0</td>\n",
       "      <td>0</td>\n",
       "      <td>0</td>\n",
       "      <td>0</td>\n",
       "      <td>0</td>\n",
       "      <td>0</td>\n",
       "      <td>0</td>\n",
       "      <td>0</td>\n",
       "    </tr>\n",
       "    <tr>\n",
       "      <td>4</td>\n",
       "      <td>-0.624997</td>\n",
       "      <td>-0.545718</td>\n",
       "      <td>21.0</td>\n",
       "      <td>-0.968607</td>\n",
       "      <td>1.274509</td>\n",
       "      <td>1.005420</td>\n",
       "      <td>1.336213</td>\n",
       "      <td>0.890386</td>\n",
       "      <td>0.0</td>\n",
       "      <td>0.0</td>\n",
       "      <td>...</td>\n",
       "      <td>0</td>\n",
       "      <td>1</td>\n",
       "      <td>0</td>\n",
       "      <td>0</td>\n",
       "      <td>0</td>\n",
       "      <td>0</td>\n",
       "      <td>0</td>\n",
       "      <td>0</td>\n",
       "      <td>0</td>\n",
       "      <td>0</td>\n",
       "    </tr>\n",
       "    <tr>\n",
       "      <td>...</td>\n",
       "      <td>...</td>\n",
       "      <td>...</td>\n",
       "      <td>...</td>\n",
       "      <td>...</td>\n",
       "      <td>...</td>\n",
       "      <td>...</td>\n",
       "      <td>...</td>\n",
       "      <td>...</td>\n",
       "      <td>...</td>\n",
       "      <td>...</td>\n",
       "      <td>...</td>\n",
       "      <td>...</td>\n",
       "      <td>...</td>\n",
       "      <td>...</td>\n",
       "      <td>...</td>\n",
       "      <td>...</td>\n",
       "      <td>...</td>\n",
       "      <td>...</td>\n",
       "      <td>...</td>\n",
       "      <td>...</td>\n",
       "      <td>...</td>\n",
       "    </tr>\n",
       "    <tr>\n",
       "      <td>249</td>\n",
       "      <td>-0.566203</td>\n",
       "      <td>-0.350819</td>\n",
       "      <td>177.0</td>\n",
       "      <td>3.086696</td>\n",
       "      <td>-0.215605</td>\n",
       "      <td>0.547883</td>\n",
       "      <td>0.948813</td>\n",
       "      <td>-0.511057</td>\n",
       "      <td>0.0</td>\n",
       "      <td>0.0</td>\n",
       "      <td>...</td>\n",
       "      <td>1</td>\n",
       "      <td>0</td>\n",
       "      <td>0</td>\n",
       "      <td>0</td>\n",
       "      <td>0</td>\n",
       "      <td>0</td>\n",
       "      <td>0</td>\n",
       "      <td>0</td>\n",
       "      <td>0</td>\n",
       "      <td>0</td>\n",
       "    </tr>\n",
       "    <tr>\n",
       "      <td>250</td>\n",
       "      <td>-0.077748</td>\n",
       "      <td>0.077960</td>\n",
       "      <td>53.0</td>\n",
       "      <td>0.270887</td>\n",
       "      <td>1.061636</td>\n",
       "      <td>-1.167882</td>\n",
       "      <td>-1.085033</td>\n",
       "      <td>-0.155183</td>\n",
       "      <td>0.0</td>\n",
       "      <td>0.0</td>\n",
       "      <td>...</td>\n",
       "      <td>0</td>\n",
       "      <td>0</td>\n",
       "      <td>0</td>\n",
       "      <td>0</td>\n",
       "      <td>0</td>\n",
       "      <td>0</td>\n",
       "      <td>0</td>\n",
       "      <td>1</td>\n",
       "      <td>0</td>\n",
       "      <td>0</td>\n",
       "    </tr>\n",
       "    <tr>\n",
       "      <td>251</td>\n",
       "      <td>-0.320594</td>\n",
       "      <td>0.272859</td>\n",
       "      <td>248.0</td>\n",
       "      <td>1.537327</td>\n",
       "      <td>-0.002732</td>\n",
       "      <td>-0.270547</td>\n",
       "      <td>1.529912</td>\n",
       "      <td>-0.573765</td>\n",
       "      <td>0.0</td>\n",
       "      <td>0.0</td>\n",
       "      <td>...</td>\n",
       "      <td>0</td>\n",
       "      <td>0</td>\n",
       "      <td>0</td>\n",
       "      <td>0</td>\n",
       "      <td>0</td>\n",
       "      <td>0</td>\n",
       "      <td>0</td>\n",
       "      <td>1</td>\n",
       "      <td>0</td>\n",
       "      <td>0</td>\n",
       "    </tr>\n",
       "    <tr>\n",
       "      <td>252</td>\n",
       "      <td>1.176379</td>\n",
       "      <td>0.311839</td>\n",
       "      <td>92.0</td>\n",
       "      <td>2.493894</td>\n",
       "      <td>-0.002732</td>\n",
       "      <td>0.204730</td>\n",
       "      <td>0.755114</td>\n",
       "      <td>-0.110296</td>\n",
       "      <td>0.0</td>\n",
       "      <td>0.0</td>\n",
       "      <td>...</td>\n",
       "      <td>0</td>\n",
       "      <td>0</td>\n",
       "      <td>0</td>\n",
       "      <td>0</td>\n",
       "      <td>0</td>\n",
       "      <td>0</td>\n",
       "      <td>0</td>\n",
       "      <td>0</td>\n",
       "      <td>1</td>\n",
       "      <td>0</td>\n",
       "    </tr>\n",
       "    <tr>\n",
       "      <td>253</td>\n",
       "      <td>-0.436469</td>\n",
       "      <td>0.155919</td>\n",
       "      <td>32.0</td>\n",
       "      <td>0.567288</td>\n",
       "      <td>-1.067099</td>\n",
       "      <td>-2.540494</td>\n",
       "      <td>-1.859832</td>\n",
       "      <td>-0.641698</td>\n",
       "      <td>0.0</td>\n",
       "      <td>0.0</td>\n",
       "      <td>...</td>\n",
       "      <td>1</td>\n",
       "      <td>0</td>\n",
       "      <td>0</td>\n",
       "      <td>0</td>\n",
       "      <td>0</td>\n",
       "      <td>0</td>\n",
       "      <td>0</td>\n",
       "      <td>0</td>\n",
       "      <td>0</td>\n",
       "      <td>0</td>\n",
       "    </tr>\n",
       "  </tbody>\n",
       "</table>\n",
       "<p>254 rows × 41 columns</p>\n",
       "</div>"
      ],
      "text/plain": [
       "        Gross   Runtime  Awards  nominations      imdb    tomato    Metacr  \\\n",
       "0   -0.217217  0.389799    13.0    -0.887770  0.635889  0.547883 -0.019685   \n",
       "1   -0.320594  0.740617     4.0    -1.022498 -0.854225 -0.252807 -0.988183   \n",
       "2   -0.669039 -0.272859    16.0    -0.820407  0.848762  0.433499  0.270865   \n",
       "3    0.231958 -0.311839    17.0    -0.887770  0.848762  0.662267 -0.988183   \n",
       "4   -0.624997 -0.545718    21.0    -0.968607  1.274509  1.005420  1.336213   \n",
       "..        ...       ...     ...          ...       ...       ...       ...   \n",
       "249 -0.566203 -0.350819   177.0     3.086696 -0.215605  0.547883  0.948813   \n",
       "250 -0.077748  0.077960    53.0     0.270887  1.061636 -1.167882 -1.085033   \n",
       "251 -0.320594  0.272859   248.0     1.537327 -0.002732 -0.270547  1.529912   \n",
       "252  1.176379  0.311839    92.0     2.493894 -0.002732  0.204730  0.755114   \n",
       "253 -0.436469  0.155919    32.0     0.567288 -1.067099 -2.540494 -1.859832   \n",
       "\n",
       "     imdbVotes  Thriller  Short  ...  Dec  Feb  Jan  Jul  Jun  Mar  May  Nov  \\\n",
       "0    -0.645448       1.0    0.0  ...    0    0    0    0    0    0    0    0   \n",
       "1    -0.889990       0.0    0.0  ...    1    0    0    0    0    0    0    0   \n",
       "2    -0.537342       0.0    0.0  ...    0    0    0    0    0    0    0    1   \n",
       "3     0.404938       0.0    0.0  ...    1    0    0    0    0    0    0    0   \n",
       "4     0.890386       0.0    0.0  ...    0    1    0    0    0    0    0    0   \n",
       "..         ...       ...    ...  ...  ...  ...  ...  ...  ...  ...  ...  ...   \n",
       "249  -0.511057       0.0    0.0  ...    1    0    0    0    0    0    0    0   \n",
       "250  -0.155183       0.0    0.0  ...    0    0    0    0    0    0    0    1   \n",
       "251  -0.573765       0.0    0.0  ...    0    0    0    0    0    0    0    1   \n",
       "252  -0.110296       0.0    0.0  ...    0    0    0    0    0    0    0    0   \n",
       "253  -0.641698       0.0    0.0  ...    1    0    0    0    0    0    0    0   \n",
       "\n",
       "     Oct  Sep  \n",
       "0      0    0  \n",
       "1      0    0  \n",
       "2      0    0  \n",
       "3      0    0  \n",
       "4      0    0  \n",
       "..   ...  ...  \n",
       "249    0    0  \n",
       "250    0    0  \n",
       "251    0    0  \n",
       "252    1    0  \n",
       "253    0    0  \n",
       "\n",
       "[254 rows x 41 columns]"
      ]
     },
     "execution_count": 10,
     "metadata": {},
     "output_type": "execute_result"
    }
   ],
   "source": [
    "scaler = StandardScaler()\n",
    "\n",
    "train_data[['Gross', 'Runtime', 'nominations', 'imdb', 'tomato', 'Metacr', 'imdbVotes']] = scaler.fit_transform(train_data[['Gross', 'Runtime', 'nominations', 'imdb', 'tomato', 'Metacr', 'imdbVotes']])\n",
    "train_data"
   ]
  },
  {
   "cell_type": "markdown",
   "metadata": {},
   "source": [
    "## train_test_split 을 이용하여 train, test set분리"
   ]
  },
  {
   "cell_type": "code",
   "execution_count": null,
   "metadata": {},
   "outputs": [],
   "source": [
    "from sklearn.model_selection import train_test_split"
   ]
  },
  {
   "cell_type": "code",
   "execution_count": 38,
   "metadata": {
    "scrolled": true
   },
   "outputs": [],
   "source": [
    "\n",
    "\n",
    "X_train, X_test, y_train, y_test = train_test_split(train_data, train_label, test_size =0.25, random_state=123, stratify = train_label)\n",
    "\n",
    "# stratify : train_label의 비율을 살려 테스트와 트레인 부분을 나눈다. "
   ]
  },
  {
   "cell_type": "markdown",
   "metadata": {},
   "source": [
    "## SMOTE 를 이용. 비대칭 데이터 문제를 해결하기 위한 오버샘플링\n",
    "SMOTE : 기존의 소수의 값 주변의 값들로 데이터 생성  \n",
    "\n",
    "### 언더 샘플링\n",
    "* RandomUnderSampler: random under-sampling method\n",
    "* TomekLinks: Tomek’s link method\n",
    "* CondensedNearestNeighbour: condensed nearest neighbour method\n",
    "* OneSidedSelection: under-sampling based on one-sided selection method\n",
    "* EditedNearestNeighbours: edited nearest neighbour method\n",
    "* NeighbourhoodCleaningRule: neighbourhood cleaning rule\n",
    "\n",
    "### 오버 샘플링\n",
    "* RandomOverSampler: random sampler\n",
    "* ADASYN: Adaptive Synthetic Sampling Approach for Imbalanced Learning  \n",
    "* SMOTE: Synthetic Minority Over-sampling Technique\n",
    "\n",
    "###  복합 샘플링\n",
    "* SMOTEENN: SMOTE + ENN\n",
    "* SMOTETomek: SMOTE + Tomek"
   ]
  },
  {
   "cell_type": "code",
   "execution_count": 11,
   "metadata": {
    "scrolled": true
   },
   "outputs": [
    {
     "name": "stderr",
     "output_type": "stream",
     "text": [
      "Using TensorFlow backend.\n"
     ]
    }
   ],
   "source": [
    "from imblearn.over_sampling import SMOTE"
   ]
  },
  {
   "cell_type": "code",
   "execution_count": 39,
   "metadata": {},
   "outputs": [],
   "source": [
    "smote = SMOTE(random_state=0)\n",
    "X_train_over, y_train_over = smote.fit_sample(X_train,y_train)"
   ]
  },
  {
   "cell_type": "code",
   "execution_count": 40,
   "metadata": {},
   "outputs": [
    {
     "data": {
      "text/plain": [
       "316"
      ]
     },
     "execution_count": 40,
     "metadata": {},
     "output_type": "execute_result"
    }
   ],
   "source": [
    "len(X_train_over)\n"
   ]
  },
  {
   "cell_type": "code",
   "execution_count": 141,
   "metadata": {
    "scrolled": true
   },
   "outputs": [
    {
     "data": {
      "text/plain": [
       "1    158\n",
       "0    158\n",
       "Name: win, dtype: int64"
      ]
     },
     "execution_count": 141,
     "metadata": {},
     "output_type": "execute_result"
    }
   ],
   "source": [
    "y_train_over.value_counts()\n"
   ]
  },
  {
   "cell_type": "code",
   "execution_count": 143,
   "metadata": {},
   "outputs": [
    {
     "data": {
      "text/plain": [
       "0    53\n",
       "1    11\n",
       "Name: win, dtype: int64"
      ]
     },
     "execution_count": 143,
     "metadata": {},
     "output_type": "execute_result"
    }
   ],
   "source": [
    "y_test.value_counts()"
   ]
  },
  {
   "cell_type": "markdown",
   "metadata": {},
   "source": [
    "## StratifiedKFold를 이용하여 비율에 맞게 데이터를 나눈다. \n",
    "\n",
    "일반적으로 회귀에는 기본 k-겹 교차검증을 사용하고, 분류에는 StratifiedKFold를 사용한다. 파라미터 찾을때 사용"
   ]
  },
  {
   "cell_type": "code",
   "execution_count": 100,
   "metadata": {},
   "outputs": [],
   "source": [
    "from sklearn.model_selection import StratifiedKFold"
   ]
  },
  {
   "cell_type": "code",
   "execution_count": 192,
   "metadata": {},
   "outputs": [],
   "source": [
    "skf = StratifiedKFold(n_splits=10)"
   ]
  },
  {
   "cell_type": "markdown",
   "metadata": {},
   "source": [
    "## Decision Tree"
   ]
  },
  {
   "cell_type": "code",
   "execution_count": 41,
   "metadata": {},
   "outputs": [],
   "source": [
    "from sklearn.tree import DecisionTreeClassifier"
   ]
  },
  {
   "cell_type": "code",
   "execution_count": 237,
   "metadata": {},
   "outputs": [
    {
     "name": "stdout",
     "output_type": "stream",
     "text": [
      "f1 score : 0.3590\n"
     ]
    },
    {
     "data": {
      "text/plain": [
       "array([[32, 21],\n",
       "       [ 4,  7]], dtype=int64)"
      ]
     },
     "execution_count": 237,
     "metadata": {},
     "output_type": "execute_result"
    }
   ],
   "source": [
    "DTC = DecisionTreeClassifier(max_depth = 4,random_state=1234 )\n",
    "\n",
    "DTC.fit(X_train_over,y_train_over)\n",
    "\n",
    "pred = DTC.predict(X_test)\n",
    "\n",
    "print(\"f1 score : {0:.4f}\".format(f1_score(y_test,pred)))\n",
    "\n",
    "confusion_matrix(y_test,pred)"
   ]
  },
  {
   "cell_type": "markdown",
   "metadata": {},
   "source": [
    "## GridSearchCV로 최적의 파라미터 찾기 "
   ]
  },
  {
   "cell_type": "code",
   "execution_count": 248,
   "metadata": {},
   "outputs": [
    {
     "name": "stdout",
     "output_type": "stream",
     "text": [
      "f1 score : 0.3636\n"
     ]
    },
    {
     "data": {
      "text/plain": [
       "array([[28, 25],\n",
       "       [ 3,  8]], dtype=int64)"
      ]
     },
     "execution_count": 248,
     "metadata": {},
     "output_type": "execute_result"
    }
   ],
   "source": [
    "parameters = {\n",
    "    \"criterion\" :[ \"entropy\"],\n",
    "    \"splitter\" :[\"best\"],\n",
    "    \"max_leaf_nodes\" :[2,3,4,5],\n",
    "    \"min_samples_leaf\" : [1],\n",
    "    \"min_samples_split\" : [2]\n",
    "    \n",
    "    \n",
    "}\n",
    "\n",
    "grid_dt = GridSearchCV(DTC,\n",
    "                         param_grid=parameters,\n",
    "                         scoring=\"f1\",\n",
    "                         cv=skf,\n",
    "                        n_jobs=-1 )\n",
    "grid_dt.fit(X_train_over, y_train_over)\n",
    "\n",
    "pred = grid_dt.predict(X_test)\n",
    "\n",
    "print(\"f1 score : {0:.4f}\".format(f1_score(y_test,pred)))\n",
    "\n",
    "confusion_matrix(y_test,pred)"
   ]
  },
  {
   "cell_type": "code",
   "execution_count": 227,
   "metadata": {
    "scrolled": true
   },
   "outputs": [
    {
     "data": {
      "text/plain": [
       "DecisionTreeClassifier(ccp_alpha=0.0, class_weight=None, criterion='entropy',\n",
       "                       max_depth=None, max_features=None, max_leaf_nodes=4,\n",
       "                       min_impurity_decrease=0.0, min_impurity_split=None,\n",
       "                       min_samples_leaf=1, min_samples_split=2,\n",
       "                       min_weight_fraction_leaf=0.0, presort='deprecated',\n",
       "                       random_state=None, splitter='best')"
      ]
     },
     "execution_count": 227,
     "metadata": {},
     "output_type": "execute_result"
    }
   ],
   "source": [
    "grid_dt.best_estimator_"
   ]
  },
  {
   "cell_type": "markdown",
   "metadata": {},
   "source": [
    "## Decision Tree 시각화"
   ]
  },
  {
   "cell_type": "code",
   "execution_count": null,
   "metadata": {},
   "outputs": [],
   "source": [
    "from sklearn.externals.six import StringIO  \n",
    "from IPython.display import Image  \n",
    "from sklearn.tree import export_graphviz\n",
    "import pydotplus\n"
   ]
  },
  {
   "cell_type": "code",
   "execution_count": 238,
   "metadata": {
    "scrolled": true
   },
   "outputs": [
    {
     "data": {
      "image/png": "[encoded data removed]",
      "text/plain": [
       "<IPython.core.display.Image object>"
      ]
     },
     "execution_count": 238,
     "metadata": {},
     "output_type": "execute_result"
    }
   ],
   "source": [
    "\n",
    "dot_data = StringIO()\n",
    "\n",
    "export_graphviz(DTC, out_file=dot_data,  \n",
    "                filled=True, rounded=True,\n",
    "                special_characters=True,\n",
    "                class_names=[\"win\", \"lose\"],\n",
    "                 feature_names=X_train.columns\n",
    "              )\n",
    "\n",
    "graph = pydotplus.graph_from_dot_data(dot_data.getvalue())  \n",
    "Image(graph.create_png())"
   ]
  },
  {
   "cell_type": "markdown",
   "metadata": {},
   "source": [
    "## plot 한글 패치"
   ]
  },
  {
   "cell_type": "code",
   "execution_count": 34,
   "metadata": {},
   "outputs": [],
   "source": [
    "%matplotlib inline\n",
    "\n",
    "import os\n",
    "from matplotlib import font_manager as fm, rcParams\n",
    "import matplotlib.pyplot as plt\n",
    "import matplotlib as mpl"
   ]
  },
  {
   "cell_type": "code",
   "execution_count": 35,
   "metadata": {},
   "outputs": [],
   "source": [
    "fm.get_fontconfig_fonts()\n",
    "# font_location = '/usr/share/fonts/truetype/nanum/NanumGothicOTF.ttf'\n",
    "font_location = 'C:/Windows/Fonts/NanumGothic.ttf' # For Windows\n",
    "font_name = fm.FontProperties(fname=font_location).get_name()\n",
    "mpl.rc('font', family=font_name)\n"
   ]
  },
  {
   "cell_type": "markdown",
   "metadata": {},
   "source": [
    "## Decision Tree 특성 중요도 plot"
   ]
  },
  {
   "cell_type": "code",
   "execution_count": 239,
   "metadata": {},
   "outputs": [
    {
     "data": {
      "image/png": "[encoded data removed]",
      "text/plain": [
       "<Figure size 648x648 with 1 Axes>"
      ]
     },
     "metadata": {
      "needs_background": "light"
     },
     "output_type": "display_data"
    }
   ],
   "source": [
    "def plot_feature_importances_final_best(model):\n",
    "    plt.figure(figsize=(9, 9))\n",
    "    n_features = X_train.shape[1]\n",
    "    plt.barh(range(n_features), model.feature_importances_, align='center')\n",
    "    plt.yticks(np.arange(n_features), X_train.columns)\n",
    "    plt.xlabel(\"특성 중요도\")\n",
    "    plt.ylabel(\"특성\")\n",
    "    plt.ylim(-1, n_features)\n",
    "\n",
    "plot_feature_importances_final_best(DTC)"
   ]
  },
  {
   "cell_type": "code",
   "execution_count": 97,
   "metadata": {},
   "outputs": [],
   "source": [
    "# Import libraries\n",
    "\n",
    "from sklearn.model_selection import GridSearchCV,RandomizedSearchCV,learning_curve, cross_val_score, KFold\n",
    "from sklearn.preprocessing import StandardScaler, RobustScaler\n",
    "from sklearn.svm import SVR\n",
    "from sklearn.ensemble import RandomForestRegressor\n",
    "from sklearn.metrics import accuracy_score, mean_squared_error\n",
    "\n",
    "from sklearn.linear_model import LassoCV,ElasticNetCV,Lasso,ElasticNet\n",
    "from sklearn.kernel_ridge import KernelRidge\n",
    "\n",
    "\n",
    "# 아래 추가적인 패키지가 설치가 되어 있어야 함!!!!!!!\n",
    "from xgboost import XGBRegressor\n",
    "from mlxtend.regressor import StackingRegressor\n",
    "\n",
    "\n",
    "# 시간\n",
    "import time"
   ]
  },
  {
   "cell_type": "markdown",
   "metadata": {},
   "source": [
    "머신러닝에는 앙상블(emsemble)모델이 있다.\n",
    "크게 3종류로 나눌 수 있다. \n",
    "\n",
    "* Bagging\n",
    "* Boosting\n",
    "* Voting"
   ]
  },
  {
   "cell_type": "markdown",
   "metadata": {},
   "source": [
    "## XGBC(XGBClassifier)\n",
    "\n",
    "Gradient Boosting(경사하강법)의 단점을 보완한 부스터   \n",
    "CART(Classification and Regresstion Tree)기반 : 분류와 회귀 둘다 가능하다. \n",
    "\n",
    "일반 파라미터 : 도구 모양을 결정하는 파라미터. linear or tree\n",
    "* booster : ['gbtree', 'gblinear', 'dart']\n",
    "* nthread\n",
    "* num_feature\n",
    "\n",
    "부스팅 파라미터 : 트리마다 가지를 칠 때 적용하는 옵션. 선택한 booster마다 파라미터가 다름 \n",
    "\n",
    "학습과정 파라미터 : 최적화 퍼포먼스를 결정하는 파라미터 \n",
    "\n",
    "커맨드라인 파라미터 : epoch랑 비슷 \n",
    "\n",
    "xgboost 파라미터 :\n",
    "https://xgboost.readthedocs.io/en/latest/parameter.html"
   ]
  },
  {
   "cell_type": "code",
   "execution_count": 47,
   "metadata": {},
   "outputs": [],
   "source": [
    "import xgboost as xgb\n",
    "from xgboost import XGBClassifier"
   ]
  },
  {
   "cell_type": "code",
   "execution_count": 48,
   "metadata": {},
   "outputs": [],
   "source": [
    "from sklearn.model_selection import ParameterGrid"
   ]
  },
  {
   "cell_type": "code",
   "execution_count": 193,
   "metadata": {},
   "outputs": [
    {
     "name": "stdout",
     "output_type": "stream",
     "text": [
      "f1 Score : 0.5806\n"
     ]
    },
    {
     "data": {
      "text/plain": [
       "array([[42, 11],\n",
       "       [ 2,  9]], dtype=int64)"
      ]
     },
     "execution_count": 193,
     "metadata": {},
     "output_type": "execute_result"
    }
   ],
   "source": [
    "\n",
    "XGBC = XGBClassifier(booster = \"gbtree\",\n",
    "                     min_child_weight=10,\n",
    "                     max_depth=3, # 3-10이 기본\n",
    "                     gamma =0, # 노드가 split 되기 위한 loss function의 값이 감소하는 최소값. 감마가 높을수록 보수적\n",
    "                     learning_rate=0.1,\n",
    "                     objective='binary:logistic',\n",
    "                     scoring='f1',\n",
    "                     n_jobs=-1, \n",
    "                     verbose = 1, \n",
    "                     random_state=1234) \n",
    "                     \n",
    "\n",
    "XGBC.fit(X_train_over, y_train_over)\n",
    "\n",
    "pred= XGBC.predict(X_test)\n",
    "\n",
    "print(\"f1 Score : {0:.4f}\".format(f1_score(y_test,pred)))\n",
    "\n",
    "confusion_matrix(y_test,pred)"
   ]
  },
  {
   "cell_type": "markdown",
   "metadata": {},
   "source": [
    "## XBGC 특성 중요도 Plot"
   ]
  },
  {
   "cell_type": "code",
   "execution_count": 198,
   "metadata": {},
   "outputs": [
    {
     "data": {
      "image/png": "[encoded data removed]",
      "text/plain": [
       "<Figure size 648x648 with 1 Axes>"
      ]
     },
     "metadata": {
      "needs_background": "light"
     },
     "output_type": "display_data"
    }
   ],
   "source": [
    "plot_feature_importances_final_best(XGBC)"
   ]
  },
  {
   "cell_type": "code",
   "execution_count": 194,
   "metadata": {},
   "outputs": [
    {
     "data": {
      "text/plain": [
       "0.8281417015169387"
      ]
     },
     "execution_count": 194,
     "metadata": {},
     "output_type": "execute_result"
    }
   ],
   "source": [
    "score = cross_val_score(XGBC,X_train_over ,y_train_over, cv=skf, scoring = 'f1')\n",
    "score.mean()"
   ]
  },
  {
   "cell_type": "code",
   "execution_count": 40,
   "metadata": {},
   "outputs": [],
   "source": [
    "XGBC = XGBClassifier( n_jobs=-1)\n",
    "xgc_param_grid={\n",
    "    \"n_estimators\": [10,30,50],\n",
    "    \"booster\" :['gbtree', 'gblinear', 'dart'],\n",
    "    \"learning_rate\" :[0.1,0.01,0.2, 0.005]\n",
    "}"
   ]
  },
  {
   "cell_type": "code",
   "execution_count": null,
   "metadata": {},
   "outputs": [],
   "source": []
  },
  {
   "cell_type": "code",
   "execution_count": 43,
   "metadata": {},
   "outputs": [
    {
     "name": "stdout",
     "output_type": "stream",
     "text": [
      "Fitting 10 folds for each of 10 candidates, totalling 100 fits\n"
     ]
    },
    {
     "name": "stderr",
     "output_type": "stream",
     "text": [
      "[Parallel(n_jobs=-1)]: Using backend LokyBackend with 8 concurrent workers.\n",
      "[Parallel(n_jobs=-1)]: Done  34 tasks      | elapsed:    0.8s\n",
      "[Parallel(n_jobs=-1)]: Done  85 out of 100 | elapsed:    1.5s remaining:    0.2s\n",
      "[Parallel(n_jobs=-1)]: Done 100 out of 100 | elapsed:    1.6s finished\n"
     ]
    },
    {
     "data": {
      "text/plain": [
       "RandomizedSearchCV(cv=StratifiedKFold(n_splits=10, random_state=None, shuffle=False),\n",
       "                   error_score=nan,\n",
       "                   estimator=XGBClassifier(base_score=0.5, booster='gbtree',\n",
       "                                           colsample_bylevel=1,\n",
       "                                           colsample_bynode=1,\n",
       "                                           colsample_bytree=1, gamma=0,\n",
       "                                           learning_rate=0.1, max_delta_step=0,\n",
       "                                           max_depth=3, min_child_weight=1,\n",
       "                                           missing=None, n_estimators=100,\n",
       "                                           n_jobs=-1, nthread=None,\n",
       "                                           objective=...\n",
       "                                           random_state=0, reg_alpha=0,\n",
       "                                           reg_lambda=1, scale_pos_weight=1,\n",
       "                                           seed=None, silent=None, subsample=1,\n",
       "                                           verbosity=1),\n",
       "                   iid='deprecated', n_iter=10, n_jobs=-1,\n",
       "                   param_distributions={'booster': ['gbtree', 'gblinear',\n",
       "                                                    'dart'],\n",
       "                                        'learning_rate': [0.1, 0.01, 0.2,\n",
       "                                                          0.005],\n",
       "                                        'n_estimators': [10, 30, 50]},\n",
       "                   pre_dispatch='2*n_jobs', random_state=1234, refit=True,\n",
       "                   return_train_score=False, scoring='f1', verbose=1)"
      ]
     },
     "execution_count": 43,
     "metadata": {},
     "output_type": "execute_result"
    }
   ],
   "source": [
    "n_iter_search = 10\n",
    "xgb = RandomizedSearchCV(XGBC,\n",
    "                               param_distributions=xgc_param_grid,\n",
    "                           cv=skf,\n",
    "                           scoring='f1',\n",
    "                           n_jobs=-1, \n",
    "                           verbose = 1, \n",
    "                           random_state=1234, \n",
    "                            n_iter=n_iter_search\n",
    "                        )\n",
    "xgb.fit(X_train_over, y_train_over)"
   ]
  },
  {
   "cell_type": "code",
   "execution_count": 44,
   "metadata": {},
   "outputs": [],
   "source": [
    "parameters = {\n",
    "    \"n_estimators\" :[100,50,150, 200,250,300],\n",
    "    \"base_score\" :[0.5, 0.1, 1],\n",
    "    \"booster\":['gbtree'],\n",
    "    \"learning_rate\" : [0.155,0.1, 0.165, 0.175,0.18]\n",
    "}"
   ]
  },
  {
   "cell_type": "code",
   "execution_count": 45,
   "metadata": {},
   "outputs": [
    {
     "data": {
      "text/plain": [
       "GridSearchCV(cv=StratifiedKFold(n_splits=10, random_state=None, shuffle=False),\n",
       "             error_score=nan,\n",
       "             estimator=XGBClassifier(base_score=0.5, booster='gbtree',\n",
       "                                     colsample_bylevel=1, colsample_bynode=1,\n",
       "                                     colsample_bytree=1, gamma=0,\n",
       "                                     learning_rate=0.1, max_delta_step=0,\n",
       "                                     max_depth=3, min_child_weight=1,\n",
       "                                     missing=None, n_estimators=100, n_jobs=-1,\n",
       "                                     nthread=None, objective='binar...\n",
       "                                     random_state=0, reg_alpha=0, reg_lambda=1,\n",
       "                                     scale_pos_weight=1, seed=None, silent=None,\n",
       "                                     subsample=1, verbosity=1),\n",
       "             iid='deprecated', n_jobs=-1,\n",
       "             param_grid={'base_score': [0.5, 0.1, 1], 'booster': ['gbtree'],\n",
       "                         'learning_rate': [0.155, 0.1, 0.165, 0.175, 0.18],\n",
       "                         'n_estimators': [100, 50, 150, 200, 250, 300]},\n",
       "             pre_dispatch='2*n_jobs', refit=True, return_train_score=False,\n",
       "             scoring='f1', verbose=0)"
      ]
     },
     "execution_count": 45,
     "metadata": {},
     "output_type": "execute_result"
    }
   ],
   "source": [
    "grid_xgb = GridSearchCV(XGBC,\n",
    "                         param_grid=parameters,\n",
    "                         scoring=\"f1\",\n",
    "                         cv=skf,\n",
    "                        n_jobs=-1)\n",
    "grid_xgb.fit(X_train_over, y_train_over)"
   ]
  },
  {
   "cell_type": "code",
   "execution_count": 46,
   "metadata": {
    "scrolled": true
   },
   "outputs": [],
   "source": [
    "pred= grid_xgb.predict(X_test)\n"
   ]
  },
  {
   "cell_type": "code",
   "execution_count": 47,
   "metadata": {},
   "outputs": [
    {
     "name": "stdout",
     "output_type": "stream",
     "text": [
      "f1 Score : 0.5000\n"
     ]
    }
   ],
   "source": [
    "print(\"f1 Score : {0:.4f}\".format(f1_score(y_test,pred)))"
   ]
  },
  {
   "cell_type": "code",
   "execution_count": 48,
   "metadata": {},
   "outputs": [
    {
     "data": {
      "text/plain": [
       "array([[46,  7],\n",
       "       [ 5,  6]], dtype=int64)"
      ]
     },
     "execution_count": 48,
     "metadata": {},
     "output_type": "execute_result"
    }
   ],
   "source": [
    "confusion_matrix(y_test,pred)"
   ]
  },
  {
   "cell_type": "code",
   "execution_count": 49,
   "metadata": {},
   "outputs": [
    {
     "data": {
      "text/plain": [
       "{'base_score': 0.1,\n",
       " 'booster': 'gbtree',\n",
       " 'learning_rate': 0.175,\n",
       " 'n_estimators': 200}"
      ]
     },
     "execution_count": 49,
     "metadata": {},
     "output_type": "execute_result"
    }
   ],
   "source": [
    "grid_xgb.best_params_"
   ]
  },
  {
   "cell_type": "code",
   "execution_count": 50,
   "metadata": {},
   "outputs": [
    {
     "data": {
      "text/plain": [
       "0.9126983773307302"
      ]
     },
     "execution_count": 50,
     "metadata": {},
     "output_type": "execute_result"
    }
   ],
   "source": [
    "grid_xgb.best_score_"
   ]
  },
  {
   "cell_type": "code",
   "execution_count": 51,
   "metadata": {},
   "outputs": [
    {
     "data": {
      "text/plain": [
       "XGBClassifier(base_score=0.1, booster='gbtree', colsample_bylevel=1,\n",
       "              colsample_bynode=1, colsample_bytree=1, gamma=0,\n",
       "              learning_rate=0.175, max_delta_step=0, max_depth=3,\n",
       "              min_child_weight=1, missing=None, n_estimators=200, n_jobs=-1,\n",
       "              nthread=None, objective='binary:logistic', random_state=0,\n",
       "              reg_alpha=0, reg_lambda=1, scale_pos_weight=1, seed=None,\n",
       "              silent=None, subsample=1, verbosity=1)"
      ]
     },
     "execution_count": 51,
     "metadata": {},
     "output_type": "execute_result"
    }
   ],
   "source": [
    "grid_xgb.best_estimator_"
   ]
  },
  {
   "cell_type": "code",
   "execution_count": null,
   "metadata": {},
   "outputs": [],
   "source": []
  },
  {
   "cell_type": "markdown",
   "metadata": {},
   "source": [
    "## Light GBMC(light gradient boosting machine)\n",
    "\n",
    "XGBoost의 느린 단점을 보완하기 위해 나옴   \n",
    "\n",
    "다른 Booster의 트리는 level-wise(균형 중심)분할을 이용. depth를 줄이고 균형을 맞춤.  \n",
    "lightgbm은 leaf-wise(리프 중심)분할. 균형을 맞추지 않고 계속 분할. 비대칭적이고 깊은 트리, 동일한 leaf를 생성할 때 level-wise보다 손실이 적다.   \n",
    "\n",
    "파라미터 튜닝 : https://lightgbm.readthedocs.io/en/latest/Parameters.html"
   ]
  },
  {
   "cell_type": "code",
   "execution_count": 118,
   "metadata": {},
   "outputs": [],
   "source": [
    "from lightgbm import LGBMClassifier\n",
    "import lightgbm as lgb"
   ]
  },
  {
   "cell_type": "code",
   "execution_count": 179,
   "metadata": {},
   "outputs": [
    {
     "name": "stdout",
     "output_type": "stream",
     "text": [
      "f1 Score : 0.5833\n"
     ]
    },
    {
     "data": {
      "text/plain": [
       "array([[47,  6],\n",
       "       [ 4,  7]], dtype=int64)"
      ]
     },
     "execution_count": 179,
     "metadata": {},
     "output_type": "execute_result"
    }
   ],
   "source": [
    "\n",
    "LGBC = LGBMClassifier(boosting_type='gbdt', \n",
    "                      class_weight=None, \n",
    "                      colsample_bytree=1.0,\n",
    "                      importance_type='split', \n",
    "                      learning_rate=0.055, \n",
    "                      max_depth=-1,\n",
    "                      min_child_samples=20, \n",
    "                      min_child_weight=0.001,\n",
    "                      min_split_gain=0.0,\n",
    "                      n_estimators=300, \n",
    "                      n_jobs=-1, \n",
    "                      num_leaves=31, \n",
    "                      objective=None,\n",
    "                      random_state=1234, \n",
    "                      reg_alpha=0.0, \n",
    "                      reg_lambda=0.0, \n",
    "                      silent=True,\n",
    "                      subsample=1.0, \n",
    "                      subsample_for_bin=200000, \n",
    "                      subsample_freq=0)\n",
    "\n",
    "LGBC.fit(X_train_over, y_train_over)\n",
    "\n",
    "pred = LGBC.predict(X_test)\n",
    "\n",
    "print(\"f1 Score : {0:.4f}\".format(f1_score(y_test,pred)))\n",
    "\n",
    "confusion_matrix(y_test,pred)"
   ]
  },
  {
   "cell_type": "markdown",
   "metadata": {},
   "source": [
    "## LGBC 특성중요도 Plot"
   ]
  },
  {
   "cell_type": "code",
   "execution_count": 199,
   "metadata": {},
   "outputs": [
    {
     "data": {
      "image/png": "[encoded data removed]",
      "text/plain": [
       "<Figure size 648x648 with 1 Axes>"
      ]
     },
     "metadata": {
      "needs_background": "light"
     },
     "output_type": "display_data"
    }
   ],
   "source": [
    "plot_feature_importances_final_best(LGBC)"
   ]
  },
  {
   "cell_type": "code",
   "execution_count": 95,
   "metadata": {},
   "outputs": [],
   "source": [
    "LGB =LGBMClassifier(random_state =1234, n_jobs=-1)\n",
    "lb_param_grid={\n",
    "    \"n_estimator\":[10,20,30,40],\n",
    "    \"learning_rate\":[0.1,0.05,0.01]\n",
    "    \n",
    "}"
   ]
  },
  {
   "cell_type": "code",
   "execution_count": 98,
   "metadata": {},
   "outputs": [
    {
     "name": "stdout",
     "output_type": "stream",
     "text": [
      "Fitting 10 folds for each of 10 candidates, totalling 100 fits\n"
     ]
    },
    {
     "name": "stderr",
     "output_type": "stream",
     "text": [
      "[Parallel(n_jobs=-1)]: Using backend LokyBackend with 8 concurrent workers.\n",
      "[Parallel(n_jobs=-1)]: Done  34 tasks      | elapsed:    5.8s\n",
      "[Parallel(n_jobs=-1)]: Done 100 out of 100 | elapsed:    6.8s finished\n"
     ]
    },
    {
     "data": {
      "text/plain": [
       "RandomizedSearchCV(cv=StratifiedKFold(n_splits=10, random_state=None, shuffle=False),\n",
       "                   error_score=nan,\n",
       "                   estimator=LGBMClassifier(boosting_type='gbdt',\n",
       "                                            class_weight=None,\n",
       "                                            colsample_bytree=1.0,\n",
       "                                            importance_type='split',\n",
       "                                            learning_rate=0.1, max_depth=-1,\n",
       "                                            min_child_samples=20,\n",
       "                                            min_child_weight=0.001,\n",
       "                                            min_split_gain=0.0,\n",
       "                                            n_estimators=100, n_jobs=-1,\n",
       "                                            num_leaves=31, objective=None,\n",
       "                                            random_state=1234, reg_alpha=0.0,\n",
       "                                            reg_lambda=0.0, silent=True,\n",
       "                                            subsample=1.0,\n",
       "                                            subsample_for_bin=200000,\n",
       "                                            subsample_freq=0),\n",
       "                   iid='deprecated', n_iter=10, n_jobs=-1,\n",
       "                   param_distributions={'learning_rate': [0.1, 0.05, 0.01],\n",
       "                                        'n_estimator': [10, 20, 30, 40]},\n",
       "                   pre_dispatch='2*n_jobs', random_state=1234, refit=True,\n",
       "                   return_train_score=False, scoring='f1', verbose=1)"
      ]
     },
     "execution_count": 98,
     "metadata": {},
     "output_type": "execute_result"
    }
   ],
   "source": [
    "n_iter_search = 10\n",
    "LGB_clf = RandomizedSearchCV(LGB,\n",
    "                           param_distributions = lb_param_grid,\n",
    "                           cv=skf,\n",
    "                           scoring='f1',\n",
    "                           n_jobs=-1, \n",
    "                           verbose = 1, \n",
    "                           random_state=1234, \n",
    "                            n_iter=n_iter_search)\n",
    "LGB_clf.fit(X_train_over, y_train_over)"
   ]
  },
  {
   "cell_type": "code",
   "execution_count": 161,
   "metadata": {},
   "outputs": [],
   "source": [
    "parameters = {\n",
    "    \"n_estimators\" :[100, 150,200,50, 300,250,400,500],\n",
    "   \"learning_rate\":[0.1,0.05,0.15, 0.005,0.15,0.105,0.001,0.0001,0.0005],\n",
    "    \"num_leaves\" : [31,127,255,511],\n",
    "    \"min_child_samples\" : [20,30,40,50,100]\n",
    "}\n"
   ]
  },
  {
   "cell_type": "code",
   "execution_count": 162,
   "metadata": {},
   "outputs": [
    {
     "data": {
      "text/plain": [
       "GridSearchCV(cv=StratifiedKFold(n_splits=10, random_state=None, shuffle=False),\n",
       "             error_score=nan,\n",
       "             estimator=LGBMClassifier(boosting_type='gbdt', class_weight=None,\n",
       "                                      colsample_bytree=1.0,\n",
       "                                      importance_type='split',\n",
       "                                      learning_rate=0.1, max_depth=-1,\n",
       "                                      min_child_samples=20,\n",
       "                                      min_child_weight=0.001,\n",
       "                                      min_split_gain=0.0, n_estimators=100,\n",
       "                                      n_jobs=-1, num_leaves=31, objective=Non...\n",
       "                                      subsample=1.0, subsample_for_bin=200000,\n",
       "                                      subsample_freq=0),\n",
       "             iid='deprecated', n_jobs=-1,\n",
       "             param_grid={'learning_rate': [0.1, 0.05, 0.15, 0.005, 0.15, 0.105,\n",
       "                                           0.001, 0.0001, 0.0005],\n",
       "                         'min_child_samples': [20, 30, 40, 50, 100],\n",
       "                         'n_estimators': [100, 150, 200, 50, 300, 250, 400,\n",
       "                                          500],\n",
       "                         'num_leaves': [31, 127, 255, 511]},\n",
       "             pre_dispatch='2*n_jobs', refit=True, return_train_score=False,\n",
       "             scoring='f1', verbose=0)"
      ]
     },
     "execution_count": 162,
     "metadata": {},
     "output_type": "execute_result"
    }
   ],
   "source": [
    "grid_lgb = GridSearchCV(LGB,\n",
    "                         param_grid=parameters,\n",
    "                         scoring=\"f1\",\n",
    "                         cv=skf,\n",
    "                        n_jobs=-1)\n",
    "grid_lgb.fit(X_train_over, y_train_over)"
   ]
  },
  {
   "cell_type": "code",
   "execution_count": 163,
   "metadata": {},
   "outputs": [],
   "source": [
    "pred = grid_lgb.predict(X_test)"
   ]
  },
  {
   "cell_type": "code",
   "execution_count": 164,
   "metadata": {},
   "outputs": [
    {
     "name": "stdout",
     "output_type": "stream",
     "text": [
      "f1 Score : 0.5000\n"
     ]
    }
   ],
   "source": [
    "print(\"f1 Score : {0:.4f}\".format(f1_score(y_test,pred)))"
   ]
  },
  {
   "cell_type": "code",
   "execution_count": 165,
   "metadata": {},
   "outputs": [
    {
     "data": {
      "text/plain": [
       "array([[46,  7],\n",
       "       [ 5,  6]], dtype=int64)"
      ]
     },
     "execution_count": 165,
     "metadata": {},
     "output_type": "execute_result"
    }
   ],
   "source": [
    "confusion_matrix(y_test,pred)"
   ]
  },
  {
   "cell_type": "code",
   "execution_count": 61,
   "metadata": {},
   "outputs": [
    {
     "data": {
      "text/plain": [
       "{'learning_rate': 0.05, 'n_estimators': 200}"
      ]
     },
     "execution_count": 61,
     "metadata": {},
     "output_type": "execute_result"
    }
   ],
   "source": [
    "grid_lgb.best_params_"
   ]
  },
  {
   "cell_type": "code",
   "execution_count": 166,
   "metadata": {},
   "outputs": [
    {
     "data": {
      "text/plain": [
       "LGBMClassifier(boosting_type='gbdt', class_weight=None, colsample_bytree=1.0,\n",
       "               importance_type='split', learning_rate=0.105, max_depth=-1,\n",
       "               min_child_samples=20, min_child_weight=0.001, min_split_gain=0.0,\n",
       "               n_estimators=300, n_jobs=-1, num_leaves=31, objective=None,\n",
       "               random_state=1234, reg_alpha=0.0, reg_lambda=0.0, silent=True,\n",
       "               subsample=1.0, subsample_for_bin=200000, subsample_freq=0)"
      ]
     },
     "execution_count": 166,
     "metadata": {},
     "output_type": "execute_result"
    }
   ],
   "source": [
    "grid_lgb.best_estimator_"
   ]
  },
  {
   "cell_type": "code",
   "execution_count": 63,
   "metadata": {},
   "outputs": [
    {
     "data": {
      "text/plain": [
       "0.9103290700444401"
      ]
     },
     "execution_count": 63,
     "metadata": {},
     "output_type": "execute_result"
    }
   ],
   "source": [
    "grid_lgb.best_score_"
   ]
  },
  {
   "cell_type": "markdown",
   "metadata": {},
   "source": [
    " ##  RFC(RandomForestClassifier)\n",
    " \n",
    "여러 개의 의사결정나무를 만들고, 그들의 다수결로 결과를 결정하는 방법  \n",
    "classification 과 regression 에 모두 쓸 수 있다. \n",
    "\n"
   ]
  },
  {
   "cell_type": "code",
   "execution_count": 195,
   "metadata": {},
   "outputs": [],
   "source": [
    "from sklearn.ensemble import RandomForestClassifier"
   ]
  },
  {
   "cell_type": "code",
   "execution_count": 313,
   "metadata": {},
   "outputs": [
    {
     "name": "stdout",
     "output_type": "stream",
     "text": [
      "f1 Score : 0.2353\n"
     ]
    },
    {
     "data": {
      "text/plain": [
       "array([[49,  4],\n",
       "       [ 9,  2]], dtype=int64)"
      ]
     },
     "execution_count": 313,
     "metadata": {},
     "output_type": "execute_result"
    }
   ],
   "source": [
    "RFC =RandomForestClassifier(n_estimators = 100,\n",
    "                           \n",
    "                            random_state =1234,\n",
    "                            n_jobs=-1)\n",
    "\n",
    "RFC.fit(X_train_over, y_train_over)\n",
    "\n",
    "pred = RFC.predict(X_test)\n",
    "\n",
    "print(\"f1 Score : {0:.4f}\".format(f1_score(y_test,pred)))\n",
    "\n",
    "confusion_matrix(y_test,pred)"
   ]
  },
  {
   "cell_type": "markdown",
   "metadata": {},
   "source": [
    "## RFC 특성 중요도 Plot"
   ]
  },
  {
   "cell_type": "code",
   "execution_count": 314,
   "metadata": {},
   "outputs": [
    {
     "data": {
      "image/png": "[encoded data removed]",
      "text/plain": [
       "<Figure size 648x648 with 1 Axes>"
      ]
     },
     "metadata": {
      "needs_background": "light"
     },
     "output_type": "display_data"
    }
   ],
   "source": [
    "plot_feature_importances_final_best(RFC)"
   ]
  },
  {
   "cell_type": "code",
   "execution_count": 249,
   "metadata": {},
   "outputs": [],
   "source": [
    "RF =RandomForestClassifier(random_state =1234, n_jobs=-1)\n",
    "RF_param_grid={\n",
    "    \"n_estimators\":[20,30,40,50],\n",
    "    \"max_features\":[1,2,3,4,5,6],\n",
    "    \"min_samples_split\" :[2,3,4,5],\n",
    "    \"min_samples_leaf\" : [1,2,3,4,5]\n",
    "   \n",
    "}"
   ]
  },
  {
   "cell_type": "code",
   "execution_count": 250,
   "metadata": {
    "scrolled": false
   },
   "outputs": [
    {
     "name": "stdout",
     "output_type": "stream",
     "text": [
      "Fitting 10 folds for each of 10 candidates, totalling 100 fits\n"
     ]
    },
    {
     "name": "stderr",
     "output_type": "stream",
     "text": [
      "[Parallel(n_jobs=-1)]: Using backend LokyBackend with 8 concurrent workers.\n",
      "[Parallel(n_jobs=-1)]: Done  34 tasks      | elapsed:    1.2s\n",
      "[Parallel(n_jobs=-1)]: Done 100 out of 100 | elapsed:    3.2s finished\n"
     ]
    },
    {
     "data": {
      "text/plain": [
       "RandomizedSearchCV(cv=StratifiedKFold(n_splits=10, random_state=None, shuffle=False),\n",
       "                   error_score=nan,\n",
       "                   estimator=RandomForestClassifier(bootstrap=True,\n",
       "                                                    ccp_alpha=0.0,\n",
       "                                                    class_weight=None,\n",
       "                                                    criterion='gini',\n",
       "                                                    max_depth=None,\n",
       "                                                    max_features='auto',\n",
       "                                                    max_leaf_nodes=None,\n",
       "                                                    max_samples=None,\n",
       "                                                    min_impurity_decrease=0.0,\n",
       "                                                    min_impurity_split=None,\n",
       "                                                    min_samples_leaf=1,\n",
       "                                                    min_samples_s...\n",
       "                                                    n_estimators=100, n_jobs=-1,\n",
       "                                                    oob_score=False,\n",
       "                                                    random_state=1234,\n",
       "                                                    verbose=0,\n",
       "                                                    warm_start=False),\n",
       "                   iid='deprecated', n_iter=10, n_jobs=-1,\n",
       "                   param_distributions={'max_features': [1, 2, 3, 4, 5, 6],\n",
       "                                        'min_samples_leaf': [1, 2, 3, 4, 5],\n",
       "                                        'min_samples_split': [2, 3, 4, 5],\n",
       "                                        'n_estimators': [20, 30, 40, 50]},\n",
       "                   pre_dispatch='2*n_jobs', random_state=1234, refit=True,\n",
       "                   return_train_score=False, scoring='f1', verbose=1)"
      ]
     },
     "execution_count": 250,
     "metadata": {},
     "output_type": "execute_result"
    }
   ],
   "source": [
    "n_iter_search = 10\n",
    "rf = RandomizedSearchCV(RF,\n",
    "                           param_distributions=RF_param_grid,\n",
    "                           cv=skf,\n",
    "                           scoring='f1',\n",
    "                           n_jobs=-1, \n",
    "                           verbose = 1, \n",
    "                           random_state=1234, \n",
    "                            n_iter=n_iter_search)\n",
    "rf.fit(X_train_over, y_train_over)"
   ]
  },
  {
   "cell_type": "code",
   "execution_count": 304,
   "metadata": {},
   "outputs": [],
   "source": [
    "parameters = {\n",
    "    \"n_estimators\" :[10,20,25,30],\n",
    "   \n",
    "    \"min_samples_leaf\" : [1],\n",
    "    \"min_samples_split\" : [2]\n",
    "  \n",
    "}"
   ]
  },
  {
   "cell_type": "code",
   "execution_count": 305,
   "metadata": {},
   "outputs": [
    {
     "data": {
      "text/plain": [
       "GridSearchCV(cv=StratifiedKFold(n_splits=10, random_state=None, shuffle=False),\n",
       "             error_score=nan,\n",
       "             estimator=RandomForestClassifier(bootstrap=True, ccp_alpha=0.0,\n",
       "                                              class_weight=None,\n",
       "                                              criterion='gini', max_depth=None,\n",
       "                                              max_features='auto',\n",
       "                                              max_leaf_nodes=None,\n",
       "                                              max_samples=None,\n",
       "                                              min_impurity_decrease=0.0,\n",
       "                                              min_impurity_split=None,\n",
       "                                              min_samples_leaf=1,\n",
       "                                              min_samples_split=2,\n",
       "                                              min_weight_fraction_leaf=0.0,\n",
       "                                              n_estimators=100, n_jobs=-1,\n",
       "                                              oob_score=False,\n",
       "                                              random_state=1234, verbose=0,\n",
       "                                              warm_start=False),\n",
       "             iid='deprecated', n_jobs=-1,\n",
       "             param_grid={'min_samples_leaf': [1], 'min_samples_split': [2],\n",
       "                         'n_estimators': [10, 20, 25, 30]},\n",
       "             pre_dispatch='2*n_jobs', refit=True, return_train_score=False,\n",
       "             scoring='f1', verbose=0)"
      ]
     },
     "execution_count": 305,
     "metadata": {},
     "output_type": "execute_result"
    }
   ],
   "source": [
    "grid_rf = GridSearchCV(RF,\n",
    "                         param_grid=parameters,\n",
    "                         scoring=\"f1\",\n",
    "                         cv=skf,\n",
    "                        n_jobs=-1)\n",
    "grid_rf.fit(X_train_over, y_train_over)"
   ]
  },
  {
   "cell_type": "code",
   "execution_count": 306,
   "metadata": {},
   "outputs": [],
   "source": [
    "pred = grid_rf.predict(X_test)"
   ]
  },
  {
   "cell_type": "code",
   "execution_count": 307,
   "metadata": {},
   "outputs": [
    {
     "name": "stdout",
     "output_type": "stream",
     "text": [
      "f1 Score : 0.2353\n"
     ]
    }
   ],
   "source": [
    "print(\"f1 Score : {0:.4f}\".format(f1_score(y_test,pred)))"
   ]
  },
  {
   "cell_type": "code",
   "execution_count": 308,
   "metadata": {},
   "outputs": [
    {
     "data": {
      "text/plain": [
       "array([[49,  4],\n",
       "       [ 9,  2]], dtype=int64)"
      ]
     },
     "execution_count": 308,
     "metadata": {},
     "output_type": "execute_result"
    }
   ],
   "source": [
    "confusion_matrix(y_test,pred)"
   ]
  },
  {
   "cell_type": "code",
   "execution_count": null,
   "metadata": {},
   "outputs": [],
   "source": []
  },
  {
   "cell_type": "code",
   "execution_count": 309,
   "metadata": {
    "scrolled": true
   },
   "outputs": [
    {
     "data": {
      "text/plain": [
       "GridSearchCV(cv=StratifiedKFold(n_splits=10, random_state=None, shuffle=False),\n",
       "             error_score=nan,\n",
       "             estimator=RandomForestClassifier(bootstrap=True, ccp_alpha=0.0,\n",
       "                                              class_weight=None,\n",
       "                                              criterion='gini', max_depth=None,\n",
       "                                              max_features='auto',\n",
       "                                              max_leaf_nodes=None,\n",
       "                                              max_samples=None,\n",
       "                                              min_impurity_decrease=0.0,\n",
       "                                              min_impurity_split=None,\n",
       "                                              min_samples_leaf=1,\n",
       "                                              min_samples_split=2,\n",
       "                                              min_weight_fraction_leaf=0.0,\n",
       "                                              n_estimators=100, n_jobs=-1,\n",
       "                                              oob_score=False,\n",
       "                                              random_state=1234, verbose=0,\n",
       "                                              warm_start=False),\n",
       "             iid='deprecated', n_jobs=-1,\n",
       "             param_grid={'min_samples_leaf': [1], 'min_samples_split': [2],\n",
       "                         'n_estimators': [10, 20, 25, 30]},\n",
       "             pre_dispatch='2*n_jobs', refit=True, return_train_score=False,\n",
       "             scoring='f1', verbose=0)"
      ]
     },
     "execution_count": 309,
     "metadata": {},
     "output_type": "execute_result"
    }
   ],
   "source": [
    "grid_rf = GridSearchCV(RF,\n",
    "                         param_grid=parameters,\n",
    "                         scoring=\"f1\",\n",
    "                         cv=skf,\n",
    "                        n_jobs=-1)\n",
    "grid_rf.fit(X_train_over[list(df.loc[:7,'ft'])], y_train_over)"
   ]
  },
  {
   "cell_type": "code",
   "execution_count": null,
   "metadata": {},
   "outputs": [],
   "source": []
  },
  {
   "cell_type": "code",
   "execution_count": 310,
   "metadata": {},
   "outputs": [],
   "source": [
    "pred = grid_rf.predict(X_test[list(df.loc[:7,'ft'])])"
   ]
  },
  {
   "cell_type": "code",
   "execution_count": 311,
   "metadata": {},
   "outputs": [
    {
     "name": "stdout",
     "output_type": "stream",
     "text": [
      "f1 Score : 0.3200\n"
     ]
    }
   ],
   "source": [
    "print(\"f1 Score : {0:.4f}\".format(f1_score(y_test,pred)))"
   ]
  },
  {
   "cell_type": "code",
   "execution_count": 312,
   "metadata": {},
   "outputs": [
    {
     "data": {
      "text/plain": [
       "array([[43, 10],\n",
       "       [ 7,  4]], dtype=int64)"
      ]
     },
     "execution_count": 312,
     "metadata": {},
     "output_type": "execute_result"
    }
   ],
   "source": [
    "confusion_matrix(y_test,pred)"
   ]
  },
  {
   "cell_type": "code",
   "execution_count": 82,
   "metadata": {
    "scrolled": true
   },
   "outputs": [
    {
     "data": {
      "text/plain": [
       "0.9427244524398223"
      ]
     },
     "execution_count": 82,
     "metadata": {},
     "output_type": "execute_result"
    }
   ],
   "source": [
    "grid_rf.best_score_"
   ]
  },
  {
   "cell_type": "markdown",
   "metadata": {},
   "source": [
    "## 특성 중요도 top 7으로만 RFC 돌리기"
   ]
  },
  {
   "cell_type": "code",
   "execution_count": 275,
   "metadata": {},
   "outputs": [],
   "source": [
    "df = pd.DataFrame()"
   ]
  },
  {
   "cell_type": "code",
   "execution_count": 277,
   "metadata": {
    "scrolled": true
   },
   "outputs": [],
   "source": [
    "df['import']= grid_rf.best_estimator_.feature_importances_"
   ]
  },
  {
   "cell_type": "code",
   "execution_count": 278,
   "metadata": {},
   "outputs": [
    {
     "data": {
      "text/html": [
       "<div>\n",
       "<style scoped>\n",
       "    .dataframe tbody tr th:only-of-type {\n",
       "        vertical-align: middle;\n",
       "    }\n",
       "\n",
       "    .dataframe tbody tr th {\n",
       "        vertical-align: top;\n",
       "    }\n",
       "\n",
       "    .dataframe thead th {\n",
       "        text-align: right;\n",
       "    }\n",
       "</style>\n",
       "<table border=\"1\" class=\"dataframe\">\n",
       "  <thead>\n",
       "    <tr style=\"text-align: right;\">\n",
       "      <th></th>\n",
       "      <th>index</th>\n",
       "      <th>ft</th>\n",
       "      <th>import</th>\n",
       "    </tr>\n",
       "  </thead>\n",
       "  <tbody>\n",
       "    <tr>\n",
       "      <td>0</td>\n",
       "      <td>0</td>\n",
       "      <td>Gross</td>\n",
       "      <td>0.133832</td>\n",
       "    </tr>\n",
       "    <tr>\n",
       "      <td>1</td>\n",
       "      <td>2</td>\n",
       "      <td>Awards</td>\n",
       "      <td>0.119335</td>\n",
       "    </tr>\n",
       "    <tr>\n",
       "      <td>2</td>\n",
       "      <td>7</td>\n",
       "      <td>imdbVotes</td>\n",
       "      <td>0.111992</td>\n",
       "    </tr>\n",
       "    <tr>\n",
       "      <td>3</td>\n",
       "      <td>3</td>\n",
       "      <td>nominations</td>\n",
       "      <td>0.077989</td>\n",
       "    </tr>\n",
       "    <tr>\n",
       "      <td>4</td>\n",
       "      <td>6</td>\n",
       "      <td>Metacr</td>\n",
       "      <td>0.066070</td>\n",
       "    </tr>\n",
       "    <tr>\n",
       "      <td>5</td>\n",
       "      <td>1</td>\n",
       "      <td>Runtime</td>\n",
       "      <td>0.065751</td>\n",
       "    </tr>\n",
       "    <tr>\n",
       "      <td>6</td>\n",
       "      <td>5</td>\n",
       "      <td>tomato</td>\n",
       "      <td>0.048249</td>\n",
       "    </tr>\n",
       "    <tr>\n",
       "      <td>7</td>\n",
       "      <td>4</td>\n",
       "      <td>imdb</td>\n",
       "      <td>0.043591</td>\n",
       "    </tr>\n",
       "    <tr>\n",
       "      <td>8</td>\n",
       "      <td>31</td>\n",
       "      <td>Dec</td>\n",
       "      <td>0.042249</td>\n",
       "    </tr>\n",
       "    <tr>\n",
       "      <td>9</td>\n",
       "      <td>23</td>\n",
       "      <td>Romance</td>\n",
       "      <td>0.026492</td>\n",
       "    </tr>\n",
       "    <tr>\n",
       "      <td>10</td>\n",
       "      <td>33</td>\n",
       "      <td>Jan</td>\n",
       "      <td>0.020101</td>\n",
       "    </tr>\n",
       "    <tr>\n",
       "      <td>11</td>\n",
       "      <td>28</td>\n",
       "      <td>War</td>\n",
       "      <td>0.019267</td>\n",
       "    </tr>\n",
       "    <tr>\n",
       "      <td>12</td>\n",
       "      <td>10</td>\n",
       "      <td>Comedy</td>\n",
       "      <td>0.018563</td>\n",
       "    </tr>\n",
       "    <tr>\n",
       "      <td>13</td>\n",
       "      <td>15</td>\n",
       "      <td>Biography</td>\n",
       "      <td>0.018092</td>\n",
       "    </tr>\n",
       "    <tr>\n",
       "      <td>14</td>\n",
       "      <td>16</td>\n",
       "      <td>Drama</td>\n",
       "      <td>0.017027</td>\n",
       "    </tr>\n",
       "    <tr>\n",
       "      <td>15</td>\n",
       "      <td>18</td>\n",
       "      <td>Sci-Fi</td>\n",
       "      <td>0.016757</td>\n",
       "    </tr>\n",
       "    <tr>\n",
       "      <td>16</td>\n",
       "      <td>20</td>\n",
       "      <td>History</td>\n",
       "      <td>0.015159</td>\n",
       "    </tr>\n",
       "    <tr>\n",
       "      <td>17</td>\n",
       "      <td>26</td>\n",
       "      <td>Sport</td>\n",
       "      <td>0.014370</td>\n",
       "    </tr>\n",
       "    <tr>\n",
       "      <td>18</td>\n",
       "      <td>22</td>\n",
       "      <td>Crime</td>\n",
       "      <td>0.014200</td>\n",
       "    </tr>\n",
       "    <tr>\n",
       "      <td>19</td>\n",
       "      <td>8</td>\n",
       "      <td>Thriller</td>\n",
       "      <td>0.013084</td>\n",
       "    </tr>\n",
       "    <tr>\n",
       "      <td>20</td>\n",
       "      <td>13</td>\n",
       "      <td>Mystery</td>\n",
       "      <td>0.012398</td>\n",
       "    </tr>\n",
       "    <tr>\n",
       "      <td>21</td>\n",
       "      <td>25</td>\n",
       "      <td>Adventure</td>\n",
       "      <td>0.011052</td>\n",
       "    </tr>\n",
       "    <tr>\n",
       "      <td>22</td>\n",
       "      <td>30</td>\n",
       "      <td>Aug</td>\n",
       "      <td>0.010610</td>\n",
       "    </tr>\n",
       "    <tr>\n",
       "      <td>23</td>\n",
       "      <td>11</td>\n",
       "      <td>Fantasy</td>\n",
       "      <td>0.009407</td>\n",
       "    </tr>\n",
       "    <tr>\n",
       "      <td>24</td>\n",
       "      <td>38</td>\n",
       "      <td>Nov</td>\n",
       "      <td>0.008538</td>\n",
       "    </tr>\n",
       "    <tr>\n",
       "      <td>25</td>\n",
       "      <td>35</td>\n",
       "      <td>Jun</td>\n",
       "      <td>0.006126</td>\n",
       "    </tr>\n",
       "    <tr>\n",
       "      <td>26</td>\n",
       "      <td>21</td>\n",
       "      <td>Action</td>\n",
       "      <td>0.005183</td>\n",
       "    </tr>\n",
       "    <tr>\n",
       "      <td>27</td>\n",
       "      <td>14</td>\n",
       "      <td>Music</td>\n",
       "      <td>0.004778</td>\n",
       "    </tr>\n",
       "    <tr>\n",
       "      <td>28</td>\n",
       "      <td>9</td>\n",
       "      <td>Short</td>\n",
       "      <td>0.004541</td>\n",
       "    </tr>\n",
       "    <tr>\n",
       "      <td>29</td>\n",
       "      <td>32</td>\n",
       "      <td>Feb</td>\n",
       "      <td>0.004187</td>\n",
       "    </tr>\n",
       "    <tr>\n",
       "      <td>30</td>\n",
       "      <td>19</td>\n",
       "      <td>Musical</td>\n",
       "      <td>0.004177</td>\n",
       "    </tr>\n",
       "    <tr>\n",
       "      <td>31</td>\n",
       "      <td>34</td>\n",
       "      <td>Jul</td>\n",
       "      <td>0.003062</td>\n",
       "    </tr>\n",
       "    <tr>\n",
       "      <td>32</td>\n",
       "      <td>39</td>\n",
       "      <td>Oct</td>\n",
       "      <td>0.002891</td>\n",
       "    </tr>\n",
       "    <tr>\n",
       "      <td>33</td>\n",
       "      <td>29</td>\n",
       "      <td>Apr</td>\n",
       "      <td>0.002094</td>\n",
       "    </tr>\n",
       "    <tr>\n",
       "      <td>34</td>\n",
       "      <td>40</td>\n",
       "      <td>Sep</td>\n",
       "      <td>0.002033</td>\n",
       "    </tr>\n",
       "    <tr>\n",
       "      <td>35</td>\n",
       "      <td>17</td>\n",
       "      <td>Western</td>\n",
       "      <td>0.001875</td>\n",
       "    </tr>\n",
       "    <tr>\n",
       "      <td>36</td>\n",
       "      <td>24</td>\n",
       "      <td>Family</td>\n",
       "      <td>0.001624</td>\n",
       "    </tr>\n",
       "    <tr>\n",
       "      <td>37</td>\n",
       "      <td>36</td>\n",
       "      <td>Mar</td>\n",
       "      <td>0.001534</td>\n",
       "    </tr>\n",
       "    <tr>\n",
       "      <td>38</td>\n",
       "      <td>37</td>\n",
       "      <td>May</td>\n",
       "      <td>0.000871</td>\n",
       "    </tr>\n",
       "    <tr>\n",
       "      <td>39</td>\n",
       "      <td>27</td>\n",
       "      <td>Horror</td>\n",
       "      <td>0.000423</td>\n",
       "    </tr>\n",
       "    <tr>\n",
       "      <td>40</td>\n",
       "      <td>12</td>\n",
       "      <td>Animation</td>\n",
       "      <td>0.000423</td>\n",
       "    </tr>\n",
       "  </tbody>\n",
       "</table>\n",
       "</div>"
      ],
      "text/plain": [
       "    index           ft    import\n",
       "0       0        Gross  0.133832\n",
       "1       2       Awards  0.119335\n",
       "2       7    imdbVotes  0.111992\n",
       "3       3  nominations  0.077989\n",
       "4       6       Metacr  0.066070\n",
       "5       1      Runtime  0.065751\n",
       "6       5       tomato  0.048249\n",
       "7       4         imdb  0.043591\n",
       "8      31          Dec  0.042249\n",
       "9      23      Romance  0.026492\n",
       "10     33          Jan  0.020101\n",
       "11     28          War  0.019267\n",
       "12     10       Comedy  0.018563\n",
       "13     15    Biography  0.018092\n",
       "14     16        Drama  0.017027\n",
       "15     18       Sci-Fi  0.016757\n",
       "16     20      History  0.015159\n",
       "17     26        Sport  0.014370\n",
       "18     22        Crime  0.014200\n",
       "19      8     Thriller  0.013084\n",
       "20     13      Mystery  0.012398\n",
       "21     25    Adventure  0.011052\n",
       "22     30          Aug  0.010610\n",
       "23     11      Fantasy  0.009407\n",
       "24     38          Nov  0.008538\n",
       "25     35          Jun  0.006126\n",
       "26     21       Action  0.005183\n",
       "27     14        Music  0.004778\n",
       "28      9        Short  0.004541\n",
       "29     32          Feb  0.004187\n",
       "30     19      Musical  0.004177\n",
       "31     34          Jul  0.003062\n",
       "32     39          Oct  0.002891\n",
       "33     29          Apr  0.002094\n",
       "34     40          Sep  0.002033\n",
       "35     17      Western  0.001875\n",
       "36     24       Family  0.001624\n",
       "37     36          Mar  0.001534\n",
       "38     37          May  0.000871\n",
       "39     27       Horror  0.000423\n",
       "40     12    Animation  0.000423"
      ]
     },
     "execution_count": 278,
     "metadata": {},
     "output_type": "execute_result"
    }
   ],
   "source": [
    "df['ft']  = X_train_over.columns\n",
    "df.sort_values('import', ascending=False, inplace = True)\n",
    "df.reset_index(inplace=True)\n",
    "df"
   ]
  },
  {
   "cell_type": "code",
   "execution_count": 279,
   "metadata": {
    "scrolled": true
   },
   "outputs": [
    {
     "data": {
      "text/plain": [
       "0          Gross\n",
       "1         Awards\n",
       "2      imdbVotes\n",
       "3    nominations\n",
       "4         Metacr\n",
       "5        Runtime\n",
       "6         tomato\n",
       "7           imdb\n",
       "Name: ft, dtype: object"
      ]
     },
     "execution_count": 279,
     "metadata": {},
     "output_type": "execute_result"
    }
   ],
   "source": [
    "df.loc[:7,'ft']"
   ]
  },
  {
   "cell_type": "code",
   "execution_count": 315,
   "metadata": {},
   "outputs": [
    {
     "name": "stdout",
     "output_type": "stream",
     "text": [
      "f1 Score : 0.3704\n"
     ]
    },
    {
     "data": {
      "text/plain": [
       "array([[42, 11],\n",
       "       [ 6,  5]], dtype=int64)"
      ]
     },
     "execution_count": 315,
     "metadata": {},
     "output_type": "execute_result"
    }
   ],
   "source": [
    "RFC =RandomForestClassifier(n_estimators = 25,\n",
    "                           \n",
    "                            random_state =1234,\n",
    "                            n_jobs=-1)\n",
    "\n",
    "RFC.fit(X_train_over[list(df.loc[:7,'ft'])], y_train_over)\n",
    "\n",
    "pred = RFC.predict(X_test[list(df.loc[:7,'ft'])])\n",
    "\n",
    "print(\"f1 Score : {0:.4f}\".format(f1_score(y_test,pred)))\n",
    "\n",
    "confusion_matrix(y_test,pred)"
   ]
  },
  {
   "cell_type": "markdown",
   "metadata": {},
   "source": [
    "## Soft Vector Machine(SVM)"
   ]
  },
  {
   "cell_type": "code",
   "execution_count": 38,
   "metadata": {},
   "outputs": [],
   "source": [
    "from sklearn.svm import SVC"
   ]
  },
  {
   "cell_type": "code",
   "execution_count": 168,
   "metadata": {},
   "outputs": [
    {
     "ename": "NameError",
     "evalue": "name 'SVC' is not defined",
     "output_type": "error",
     "traceback": [
      "\u001b[1;31m---------------------------------------------------------------------------\u001b[0m",
      "\u001b[1;31mNameError\u001b[0m                                 Traceback (most recent call last)",
      "\u001b[1;32m<ipython-input-168-aca071658f02>\u001b[0m in \u001b[0;36m<module>\u001b[1;34m\u001b[0m\n\u001b[1;32m----> 1\u001b[1;33m \u001b[0msvm\u001b[0m \u001b[1;33m=\u001b[0m \u001b[0mSVC\u001b[0m\u001b[1;33m(\u001b[0m\u001b[0mrandom_state\u001b[0m \u001b[1;33m=\u001b[0m\u001b[1;36m1234\u001b[0m\u001b[1;33m)\u001b[0m\u001b[1;33m\u001b[0m\u001b[1;33m\u001b[0m\u001b[0m\n\u001b[0m\u001b[0;32m      2\u001b[0m svm_param_grid={\n\u001b[0;32m      3\u001b[0m     \u001b[1;34m\"C\"\u001b[0m\u001b[1;33m:\u001b[0m\u001b[1;33m[\u001b[0m\u001b[1;36m1\u001b[0m\u001b[1;33m,\u001b[0m\u001b[1;36m5\u001b[0m\u001b[1;33m,\u001b[0m\u001b[1;36m10\u001b[0m\u001b[1;33m,\u001b[0m\u001b[1;36m15\u001b[0m\u001b[1;33m]\u001b[0m\u001b[1;33m,\u001b[0m\u001b[1;33m\u001b[0m\u001b[1;33m\u001b[0m\u001b[0m\n\u001b[0;32m      4\u001b[0m     \u001b[1;34m\"kernel\"\u001b[0m\u001b[1;33m:\u001b[0m\u001b[1;33m[\u001b[0m\u001b[1;34m\"linear\"\u001b[0m\u001b[1;33m]\u001b[0m\u001b[1;33m\u001b[0m\u001b[1;33m\u001b[0m\u001b[0m\n\u001b[0;32m      5\u001b[0m \u001b[1;33m\u001b[0m\u001b[0m\n",
      "\u001b[1;31mNameError\u001b[0m: name 'SVC' is not defined"
     ]
    }
   ],
   "source": [
    "svm = SVC(random_state =1234)\n",
    "svm_param_grid={\n",
    "    \"C\":[1,5,10,15],\n",
    "    \"kernel\":[\"linear\"]\n",
    "   \n",
    "}"
   ]
  },
  {
   "cell_type": "code",
   "execution_count": null,
   "metadata": {},
   "outputs": [
    {
     "name": "stderr",
     "output_type": "stream",
     "text": [
      "C:\\Users\\1-16\\AppData\\Local\\Continuum\\anaconda3\\lib\\site-packages\\sklearn\\model_selection\\_search.py:281: UserWarning: The total space of parameters 4 is smaller than n_iter=10. Running 4 iterations. For exhaustive searches, use GridSearchCV.\n",
      "  % (grid_size, self.n_iter, grid_size), UserWarning)\n",
      "[Parallel(n_jobs=-1)]: Using backend LokyBackend with 8 concurrent workers.\n"
     ]
    },
    {
     "name": "stdout",
     "output_type": "stream",
     "text": [
      "Fitting 5 folds for each of 4 candidates, totalling 20 fits\n"
     ]
    }
   ],
   "source": [
    "n_iter_search = 10\n",
    "svm_clf = RandomizedSearchCV(svm,\n",
    "                           param_distributions=svm_param_grid,\n",
    "                           cv=skf,\n",
    "                           scoring='accuracy',\n",
    "                           n_jobs=-1, \n",
    "                           verbose = 1, \n",
    "                           random_state=1234, \n",
    "                            n_iter=n_iter_search)\n",
    "svm_clf.fit(X_train, y_train)"
   ]
  },
  {
   "cell_type": "code",
   "execution_count": null,
   "metadata": {},
   "outputs": [],
   "source": [
    "parameters = {\n",
    "    \"n_estimators\" :[80, 100, 120],\n",
    "   \"learning_rate\":[0.1,0.15, 0.05]\n",
    "}"
   ]
  },
  {
   "cell_type": "code",
   "execution_count": null,
   "metadata": {},
   "outputs": [],
   "source": [
    "grid_svm = GridSearchCV(svm,\n",
    "                         param_grid=parameters,\n",
    "                         scoring=\"accuracy\",\n",
    "                         cv=skf,\n",
    "                        n_jobs=-1)\n",
    "grid_svm.fit(X_train, y_train)"
   ]
  },
  {
   "cell_type": "code",
   "execution_count": null,
   "metadata": {},
   "outputs": [],
   "source": [
    "svm = grid_svm.predict(X_test)"
   ]
  },
  {
   "cell_type": "code",
   "execution_count": null,
   "metadata": {},
   "outputs": [],
   "source": [
    "grid_svm.best_score_"
   ]
  },
  {
   "cell_type": "code",
   "execution_count": null,
   "metadata": {},
   "outputs": [],
   "source": [
    "grid_svm.best_estimator_"
   ]
  },
  {
   "cell_type": "code",
   "execution_count": null,
   "metadata": {},
   "outputs": [],
   "source": [
    "grid_svm.best_params_"
   ]
  },
  {
   "cell_type": "code",
   "execution_count": 49,
   "metadata": {
    "scrolled": true
   },
   "outputs": [
    {
     "data": {
      "text/plain": [
       "array([False, False, False, False, False, False, False, False, False,\n",
       "       False,  True, False, False, False, False, False,  True, False,\n",
       "       False, False, False,  True, False, False,  True, False, False,\n",
       "       False, False, False, False, False, False, False, False, False,\n",
       "       False, False,  True, False,  True, False, False, False, False,\n",
       "       False, False, False, False, False, False, False, False, False,\n",
       "       False, False, False, False, False, False, False, False, False,\n",
       "       False])"
      ]
     },
     "execution_count": 49,
     "metadata": {},
     "output_type": "execute_result"
    }
   ],
   "source": [
    "total_avg = (xgb+ lgb+ rf)/3\n",
    "atotal_avg"
   ]
  },
  {
   "cell_type": "code",
   "execution_count": null,
   "metadata": {},
   "outputs": [],
   "source": []
  },
  {
   "cell_type": "markdown",
   "metadata": {},
   "source": [
    "## voting"
   ]
  },
  {
   "cell_type": "code",
   "execution_count": 323,
   "metadata": {
    "scrolled": false
   },
   "outputs": [
    {
     "data": {
      "text/html": [
       "<div>\n",
       "<style scoped>\n",
       "    .dataframe tbody tr th:only-of-type {\n",
       "        vertical-align: middle;\n",
       "    }\n",
       "\n",
       "    .dataframe tbody tr th {\n",
       "        vertical-align: top;\n",
       "    }\n",
       "\n",
       "    .dataframe thead th {\n",
       "        text-align: right;\n",
       "    }\n",
       "</style>\n",
       "<table border=\"1\" class=\"dataframe\">\n",
       "  <thead>\n",
       "    <tr style=\"text-align: right;\">\n",
       "      <th></th>\n",
       "      <th>Gross</th>\n",
       "      <th>Runtime</th>\n",
       "      <th>Awards</th>\n",
       "      <th>nominations</th>\n",
       "      <th>imdb</th>\n",
       "      <th>tomato</th>\n",
       "      <th>Metacr</th>\n",
       "      <th>imdbVotes</th>\n",
       "      <th>Thriller</th>\n",
       "      <th>Short</th>\n",
       "      <th>...</th>\n",
       "      <th>Mar</th>\n",
       "      <th>May</th>\n",
       "      <th>Nov</th>\n",
       "      <th>Oct</th>\n",
       "      <th>Sep</th>\n",
       "      <th>rfc</th>\n",
       "      <th>xgbc</th>\n",
       "      <th>lgbmc</th>\n",
       "      <th>dt</th>\n",
       "      <th>ensemble</th>\n",
       "    </tr>\n",
       "  </thead>\n",
       "  <tbody>\n",
       "    <tr>\n",
       "      <td>80</td>\n",
       "      <td>-0.294762</td>\n",
       "      <td>-0.623678</td>\n",
       "      <td>21.0</td>\n",
       "      <td>-0.550951</td>\n",
       "      <td>-1.067099</td>\n",
       "      <td>0.662267</td>\n",
       "      <td>0.948813</td>\n",
       "      <td>-0.771833</td>\n",
       "      <td>1.0</td>\n",
       "      <td>0.0</td>\n",
       "      <td>...</td>\n",
       "      <td>0</td>\n",
       "      <td>0</td>\n",
       "      <td>0</td>\n",
       "      <td>0</td>\n",
       "      <td>0</td>\n",
       "      <td>0</td>\n",
       "      <td>0</td>\n",
       "      <td>0</td>\n",
       "      <td>0</td>\n",
       "      <td>0</td>\n",
       "    </tr>\n",
       "    <tr>\n",
       "      <td>2</td>\n",
       "      <td>-0.669039</td>\n",
       "      <td>-0.272859</td>\n",
       "      <td>16.0</td>\n",
       "      <td>-0.820407</td>\n",
       "      <td>0.848762</td>\n",
       "      <td>0.433499</td>\n",
       "      <td>0.270865</td>\n",
       "      <td>-0.537342</td>\n",
       "      <td>0.0</td>\n",
       "      <td>0.0</td>\n",
       "      <td>...</td>\n",
       "      <td>0</td>\n",
       "      <td>0</td>\n",
       "      <td>1</td>\n",
       "      <td>0</td>\n",
       "      <td>0</td>\n",
       "      <td>0</td>\n",
       "      <td>0</td>\n",
       "      <td>0</td>\n",
       "      <td>0</td>\n",
       "      <td>0</td>\n",
       "    </tr>\n",
       "    <tr>\n",
       "      <td>239</td>\n",
       "      <td>0.930307</td>\n",
       "      <td>-0.857557</td>\n",
       "      <td>64.0</td>\n",
       "      <td>1.887619</td>\n",
       "      <td>0.423015</td>\n",
       "      <td>0.547883</td>\n",
       "      <td>1.336213</td>\n",
       "      <td>0.421021</td>\n",
       "      <td>1.0</td>\n",
       "      <td>0.0</td>\n",
       "      <td>...</td>\n",
       "      <td>0</td>\n",
       "      <td>0</td>\n",
       "      <td>0</td>\n",
       "      <td>0</td>\n",
       "      <td>0</td>\n",
       "      <td>0</td>\n",
       "      <td>0</td>\n",
       "      <td>0</td>\n",
       "      <td>0</td>\n",
       "      <td>0</td>\n",
       "    </tr>\n",
       "    <tr>\n",
       "      <td>72</td>\n",
       "      <td>1.198940</td>\n",
       "      <td>-0.038980</td>\n",
       "      <td>16.0</td>\n",
       "      <td>-0.860825</td>\n",
       "      <td>-1.492846</td>\n",
       "      <td>-1.739803</td>\n",
       "      <td>-2.731480</td>\n",
       "      <td>-0.405580</td>\n",
       "      <td>1.0</td>\n",
       "      <td>0.0</td>\n",
       "      <td>...</td>\n",
       "      <td>0</td>\n",
       "      <td>0</td>\n",
       "      <td>0</td>\n",
       "      <td>0</td>\n",
       "      <td>0</td>\n",
       "      <td>0</td>\n",
       "      <td>1</td>\n",
       "      <td>0</td>\n",
       "      <td>1</td>\n",
       "      <td>0</td>\n",
       "    </tr>\n",
       "    <tr>\n",
       "      <td>154</td>\n",
       "      <td>-0.353585</td>\n",
       "      <td>-0.974497</td>\n",
       "      <td>95.0</td>\n",
       "      <td>0.136160</td>\n",
       "      <td>-0.854225</td>\n",
       "      <td>0.891036</td>\n",
       "      <td>1.045663</td>\n",
       "      <td>-0.634227</td>\n",
       "      <td>0.0</td>\n",
       "      <td>0.0</td>\n",
       "      <td>...</td>\n",
       "      <td>0</td>\n",
       "      <td>0</td>\n",
       "      <td>1</td>\n",
       "      <td>0</td>\n",
       "      <td>0</td>\n",
       "      <td>0</td>\n",
       "      <td>0</td>\n",
       "      <td>0</td>\n",
       "      <td>0</td>\n",
       "      <td>0</td>\n",
       "    </tr>\n",
       "    <tr>\n",
       "      <td>...</td>\n",
       "      <td>...</td>\n",
       "      <td>...</td>\n",
       "      <td>...</td>\n",
       "      <td>...</td>\n",
       "      <td>...</td>\n",
       "      <td>...</td>\n",
       "      <td>...</td>\n",
       "      <td>...</td>\n",
       "      <td>...</td>\n",
       "      <td>...</td>\n",
       "      <td>...</td>\n",
       "      <td>...</td>\n",
       "      <td>...</td>\n",
       "      <td>...</td>\n",
       "      <td>...</td>\n",
       "      <td>...</td>\n",
       "      <td>...</td>\n",
       "      <td>...</td>\n",
       "      <td>...</td>\n",
       "      <td>...</td>\n",
       "      <td>...</td>\n",
       "    </tr>\n",
       "    <tr>\n",
       "      <td>157</td>\n",
       "      <td>-0.424934</td>\n",
       "      <td>-0.350819</td>\n",
       "      <td>28.0</td>\n",
       "      <td>0.351724</td>\n",
       "      <td>-1.067099</td>\n",
       "      <td>0.319114</td>\n",
       "      <td>0.174015</td>\n",
       "      <td>-0.497281</td>\n",
       "      <td>1.0</td>\n",
       "      <td>0.0</td>\n",
       "      <td>...</td>\n",
       "      <td>0</td>\n",
       "      <td>0</td>\n",
       "      <td>0</td>\n",
       "      <td>1</td>\n",
       "      <td>0</td>\n",
       "      <td>0</td>\n",
       "      <td>0</td>\n",
       "      <td>0</td>\n",
       "      <td>0</td>\n",
       "      <td>0</td>\n",
       "    </tr>\n",
       "    <tr>\n",
       "      <td>92</td>\n",
       "      <td>0.142322</td>\n",
       "      <td>1.013476</td>\n",
       "      <td>68.0</td>\n",
       "      <td>-0.173714</td>\n",
       "      <td>2.551750</td>\n",
       "      <td>0.433499</td>\n",
       "      <td>1.336213</td>\n",
       "      <td>3.675053</td>\n",
       "      <td>0.0</td>\n",
       "      <td>0.0</td>\n",
       "      <td>...</td>\n",
       "      <td>0</td>\n",
       "      <td>0</td>\n",
       "      <td>0</td>\n",
       "      <td>1</td>\n",
       "      <td>0</td>\n",
       "      <td>0</td>\n",
       "      <td>1</td>\n",
       "      <td>0</td>\n",
       "      <td>1</td>\n",
       "      <td>0</td>\n",
       "    </tr>\n",
       "    <tr>\n",
       "      <td>73</td>\n",
       "      <td>-0.255107</td>\n",
       "      <td>1.325315</td>\n",
       "      <td>6.0</td>\n",
       "      <td>-0.955134</td>\n",
       "      <td>-0.215605</td>\n",
       "      <td>-2.311725</td>\n",
       "      <td>-1.956681</td>\n",
       "      <td>-0.001719</td>\n",
       "      <td>0.0</td>\n",
       "      <td>0.0</td>\n",
       "      <td>...</td>\n",
       "      <td>0</td>\n",
       "      <td>0</td>\n",
       "      <td>0</td>\n",
       "      <td>0</td>\n",
       "      <td>0</td>\n",
       "      <td>0</td>\n",
       "      <td>0</td>\n",
       "      <td>0</td>\n",
       "      <td>1</td>\n",
       "      <td>0</td>\n",
       "    </tr>\n",
       "    <tr>\n",
       "      <td>137</td>\n",
       "      <td>0.007470</td>\n",
       "      <td>0.389799</td>\n",
       "      <td>21.0</td>\n",
       "      <td>0.041850</td>\n",
       "      <td>-0.641352</td>\n",
       "      <td>-0.367192</td>\n",
       "      <td>0.077165</td>\n",
       "      <td>-0.384485</td>\n",
       "      <td>0.0</td>\n",
       "      <td>0.0</td>\n",
       "      <td>...</td>\n",
       "      <td>0</td>\n",
       "      <td>0</td>\n",
       "      <td>1</td>\n",
       "      <td>0</td>\n",
       "      <td>0</td>\n",
       "      <td>1</td>\n",
       "      <td>0</td>\n",
       "      <td>0</td>\n",
       "      <td>1</td>\n",
       "      <td>1</td>\n",
       "    </tr>\n",
       "    <tr>\n",
       "      <td>18</td>\n",
       "      <td>0.126249</td>\n",
       "      <td>-0.896537</td>\n",
       "      <td>33.0</td>\n",
       "      <td>-0.860825</td>\n",
       "      <td>0.210142</td>\n",
       "      <td>-0.024039</td>\n",
       "      <td>-0.310234</td>\n",
       "      <td>-0.572265</td>\n",
       "      <td>0.0</td>\n",
       "      <td>0.0</td>\n",
       "      <td>...</td>\n",
       "      <td>0</td>\n",
       "      <td>0</td>\n",
       "      <td>0</td>\n",
       "      <td>0</td>\n",
       "      <td>0</td>\n",
       "      <td>0</td>\n",
       "      <td>1</td>\n",
       "      <td>1</td>\n",
       "      <td>1</td>\n",
       "      <td>1</td>\n",
       "    </tr>\n",
       "  </tbody>\n",
       "</table>\n",
       "<p>64 rows × 46 columns</p>\n",
       "</div>"
      ],
      "text/plain": [
       "        Gross   Runtime  Awards  nominations      imdb    tomato    Metacr  \\\n",
       "80  -0.294762 -0.623678    21.0    -0.550951 -1.067099  0.662267  0.948813   \n",
       "2   -0.669039 -0.272859    16.0    -0.820407  0.848762  0.433499  0.270865   \n",
       "239  0.930307 -0.857557    64.0     1.887619  0.423015  0.547883  1.336213   \n",
       "72   1.198940 -0.038980    16.0    -0.860825 -1.492846 -1.739803 -2.731480   \n",
       "154 -0.353585 -0.974497    95.0     0.136160 -0.854225  0.891036  1.045663   \n",
       "..        ...       ...     ...          ...       ...       ...       ...   \n",
       "157 -0.424934 -0.350819    28.0     0.351724 -1.067099  0.319114  0.174015   \n",
       "92   0.142322  1.013476    68.0    -0.173714  2.551750  0.433499  1.336213   \n",
       "73  -0.255107  1.325315     6.0    -0.955134 -0.215605 -2.311725 -1.956681   \n",
       "137  0.007470  0.389799    21.0     0.041850 -0.641352 -0.367192  0.077165   \n",
       "18   0.126249 -0.896537    33.0    -0.860825  0.210142 -0.024039 -0.310234   \n",
       "\n",
       "     imdbVotes  Thriller  Short  ...  Mar  May  Nov  Oct  Sep  rfc  xgbc  \\\n",
       "80   -0.771833       1.0    0.0  ...    0    0    0    0    0    0     0   \n",
       "2    -0.537342       0.0    0.0  ...    0    0    1    0    0    0     0   \n",
       "239   0.421021       1.0    0.0  ...    0    0    0    0    0    0     0   \n",
       "72   -0.405580       1.0    0.0  ...    0    0    0    0    0    0     1   \n",
       "154  -0.634227       0.0    0.0  ...    0    0    1    0    0    0     0   \n",
       "..         ...       ...    ...  ...  ...  ...  ...  ...  ...  ...   ...   \n",
       "157  -0.497281       1.0    0.0  ...    0    0    0    1    0    0     0   \n",
       "92    3.675053       0.0    0.0  ...    0    0    0    1    0    0     1   \n",
       "73   -0.001719       0.0    0.0  ...    0    0    0    0    0    0     0   \n",
       "137  -0.384485       0.0    0.0  ...    0    0    1    0    0    1     0   \n",
       "18   -0.572265       0.0    0.0  ...    0    0    0    0    0    0     1   \n",
       "\n",
       "     lgbmc  dt  ensemble  \n",
       "80       0   0         0  \n",
       "2        0   0         0  \n",
       "239      0   0         0  \n",
       "72       0   1         0  \n",
       "154      0   0         0  \n",
       "..     ...  ..       ...  \n",
       "157      0   0         0  \n",
       "92       0   1         0  \n",
       "73       0   1         0  \n",
       "137      0   1         1  \n",
       "18       1   1         1  \n",
       "\n",
       "[64 rows x 46 columns]"
      ]
     },
     "execution_count": 323,
     "metadata": {},
     "output_type": "execute_result"
    }
   ],
   "source": [
    "\n",
    "x_test_model_total=X_test.copy(deep=True)\n",
    "x_test_model_total[\"rfc\"]=RFC.predict(X_test[list(df.loc[:7,'ft'])])\n",
    "x_test_model_total[\"xgbc\"]=XGBC.predict(X_test)\n",
    "x_test_model_total[\"lgbmc\"]=LGBC.predict(X_test)\n",
    "x_test_model_total[\"dt\"]=DTC.predict(X_test)\n",
    "x_test_model_total[\"ensemble\"]=x_test_model_total.loc[:,[\"rfc\",\"xgbc\",\"lgbmc\",\"dt\"]].apply(lambda x: vote_func(x), axis=1)\n",
    "x_test_model_total"
   ]
  },
  {
   "cell_type": "code",
   "execution_count": 318,
   "metadata": {},
   "outputs": [],
   "source": [
    "import collections, numpy\n",
    "def vote_func(x, best_model_idx=0):\n",
    "    p = collections.Counter(x)\n",
    "    \n",
    "    if p.most_common()[0][1] >=2:\n",
    "        return(p.most_common()[0][0])\n",
    "    else:\n",
    "        print(\"Check!!!! Voting Result!!!\")\n",
    "        return(x[best_model_idx])"
   ]
  },
  {
   "cell_type": "code",
   "execution_count": 324,
   "metadata": {},
   "outputs": [
    {
     "data": {
      "text/plain": [
       "17"
      ]
     },
     "execution_count": 324,
     "metadata": {},
     "output_type": "execute_result"
    }
   ],
   "source": [
    "x_test_model_total[\"ensemble\"].sum()"
   ]
  },
  {
   "cell_type": "code",
   "execution_count": 325,
   "metadata": {},
   "outputs": [
    {
     "data": {
      "text/plain": [
       "11"
      ]
     },
     "execution_count": 325,
     "metadata": {},
     "output_type": "execute_result"
    }
   ],
   "source": [
    "y_test.sum()"
   ]
  },
  {
   "cell_type": "markdown",
   "metadata": {},
   "source": [
    "11개를 맞춰야 하는데 17개를 맞춤 -> voting안먹힌다"
   ]
  },
  {
   "cell_type": "markdown",
   "metadata": {},
   "source": [
    "## LogisticRegression"
   ]
  },
  {
   "cell_type": "code",
   "execution_count": 137,
   "metadata": {},
   "outputs": [],
   "source": [
    "from sklearn.linear_model import LogisticRegression"
   ]
  },
  {
   "cell_type": "code",
   "execution_count": 184,
   "metadata": {
    "scrolled": false
   },
   "outputs": [
    {
     "name": "stdout",
     "output_type": "stream",
     "text": [
      "f1 score : 0.3571\n"
     ]
    },
    {
     "name": "stderr",
     "output_type": "stream",
     "text": [
      "C:\\Users\\kse02\\AppData\\Local\\Continuum\\anaconda3\\lib\\site-packages\\sklearn\\linear_model\\_logistic.py:940: ConvergenceWarning: lbfgs failed to converge (status=1):\n",
      "STOP: TOTAL NO. of ITERATIONS REACHED LIMIT.\n",
      "\n",
      "Increase the number of iterations (max_iter) or scale the data as shown in:\n",
      "    https://scikit-learn.org/stable/modules/preprocessing.html\n",
      "Please also refer to the documentation for alternative solver options:\n",
      "    https://scikit-learn.org/stable/modules/linear_model.html#logistic-regression\n",
      "  extra_warning_msg=_LOGISTIC_SOLVER_CONVERGENCE_MSG)\n"
     ]
    }
   ],
   "source": [
    "lr_clf = LogisticRegression()\n",
    "lr_clf.fit(X_train_over, y_train_over)\n",
    "pred = lr_clf.predict(X_test)\n",
    "print(\"f1 score : {0:.4f}\".format(f1_score(y_test,pred)))"
   ]
  },
  {
   "cell_type": "code",
   "execution_count": 140,
   "metadata": {},
   "outputs": [
    {
     "data": {
      "text/plain": [
       "LogisticRegression(C=1.0, class_weight=None, dual=False, fit_intercept=True,\n",
       "                   intercept_scaling=1, l1_ratio=None, max_iter=100,\n",
       "                   multi_class='auto', n_jobs=None, penalty='l2',\n",
       "                   random_state=None, solver='lbfgs', tol=0.0001, verbose=0,\n",
       "                   warm_start=False)"
      ]
     },
     "execution_count": 140,
     "metadata": {},
     "output_type": "execute_result"
    }
   ],
   "source": [
    "lr_clf"
   ]
  },
  {
   "cell_type": "code",
   "execution_count": 156,
   "metadata": {},
   "outputs": [
    {
     "data": {
      "text/plain": [
       "array([ 0.67832075,  0.22210673,  0.02582809, -0.97325476, -0.1824878 ,\n",
       "       -0.49106622,  0.42838533,  0.61198134, -0.36631254,  0.59317251,\n",
       "        0.21550069, -1.86737068, -0.42600948, -1.38320363, -0.53618354,\n",
       "       -0.00569932,  0.18371385,  0.6846954 , -2.39875836,  0.24445668,\n",
       "        0.29432278,  0.10545991,  0.09570913, -0.65827406, -0.86871237,\n",
       "       -1.07046186,  1.40963335, -0.19287583,  0.02731673, -0.65895696,\n",
       "       -1.81812502, -2.31512761, -1.54682677, -1.71445231, -1.48618943,\n",
       "       -1.49379381, -0.77922696, -0.79931365, -1.03045859, -1.15436975,\n",
       "       -1.55227036])"
      ]
     },
     "execution_count": 156,
     "metadata": {},
     "output_type": "execute_result"
    }
   ],
   "source": [
    "lr_clf.coef_[0]"
   ]
  },
  {
   "cell_type": "code",
   "execution_count": 144,
   "metadata": {},
   "outputs": [],
   "source": [
    "df1 = pd.DataFrame()\n",
    "df1['ft']  = X_train_over.columns"
   ]
  },
  {
   "cell_type": "code",
   "execution_count": 159,
   "metadata": {},
   "outputs": [],
   "source": [
    "df1['coef']  = lr_clf.coef_[0]"
   ]
  },
  {
   "cell_type": "code",
   "execution_count": 178,
   "metadata": {},
   "outputs": [],
   "source": [
    "df1.drop(['level_0','index'],axis=1, inplace =True)"
   ]
  },
  {
   "cell_type": "code",
   "execution_count": 174,
   "metadata": {},
   "outputs": [],
   "source": [
    "df1.sort_values('coef',ascending=False, inplace = True)"
   ]
  },
  {
   "cell_type": "code",
   "execution_count": 180,
   "metadata": {},
   "outputs": [
    {
     "data": {
      "text/html": [
       "<div>\n",
       "<style scoped>\n",
       "    .dataframe tbody tr th:only-of-type {\n",
       "        vertical-align: middle;\n",
       "    }\n",
       "\n",
       "    .dataframe tbody tr th {\n",
       "        vertical-align: top;\n",
       "    }\n",
       "\n",
       "    .dataframe thead th {\n",
       "        text-align: right;\n",
       "    }\n",
       "</style>\n",
       "<table border=\"1\" class=\"dataframe\">\n",
       "  <thead>\n",
       "    <tr style=\"text-align: right;\">\n",
       "      <th></th>\n",
       "      <th>Family</th>\n",
       "      <th>Horror</th>\n",
       "      <th>Sport</th>\n",
       "      <th>Musical</th>\n",
       "      <th>Comedy</th>\n",
       "      <th>History</th>\n",
       "      <th>tomato</th>\n",
       "      <th>Animation</th>\n",
       "      <th>Western</th>\n",
       "      <th>Drama</th>\n",
       "    </tr>\n",
       "  </thead>\n",
       "  <tbody>\n",
       "    <tr>\n",
       "      <td>0</td>\n",
       "      <td>0.0</td>\n",
       "      <td>0.0</td>\n",
       "      <td>0.0</td>\n",
       "      <td>0.0</td>\n",
       "      <td>1.000000</td>\n",
       "      <td>1.000000</td>\n",
       "      <td>-0.024039</td>\n",
       "      <td>0.0</td>\n",
       "      <td>0.0</td>\n",
       "      <td>1.0</td>\n",
       "    </tr>\n",
       "    <tr>\n",
       "      <td>1</td>\n",
       "      <td>0.0</td>\n",
       "      <td>0.0</td>\n",
       "      <td>0.0</td>\n",
       "      <td>0.0</td>\n",
       "      <td>0.000000</td>\n",
       "      <td>0.000000</td>\n",
       "      <td>-0.138423</td>\n",
       "      <td>0.0</td>\n",
       "      <td>0.0</td>\n",
       "      <td>1.0</td>\n",
       "    </tr>\n",
       "    <tr>\n",
       "      <td>2</td>\n",
       "      <td>0.0</td>\n",
       "      <td>0.0</td>\n",
       "      <td>0.0</td>\n",
       "      <td>0.0</td>\n",
       "      <td>0.000000</td>\n",
       "      <td>0.000000</td>\n",
       "      <td>0.891036</td>\n",
       "      <td>0.0</td>\n",
       "      <td>0.0</td>\n",
       "      <td>1.0</td>\n",
       "    </tr>\n",
       "    <tr>\n",
       "      <td>3</td>\n",
       "      <td>0.0</td>\n",
       "      <td>0.0</td>\n",
       "      <td>0.0</td>\n",
       "      <td>0.0</td>\n",
       "      <td>0.000000</td>\n",
       "      <td>0.000000</td>\n",
       "      <td>-0.595960</td>\n",
       "      <td>0.0</td>\n",
       "      <td>1.0</td>\n",
       "      <td>1.0</td>\n",
       "    </tr>\n",
       "    <tr>\n",
       "      <td>4</td>\n",
       "      <td>0.0</td>\n",
       "      <td>0.0</td>\n",
       "      <td>0.0</td>\n",
       "      <td>0.0</td>\n",
       "      <td>1.000000</td>\n",
       "      <td>0.000000</td>\n",
       "      <td>0.891036</td>\n",
       "      <td>0.0</td>\n",
       "      <td>0.0</td>\n",
       "      <td>1.0</td>\n",
       "    </tr>\n",
       "    <tr>\n",
       "      <td>...</td>\n",
       "      <td>...</td>\n",
       "      <td>...</td>\n",
       "      <td>...</td>\n",
       "      <td>...</td>\n",
       "      <td>...</td>\n",
       "      <td>...</td>\n",
       "      <td>...</td>\n",
       "      <td>...</td>\n",
       "      <td>...</td>\n",
       "      <td>...</td>\n",
       "    </tr>\n",
       "    <tr>\n",
       "      <td>311</td>\n",
       "      <td>0.0</td>\n",
       "      <td>0.0</td>\n",
       "      <td>0.0</td>\n",
       "      <td>0.0</td>\n",
       "      <td>0.095575</td>\n",
       "      <td>0.000000</td>\n",
       "      <td>0.526018</td>\n",
       "      <td>0.0</td>\n",
       "      <td>0.0</td>\n",
       "      <td>1.0</td>\n",
       "    </tr>\n",
       "    <tr>\n",
       "      <td>312</td>\n",
       "      <td>0.0</td>\n",
       "      <td>0.0</td>\n",
       "      <td>0.0</td>\n",
       "      <td>0.0</td>\n",
       "      <td>0.000000</td>\n",
       "      <td>0.645785</td>\n",
       "      <td>-0.362504</td>\n",
       "      <td>0.0</td>\n",
       "      <td>0.0</td>\n",
       "      <td>1.0</td>\n",
       "    </tr>\n",
       "    <tr>\n",
       "      <td>313</td>\n",
       "      <td>0.0</td>\n",
       "      <td>0.0</td>\n",
       "      <td>0.0</td>\n",
       "      <td>0.0</td>\n",
       "      <td>0.000000</td>\n",
       "      <td>0.000000</td>\n",
       "      <td>0.934111</td>\n",
       "      <td>0.0</td>\n",
       "      <td>0.0</td>\n",
       "      <td>1.0</td>\n",
       "    </tr>\n",
       "    <tr>\n",
       "      <td>314</td>\n",
       "      <td>0.0</td>\n",
       "      <td>0.0</td>\n",
       "      <td>0.0</td>\n",
       "      <td>0.0</td>\n",
       "      <td>0.519711</td>\n",
       "      <td>0.000000</td>\n",
       "      <td>-0.179007</td>\n",
       "      <td>0.0</td>\n",
       "      <td>0.0</td>\n",
       "      <td>1.0</td>\n",
       "    </tr>\n",
       "    <tr>\n",
       "      <td>315</td>\n",
       "      <td>0.0</td>\n",
       "      <td>0.0</td>\n",
       "      <td>0.0</td>\n",
       "      <td>0.0</td>\n",
       "      <td>0.000000</td>\n",
       "      <td>0.999945</td>\n",
       "      <td>-0.481595</td>\n",
       "      <td>0.0</td>\n",
       "      <td>0.0</td>\n",
       "      <td>1.0</td>\n",
       "    </tr>\n",
       "  </tbody>\n",
       "</table>\n",
       "<p>316 rows × 10 columns</p>\n",
       "</div>"
      ],
      "text/plain": [
       "     Family  Horror  Sport  Musical    Comedy   History    tomato  Animation  \\\n",
       "0       0.0     0.0    0.0      0.0  1.000000  1.000000 -0.024039        0.0   \n",
       "1       0.0     0.0    0.0      0.0  0.000000  0.000000 -0.138423        0.0   \n",
       "2       0.0     0.0    0.0      0.0  0.000000  0.000000  0.891036        0.0   \n",
       "3       0.0     0.0    0.0      0.0  0.000000  0.000000 -0.595960        0.0   \n",
       "4       0.0     0.0    0.0      0.0  1.000000  0.000000  0.891036        0.0   \n",
       "..      ...     ...    ...      ...       ...       ...       ...        ...   \n",
       "311     0.0     0.0    0.0      0.0  0.095575  0.000000  0.526018        0.0   \n",
       "312     0.0     0.0    0.0      0.0  0.000000  0.645785 -0.362504        0.0   \n",
       "313     0.0     0.0    0.0      0.0  0.000000  0.000000  0.934111        0.0   \n",
       "314     0.0     0.0    0.0      0.0  0.519711  0.000000 -0.179007        0.0   \n",
       "315     0.0     0.0    0.0      0.0  0.000000  0.999945 -0.481595        0.0   \n",
       "\n",
       "     Western  Drama  \n",
       "0        0.0    1.0  \n",
       "1        0.0    1.0  \n",
       "2        0.0    1.0  \n",
       "3        1.0    1.0  \n",
       "4        0.0    1.0  \n",
       "..       ...    ...  \n",
       "311      0.0    1.0  \n",
       "312      0.0    1.0  \n",
       "313      0.0    1.0  \n",
       "314      0.0    1.0  \n",
       "315      0.0    1.0  \n",
       "\n",
       "[316 rows x 10 columns]"
      ]
     },
     "execution_count": 180,
     "metadata": {},
     "output_type": "execute_result"
    }
   ],
   "source": [
    "X_train_over[list(df1.loc[:9,'ft'])]"
   ]
  },
  {
   "cell_type": "code",
   "execution_count": 175,
   "metadata": {},
   "outputs": [],
   "source": []
  },
  {
   "cell_type": "code",
   "execution_count": 155,
   "metadata": {},
   "outputs": [
    {
     "data": {
      "text/html": [
       "<div>\n",
       "<style scoped>\n",
       "    .dataframe tbody tr th:only-of-type {\n",
       "        vertical-align: middle;\n",
       "    }\n",
       "\n",
       "    .dataframe tbody tr th {\n",
       "        vertical-align: top;\n",
       "    }\n",
       "\n",
       "    .dataframe thead th {\n",
       "        text-align: right;\n",
       "    }\n",
       "</style>\n",
       "<table border=\"1\" class=\"dataframe\">\n",
       "  <thead>\n",
       "    <tr style=\"text-align: right;\">\n",
       "      <th></th>\n",
       "      <th>index</th>\n",
       "      <th>ft</th>\n",
       "      <th>coef</th>\n",
       "    </tr>\n",
       "  </thead>\n",
       "  <tbody>\n",
       "    <tr>\n",
       "      <td>0</td>\n",
       "      <td>26</td>\n",
       "      <td>Sport</td>\n",
       "      <td>1.409633</td>\n",
       "    </tr>\n",
       "    <tr>\n",
       "      <td>1</td>\n",
       "      <td>17</td>\n",
       "      <td>Western</td>\n",
       "      <td>0.684695</td>\n",
       "    </tr>\n",
       "    <tr>\n",
       "      <td>2</td>\n",
       "      <td>0</td>\n",
       "      <td>Gross</td>\n",
       "      <td>0.678321</td>\n",
       "    </tr>\n",
       "    <tr>\n",
       "      <td>3</td>\n",
       "      <td>7</td>\n",
       "      <td>imdbVotes</td>\n",
       "      <td>0.611981</td>\n",
       "    </tr>\n",
       "    <tr>\n",
       "      <td>4</td>\n",
       "      <td>9</td>\n",
       "      <td>Short</td>\n",
       "      <td>0.593173</td>\n",
       "    </tr>\n",
       "    <tr>\n",
       "      <td>5</td>\n",
       "      <td>6</td>\n",
       "      <td>Metacr</td>\n",
       "      <td>0.428385</td>\n",
       "    </tr>\n",
       "    <tr>\n",
       "      <td>6</td>\n",
       "      <td>20</td>\n",
       "      <td>History</td>\n",
       "      <td>0.294323</td>\n",
       "    </tr>\n",
       "    <tr>\n",
       "      <td>7</td>\n",
       "      <td>19</td>\n",
       "      <td>Musical</td>\n",
       "      <td>0.244457</td>\n",
       "    </tr>\n",
       "    <tr>\n",
       "      <td>8</td>\n",
       "      <td>1</td>\n",
       "      <td>Runtime</td>\n",
       "      <td>0.222107</td>\n",
       "    </tr>\n",
       "    <tr>\n",
       "      <td>9</td>\n",
       "      <td>10</td>\n",
       "      <td>Comedy</td>\n",
       "      <td>0.215501</td>\n",
       "    </tr>\n",
       "    <tr>\n",
       "      <td>10</td>\n",
       "      <td>16</td>\n",
       "      <td>Drama</td>\n",
       "      <td>0.183714</td>\n",
       "    </tr>\n",
       "    <tr>\n",
       "      <td>11</td>\n",
       "      <td>21</td>\n",
       "      <td>Action</td>\n",
       "      <td>0.105460</td>\n",
       "    </tr>\n",
       "    <tr>\n",
       "      <td>12</td>\n",
       "      <td>22</td>\n",
       "      <td>Crime</td>\n",
       "      <td>0.095709</td>\n",
       "    </tr>\n",
       "    <tr>\n",
       "      <td>13</td>\n",
       "      <td>28</td>\n",
       "      <td>War</td>\n",
       "      <td>0.027317</td>\n",
       "    </tr>\n",
       "    <tr>\n",
       "      <td>14</td>\n",
       "      <td>2</td>\n",
       "      <td>Awards</td>\n",
       "      <td>0.025828</td>\n",
       "    </tr>\n",
       "    <tr>\n",
       "      <td>15</td>\n",
       "      <td>15</td>\n",
       "      <td>Biography</td>\n",
       "      <td>-0.005699</td>\n",
       "    </tr>\n",
       "    <tr>\n",
       "      <td>16</td>\n",
       "      <td>4</td>\n",
       "      <td>imdb</td>\n",
       "      <td>-0.182488</td>\n",
       "    </tr>\n",
       "    <tr>\n",
       "      <td>17</td>\n",
       "      <td>27</td>\n",
       "      <td>Horror</td>\n",
       "      <td>-0.192876</td>\n",
       "    </tr>\n",
       "    <tr>\n",
       "      <td>18</td>\n",
       "      <td>8</td>\n",
       "      <td>Thriller</td>\n",
       "      <td>-0.366313</td>\n",
       "    </tr>\n",
       "    <tr>\n",
       "      <td>19</td>\n",
       "      <td>12</td>\n",
       "      <td>Animation</td>\n",
       "      <td>-0.426009</td>\n",
       "    </tr>\n",
       "    <tr>\n",
       "      <td>20</td>\n",
       "      <td>5</td>\n",
       "      <td>tomato</td>\n",
       "      <td>-0.491066</td>\n",
       "    </tr>\n",
       "    <tr>\n",
       "      <td>21</td>\n",
       "      <td>14</td>\n",
       "      <td>Music</td>\n",
       "      <td>-0.536184</td>\n",
       "    </tr>\n",
       "    <tr>\n",
       "      <td>22</td>\n",
       "      <td>23</td>\n",
       "      <td>Romance</td>\n",
       "      <td>-0.658274</td>\n",
       "    </tr>\n",
       "    <tr>\n",
       "      <td>23</td>\n",
       "      <td>29</td>\n",
       "      <td>Apr</td>\n",
       "      <td>-0.658957</td>\n",
       "    </tr>\n",
       "    <tr>\n",
       "      <td>24</td>\n",
       "      <td>36</td>\n",
       "      <td>Mar</td>\n",
       "      <td>-0.779227</td>\n",
       "    </tr>\n",
       "    <tr>\n",
       "      <td>25</td>\n",
       "      <td>37</td>\n",
       "      <td>May</td>\n",
       "      <td>-0.799314</td>\n",
       "    </tr>\n",
       "    <tr>\n",
       "      <td>26</td>\n",
       "      <td>24</td>\n",
       "      <td>Family</td>\n",
       "      <td>-0.868712</td>\n",
       "    </tr>\n",
       "    <tr>\n",
       "      <td>27</td>\n",
       "      <td>3</td>\n",
       "      <td>nominations</td>\n",
       "      <td>-0.973255</td>\n",
       "    </tr>\n",
       "    <tr>\n",
       "      <td>28</td>\n",
       "      <td>38</td>\n",
       "      <td>Nov</td>\n",
       "      <td>-1.030459</td>\n",
       "    </tr>\n",
       "    <tr>\n",
       "      <td>29</td>\n",
       "      <td>25</td>\n",
       "      <td>Adventure</td>\n",
       "      <td>-1.070462</td>\n",
       "    </tr>\n",
       "    <tr>\n",
       "      <td>30</td>\n",
       "      <td>39</td>\n",
       "      <td>Oct</td>\n",
       "      <td>-1.154370</td>\n",
       "    </tr>\n",
       "    <tr>\n",
       "      <td>31</td>\n",
       "      <td>13</td>\n",
       "      <td>Mystery</td>\n",
       "      <td>-1.383204</td>\n",
       "    </tr>\n",
       "    <tr>\n",
       "      <td>32</td>\n",
       "      <td>34</td>\n",
       "      <td>Jul</td>\n",
       "      <td>-1.486189</td>\n",
       "    </tr>\n",
       "    <tr>\n",
       "      <td>33</td>\n",
       "      <td>35</td>\n",
       "      <td>Jun</td>\n",
       "      <td>-1.493794</td>\n",
       "    </tr>\n",
       "    <tr>\n",
       "      <td>34</td>\n",
       "      <td>32</td>\n",
       "      <td>Feb</td>\n",
       "      <td>-1.546827</td>\n",
       "    </tr>\n",
       "    <tr>\n",
       "      <td>35</td>\n",
       "      <td>40</td>\n",
       "      <td>Sep</td>\n",
       "      <td>-1.552270</td>\n",
       "    </tr>\n",
       "    <tr>\n",
       "      <td>36</td>\n",
       "      <td>33</td>\n",
       "      <td>Jan</td>\n",
       "      <td>-1.714452</td>\n",
       "    </tr>\n",
       "    <tr>\n",
       "      <td>37</td>\n",
       "      <td>30</td>\n",
       "      <td>Aug</td>\n",
       "      <td>-1.818125</td>\n",
       "    </tr>\n",
       "    <tr>\n",
       "      <td>38</td>\n",
       "      <td>11</td>\n",
       "      <td>Fantasy</td>\n",
       "      <td>-1.867371</td>\n",
       "    </tr>\n",
       "    <tr>\n",
       "      <td>39</td>\n",
       "      <td>31</td>\n",
       "      <td>Dec</td>\n",
       "      <td>-2.315128</td>\n",
       "    </tr>\n",
       "    <tr>\n",
       "      <td>40</td>\n",
       "      <td>18</td>\n",
       "      <td>Sci-Fi</td>\n",
       "      <td>-2.398758</td>\n",
       "    </tr>\n",
       "  </tbody>\n",
       "</table>\n",
       "</div>"
      ],
      "text/plain": [
       "    index           ft      coef\n",
       "0      26        Sport  1.409633\n",
       "1      17      Western  0.684695\n",
       "2       0        Gross  0.678321\n",
       "3       7    imdbVotes  0.611981\n",
       "4       9        Short  0.593173\n",
       "5       6       Metacr  0.428385\n",
       "6      20      History  0.294323\n",
       "7      19      Musical  0.244457\n",
       "8       1      Runtime  0.222107\n",
       "9      10       Comedy  0.215501\n",
       "10     16        Drama  0.183714\n",
       "11     21       Action  0.105460\n",
       "12     22        Crime  0.095709\n",
       "13     28          War  0.027317\n",
       "14      2       Awards  0.025828\n",
       "15     15    Biography -0.005699\n",
       "16      4         imdb -0.182488\n",
       "17     27       Horror -0.192876\n",
       "18      8     Thriller -0.366313\n",
       "19     12    Animation -0.426009\n",
       "20      5       tomato -0.491066\n",
       "21     14        Music -0.536184\n",
       "22     23      Romance -0.658274\n",
       "23     29          Apr -0.658957\n",
       "24     36          Mar -0.779227\n",
       "25     37          May -0.799314\n",
       "26     24       Family -0.868712\n",
       "27      3  nominations -0.973255\n",
       "28     38          Nov -1.030459\n",
       "29     25    Adventure -1.070462\n",
       "30     39          Oct -1.154370\n",
       "31     13      Mystery -1.383204\n",
       "32     34          Jul -1.486189\n",
       "33     35          Jun -1.493794\n",
       "34     32          Feb -1.546827\n",
       "35     40          Sep -1.552270\n",
       "36     33          Jan -1.714452\n",
       "37     30          Aug -1.818125\n",
       "38     11      Fantasy -1.867371\n",
       "39     31          Dec -2.315128\n",
       "40     18       Sci-Fi -2.398758"
      ]
     },
     "execution_count": 155,
     "metadata": {},
     "output_type": "execute_result"
    }
   ],
   "source": [
    "X_test[list(df1.loc[:7,'ft'])]"
   ]
  },
  {
   "cell_type": "code",
   "execution_count": 185,
   "metadata": {},
   "outputs": [
    {
     "data": {
      "text/plain": [
       "array([[41, 12],\n",
       "       [ 6,  5]], dtype=int64)"
      ]
     },
     "execution_count": 185,
     "metadata": {},
     "output_type": "execute_result"
    }
   ],
   "source": [
    "confusion_matrix(y_test,pred)"
   ]
  },
  {
   "cell_type": "code",
   "execution_count": null,
   "metadata": {},
   "outputs": [],
   "source": []
  },
  {
   "cell_type": "markdown",
   "metadata": {},
   "source": [
    "## DNN"
   ]
  },
  {
   "cell_type": "code",
   "execution_count": 16,
   "metadata": {},
   "outputs": [],
   "source": [
    "# 3.4 텐서플로 2.0 버전 선택\n",
    "try:\n",
    "    # %tensorflow_version only exists in Colab.\n",
    "    %tensorflow_version 2.x\n",
    "except Exception:\n",
    "    pass\n",
    "import tensorflow as tf\n"
   ]
  },
  {
   "cell_type": "code",
   "execution_count": 17,
   "metadata": {},
   "outputs": [],
   "source": [
    "import os"
   ]
  },
  {
   "cell_type": "code",
   "execution_count": 330,
   "metadata": {},
   "outputs": [
    {
     "data": {
      "text/plain": [
       "(        Gross   Runtime  Awards  nominations      imdb    tomato    Metacr  \\\n",
       " 220 -0.220493  0.077960    37.0    -0.092877  0.210142 -0.024039  0.077165   \n",
       " 196 -0.773968 -1.364295    92.0     0.513397 -0.854225 -0.138423  0.561414   \n",
       " 13  -0.560104 -0.272859    14.0    -0.982080 -0.215605  0.891036 -2.053531   \n",
       " 71   0.877026  2.065933    44.0    -0.672206  0.635889 -0.595960 -0.794483   \n",
       " 91  -0.389616 -0.428778    24.0    -0.820407 -1.492846  0.891036  0.077165   \n",
       " ..        ...       ...     ...          ...       ...       ...       ...   \n",
       " 174 -0.089853 -0.740617    76.0     1.011890 -0.641352  0.319114  0.270865   \n",
       " 108 -0.274844  0.389799    89.0    -0.038986  1.061636  1.234189  0.948813   \n",
       " 135  2.742074  2.845530   198.0     0.472979  2.551750  0.547883  1.336213   \n",
       " 15  -0.532907 -0.194899     7.0    -0.982080  0.423015 -0.367192 -0.794483   \n",
       " 187 -0.590464  0.038980     8.0    -0.860825 -1.705719 -4.828180 -3.312579   \n",
       " \n",
       "      imdbVotes  Thriller  Short  ...  Dec  Feb  Jan  Jul  Jun  Mar  May  Nov  \\\n",
       " 220  -0.027765       0.0    0.0  ...    1    0    0    0    0    0    0    0   \n",
       " 196  -0.691486       0.0    0.0  ...    0    0    0    1    0    0    0    0   \n",
       " 13   -0.718686       1.0    0.0  ...    0    0    0    0    0    0    0    0   \n",
       " 71   -0.293673       0.0    0.0  ...    0    0    0    0    0    0    0    1   \n",
       " 91   -0.550608       0.0    0.0  ...    0    0    0    0    0    0    0    0   \n",
       " ..         ...       ...    ...  ...  ...  ...  ...  ...  ...  ...  ...  ...   \n",
       " 174  -0.081381       0.0    0.0  ...    1    0    0    0    0    0    0    0   \n",
       " 108   0.455684       1.0    0.0  ...    0    0    0    0    0    0    0    0   \n",
       " 135   3.249590       0.0    0.0  ...    1    0    0    0    0    0    0    0   \n",
       " 15   -0.833881       0.0    0.0  ...    1    0    0    0    0    0    0    0   \n",
       " 187  -0.648386       0.0    0.0  ...    0    0    1    0    0    0    0    0   \n",
       " \n",
       "      Oct  Sep  \n",
       " 220    0    0  \n",
       " 196    0    0  \n",
       " 13     1    0  \n",
       " 71     0    0  \n",
       " 91     0    0  \n",
       " ..   ...  ...  \n",
       " 174    0    0  \n",
       " 108    0    1  \n",
       " 135    0    0  \n",
       " 15     0    0  \n",
       " 187    0    0  \n",
       " \n",
       " [190 rows x 41 columns],\n",
       "         Gross   Runtime  Awards  nominations      imdb    tomato    Metacr  \\\n",
       " 80  -0.294762 -0.623678    21.0    -0.550951 -1.067099  0.662267  0.948813   \n",
       " 2   -0.669039 -0.272859    16.0    -0.820407  0.848762  0.433499  0.270865   \n",
       " 239  0.930307 -0.857557    64.0     1.887619  0.423015  0.547883  1.336213   \n",
       " 72   1.198940 -0.038980    16.0    -0.860825 -1.492846 -1.739803 -2.731480   \n",
       " 154 -0.353585 -0.974497    95.0     0.136160 -0.854225  0.891036  1.045663   \n",
       " ..        ...       ...     ...          ...       ...       ...       ...   \n",
       " 157 -0.424934 -0.350819    28.0     0.351724 -1.067099  0.319114  0.174015   \n",
       " 92   0.142322  1.013476    68.0    -0.173714  2.551750  0.433499  1.336213   \n",
       " 73  -0.255107  1.325315     6.0    -0.955134 -0.215605 -2.311725 -1.956681   \n",
       " 137  0.007470  0.389799    21.0     0.041850 -0.641352 -0.367192  0.077165   \n",
       " 18   0.126249 -0.896537    33.0    -0.860825  0.210142 -0.024039 -0.310234   \n",
       " \n",
       "      imdbVotes  Thriller  Short  ...  Dec  Feb  Jan  Jul  Jun  Mar  May  Nov  \\\n",
       " 80   -0.771833       1.0    0.0  ...    0    1    0    0    0    0    0    0   \n",
       " 2    -0.537342       0.0    0.0  ...    0    0    0    0    0    0    0    1   \n",
       " 239   0.421021       1.0    0.0  ...    0    0    0    1    0    0    0    0   \n",
       " 72   -0.405580       1.0    0.0  ...    0    0    0    1    0    0    0    0   \n",
       " 154  -0.634227       0.0    0.0  ...    0    0    0    0    0    0    0    1   \n",
       " ..         ...       ...    ...  ...  ...  ...  ...  ...  ...  ...  ...  ...   \n",
       " 157  -0.497281       1.0    0.0  ...    0    0    0    0    0    0    0    0   \n",
       " 92    3.675053       0.0    0.0  ...    0    0    0    0    0    0    0    0   \n",
       " 73   -0.001719       0.0    0.0  ...    1    0    0    0    0    0    0    0   \n",
       " 137  -0.384485       0.0    0.0  ...    0    0    0    0    0    0    0    1   \n",
       " 18   -0.572265       0.0    0.0  ...    1    0    0    0    0    0    0    0   \n",
       " \n",
       "      Oct  Sep  \n",
       " 80     0    0  \n",
       " 2      0    0  \n",
       " 239    0    0  \n",
       " 72     0    0  \n",
       " 154    0    0  \n",
       " ..   ...  ...  \n",
       " 157    1    0  \n",
       " 92     1    0  \n",
       " 73     0    0  \n",
       " 137    0    0  \n",
       " 18     0    0  \n",
       " \n",
       " [64 rows x 41 columns],\n",
       " 220    0\n",
       " 196    0\n",
       " 13     0\n",
       " 71     1\n",
       " 91     0\n",
       "       ..\n",
       " 174    0\n",
       " 108    0\n",
       " 135    1\n",
       " 15     0\n",
       " 187    0\n",
       " Name: win, Length: 190, dtype: int64,\n",
       " array([[1., 0.],\n",
       "        [1., 0.],\n",
       "        [1., 0.],\n",
       "        [1., 0.],\n",
       "        [1., 0.],\n",
       "        [0., 1.],\n",
       "        [1., 0.],\n",
       "        [1., 0.],\n",
       "        [1., 0.],\n",
       "        [1., 0.],\n",
       "        [1., 0.],\n",
       "        [1., 0.],\n",
       "        [1., 0.],\n",
       "        [1., 0.],\n",
       "        [0., 1.],\n",
       "        [1., 0.],\n",
       "        [0., 1.],\n",
       "        [0., 1.],\n",
       "        [1., 0.],\n",
       "        [1., 0.],\n",
       "        [1., 0.],\n",
       "        [1., 0.],\n",
       "        [1., 0.],\n",
       "        [1., 0.],\n",
       "        [1., 0.],\n",
       "        [1., 0.],\n",
       "        [1., 0.],\n",
       "        [1., 0.],\n",
       "        [1., 0.],\n",
       "        [1., 0.],\n",
       "        [0., 1.],\n",
       "        [0., 1.],\n",
       "        [1., 0.],\n",
       "        [0., 1.],\n",
       "        [1., 0.],\n",
       "        [1., 0.],\n",
       "        [1., 0.],\n",
       "        [1., 0.],\n",
       "        [1., 0.],\n",
       "        [1., 0.],\n",
       "        [1., 0.],\n",
       "        [1., 0.],\n",
       "        [1., 0.],\n",
       "        [0., 1.],\n",
       "        [1., 0.],\n",
       "        [1., 0.],\n",
       "        [1., 0.],\n",
       "        [1., 0.],\n",
       "        [0., 1.],\n",
       "        [1., 0.],\n",
       "        [1., 0.],\n",
       "        [1., 0.],\n",
       "        [1., 0.],\n",
       "        [1., 0.],\n",
       "        [1., 0.],\n",
       "        [1., 0.],\n",
       "        [1., 0.],\n",
       "        [1., 0.],\n",
       "        [0., 1.],\n",
       "        [1., 0.],\n",
       "        [1., 0.],\n",
       "        [1., 0.],\n",
       "        [1., 0.],\n",
       "        [0., 1.]], dtype=float32))"
      ]
     },
     "execution_count": 330,
     "metadata": {},
     "output_type": "execute_result"
    }
   ],
   "source": [
    "X_train, X_test, y_train, y_test"
   ]
  },
  {
   "cell_type": "code",
   "execution_count": 18,
   "metadata": {
    "scrolled": true
   },
   "outputs": [],
   "source": [
    "X_train_over_np= X_train_over.to_numpy()\n",
    "y_train_over_np =y_train_over.to_numpy()\n"
   ]
  },
  {
   "cell_type": "code",
   "execution_count": 19,
   "metadata": {
    "scrolled": true
   },
   "outputs": [],
   "source": [
    "X_test_np = X_test.to_numpy()\n",
    "y_test_np = y_test.to_numpy()"
   ]
  },
  {
   "cell_type": "code",
   "execution_count": 20,
   "metadata": {},
   "outputs": [
    {
     "data": {
      "text/plain": [
       "pandas.core.series.Series"
      ]
     },
     "execution_count": 20,
     "metadata": {},
     "output_type": "execute_result"
    }
   ],
   "source": [
    "type(y_train)"
   ]
  },
  {
   "cell_type": "code",
   "execution_count": 21,
   "metadata": {},
   "outputs": [],
   "source": [
    "y_train_over_np = tf.keras.utils.to_categorical(y_train_over_np, num_classes=2)\n",
    "y_test_np = tf.keras.utils.to_categorical(y_test_np, num_classes=2)"
   ]
  },
  {
   "cell_type": "code",
   "execution_count": 26,
   "metadata": {},
   "outputs": [],
   "source": [
    "from keras import backend as K\n",
    "def recall(y_target, y_pred):\n",
    "    # clip(t, clip_value_min, clip_value_max) : clip_value_min~clip_value_max 이외 가장자리를 깎아 낸다\n",
    "    # round : 반올림한다\n",
    "    y_target_yn = K.round(K.clip(y_target, 0, 1)) # 실제값을 0(Negative) 또는 1(Positive)로 설정한다\n",
    "    y_pred_yn = K.round(K.clip(y_pred, 0, 1)) # 예측값을 0(Negative) 또는 1(Positive)로 설정한다\n",
    "\n",
    "    # True Positive는 실제 값과 예측 값이 모두 1(Positive)인 경우이다\n",
    "    count_true_positive = K.sum(y_target_yn * y_pred_yn) \n",
    "\n",
    "    # (True Positive + False Negative) = 실제 값이 1(Positive) 전체\n",
    "    count_true_positive_false_negative = K.sum(y_target_yn)\n",
    "\n",
    "    # Recall =  (True Positive) / (True Positive + False Negative)\n",
    "    # K.epsilon()는 'divide by zero error' 예방차원에서 작은 수를 더한다\n",
    "    recall = count_true_positive / (count_true_positive_false_negative + K.epsilon())\n",
    "\n",
    "    # return a single tensor value\n",
    "    return recall\n",
    "\n",
    "\n",
    "def precision(y_target, y_pred):\n",
    "    # clip(t, clip_value_min, clip_value_max) : clip_value_min~clip_value_max 이외 가장자리를 깎아 낸다\n",
    "    # round : 반올림한다\n",
    "    y_pred_yn = K.round(K.clip(y_pred, 0, 1)) # 예측값을 0(Negative) 또는 1(Positive)로 설정한다\n",
    "    y_target_yn = K.round(K.clip(y_target, 0, 1)) # 실제값을 0(Negative) 또는 1(Positive)로 설정한다\n",
    "\n",
    "    # True Positive는 실제 값과 예측 값이 모두 1(Positive)인 경우이다\n",
    "    count_true_positive = K.sum(y_target_yn * y_pred_yn) \n",
    "\n",
    "    # (True Positive + False Positive) = 예측 값이 1(Positive) 전체\n",
    "    count_true_positive_false_positive = K.sum(y_pred_yn)\n",
    "\n",
    "    # Precision = (True Positive) / (True Positive + False Positive)\n",
    "    # K.epsilon()는 'divide by zero error' 예방차원에서 작은 수를 더한다\n",
    "    precision = count_true_positive / (count_true_positive_false_positive + K.epsilon())\n",
    "\n",
    "    # return a single tensor value\n",
    "    return precision\n",
    "\n",
    "\n",
    "def f1score(y_target, y_pred):\n",
    "    _recall = recall(y_target, y_pred)\n",
    "    _precision = precision(y_target, y_pred)\n",
    "    # K.epsilon()는 'divide by zero error' 예방차원에서 작은 수를 더한다\n",
    "    _f1score = ( 2 * _recall * _precision) / (_recall + _precision+ K.epsilon())\n",
    "    \n",
    "    # return a single tensor value\n",
    "    return _f1score"
   ]
  },
  {
   "cell_type": "code",
   "execution_count": 32,
   "metadata": {},
   "outputs": [
    {
     "name": "stdout",
     "output_type": "stream",
     "text": [
      "Train on 237 samples, validate on 79 samples\n",
      "Epoch 1/50\n",
      "237/237 [==============================] - 3s 14ms/sample - loss: 4.7813 - accuracy: 0.4895 - f1score: 0.4944 - val_loss: 3.0632 - val_accuracy: 0.0000e+00 - val_f1score: 0.0000e+00\n",
      "Epoch 2/50\n",
      "237/237 [==============================] - 0s 165us/sample - loss: 4.5365 - accuracy: 0.5105 - f1score: 0.5122 - val_loss: 3.0855 - val_accuracy: 0.0000e+00 - val_f1score: 0.0000e+00\n",
      "Epoch 3/50\n",
      "237/237 [==============================] - 0s 143us/sample - loss: 3.1472 - accuracy: 0.5527 - f1score: 0.5480 - val_loss: 3.1050 - val_accuracy: 0.0000e+00 - val_f1score: 0.0000e+00\n",
      "Epoch 4/50\n",
      "237/237 [==============================] - 0s 139us/sample - loss: 3.5422 - accuracy: 0.5570 - f1score: 0.5585 - val_loss: 2.9846 - val_accuracy: 0.0000e+00 - val_f1score: 0.0000e+00\n",
      "Epoch 5/50\n",
      "237/237 [==============================] - 0s 143us/sample - loss: 3.7254 - accuracy: 0.5401 - f1score: 0.5462 - val_loss: 2.8544 - val_accuracy: 0.0000e+00 - val_f1score: 0.0000e+00\n",
      "Epoch 6/50\n",
      "237/237 [==============================] - 0s 135us/sample - loss: 2.5092 - accuracy: 0.5823 - f1score: 0.5786 - val_loss: 2.2159 - val_accuracy: 0.0000e+00 - val_f1score: 0.0000e+00\n",
      "Epoch 7/50\n",
      "237/237 [==============================] - 0s 152us/sample - loss: 3.3763 - accuracy: 0.5105 - f1score: 0.5073 - val_loss: 1.8792 - val_accuracy: 0.0000e+00 - val_f1score: 0.0000e+00\n",
      "Epoch 8/50\n",
      "237/237 [==============================] - 0s 211us/sample - loss: 2.5143 - accuracy: 0.5443 - f1score: 0.5336 - val_loss: 1.7577 - val_accuracy: 0.0000e+00 - val_f1score: 0.0000e+00\n",
      "Epoch 9/50\n",
      "237/237 [==============================] - 0s 160us/sample - loss: 2.0611 - accuracy: 0.5105 - f1score: 0.5238 - val_loss: 1.7758 - val_accuracy: 0.0000e+00 - val_f1score: 0.0000e+00\n",
      "Epoch 10/50\n",
      "237/237 [==============================] - 0s 139us/sample - loss: 2.2605 - accuracy: 0.5696 - f1score: 0.5686 - val_loss: 1.6607 - val_accuracy: 0.0000e+00 - val_f1score: 0.0000e+00\n",
      "Epoch 11/50\n",
      "237/237 [==============================] - 0s 135us/sample - loss: 2.3946 - accuracy: 0.5274 - f1score: 0.5328 - val_loss: 1.6507 - val_accuracy: 0.0000e+00 - val_f1score: 0.0000e+00\n",
      "Epoch 12/50\n",
      "237/237 [==============================] - 0s 135us/sample - loss: 2.2718 - accuracy: 0.5527 - f1score: 0.5480 - val_loss: 1.8537 - val_accuracy: 0.0000e+00 - val_f1score: 0.0000e+00\n",
      "Epoch 13/50\n",
      "237/237 [==============================] - 0s 135us/sample - loss: 2.1262 - accuracy: 0.5654 - f1score: 0.5597 - val_loss: 1.6946 - val_accuracy: 0.0000e+00 - val_f1score: 0.0000e+00\n",
      "Epoch 14/50\n",
      "237/237 [==============================] - 0s 139us/sample - loss: 1.8453 - accuracy: 0.5612 - f1score: 0.5575 - val_loss: 1.5009 - val_accuracy: 0.0000e+00 - val_f1score: 0.0000e+00\n",
      "Epoch 15/50\n",
      "237/237 [==============================] - 0s 139us/sample - loss: 1.7080 - accuracy: 0.5612 - f1score: 0.5608 - val_loss: 1.5541 - val_accuracy: 0.0000e+00 - val_f1score: 0.0000e+00\n",
      "Epoch 16/50\n",
      "237/237 [==============================] - 0s 160us/sample - loss: 1.5776 - accuracy: 0.5738 - f1score: 0.5774 - val_loss: 1.3586 - val_accuracy: 0.0000e+00 - val_f1score: 0.0000e+00\n",
      "Epoch 17/50\n",
      "237/237 [==============================] - 0s 148us/sample - loss: 1.5448 - accuracy: 0.5992 - f1score: 0.5943 - val_loss: 1.4016 - val_accuracy: 0.0000e+00 - val_f1score: 0.0000e+00\n",
      "Epoch 18/50\n",
      "237/237 [==============================] - 0s 139us/sample - loss: 1.3185 - accuracy: 0.6287 - f1score: 0.6299 - val_loss: 1.4453 - val_accuracy: 0.0000e+00 - val_f1score: 0.0000e+00\n",
      "Epoch 19/50\n",
      "237/237 [==============================] - 0s 139us/sample - loss: 1.7424 - accuracy: 0.5612 - f1score: 0.5657 - val_loss: 1.4018 - val_accuracy: 0.0000e+00 - val_f1score: 0.0000e+00\n",
      "Epoch 20/50\n",
      "237/237 [==============================] - 0s 139us/sample - loss: 1.3654 - accuracy: 0.5654 - f1score: 0.5647 - val_loss: 1.3752 - val_accuracy: 0.0000e+00 - val_f1score: 0.0000e+00\n",
      "Epoch 21/50\n",
      "237/237 [==============================] - 0s 143us/sample - loss: 1.1308 - accuracy: 0.6582 - f1score: 0.6605 - val_loss: 1.3588 - val_accuracy: 0.0000e+00 - val_f1score: 0.0000e+00\n",
      "Epoch 22/50\n",
      "237/237 [==============================] - 0s 165us/sample - loss: 1.4235 - accuracy: 0.5696 - f1score: 0.5702 - val_loss: 1.3316 - val_accuracy: 0.0000e+00 - val_f1score: 0.0000e+00\n",
      "Epoch 23/50\n",
      "237/237 [==============================] - 0s 148us/sample - loss: 1.3020 - accuracy: 0.5907 - f1score: 0.5865 - val_loss: 1.3183 - val_accuracy: 0.0000e+00 - val_f1score: 0.0000e+00\n",
      "Epoch 24/50\n",
      "237/237 [==============================] - 0s 135us/sample - loss: 1.1737 - accuracy: 0.5443 - f1score: 0.5501 - val_loss: 1.2948 - val_accuracy: 0.0000e+00 - val_f1score: 0.0000e+00\n",
      "Epoch 25/50\n",
      "237/237 [==============================] - 0s 131us/sample - loss: 1.4031 - accuracy: 0.5485 - f1score: 0.5490 - val_loss: 1.2806 - val_accuracy: 0.0000e+00 - val_f1score: 0.0000e+00\n",
      "Epoch 26/50\n",
      "237/237 [==============================] - 0s 135us/sample - loss: 1.1098 - accuracy: 0.6287 - f1score: 0.6299 - val_loss: 1.2692 - val_accuracy: 0.0000e+00 - val_f1score: 0.0000e+00\n",
      "Epoch 27/50\n",
      "237/237 [==============================] - 0s 139us/sample - loss: 1.1036 - accuracy: 0.5992 - f1score: 0.5992 - val_loss: 1.2694 - val_accuracy: 0.0000e+00 - val_f1score: 0.0000e+00\n",
      "Epoch 28/50\n",
      "237/237 [==============================] - 0s 148us/sample - loss: 1.1897 - accuracy: 0.6203 - f1score: 0.6171 - val_loss: 1.2568 - val_accuracy: 0.0000e+00 - val_f1score: 0.0000e+00\n",
      "Epoch 29/50\n",
      "237/237 [==============================] - 0s 160us/sample - loss: 1.0555 - accuracy: 0.5781 - f1score: 0.5830 - val_loss: 1.2171 - val_accuracy: 0.0000e+00 - val_f1score: 0.0000e+00\n",
      "Epoch 30/50\n",
      "237/237 [==============================] - 0s 181us/sample - loss: 1.0250 - accuracy: 0.5992 - f1score: 0.5926 - val_loss: 1.2123 - val_accuracy: 0.0000e+00 - val_f1score: 0.0000e+00\n",
      "Epoch 31/50\n",
      "237/237 [==============================] - 0s 143us/sample - loss: 1.3575 - accuracy: 0.5401 - f1score: 0.5412 - val_loss: 1.2042 - val_accuracy: 0.0000e+00 - val_f1score: 0.0000e+00\n",
      "Epoch 32/50\n",
      "237/237 [==============================] - 0s 135us/sample - loss: 1.1567 - accuracy: 0.6118 - f1score: 0.6126 - val_loss: 1.2096 - val_accuracy: 0.0000e+00 - val_f1score: 0.0000e+00\n",
      "Epoch 33/50\n",
      "237/237 [==============================] - 0s 143us/sample - loss: 1.1248 - accuracy: 0.5696 - f1score: 0.5653 - val_loss: 1.2123 - val_accuracy: 0.0000e+00 - val_f1score: 0.0000e+00\n",
      "Epoch 34/50\n",
      "237/237 [==============================] - 0s 131us/sample - loss: 0.9879 - accuracy: 0.6034 - f1score: 0.5965 - val_loss: 1.2121 - val_accuracy: 0.0000e+00 - val_f1score: 0.0000e+00\n",
      "Epoch 35/50\n",
      "237/237 [==============================] - 0s 165us/sample - loss: 1.0200 - accuracy: 0.5907 - f1score: 0.5881 - val_loss: 1.2070 - val_accuracy: 0.0000e+00 - val_f1score: 0.0000e+00\n",
      "Epoch 36/50\n",
      "237/237 [==============================] - 0s 181us/sample - loss: 1.1635 - accuracy: 0.5865 - f1score: 0.5941 - val_loss: 1.2282 - val_accuracy: 0.0000e+00 - val_f1score: 0.0000e+00\n",
      "Epoch 37/50\n",
      "237/237 [==============================] - 0s 143us/sample - loss: 0.9973 - accuracy: 0.5865 - f1score: 0.5875 - val_loss: 1.2099 - val_accuracy: 0.0000e+00 - val_f1score: 0.0000e+00\n",
      "Epoch 38/50\n",
      "237/237 [==============================] - 0s 139us/sample - loss: 0.8795 - accuracy: 0.6203 - f1score: 0.6220 - val_loss: 1.1957 - val_accuracy: 0.0000e+00 - val_f1score: 0.0000e+00\n",
      "Epoch 39/50\n",
      "237/237 [==============================] - 0s 135us/sample - loss: 1.1153 - accuracy: 0.5907 - f1score: 0.5931 - val_loss: 1.1936 - val_accuracy: 0.0000e+00 - val_f1score: 0.0000e+00\n",
      "Epoch 40/50\n",
      "237/237 [==============================] - 0s 131us/sample - loss: 0.9866 - accuracy: 0.6245 - f1score: 0.6177 - val_loss: 1.1821 - val_accuracy: 0.0000e+00 - val_f1score: 0.0000e+00\n",
      "Epoch 41/50\n",
      "237/237 [==============================] - 0s 139us/sample - loss: 0.8700 - accuracy: 0.5865 - f1score: 0.5891 - val_loss: 1.1877 - val_accuracy: 0.0000e+00 - val_f1score: 0.0000e+00\n",
      "Epoch 42/50\n",
      "237/237 [==============================] - 0s 131us/sample - loss: 0.9554 - accuracy: 0.5738 - f1score: 0.5774 - val_loss: 1.1891 - val_accuracy: 0.0000e+00 - val_f1score: 0.0000e+00\n"
     ]
    },
    {
     "name": "stdout",
     "output_type": "stream",
     "text": [
      "Epoch 43/50\n",
      "237/237 [==============================] - 0s 139us/sample - loss: 1.0085 - accuracy: 0.5992 - f1score: 0.5992 - val_loss: 1.1766 - val_accuracy: 0.0000e+00 - val_f1score: 0.0000e+00\n",
      "Epoch 44/50\n",
      "237/237 [==============================] - 0s 156us/sample - loss: 0.9835 - accuracy: 0.5823 - f1score: 0.5836 - val_loss: 1.1837 - val_accuracy: 0.0000e+00 - val_f1score: 0.0000e+00\n",
      "Epoch 45/50\n",
      "237/237 [==============================] - 0s 143us/sample - loss: 0.9210 - accuracy: 0.5992 - f1score: 0.5893 - val_loss: 1.1894 - val_accuracy: 0.0000e+00 - val_f1score: 0.0000e+00\n",
      "Epoch 46/50\n",
      "237/237 [==============================] - 0s 160us/sample - loss: 0.9055 - accuracy: 0.6540 - f1score: 0.6533 - val_loss: 1.1812 - val_accuracy: 0.0000e+00 - val_f1score: 0.0000e+00\n",
      "Epoch 47/50\n",
      "237/237 [==============================] - 0s 156us/sample - loss: 0.8889 - accuracy: 0.5865 - f1score: 0.5743 - val_loss: 1.1952 - val_accuracy: 0.0000e+00 - val_f1score: 0.0000e+00\n",
      "Epoch 48/50\n",
      "237/237 [==============================] - 0s 160us/sample - loss: 1.0420 - accuracy: 0.5992 - f1score: 0.5926 - val_loss: 1.1977 - val_accuracy: 0.0000e+00 - val_f1score: 0.0000e+00\n",
      "Epoch 49/50\n",
      "237/237 [==============================] - 0s 148us/sample - loss: 0.9950 - accuracy: 0.5654 - f1score: 0.5729 - val_loss: 1.2037 - val_accuracy: 0.0000e+00 - val_f1score: 0.0000e+00\n",
      "Epoch 50/50\n",
      "237/237 [==============================] - 0s 152us/sample - loss: 0.9160 - accuracy: 0.5949 - f1score: 0.5970 - val_loss: 1.2052 - val_accuracy: 0.0000e+00 - val_f1score: 0.0000e+00\n",
      "64/64 - 0s - loss: 0.4740 - accuracy: 0.8281 - f1score: 0.8281\n"
     ]
    },
    {
     "data": {
      "text/plain": [
       "[0.47404104471206665, 0.828125, 0.82812494]"
      ]
     },
     "execution_count": 32,
     "metadata": {},
     "output_type": "execute_result"
    }
   ],
   "source": [
    "checkpoint_path = \"training_2/cp-{epoch:04d}.ckpt\"\n",
    "checkpoint_dir = os.path.dirname(checkpoint_path)\n",
    "\n",
    "cp_callback = tf.keras.callbacks.ModelCheckpoint(\n",
    "    checkpoint_path, verbose=1, save_weights_only=True)\n",
    "\n",
    "\n",
    "\n",
    "model = tf.keras.Sequential([\n",
    "    tf.keras.layers.Dense(units=64,activation='elu', input_shape=(41,)),\n",
    "    tf.keras.layers.Dropout(rate=0.5),\n",
    "    tf.keras.layers.Dense(units=32, activation='elu'),\n",
    "    tf.keras.layers.Dropout(rate=0.5),\n",
    "     tf.keras.layers.Dense(units=16, activation='elu'),\n",
    "    tf.keras.layers.Dropout(rate=0.5),\n",
    "\n",
    "\n",
    "  \n",
    "    \n",
    "    # 분류 모델이기 때문에 최종 단에 있어서는 softmax를 활용을 해야 함!!!!\n",
    "    tf.keras.layers.Dense(units=2, activation='softmax')\n",
    "    #tf.keras.layers.Dense(units=1, activation='sigmoid')\n",
    "])\n",
    "\n",
    "model.compile(optimizer=tf.keras.optimizers.Nadam(),  loss='categorical_crossentropy', metrics=['accuracy', f1score])\n",
    "#model.compile(optimizer=tf.keras.optimizers.Adam(),  loss='binary_crossentropy', metrics=['accuracy'])\n",
    "\n",
    "history = model.fit(X_train_over_np, y_train_over_np, epochs=50, batch_size=64, validation_split=0.25)\n",
    "model.evaluate(X_test_np, y_test_np,verbose=2)\n",
    "\n"
   ]
  },
  {
   "cell_type": "code",
   "execution_count": null,
   "metadata": {},
   "outputs": [],
   "source": []
  },
  {
   "cell_type": "code",
   "execution_count": 126,
   "metadata": {},
   "outputs": [
    {
     "name": "stdout",
     "output_type": "stream",
     "text": [
      "64/1 - 0s - loss: 0.5065 - accuracy: 0.8281\n"
     ]
    },
    {
     "data": {
      "text/plain": [
       "[0.5238292217254639, 0.828125]"
      ]
     },
     "execution_count": 126,
     "metadata": {},
     "output_type": "execute_result"
    }
   ],
   "source": [
    "model2 = tf.keras.Sequential([\n",
    "   tf.keras.layers.Dense(units=32 ,activation='elu', input_shape=(41,)),\n",
    "    tf.keras.layers.Dropout(rate=0.3),\n",
    "    tf.keras.layers.Dense(units=16, activation='elu'),\n",
    "    tf.keras.layers.Dropout(rate=0.3),\n",
    "\n",
    "\n",
    "    \n",
    "   \n",
    "   \n",
    "   \n",
    "   \n",
    "    \n",
    "    # 분류 모델이기 때문에 최종 단에 있어서는 softmax를 활용을 해야 함!!!!\n",
    "    tf.keras.layers.Dense(units=2, activation='softmax')\n",
    "])\n",
    "\n",
    "model2.compile(optimizer=tf.keras.optimizers.Nadam(),  loss='categorical_crossentropy', metrics=['accuracy'])\n",
    "\n",
    "model2.load_weights(\"training_2/cp-0003.ckpt\")\n",
    "model2.evaluate(X_test, y_test,verbose=2)"
   ]
  },
  {
   "cell_type": "code",
   "execution_count": 36,
   "metadata": {},
   "outputs": [
    {
     "data": {
      "text/plain": [
       "array([[-2.94761773e-01, -6.23677774e-01,  2.10000000e+01, ...,\n",
       "         0.00000000e+00,  0.00000000e+00,  0.00000000e+00],\n",
       "       [-6.69039485e-01, -2.72859026e-01,  1.60000000e+01, ...,\n",
       "         1.00000000e+00,  0.00000000e+00,  0.00000000e+00],\n",
       "       [ 9.30306791e-01, -8.57556940e-01,  6.40000000e+01, ...,\n",
       "         0.00000000e+00,  0.00000000e+00,  0.00000000e+00],\n",
       "       ...,\n",
       "       [-2.55107083e-01,  1.32531527e+00,  6.00000000e+00, ...,\n",
       "         0.00000000e+00,  0.00000000e+00,  0.00000000e+00],\n",
       "       [ 7.47011745e-03,  3.89798609e-01,  2.10000000e+01, ...,\n",
       "         1.00000000e+00,  0.00000000e+00,  0.00000000e+00],\n",
       "       [ 1.26248634e-01, -8.96536801e-01,  3.30000000e+01, ...,\n",
       "         0.00000000e+00,  0.00000000e+00,  0.00000000e+00]])"
      ]
     },
     "execution_count": 36,
     "metadata": {},
     "output_type": "execute_result"
    }
   ],
   "source": [
    "X_test_np"
   ]
  },
  {
   "cell_type": "code",
   "execution_count": 37,
   "metadata": {},
   "outputs": [],
   "source": [
    "lt =[]\n",
    "for i in range(len(X_test_np)):\n",
    "    lt.append(np.argmax(model.predict(X_test_np)[i]))"
   ]
  },
  {
   "cell_type": "code",
   "execution_count": 40,
   "metadata": {},
   "outputs": [
    {
     "data": {
      "text/plain": [
       "64"
      ]
     },
     "execution_count": 40,
     "metadata": {},
     "output_type": "execute_result"
    }
   ],
   "source": [
    "len(lt)"
   ]
  },
  {
   "cell_type": "code",
   "execution_count": 45,
   "metadata": {},
   "outputs": [],
   "source": [
    "lt =[]\n",
    "for i in range(len(X_test_np)):\n",
    "    lt.append(model.predict(X_test_np)[i])"
   ]
  },
  {
   "cell_type": "code",
   "execution_count": 46,
   "metadata": {},
   "outputs": [
    {
     "data": {
      "text/plain": [
       "[array([0.761703  , 0.23829699], dtype=float32),\n",
       " array([0.75786126, 0.2421388 ], dtype=float32),\n",
       " array([0.6957238, 0.3042762], dtype=float32),\n",
       " array([0.77343565, 0.2265644 ], dtype=float32),\n",
       " array([0.6879267 , 0.31207326], dtype=float32),\n",
       " array([0.68090546, 0.31909457], dtype=float32),\n",
       " array([0.70631623, 0.2936837 ], dtype=float32),\n",
       " array([0.8131042 , 0.18689577], dtype=float32),\n",
       " array([0.7058777 , 0.29412222], dtype=float32),\n",
       " array([0.70143205, 0.29856795], dtype=float32),\n",
       " array([0.6806963 , 0.31930363], dtype=float32),\n",
       " array([0.74299115, 0.2570088 ], dtype=float32),\n",
       " array([0.7068518 , 0.29314822], dtype=float32),\n",
       " array([0.68833977, 0.31166023], dtype=float32),\n",
       " array([0.6843574 , 0.31564257], dtype=float32),\n",
       " array([0.7514554 , 0.24854466], dtype=float32),\n",
       " array([0.7311349 , 0.26886508], dtype=float32),\n",
       " array([0.7338577 , 0.26614222], dtype=float32),\n",
       " array([0.71424454, 0.2857554 ], dtype=float32),\n",
       " array([0.72410864, 0.2758914 ], dtype=float32),\n",
       " array([0.68806535, 0.3119346 ], dtype=float32),\n",
       " array([0.71608025, 0.2839197 ], dtype=float32),\n",
       " array([0.80837744, 0.19162261], dtype=float32),\n",
       " array([0.6964514 , 0.30354849], dtype=float32),\n",
       " array([0.82231396, 0.177686  ], dtype=float32),\n",
       " array([0.7471251 , 0.25287482], dtype=float32),\n",
       " array([0.7201328, 0.2798671], dtype=float32),\n",
       " array([0.7398693, 0.2601306], dtype=float32),\n",
       " array([0.70029074, 0.2997092 ], dtype=float32),\n",
       " array([0.73182386, 0.26817608], dtype=float32),\n",
       " array([0.74484694, 0.25515303], dtype=float32),\n",
       " array([0.7016841 , 0.29831585], dtype=float32),\n",
       " array([0.78760684, 0.21239318], dtype=float32),\n",
       " array([0.73107815, 0.2689218 ], dtype=float32),\n",
       " array([0.7906411 , 0.20935883], dtype=float32),\n",
       " array([0.71039736, 0.28960258], dtype=float32),\n",
       " array([0.7698498 , 0.23015027], dtype=float32),\n",
       " array([0.7877173 , 0.21228272], dtype=float32),\n",
       " array([0.6933366 , 0.30666336], dtype=float32),\n",
       " array([0.6528343 , 0.34716567], dtype=float32),\n",
       " array([0.68266803, 0.31733185], dtype=float32),\n",
       " array([0.77948695, 0.22051312], dtype=float32),\n",
       " array([0.726068  , 0.27393198], dtype=float32),\n",
       " array([0.67780256, 0.3221974 ], dtype=float32),\n",
       " array([0.72960085, 0.2703991 ], dtype=float32),\n",
       " array([0.7335238 , 0.26647615], dtype=float32),\n",
       " array([0.7188618, 0.2811381], dtype=float32),\n",
       " array([0.6889265 , 0.31107345], dtype=float32),\n",
       " array([0.69986135, 0.30013862], dtype=float32),\n",
       " array([0.7948848 , 0.20511523], dtype=float32),\n",
       " array([0.6836832, 0.3163167], dtype=float32),\n",
       " array([0.73049617, 0.26950383], dtype=float32),\n",
       " array([0.6479773 , 0.35202274], dtype=float32),\n",
       " array([0.75660425, 0.24339576], dtype=float32),\n",
       " array([0.76991236, 0.23008773], dtype=float32),\n",
       " array([0.6844777 , 0.31552228], dtype=float32),\n",
       " array([0.7167155 , 0.28328446], dtype=float32),\n",
       " array([0.6714564 , 0.32854357], dtype=float32),\n",
       " array([0.68382484, 0.31617513], dtype=float32),\n",
       " array([0.7475433, 0.2524567], dtype=float32),\n",
       " array([0.6865139 , 0.31348607], dtype=float32),\n",
       " array([0.79724497, 0.20275506], dtype=float32),\n",
       " array([0.75959176, 0.24040827], dtype=float32),\n",
       " array([0.71334034, 0.2866596 ], dtype=float32)]"
      ]
     },
     "execution_count": 46,
     "metadata": {},
     "output_type": "execute_result"
    }
   ],
   "source": [
    "lt"
   ]
  },
  {
   "cell_type": "markdown",
   "metadata": {},
   "source": [
    "## votingClassifier"
   ]
  },
  {
   "cell_type": "code",
   "execution_count": 186,
   "metadata": {},
   "outputs": [],
   "source": [
    "from sklearn.ensemble import VotingClassifier"
   ]
  },
  {
   "cell_type": "code",
   "execution_count": 210,
   "metadata": {},
   "outputs": [],
   "source": [
    "lr_clf = LogisticRegression(n_jobs=-1)\n",
    "xgb_clf = XGBClassifier(n_jobs=-1)\n",
    "lgb_clf =LGBMClassifier(random_state =1234, n_jobs=-1)\n",
    "rf_clf =RandomForestClassifier(random_state =1234, n_jobs=-1)"
   ]
  },
  {
   "cell_type": "code",
   "execution_count": 215,
   "metadata": {
    "scrolled": true
   },
   "outputs": [
    {
     "name": "stdout",
     "output_type": "stream",
     "text": [
      "Voting 분류기 정확도: 0.5926\n",
      "XGBClassifier 정확도 :  0.5600\n",
      "LogisticRegression 정확도 :  0.3571\n",
      "LGBMClassifier 정확도 :  0.5600\n",
      "RandomForestClassifier 정확도 :  0.2353\n"
     ]
    }
   ],
   "source": [
    "vo_clf = VotingClassifier(estimators=[('XGB',xgb_clf),('LR',lr_clf),('LGB',lgb_clf),('RF',rf_clf)], voting='soft', weights= [3,2,3,1])\n",
    "\n",
    "\n",
    "\n",
    "vo_clf.fit(X_train_over,y_train_over)\n",
    "pred = vo_clf.predict(X_test)\n",
    "print('Voting 분류기 정확도: {0:.4f}'.format(f1_score(y_test,pred)))\n",
    "\n",
    "classifiers =[xgb_clf,lr_clf,lgb_clf,rf_clf]\n",
    "for classifier in classifiers:\n",
    "    classifier.fit(X_train_over, y_train_over)\n",
    "    pred = classifier.predict(X_test)\n",
    "    class_name = classifier.__class__.__name__\n",
    "    print('{0} 정확도 : {1: .4f}'.format(class_name, f1_score(y_test,pred)))"
   ]
  },
  {
   "cell_type": "code",
   "execution_count": 213,
   "metadata": {},
   "outputs": [
    {
     "name": "stdout",
     "output_type": "stream",
     "text": [
      "Voting 분류기 정확도: 0.5600\n",
      "GridSearchCV 정확도 :  0.5000\n",
      "GridSearchCV 정확도 :  0.5600\n",
      "GridSearchCV 정확도 :  0.2353\n",
      "LogisticRegression 정확도 :  0.3571\n"
     ]
    }
   ],
   "source": [
    "vo_clf = VotingClassifier(estimators=[('xgb', grid_xgb), ('lgb', grid_lgb ), ('rf', grid_rf), ('lr', lr_clf)], voting='soft', weights= [3,4,1,2])\n",
    "\n",
    "vo_clf.fit(X_train_over,y_train_over)\n",
    "pred = vo_clf.predict(X_test)\n",
    "print('Voting 분류기 정확도: {0:.4f}'.format(f1_score(y_test,pred)))\n",
    "\n",
    "classifiers =[grid_xgb,grid_lgb,grid_rf,lr_clf]\n",
    "for classifier in classifiers:\n",
    "    classifier.fit(X_train_over, y_train_over)\n",
    "    pred = classifier.predict(X_test)\n",
    "    class_name = classifier.__class__.__name__\n",
    "    print('{0} 정확도 : {1: .4f}'.format(class_name, f1_score(y_test,pred)))"
   ]
  },
  {
   "cell_type": "markdown",
   "metadata": {},
   "source": [
    "## baggingClassifirer"
   ]
  },
  {
   "cell_type": "code",
   "execution_count": 199,
   "metadata": {},
   "outputs": [],
   "source": [
    "from sklearn.ensemble import BaggingClassifier"
   ]
  },
  {
   "cell_type": "code",
   "execution_count": 204,
   "metadata": {},
   "outputs": [
    {
     "name": "stdout",
     "output_type": "stream",
     "text": [
      "Voting 분류기 정확도: 0.4615\n"
     ]
    }
   ],
   "source": [
    "bag_clf = BaggingClassifier(base_estimator=grid_xgb, n_estimators=100, random_state=0)\n",
    "\n",
    "bag_clf.fit(X_train_over,y_train_over)\n",
    "pred = bag_clf.predict(X_test)\n",
    "print('Bagging 분류기 정확도: {0:.4f}'.format(f1_score(y_test,pred)))"
   ]
  },
  {
   "cell_type": "code",
   "execution_count": 205,
   "metadata": {},
   "outputs": [
    {
     "name": "stdout",
     "output_type": "stream",
     "text": [
      "Voting 분류기 정확도: 0.5185\n"
     ]
    }
   ],
   "source": [
    "bag_clf = BaggingClassifier(base_estimator=grid_lgb, n_estimators=100, random_state=0)\n",
    "\n",
    "bag_clf.fit(X_train_over,y_train_over)\n",
    "pred = bag_clf.predict(X_test)\n",
    "print('Bagging 분류기 정확도: {0:.4f}'.format(f1_score(y_test,pred)))"
   ]
  },
  {
   "cell_type": "code",
   "execution_count": 206,
   "metadata": {},
   "outputs": [
    {
     "name": "stdout",
     "output_type": "stream",
     "text": [
      "Bagging 분류기 정확도: 0.3000\n"
     ]
    }
   ],
   "source": [
    "bag_clf = BaggingClassifier(base_estimator=grid_rf, n_estimators=100, random_state=0)\n",
    "\n",
    "bag_clf.fit(X_train_over,y_train_over)\n",
    "pred = bag_clf.predict(X_test)\n",
    "print('Bagging 분류기 정확도: {0:.4f}'.format(f1_score(y_test,pred)))"
   ]
  },
  {
   "cell_type": "code",
   "execution_count": 207,
   "metadata": {},
   "outputs": [
    {
     "name": "stderr",
     "output_type": "stream",
     "text": [
      "C:\\Users\\kse02\\AppData\\Local\\Continuum\\anaconda3\\lib\\site-packages\\sklearn\\linear_model\\_logistic.py:940: ConvergenceWarning: lbfgs failed to converge (status=1):\n",
      "STOP: TOTAL NO. of ITERATIONS REACHED LIMIT.\n",
      "\n",
      "Increase the number of iterations (max_iter) or scale the data as shown in:\n",
      "    https://scikit-learn.org/stable/modules/preprocessing.html\n",
      "Please also refer to the documentation for alternative solver options:\n",
      "    https://scikit-learn.org/stable/modules/linear_model.html#logistic-regression\n",
      "  extra_warning_msg=_LOGISTIC_SOLVER_CONVERGENCE_MSG)\n",
      "C:\\Users\\kse02\\AppData\\Local\\Continuum\\anaconda3\\lib\\site-packages\\sklearn\\linear_model\\_logistic.py:940: ConvergenceWarning: lbfgs failed to converge (status=1):\n",
      "STOP: TOTAL NO. of ITERATIONS REACHED LIMIT.\n",
      "\n",
      "Increase the number of iterations (max_iter) or scale the data as shown in:\n",
      "    https://scikit-learn.org/stable/modules/preprocessing.html\n",
      "Please also refer to the documentation for alternative solver options:\n",
      "    https://scikit-learn.org/stable/modules/linear_model.html#logistic-regression\n",
      "  extra_warning_msg=_LOGISTIC_SOLVER_CONVERGENCE_MSG)\n",
      "C:\\Users\\kse02\\AppData\\Local\\Continuum\\anaconda3\\lib\\site-packages\\sklearn\\linear_model\\_logistic.py:940: ConvergenceWarning: lbfgs failed to converge (status=1):\n",
      "STOP: TOTAL NO. of ITERATIONS REACHED LIMIT.\n",
      "\n",
      "Increase the number of iterations (max_iter) or scale the data as shown in:\n",
      "    https://scikit-learn.org/stable/modules/preprocessing.html\n",
      "Please also refer to the documentation for alternative solver options:\n",
      "    https://scikit-learn.org/stable/modules/linear_model.html#logistic-regression\n",
      "  extra_warning_msg=_LOGISTIC_SOLVER_CONVERGENCE_MSG)\n",
      "C:\\Users\\kse02\\AppData\\Local\\Continuum\\anaconda3\\lib\\site-packages\\sklearn\\linear_model\\_logistic.py:940: ConvergenceWarning: lbfgs failed to converge (status=1):\n",
      "STOP: TOTAL NO. of ITERATIONS REACHED LIMIT.\n",
      "\n",
      "Increase the number of iterations (max_iter) or scale the data as shown in:\n",
      "    https://scikit-learn.org/stable/modules/preprocessing.html\n",
      "Please also refer to the documentation for alternative solver options:\n",
      "    https://scikit-learn.org/stable/modules/linear_model.html#logistic-regression\n",
      "  extra_warning_msg=_LOGISTIC_SOLVER_CONVERGENCE_MSG)\n",
      "C:\\Users\\kse02\\AppData\\Local\\Continuum\\anaconda3\\lib\\site-packages\\sklearn\\linear_model\\_logistic.py:940: ConvergenceWarning: lbfgs failed to converge (status=1):\n",
      "STOP: TOTAL NO. of ITERATIONS REACHED LIMIT.\n",
      "\n",
      "Increase the number of iterations (max_iter) or scale the data as shown in:\n",
      "    https://scikit-learn.org/stable/modules/preprocessing.html\n",
      "Please also refer to the documentation for alternative solver options:\n",
      "    https://scikit-learn.org/stable/modules/linear_model.html#logistic-regression\n",
      "  extra_warning_msg=_LOGISTIC_SOLVER_CONVERGENCE_MSG)\n",
      "C:\\Users\\kse02\\AppData\\Local\\Continuum\\anaconda3\\lib\\site-packages\\sklearn\\linear_model\\_logistic.py:940: ConvergenceWarning: lbfgs failed to converge (status=1):\n",
      "STOP: TOTAL NO. of ITERATIONS REACHED LIMIT.\n",
      "\n",
      "Increase the number of iterations (max_iter) or scale the data as shown in:\n",
      "    https://scikit-learn.org/stable/modules/preprocessing.html\n",
      "Please also refer to the documentation for alternative solver options:\n",
      "    https://scikit-learn.org/stable/modules/linear_model.html#logistic-regression\n",
      "  extra_warning_msg=_LOGISTIC_SOLVER_CONVERGENCE_MSG)\n",
      "C:\\Users\\kse02\\AppData\\Local\\Continuum\\anaconda3\\lib\\site-packages\\sklearn\\linear_model\\_logistic.py:940: ConvergenceWarning: lbfgs failed to converge (status=1):\n",
      "STOP: TOTAL NO. of ITERATIONS REACHED LIMIT.\n",
      "\n",
      "Increase the number of iterations (max_iter) or scale the data as shown in:\n",
      "    https://scikit-learn.org/stable/modules/preprocessing.html\n",
      "Please also refer to the documentation for alternative solver options:\n",
      "    https://scikit-learn.org/stable/modules/linear_model.html#logistic-regression\n",
      "  extra_warning_msg=_LOGISTIC_SOLVER_CONVERGENCE_MSG)\n",
      "C:\\Users\\kse02\\AppData\\Local\\Continuum\\anaconda3\\lib\\site-packages\\sklearn\\linear_model\\_logistic.py:940: ConvergenceWarning: lbfgs failed to converge (status=1):\n",
      "STOP: TOTAL NO. of ITERATIONS REACHED LIMIT.\n",
      "\n",
      "Increase the number of iterations (max_iter) or scale the data as shown in:\n",
      "    https://scikit-learn.org/stable/modules/preprocessing.html\n",
      "Please also refer to the documentation for alternative solver options:\n",
      "    https://scikit-learn.org/stable/modules/linear_model.html#logistic-regression\n",
      "  extra_warning_msg=_LOGISTIC_SOLVER_CONVERGENCE_MSG)\n",
      "C:\\Users\\kse02\\AppData\\Local\\Continuum\\anaconda3\\lib\\site-packages\\sklearn\\linear_model\\_logistic.py:940: ConvergenceWarning: lbfgs failed to converge (status=1):\n",
      "STOP: TOTAL NO. of ITERATIONS REACHED LIMIT.\n",
      "\n",
      "Increase the number of iterations (max_iter) or scale the data as shown in:\n",
      "    https://scikit-learn.org/stable/modules/preprocessing.html\n",
      "Please also refer to the documentation for alternative solver options:\n",
      "    https://scikit-learn.org/stable/modules/linear_model.html#logistic-regression\n",
      "  extra_warning_msg=_LOGISTIC_SOLVER_CONVERGENCE_MSG)\n",
      "C:\\Users\\kse02\\AppData\\Local\\Continuum\\anaconda3\\lib\\site-packages\\sklearn\\linear_model\\_logistic.py:940: ConvergenceWarning: lbfgs failed to converge (status=1):\n",
      "STOP: TOTAL NO. of ITERATIONS REACHED LIMIT.\n",
      "\n",
      "Increase the number of iterations (max_iter) or scale the data as shown in:\n",
      "    https://scikit-learn.org/stable/modules/preprocessing.html\n",
      "Please also refer to the documentation for alternative solver options:\n",
      "    https://scikit-learn.org/stable/modules/linear_model.html#logistic-regression\n",
      "  extra_warning_msg=_LOGISTIC_SOLVER_CONVERGENCE_MSG)\n",
      "C:\\Users\\kse02\\AppData\\Local\\Continuum\\anaconda3\\lib\\site-packages\\sklearn\\linear_model\\_logistic.py:940: ConvergenceWarning: lbfgs failed to converge (status=1):\n",
      "STOP: TOTAL NO. of ITERATIONS REACHED LIMIT.\n",
      "\n",
      "Increase the number of iterations (max_iter) or scale the data as shown in:\n",
      "    https://scikit-learn.org/stable/modules/preprocessing.html\n",
      "Please also refer to the documentation for alternative solver options:\n",
      "    https://scikit-learn.org/stable/modules/linear_model.html#logistic-regression\n",
      "  extra_warning_msg=_LOGISTIC_SOLVER_CONVERGENCE_MSG)\n",
      "C:\\Users\\kse02\\AppData\\Local\\Continuum\\anaconda3\\lib\\site-packages\\sklearn\\linear_model\\_logistic.py:940: ConvergenceWarning: lbfgs failed to converge (status=1):\n",
      "STOP: TOTAL NO. of ITERATIONS REACHED LIMIT.\n",
      "\n",
      "Increase the number of iterations (max_iter) or scale the data as shown in:\n",
      "    https://scikit-learn.org/stable/modules/preprocessing.html\n",
      "Please also refer to the documentation for alternative solver options:\n",
      "    https://scikit-learn.org/stable/modules/linear_model.html#logistic-regression\n",
      "  extra_warning_msg=_LOGISTIC_SOLVER_CONVERGENCE_MSG)\n",
      "C:\\Users\\kse02\\AppData\\Local\\Continuum\\anaconda3\\lib\\site-packages\\sklearn\\linear_model\\_logistic.py:940: ConvergenceWarning: lbfgs failed to converge (status=1):\n",
      "STOP: TOTAL NO. of ITERATIONS REACHED LIMIT.\n",
      "\n",
      "Increase the number of iterations (max_iter) or scale the data as shown in:\n",
      "    https://scikit-learn.org/stable/modules/preprocessing.html\n",
      "Please also refer to the documentation for alternative solver options:\n",
      "    https://scikit-learn.org/stable/modules/linear_model.html#logistic-regression\n",
      "  extra_warning_msg=_LOGISTIC_SOLVER_CONVERGENCE_MSG)\n",
      "C:\\Users\\kse02\\AppData\\Local\\Continuum\\anaconda3\\lib\\site-packages\\sklearn\\linear_model\\_logistic.py:940: ConvergenceWarning: lbfgs failed to converge (status=1):\n",
      "STOP: TOTAL NO. of ITERATIONS REACHED LIMIT.\n",
      "\n",
      "Increase the number of iterations (max_iter) or scale the data as shown in:\n",
      "    https://scikit-learn.org/stable/modules/preprocessing.html\n",
      "Please also refer to the documentation for alternative solver options:\n",
      "    https://scikit-learn.org/stable/modules/linear_model.html#logistic-regression\n",
      "  extra_warning_msg=_LOGISTIC_SOLVER_CONVERGENCE_MSG)\n",
      "C:\\Users\\kse02\\AppData\\Local\\Continuum\\anaconda3\\lib\\site-packages\\sklearn\\linear_model\\_logistic.py:940: ConvergenceWarning: lbfgs failed to converge (status=1):\n",
      "STOP: TOTAL NO. of ITERATIONS REACHED LIMIT.\n",
      "\n",
      "Increase the number of iterations (max_iter) or scale the data as shown in:\n",
      "    https://scikit-learn.org/stable/modules/preprocessing.html\n",
      "Please also refer to the documentation for alternative solver options:\n",
      "    https://scikit-learn.org/stable/modules/linear_model.html#logistic-regression\n",
      "  extra_warning_msg=_LOGISTIC_SOLVER_CONVERGENCE_MSG)\n",
      "C:\\Users\\kse02\\AppData\\Local\\Continuum\\anaconda3\\lib\\site-packages\\sklearn\\linear_model\\_logistic.py:940: ConvergenceWarning: lbfgs failed to converge (status=1):\n",
      "STOP: TOTAL NO. of ITERATIONS REACHED LIMIT.\n",
      "\n",
      "Increase the number of iterations (max_iter) or scale the data as shown in:\n",
      "    https://scikit-learn.org/stable/modules/preprocessing.html\n",
      "Please also refer to the documentation for alternative solver options:\n",
      "    https://scikit-learn.org/stable/modules/linear_model.html#logistic-regression\n",
      "  extra_warning_msg=_LOGISTIC_SOLVER_CONVERGENCE_MSG)\n",
      "C:\\Users\\kse02\\AppData\\Local\\Continuum\\anaconda3\\lib\\site-packages\\sklearn\\linear_model\\_logistic.py:940: ConvergenceWarning: lbfgs failed to converge (status=1):\n",
      "STOP: TOTAL NO. of ITERATIONS REACHED LIMIT.\n",
      "\n",
      "Increase the number of iterations (max_iter) or scale the data as shown in:\n",
      "    https://scikit-learn.org/stable/modules/preprocessing.html\n",
      "Please also refer to the documentation for alternative solver options:\n",
      "    https://scikit-learn.org/stable/modules/linear_model.html#logistic-regression\n",
      "  extra_warning_msg=_LOGISTIC_SOLVER_CONVERGENCE_MSG)\n",
      "C:\\Users\\kse02\\AppData\\Local\\Continuum\\anaconda3\\lib\\site-packages\\sklearn\\linear_model\\_logistic.py:940: ConvergenceWarning: lbfgs failed to converge (status=1):\n",
      "STOP: TOTAL NO. of ITERATIONS REACHED LIMIT.\n",
      "\n",
      "Increase the number of iterations (max_iter) or scale the data as shown in:\n",
      "    https://scikit-learn.org/stable/modules/preprocessing.html\n",
      "Please also refer to the documentation for alternative solver options:\n",
      "    https://scikit-learn.org/stable/modules/linear_model.html#logistic-regression\n",
      "  extra_warning_msg=_LOGISTIC_SOLVER_CONVERGENCE_MSG)\n",
      "C:\\Users\\kse02\\AppData\\Local\\Continuum\\anaconda3\\lib\\site-packages\\sklearn\\linear_model\\_logistic.py:940: ConvergenceWarning: lbfgs failed to converge (status=1):\n",
      "STOP: TOTAL NO. of ITERATIONS REACHED LIMIT.\n",
      "\n",
      "Increase the number of iterations (max_iter) or scale the data as shown in:\n",
      "    https://scikit-learn.org/stable/modules/preprocessing.html\n",
      "Please also refer to the documentation for alternative solver options:\n",
      "    https://scikit-learn.org/stable/modules/linear_model.html#logistic-regression\n",
      "  extra_warning_msg=_LOGISTIC_SOLVER_CONVERGENCE_MSG)\n",
      "C:\\Users\\kse02\\AppData\\Local\\Continuum\\anaconda3\\lib\\site-packages\\sklearn\\linear_model\\_logistic.py:940: ConvergenceWarning: lbfgs failed to converge (status=1):\n",
      "STOP: TOTAL NO. of ITERATIONS REACHED LIMIT.\n",
      "\n",
      "Increase the number of iterations (max_iter) or scale the data as shown in:\n",
      "    https://scikit-learn.org/stable/modules/preprocessing.html\n",
      "Please also refer to the documentation for alternative solver options:\n",
      "    https://scikit-learn.org/stable/modules/linear_model.html#logistic-regression\n",
      "  extra_warning_msg=_LOGISTIC_SOLVER_CONVERGENCE_MSG)\n",
      "C:\\Users\\kse02\\AppData\\Local\\Continuum\\anaconda3\\lib\\site-packages\\sklearn\\linear_model\\_logistic.py:940: ConvergenceWarning: lbfgs failed to converge (status=1):\n",
      "STOP: TOTAL NO. of ITERATIONS REACHED LIMIT.\n",
      "\n",
      "Increase the number of iterations (max_iter) or scale the data as shown in:\n",
      "    https://scikit-learn.org/stable/modules/preprocessing.html\n",
      "Please also refer to the documentation for alternative solver options:\n",
      "    https://scikit-learn.org/stable/modules/linear_model.html#logistic-regression\n",
      "  extra_warning_msg=_LOGISTIC_SOLVER_CONVERGENCE_MSG)\n",
      "C:\\Users\\kse02\\AppData\\Local\\Continuum\\anaconda3\\lib\\site-packages\\sklearn\\linear_model\\_logistic.py:940: ConvergenceWarning: lbfgs failed to converge (status=1):\n",
      "STOP: TOTAL NO. of ITERATIONS REACHED LIMIT.\n",
      "\n",
      "Increase the number of iterations (max_iter) or scale the data as shown in:\n",
      "    https://scikit-learn.org/stable/modules/preprocessing.html\n",
      "Please also refer to the documentation for alternative solver options:\n",
      "    https://scikit-learn.org/stable/modules/linear_model.html#logistic-regression\n",
      "  extra_warning_msg=_LOGISTIC_SOLVER_CONVERGENCE_MSG)\n"
     ]
    },
    {
     "name": "stderr",
     "output_type": "stream",
     "text": [
      "C:\\Users\\kse02\\AppData\\Local\\Continuum\\anaconda3\\lib\\site-packages\\sklearn\\linear_model\\_logistic.py:940: ConvergenceWarning: lbfgs failed to converge (status=1):\n",
      "STOP: TOTAL NO. of ITERATIONS REACHED LIMIT.\n",
      "\n",
      "Increase the number of iterations (max_iter) or scale the data as shown in:\n",
      "    https://scikit-learn.org/stable/modules/preprocessing.html\n",
      "Please also refer to the documentation for alternative solver options:\n",
      "    https://scikit-learn.org/stable/modules/linear_model.html#logistic-regression\n",
      "  extra_warning_msg=_LOGISTIC_SOLVER_CONVERGENCE_MSG)\n",
      "C:\\Users\\kse02\\AppData\\Local\\Continuum\\anaconda3\\lib\\site-packages\\sklearn\\linear_model\\_logistic.py:940: ConvergenceWarning: lbfgs failed to converge (status=1):\n",
      "STOP: TOTAL NO. of ITERATIONS REACHED LIMIT.\n",
      "\n",
      "Increase the number of iterations (max_iter) or scale the data as shown in:\n",
      "    https://scikit-learn.org/stable/modules/preprocessing.html\n",
      "Please also refer to the documentation for alternative solver options:\n",
      "    https://scikit-learn.org/stable/modules/linear_model.html#logistic-regression\n",
      "  extra_warning_msg=_LOGISTIC_SOLVER_CONVERGENCE_MSG)\n",
      "C:\\Users\\kse02\\AppData\\Local\\Continuum\\anaconda3\\lib\\site-packages\\sklearn\\linear_model\\_logistic.py:940: ConvergenceWarning: lbfgs failed to converge (status=1):\n",
      "STOP: TOTAL NO. of ITERATIONS REACHED LIMIT.\n",
      "\n",
      "Increase the number of iterations (max_iter) or scale the data as shown in:\n",
      "    https://scikit-learn.org/stable/modules/preprocessing.html\n",
      "Please also refer to the documentation for alternative solver options:\n",
      "    https://scikit-learn.org/stable/modules/linear_model.html#logistic-regression\n",
      "  extra_warning_msg=_LOGISTIC_SOLVER_CONVERGENCE_MSG)\n",
      "C:\\Users\\kse02\\AppData\\Local\\Continuum\\anaconda3\\lib\\site-packages\\sklearn\\linear_model\\_logistic.py:940: ConvergenceWarning: lbfgs failed to converge (status=1):\n",
      "STOP: TOTAL NO. of ITERATIONS REACHED LIMIT.\n",
      "\n",
      "Increase the number of iterations (max_iter) or scale the data as shown in:\n",
      "    https://scikit-learn.org/stable/modules/preprocessing.html\n",
      "Please also refer to the documentation for alternative solver options:\n",
      "    https://scikit-learn.org/stable/modules/linear_model.html#logistic-regression\n",
      "  extra_warning_msg=_LOGISTIC_SOLVER_CONVERGENCE_MSG)\n",
      "C:\\Users\\kse02\\AppData\\Local\\Continuum\\anaconda3\\lib\\site-packages\\sklearn\\linear_model\\_logistic.py:940: ConvergenceWarning: lbfgs failed to converge (status=1):\n",
      "STOP: TOTAL NO. of ITERATIONS REACHED LIMIT.\n",
      "\n",
      "Increase the number of iterations (max_iter) or scale the data as shown in:\n",
      "    https://scikit-learn.org/stable/modules/preprocessing.html\n",
      "Please also refer to the documentation for alternative solver options:\n",
      "    https://scikit-learn.org/stable/modules/linear_model.html#logistic-regression\n",
      "  extra_warning_msg=_LOGISTIC_SOLVER_CONVERGENCE_MSG)\n",
      "C:\\Users\\kse02\\AppData\\Local\\Continuum\\anaconda3\\lib\\site-packages\\sklearn\\linear_model\\_logistic.py:940: ConvergenceWarning: lbfgs failed to converge (status=1):\n",
      "STOP: TOTAL NO. of ITERATIONS REACHED LIMIT.\n",
      "\n",
      "Increase the number of iterations (max_iter) or scale the data as shown in:\n",
      "    https://scikit-learn.org/stable/modules/preprocessing.html\n",
      "Please also refer to the documentation for alternative solver options:\n",
      "    https://scikit-learn.org/stable/modules/linear_model.html#logistic-regression\n",
      "  extra_warning_msg=_LOGISTIC_SOLVER_CONVERGENCE_MSG)\n",
      "C:\\Users\\kse02\\AppData\\Local\\Continuum\\anaconda3\\lib\\site-packages\\sklearn\\linear_model\\_logistic.py:940: ConvergenceWarning: lbfgs failed to converge (status=1):\n",
      "STOP: TOTAL NO. of ITERATIONS REACHED LIMIT.\n",
      "\n",
      "Increase the number of iterations (max_iter) or scale the data as shown in:\n",
      "    https://scikit-learn.org/stable/modules/preprocessing.html\n",
      "Please also refer to the documentation for alternative solver options:\n",
      "    https://scikit-learn.org/stable/modules/linear_model.html#logistic-regression\n",
      "  extra_warning_msg=_LOGISTIC_SOLVER_CONVERGENCE_MSG)\n",
      "C:\\Users\\kse02\\AppData\\Local\\Continuum\\anaconda3\\lib\\site-packages\\sklearn\\linear_model\\_logistic.py:940: ConvergenceWarning: lbfgs failed to converge (status=1):\n",
      "STOP: TOTAL NO. of ITERATIONS REACHED LIMIT.\n",
      "\n",
      "Increase the number of iterations (max_iter) or scale the data as shown in:\n",
      "    https://scikit-learn.org/stable/modules/preprocessing.html\n",
      "Please also refer to the documentation for alternative solver options:\n",
      "    https://scikit-learn.org/stable/modules/linear_model.html#logistic-regression\n",
      "  extra_warning_msg=_LOGISTIC_SOLVER_CONVERGENCE_MSG)\n",
      "C:\\Users\\kse02\\AppData\\Local\\Continuum\\anaconda3\\lib\\site-packages\\sklearn\\linear_model\\_logistic.py:940: ConvergenceWarning: lbfgs failed to converge (status=1):\n",
      "STOP: TOTAL NO. of ITERATIONS REACHED LIMIT.\n",
      "\n",
      "Increase the number of iterations (max_iter) or scale the data as shown in:\n",
      "    https://scikit-learn.org/stable/modules/preprocessing.html\n",
      "Please also refer to the documentation for alternative solver options:\n",
      "    https://scikit-learn.org/stable/modules/linear_model.html#logistic-regression\n",
      "  extra_warning_msg=_LOGISTIC_SOLVER_CONVERGENCE_MSG)\n",
      "C:\\Users\\kse02\\AppData\\Local\\Continuum\\anaconda3\\lib\\site-packages\\sklearn\\linear_model\\_logistic.py:940: ConvergenceWarning: lbfgs failed to converge (status=1):\n",
      "STOP: TOTAL NO. of ITERATIONS REACHED LIMIT.\n",
      "\n",
      "Increase the number of iterations (max_iter) or scale the data as shown in:\n",
      "    https://scikit-learn.org/stable/modules/preprocessing.html\n",
      "Please also refer to the documentation for alternative solver options:\n",
      "    https://scikit-learn.org/stable/modules/linear_model.html#logistic-regression\n",
      "  extra_warning_msg=_LOGISTIC_SOLVER_CONVERGENCE_MSG)\n",
      "C:\\Users\\kse02\\AppData\\Local\\Continuum\\anaconda3\\lib\\site-packages\\sklearn\\linear_model\\_logistic.py:940: ConvergenceWarning: lbfgs failed to converge (status=1):\n",
      "STOP: TOTAL NO. of ITERATIONS REACHED LIMIT.\n",
      "\n",
      "Increase the number of iterations (max_iter) or scale the data as shown in:\n",
      "    https://scikit-learn.org/stable/modules/preprocessing.html\n",
      "Please also refer to the documentation for alternative solver options:\n",
      "    https://scikit-learn.org/stable/modules/linear_model.html#logistic-regression\n",
      "  extra_warning_msg=_LOGISTIC_SOLVER_CONVERGENCE_MSG)\n",
      "C:\\Users\\kse02\\AppData\\Local\\Continuum\\anaconda3\\lib\\site-packages\\sklearn\\linear_model\\_logistic.py:940: ConvergenceWarning: lbfgs failed to converge (status=1):\n",
      "STOP: TOTAL NO. of ITERATIONS REACHED LIMIT.\n",
      "\n",
      "Increase the number of iterations (max_iter) or scale the data as shown in:\n",
      "    https://scikit-learn.org/stable/modules/preprocessing.html\n",
      "Please also refer to the documentation for alternative solver options:\n",
      "    https://scikit-learn.org/stable/modules/linear_model.html#logistic-regression\n",
      "  extra_warning_msg=_LOGISTIC_SOLVER_CONVERGENCE_MSG)\n",
      "C:\\Users\\kse02\\AppData\\Local\\Continuum\\anaconda3\\lib\\site-packages\\sklearn\\linear_model\\_logistic.py:940: ConvergenceWarning: lbfgs failed to converge (status=1):\n",
      "STOP: TOTAL NO. of ITERATIONS REACHED LIMIT.\n",
      "\n",
      "Increase the number of iterations (max_iter) or scale the data as shown in:\n",
      "    https://scikit-learn.org/stable/modules/preprocessing.html\n",
      "Please also refer to the documentation for alternative solver options:\n",
      "    https://scikit-learn.org/stable/modules/linear_model.html#logistic-regression\n",
      "  extra_warning_msg=_LOGISTIC_SOLVER_CONVERGENCE_MSG)\n",
      "C:\\Users\\kse02\\AppData\\Local\\Continuum\\anaconda3\\lib\\site-packages\\sklearn\\linear_model\\_logistic.py:940: ConvergenceWarning: lbfgs failed to converge (status=1):\n",
      "STOP: TOTAL NO. of ITERATIONS REACHED LIMIT.\n",
      "\n",
      "Increase the number of iterations (max_iter) or scale the data as shown in:\n",
      "    https://scikit-learn.org/stable/modules/preprocessing.html\n",
      "Please also refer to the documentation for alternative solver options:\n",
      "    https://scikit-learn.org/stable/modules/linear_model.html#logistic-regression\n",
      "  extra_warning_msg=_LOGISTIC_SOLVER_CONVERGENCE_MSG)\n",
      "C:\\Users\\kse02\\AppData\\Local\\Continuum\\anaconda3\\lib\\site-packages\\sklearn\\linear_model\\_logistic.py:940: ConvergenceWarning: lbfgs failed to converge (status=1):\n",
      "STOP: TOTAL NO. of ITERATIONS REACHED LIMIT.\n",
      "\n",
      "Increase the number of iterations (max_iter) or scale the data as shown in:\n",
      "    https://scikit-learn.org/stable/modules/preprocessing.html\n",
      "Please also refer to the documentation for alternative solver options:\n",
      "    https://scikit-learn.org/stable/modules/linear_model.html#logistic-regression\n",
      "  extra_warning_msg=_LOGISTIC_SOLVER_CONVERGENCE_MSG)\n",
      "C:\\Users\\kse02\\AppData\\Local\\Continuum\\anaconda3\\lib\\site-packages\\sklearn\\linear_model\\_logistic.py:940: ConvergenceWarning: lbfgs failed to converge (status=1):\n",
      "STOP: TOTAL NO. of ITERATIONS REACHED LIMIT.\n",
      "\n",
      "Increase the number of iterations (max_iter) or scale the data as shown in:\n",
      "    https://scikit-learn.org/stable/modules/preprocessing.html\n",
      "Please also refer to the documentation for alternative solver options:\n",
      "    https://scikit-learn.org/stable/modules/linear_model.html#logistic-regression\n",
      "  extra_warning_msg=_LOGISTIC_SOLVER_CONVERGENCE_MSG)\n"
     ]
    },
    {
     "name": "stderr",
     "output_type": "stream",
     "text": [
      "C:\\Users\\kse02\\AppData\\Local\\Continuum\\anaconda3\\lib\\site-packages\\sklearn\\linear_model\\_logistic.py:940: ConvergenceWarning: lbfgs failed to converge (status=1):\n",
      "STOP: TOTAL NO. of ITERATIONS REACHED LIMIT.\n",
      "\n",
      "Increase the number of iterations (max_iter) or scale the data as shown in:\n",
      "    https://scikit-learn.org/stable/modules/preprocessing.html\n",
      "Please also refer to the documentation for alternative solver options:\n",
      "    https://scikit-learn.org/stable/modules/linear_model.html#logistic-regression\n",
      "  extra_warning_msg=_LOGISTIC_SOLVER_CONVERGENCE_MSG)\n",
      "C:\\Users\\kse02\\AppData\\Local\\Continuum\\anaconda3\\lib\\site-packages\\sklearn\\linear_model\\_logistic.py:940: ConvergenceWarning: lbfgs failed to converge (status=1):\n",
      "STOP: TOTAL NO. of ITERATIONS REACHED LIMIT.\n",
      "\n",
      "Increase the number of iterations (max_iter) or scale the data as shown in:\n",
      "    https://scikit-learn.org/stable/modules/preprocessing.html\n",
      "Please also refer to the documentation for alternative solver options:\n",
      "    https://scikit-learn.org/stable/modules/linear_model.html#logistic-regression\n",
      "  extra_warning_msg=_LOGISTIC_SOLVER_CONVERGENCE_MSG)\n",
      "C:\\Users\\kse02\\AppData\\Local\\Continuum\\anaconda3\\lib\\site-packages\\sklearn\\linear_model\\_logistic.py:940: ConvergenceWarning: lbfgs failed to converge (status=1):\n",
      "STOP: TOTAL NO. of ITERATIONS REACHED LIMIT.\n",
      "\n",
      "Increase the number of iterations (max_iter) or scale the data as shown in:\n",
      "    https://scikit-learn.org/stable/modules/preprocessing.html\n",
      "Please also refer to the documentation for alternative solver options:\n",
      "    https://scikit-learn.org/stable/modules/linear_model.html#logistic-regression\n",
      "  extra_warning_msg=_LOGISTIC_SOLVER_CONVERGENCE_MSG)\n",
      "C:\\Users\\kse02\\AppData\\Local\\Continuum\\anaconda3\\lib\\site-packages\\sklearn\\linear_model\\_logistic.py:940: ConvergenceWarning: lbfgs failed to converge (status=1):\n",
      "STOP: TOTAL NO. of ITERATIONS REACHED LIMIT.\n",
      "\n",
      "Increase the number of iterations (max_iter) or scale the data as shown in:\n",
      "    https://scikit-learn.org/stable/modules/preprocessing.html\n",
      "Please also refer to the documentation for alternative solver options:\n",
      "    https://scikit-learn.org/stable/modules/linear_model.html#logistic-regression\n",
      "  extra_warning_msg=_LOGISTIC_SOLVER_CONVERGENCE_MSG)\n",
      "C:\\Users\\kse02\\AppData\\Local\\Continuum\\anaconda3\\lib\\site-packages\\sklearn\\linear_model\\_logistic.py:940: ConvergenceWarning: lbfgs failed to converge (status=1):\n",
      "STOP: TOTAL NO. of ITERATIONS REACHED LIMIT.\n",
      "\n",
      "Increase the number of iterations (max_iter) or scale the data as shown in:\n",
      "    https://scikit-learn.org/stable/modules/preprocessing.html\n",
      "Please also refer to the documentation for alternative solver options:\n",
      "    https://scikit-learn.org/stable/modules/linear_model.html#logistic-regression\n",
      "  extra_warning_msg=_LOGISTIC_SOLVER_CONVERGENCE_MSG)\n",
      "C:\\Users\\kse02\\AppData\\Local\\Continuum\\anaconda3\\lib\\site-packages\\sklearn\\linear_model\\_logistic.py:940: ConvergenceWarning: lbfgs failed to converge (status=1):\n",
      "STOP: TOTAL NO. of ITERATIONS REACHED LIMIT.\n",
      "\n",
      "Increase the number of iterations (max_iter) or scale the data as shown in:\n",
      "    https://scikit-learn.org/stable/modules/preprocessing.html\n",
      "Please also refer to the documentation for alternative solver options:\n",
      "    https://scikit-learn.org/stable/modules/linear_model.html#logistic-regression\n",
      "  extra_warning_msg=_LOGISTIC_SOLVER_CONVERGENCE_MSG)\n",
      "C:\\Users\\kse02\\AppData\\Local\\Continuum\\anaconda3\\lib\\site-packages\\sklearn\\linear_model\\_logistic.py:940: ConvergenceWarning: lbfgs failed to converge (status=1):\n",
      "STOP: TOTAL NO. of ITERATIONS REACHED LIMIT.\n",
      "\n",
      "Increase the number of iterations (max_iter) or scale the data as shown in:\n",
      "    https://scikit-learn.org/stable/modules/preprocessing.html\n",
      "Please also refer to the documentation for alternative solver options:\n",
      "    https://scikit-learn.org/stable/modules/linear_model.html#logistic-regression\n",
      "  extra_warning_msg=_LOGISTIC_SOLVER_CONVERGENCE_MSG)\n",
      "C:\\Users\\kse02\\AppData\\Local\\Continuum\\anaconda3\\lib\\site-packages\\sklearn\\linear_model\\_logistic.py:940: ConvergenceWarning: lbfgs failed to converge (status=1):\n",
      "STOP: TOTAL NO. of ITERATIONS REACHED LIMIT.\n",
      "\n",
      "Increase the number of iterations (max_iter) or scale the data as shown in:\n",
      "    https://scikit-learn.org/stable/modules/preprocessing.html\n",
      "Please also refer to the documentation for alternative solver options:\n",
      "    https://scikit-learn.org/stable/modules/linear_model.html#logistic-regression\n",
      "  extra_warning_msg=_LOGISTIC_SOLVER_CONVERGENCE_MSG)\n",
      "C:\\Users\\kse02\\AppData\\Local\\Continuum\\anaconda3\\lib\\site-packages\\sklearn\\linear_model\\_logistic.py:940: ConvergenceWarning: lbfgs failed to converge (status=1):\n",
      "STOP: TOTAL NO. of ITERATIONS REACHED LIMIT.\n",
      "\n",
      "Increase the number of iterations (max_iter) or scale the data as shown in:\n",
      "    https://scikit-learn.org/stable/modules/preprocessing.html\n",
      "Please also refer to the documentation for alternative solver options:\n",
      "    https://scikit-learn.org/stable/modules/linear_model.html#logistic-regression\n",
      "  extra_warning_msg=_LOGISTIC_SOLVER_CONVERGENCE_MSG)\n",
      "C:\\Users\\kse02\\AppData\\Local\\Continuum\\anaconda3\\lib\\site-packages\\sklearn\\linear_model\\_logistic.py:940: ConvergenceWarning: lbfgs failed to converge (status=1):\n",
      "STOP: TOTAL NO. of ITERATIONS REACHED LIMIT.\n",
      "\n",
      "Increase the number of iterations (max_iter) or scale the data as shown in:\n",
      "    https://scikit-learn.org/stable/modules/preprocessing.html\n",
      "Please also refer to the documentation for alternative solver options:\n",
      "    https://scikit-learn.org/stable/modules/linear_model.html#logistic-regression\n",
      "  extra_warning_msg=_LOGISTIC_SOLVER_CONVERGENCE_MSG)\n",
      "C:\\Users\\kse02\\AppData\\Local\\Continuum\\anaconda3\\lib\\site-packages\\sklearn\\linear_model\\_logistic.py:940: ConvergenceWarning: lbfgs failed to converge (status=1):\n",
      "STOP: TOTAL NO. of ITERATIONS REACHED LIMIT.\n",
      "\n",
      "Increase the number of iterations (max_iter) or scale the data as shown in:\n",
      "    https://scikit-learn.org/stable/modules/preprocessing.html\n",
      "Please also refer to the documentation for alternative solver options:\n",
      "    https://scikit-learn.org/stable/modules/linear_model.html#logistic-regression\n",
      "  extra_warning_msg=_LOGISTIC_SOLVER_CONVERGENCE_MSG)\n",
      "C:\\Users\\kse02\\AppData\\Local\\Continuum\\anaconda3\\lib\\site-packages\\sklearn\\linear_model\\_logistic.py:940: ConvergenceWarning: lbfgs failed to converge (status=1):\n",
      "STOP: TOTAL NO. of ITERATIONS REACHED LIMIT.\n",
      "\n",
      "Increase the number of iterations (max_iter) or scale the data as shown in:\n",
      "    https://scikit-learn.org/stable/modules/preprocessing.html\n",
      "Please also refer to the documentation for alternative solver options:\n",
      "    https://scikit-learn.org/stable/modules/linear_model.html#logistic-regression\n",
      "  extra_warning_msg=_LOGISTIC_SOLVER_CONVERGENCE_MSG)\n",
      "C:\\Users\\kse02\\AppData\\Local\\Continuum\\anaconda3\\lib\\site-packages\\sklearn\\linear_model\\_logistic.py:940: ConvergenceWarning: lbfgs failed to converge (status=1):\n",
      "STOP: TOTAL NO. of ITERATIONS REACHED LIMIT.\n",
      "\n",
      "Increase the number of iterations (max_iter) or scale the data as shown in:\n",
      "    https://scikit-learn.org/stable/modules/preprocessing.html\n",
      "Please also refer to the documentation for alternative solver options:\n",
      "    https://scikit-learn.org/stable/modules/linear_model.html#logistic-regression\n",
      "  extra_warning_msg=_LOGISTIC_SOLVER_CONVERGENCE_MSG)\n",
      "C:\\Users\\kse02\\AppData\\Local\\Continuum\\anaconda3\\lib\\site-packages\\sklearn\\linear_model\\_logistic.py:940: ConvergenceWarning: lbfgs failed to converge (status=1):\n",
      "STOP: TOTAL NO. of ITERATIONS REACHED LIMIT.\n",
      "\n",
      "Increase the number of iterations (max_iter) or scale the data as shown in:\n",
      "    https://scikit-learn.org/stable/modules/preprocessing.html\n",
      "Please also refer to the documentation for alternative solver options:\n",
      "    https://scikit-learn.org/stable/modules/linear_model.html#logistic-regression\n",
      "  extra_warning_msg=_LOGISTIC_SOLVER_CONVERGENCE_MSG)\n",
      "C:\\Users\\kse02\\AppData\\Local\\Continuum\\anaconda3\\lib\\site-packages\\sklearn\\linear_model\\_logistic.py:940: ConvergenceWarning: lbfgs failed to converge (status=1):\n",
      "STOP: TOTAL NO. of ITERATIONS REACHED LIMIT.\n",
      "\n",
      "Increase the number of iterations (max_iter) or scale the data as shown in:\n",
      "    https://scikit-learn.org/stable/modules/preprocessing.html\n",
      "Please also refer to the documentation for alternative solver options:\n",
      "    https://scikit-learn.org/stable/modules/linear_model.html#logistic-regression\n",
      "  extra_warning_msg=_LOGISTIC_SOLVER_CONVERGENCE_MSG)\n",
      "C:\\Users\\kse02\\AppData\\Local\\Continuum\\anaconda3\\lib\\site-packages\\sklearn\\linear_model\\_logistic.py:940: ConvergenceWarning: lbfgs failed to converge (status=1):\n",
      "STOP: TOTAL NO. of ITERATIONS REACHED LIMIT.\n",
      "\n",
      "Increase the number of iterations (max_iter) or scale the data as shown in:\n",
      "    https://scikit-learn.org/stable/modules/preprocessing.html\n",
      "Please also refer to the documentation for alternative solver options:\n",
      "    https://scikit-learn.org/stable/modules/linear_model.html#logistic-regression\n",
      "  extra_warning_msg=_LOGISTIC_SOLVER_CONVERGENCE_MSG)\n",
      "C:\\Users\\kse02\\AppData\\Local\\Continuum\\anaconda3\\lib\\site-packages\\sklearn\\linear_model\\_logistic.py:940: ConvergenceWarning: lbfgs failed to converge (status=1):\n",
      "STOP: TOTAL NO. of ITERATIONS REACHED LIMIT.\n",
      "\n",
      "Increase the number of iterations (max_iter) or scale the data as shown in:\n",
      "    https://scikit-learn.org/stable/modules/preprocessing.html\n",
      "Please also refer to the documentation for alternative solver options:\n",
      "    https://scikit-learn.org/stable/modules/linear_model.html#logistic-regression\n",
      "  extra_warning_msg=_LOGISTIC_SOLVER_CONVERGENCE_MSG)\n",
      "C:\\Users\\kse02\\AppData\\Local\\Continuum\\anaconda3\\lib\\site-packages\\sklearn\\linear_model\\_logistic.py:940: ConvergenceWarning: lbfgs failed to converge (status=1):\n",
      "STOP: TOTAL NO. of ITERATIONS REACHED LIMIT.\n",
      "\n",
      "Increase the number of iterations (max_iter) or scale the data as shown in:\n",
      "    https://scikit-learn.org/stable/modules/preprocessing.html\n",
      "Please also refer to the documentation for alternative solver options:\n",
      "    https://scikit-learn.org/stable/modules/linear_model.html#logistic-regression\n",
      "  extra_warning_msg=_LOGISTIC_SOLVER_CONVERGENCE_MSG)\n",
      "C:\\Users\\kse02\\AppData\\Local\\Continuum\\anaconda3\\lib\\site-packages\\sklearn\\linear_model\\_logistic.py:940: ConvergenceWarning: lbfgs failed to converge (status=1):\n",
      "STOP: TOTAL NO. of ITERATIONS REACHED LIMIT.\n",
      "\n",
      "Increase the number of iterations (max_iter) or scale the data as shown in:\n",
      "    https://scikit-learn.org/stable/modules/preprocessing.html\n",
      "Please also refer to the documentation for alternative solver options:\n",
      "    https://scikit-learn.org/stable/modules/linear_model.html#logistic-regression\n",
      "  extra_warning_msg=_LOGISTIC_SOLVER_CONVERGENCE_MSG)\n"
     ]
    },
    {
     "name": "stderr",
     "output_type": "stream",
     "text": [
      "C:\\Users\\kse02\\AppData\\Local\\Continuum\\anaconda3\\lib\\site-packages\\sklearn\\linear_model\\_logistic.py:940: ConvergenceWarning: lbfgs failed to converge (status=1):\n",
      "STOP: TOTAL NO. of ITERATIONS REACHED LIMIT.\n",
      "\n",
      "Increase the number of iterations (max_iter) or scale the data as shown in:\n",
      "    https://scikit-learn.org/stable/modules/preprocessing.html\n",
      "Please also refer to the documentation for alternative solver options:\n",
      "    https://scikit-learn.org/stable/modules/linear_model.html#logistic-regression\n",
      "  extra_warning_msg=_LOGISTIC_SOLVER_CONVERGENCE_MSG)\n",
      "C:\\Users\\kse02\\AppData\\Local\\Continuum\\anaconda3\\lib\\site-packages\\sklearn\\linear_model\\_logistic.py:940: ConvergenceWarning: lbfgs failed to converge (status=1):\n",
      "STOP: TOTAL NO. of ITERATIONS REACHED LIMIT.\n",
      "\n",
      "Increase the number of iterations (max_iter) or scale the data as shown in:\n",
      "    https://scikit-learn.org/stable/modules/preprocessing.html\n",
      "Please also refer to the documentation for alternative solver options:\n",
      "    https://scikit-learn.org/stable/modules/linear_model.html#logistic-regression\n",
      "  extra_warning_msg=_LOGISTIC_SOLVER_CONVERGENCE_MSG)\n",
      "C:\\Users\\kse02\\AppData\\Local\\Continuum\\anaconda3\\lib\\site-packages\\sklearn\\linear_model\\_logistic.py:940: ConvergenceWarning: lbfgs failed to converge (status=1):\n",
      "STOP: TOTAL NO. of ITERATIONS REACHED LIMIT.\n",
      "\n",
      "Increase the number of iterations (max_iter) or scale the data as shown in:\n",
      "    https://scikit-learn.org/stable/modules/preprocessing.html\n",
      "Please also refer to the documentation for alternative solver options:\n",
      "    https://scikit-learn.org/stable/modules/linear_model.html#logistic-regression\n",
      "  extra_warning_msg=_LOGISTIC_SOLVER_CONVERGENCE_MSG)\n",
      "C:\\Users\\kse02\\AppData\\Local\\Continuum\\anaconda3\\lib\\site-packages\\sklearn\\linear_model\\_logistic.py:940: ConvergenceWarning: lbfgs failed to converge (status=1):\n",
      "STOP: TOTAL NO. of ITERATIONS REACHED LIMIT.\n",
      "\n",
      "Increase the number of iterations (max_iter) or scale the data as shown in:\n",
      "    https://scikit-learn.org/stable/modules/preprocessing.html\n",
      "Please also refer to the documentation for alternative solver options:\n",
      "    https://scikit-learn.org/stable/modules/linear_model.html#logistic-regression\n",
      "  extra_warning_msg=_LOGISTIC_SOLVER_CONVERGENCE_MSG)\n",
      "C:\\Users\\kse02\\AppData\\Local\\Continuum\\anaconda3\\lib\\site-packages\\sklearn\\linear_model\\_logistic.py:940: ConvergenceWarning: lbfgs failed to converge (status=1):\n",
      "STOP: TOTAL NO. of ITERATIONS REACHED LIMIT.\n",
      "\n",
      "Increase the number of iterations (max_iter) or scale the data as shown in:\n",
      "    https://scikit-learn.org/stable/modules/preprocessing.html\n",
      "Please also refer to the documentation for alternative solver options:\n",
      "    https://scikit-learn.org/stable/modules/linear_model.html#logistic-regression\n",
      "  extra_warning_msg=_LOGISTIC_SOLVER_CONVERGENCE_MSG)\n",
      "C:\\Users\\kse02\\AppData\\Local\\Continuum\\anaconda3\\lib\\site-packages\\sklearn\\linear_model\\_logistic.py:940: ConvergenceWarning: lbfgs failed to converge (status=1):\n",
      "STOP: TOTAL NO. of ITERATIONS REACHED LIMIT.\n",
      "\n",
      "Increase the number of iterations (max_iter) or scale the data as shown in:\n",
      "    https://scikit-learn.org/stable/modules/preprocessing.html\n",
      "Please also refer to the documentation for alternative solver options:\n",
      "    https://scikit-learn.org/stable/modules/linear_model.html#logistic-regression\n",
      "  extra_warning_msg=_LOGISTIC_SOLVER_CONVERGENCE_MSG)\n",
      "C:\\Users\\kse02\\AppData\\Local\\Continuum\\anaconda3\\lib\\site-packages\\sklearn\\linear_model\\_logistic.py:940: ConvergenceWarning: lbfgs failed to converge (status=1):\n",
      "STOP: TOTAL NO. of ITERATIONS REACHED LIMIT.\n",
      "\n",
      "Increase the number of iterations (max_iter) or scale the data as shown in:\n",
      "    https://scikit-learn.org/stable/modules/preprocessing.html\n",
      "Please also refer to the documentation for alternative solver options:\n",
      "    https://scikit-learn.org/stable/modules/linear_model.html#logistic-regression\n",
      "  extra_warning_msg=_LOGISTIC_SOLVER_CONVERGENCE_MSG)\n",
      "C:\\Users\\kse02\\AppData\\Local\\Continuum\\anaconda3\\lib\\site-packages\\sklearn\\linear_model\\_logistic.py:940: ConvergenceWarning: lbfgs failed to converge (status=1):\n",
      "STOP: TOTAL NO. of ITERATIONS REACHED LIMIT.\n",
      "\n",
      "Increase the number of iterations (max_iter) or scale the data as shown in:\n",
      "    https://scikit-learn.org/stable/modules/preprocessing.html\n",
      "Please also refer to the documentation for alternative solver options:\n",
      "    https://scikit-learn.org/stable/modules/linear_model.html#logistic-regression\n",
      "  extra_warning_msg=_LOGISTIC_SOLVER_CONVERGENCE_MSG)\n",
      "C:\\Users\\kse02\\AppData\\Local\\Continuum\\anaconda3\\lib\\site-packages\\sklearn\\linear_model\\_logistic.py:940: ConvergenceWarning: lbfgs failed to converge (status=1):\n",
      "STOP: TOTAL NO. of ITERATIONS REACHED LIMIT.\n",
      "\n",
      "Increase the number of iterations (max_iter) or scale the data as shown in:\n",
      "    https://scikit-learn.org/stable/modules/preprocessing.html\n",
      "Please also refer to the documentation for alternative solver options:\n",
      "    https://scikit-learn.org/stable/modules/linear_model.html#logistic-regression\n",
      "  extra_warning_msg=_LOGISTIC_SOLVER_CONVERGENCE_MSG)\n",
      "C:\\Users\\kse02\\AppData\\Local\\Continuum\\anaconda3\\lib\\site-packages\\sklearn\\linear_model\\_logistic.py:940: ConvergenceWarning: lbfgs failed to converge (status=1):\n",
      "STOP: TOTAL NO. of ITERATIONS REACHED LIMIT.\n",
      "\n",
      "Increase the number of iterations (max_iter) or scale the data as shown in:\n",
      "    https://scikit-learn.org/stable/modules/preprocessing.html\n",
      "Please also refer to the documentation for alternative solver options:\n",
      "    https://scikit-learn.org/stable/modules/linear_model.html#logistic-regression\n",
      "  extra_warning_msg=_LOGISTIC_SOLVER_CONVERGENCE_MSG)\n",
      "C:\\Users\\kse02\\AppData\\Local\\Continuum\\anaconda3\\lib\\site-packages\\sklearn\\linear_model\\_logistic.py:940: ConvergenceWarning: lbfgs failed to converge (status=1):\n",
      "STOP: TOTAL NO. of ITERATIONS REACHED LIMIT.\n",
      "\n",
      "Increase the number of iterations (max_iter) or scale the data as shown in:\n",
      "    https://scikit-learn.org/stable/modules/preprocessing.html\n",
      "Please also refer to the documentation for alternative solver options:\n",
      "    https://scikit-learn.org/stable/modules/linear_model.html#logistic-regression\n",
      "  extra_warning_msg=_LOGISTIC_SOLVER_CONVERGENCE_MSG)\n",
      "C:\\Users\\kse02\\AppData\\Local\\Continuum\\anaconda3\\lib\\site-packages\\sklearn\\linear_model\\_logistic.py:940: ConvergenceWarning: lbfgs failed to converge (status=1):\n",
      "STOP: TOTAL NO. of ITERATIONS REACHED LIMIT.\n",
      "\n",
      "Increase the number of iterations (max_iter) or scale the data as shown in:\n",
      "    https://scikit-learn.org/stable/modules/preprocessing.html\n",
      "Please also refer to the documentation for alternative solver options:\n",
      "    https://scikit-learn.org/stable/modules/linear_model.html#logistic-regression\n",
      "  extra_warning_msg=_LOGISTIC_SOLVER_CONVERGENCE_MSG)\n",
      "C:\\Users\\kse02\\AppData\\Local\\Continuum\\anaconda3\\lib\\site-packages\\sklearn\\linear_model\\_logistic.py:940: ConvergenceWarning: lbfgs failed to converge (status=1):\n",
      "STOP: TOTAL NO. of ITERATIONS REACHED LIMIT.\n",
      "\n",
      "Increase the number of iterations (max_iter) or scale the data as shown in:\n",
      "    https://scikit-learn.org/stable/modules/preprocessing.html\n",
      "Please also refer to the documentation for alternative solver options:\n",
      "    https://scikit-learn.org/stable/modules/linear_model.html#logistic-regression\n",
      "  extra_warning_msg=_LOGISTIC_SOLVER_CONVERGENCE_MSG)\n",
      "C:\\Users\\kse02\\AppData\\Local\\Continuum\\anaconda3\\lib\\site-packages\\sklearn\\linear_model\\_logistic.py:940: ConvergenceWarning: lbfgs failed to converge (status=1):\n",
      "STOP: TOTAL NO. of ITERATIONS REACHED LIMIT.\n",
      "\n",
      "Increase the number of iterations (max_iter) or scale the data as shown in:\n",
      "    https://scikit-learn.org/stable/modules/preprocessing.html\n",
      "Please also refer to the documentation for alternative solver options:\n",
      "    https://scikit-learn.org/stable/modules/linear_model.html#logistic-regression\n",
      "  extra_warning_msg=_LOGISTIC_SOLVER_CONVERGENCE_MSG)\n",
      "C:\\Users\\kse02\\AppData\\Local\\Continuum\\anaconda3\\lib\\site-packages\\sklearn\\linear_model\\_logistic.py:940: ConvergenceWarning: lbfgs failed to converge (status=1):\n",
      "STOP: TOTAL NO. of ITERATIONS REACHED LIMIT.\n",
      "\n",
      "Increase the number of iterations (max_iter) or scale the data as shown in:\n",
      "    https://scikit-learn.org/stable/modules/preprocessing.html\n",
      "Please also refer to the documentation for alternative solver options:\n",
      "    https://scikit-learn.org/stable/modules/linear_model.html#logistic-regression\n",
      "  extra_warning_msg=_LOGISTIC_SOLVER_CONVERGENCE_MSG)\n",
      "C:\\Users\\kse02\\AppData\\Local\\Continuum\\anaconda3\\lib\\site-packages\\sklearn\\linear_model\\_logistic.py:940: ConvergenceWarning: lbfgs failed to converge (status=1):\n",
      "STOP: TOTAL NO. of ITERATIONS REACHED LIMIT.\n",
      "\n",
      "Increase the number of iterations (max_iter) or scale the data as shown in:\n",
      "    https://scikit-learn.org/stable/modules/preprocessing.html\n",
      "Please also refer to the documentation for alternative solver options:\n",
      "    https://scikit-learn.org/stable/modules/linear_model.html#logistic-regression\n",
      "  extra_warning_msg=_LOGISTIC_SOLVER_CONVERGENCE_MSG)\n",
      "C:\\Users\\kse02\\AppData\\Local\\Continuum\\anaconda3\\lib\\site-packages\\sklearn\\linear_model\\_logistic.py:940: ConvergenceWarning: lbfgs failed to converge (status=1):\n",
      "STOP: TOTAL NO. of ITERATIONS REACHED LIMIT.\n",
      "\n",
      "Increase the number of iterations (max_iter) or scale the data as shown in:\n",
      "    https://scikit-learn.org/stable/modules/preprocessing.html\n",
      "Please also refer to the documentation for alternative solver options:\n",
      "    https://scikit-learn.org/stable/modules/linear_model.html#logistic-regression\n",
      "  extra_warning_msg=_LOGISTIC_SOLVER_CONVERGENCE_MSG)\n"
     ]
    },
    {
     "name": "stderr",
     "output_type": "stream",
     "text": [
      "C:\\Users\\kse02\\AppData\\Local\\Continuum\\anaconda3\\lib\\site-packages\\sklearn\\linear_model\\_logistic.py:940: ConvergenceWarning: lbfgs failed to converge (status=1):\n",
      "STOP: TOTAL NO. of ITERATIONS REACHED LIMIT.\n",
      "\n",
      "Increase the number of iterations (max_iter) or scale the data as shown in:\n",
      "    https://scikit-learn.org/stable/modules/preprocessing.html\n",
      "Please also refer to the documentation for alternative solver options:\n",
      "    https://scikit-learn.org/stable/modules/linear_model.html#logistic-regression\n",
      "  extra_warning_msg=_LOGISTIC_SOLVER_CONVERGENCE_MSG)\n",
      "C:\\Users\\kse02\\AppData\\Local\\Continuum\\anaconda3\\lib\\site-packages\\sklearn\\linear_model\\_logistic.py:940: ConvergenceWarning: lbfgs failed to converge (status=1):\n",
      "STOP: TOTAL NO. of ITERATIONS REACHED LIMIT.\n",
      "\n",
      "Increase the number of iterations (max_iter) or scale the data as shown in:\n",
      "    https://scikit-learn.org/stable/modules/preprocessing.html\n",
      "Please also refer to the documentation for alternative solver options:\n",
      "    https://scikit-learn.org/stable/modules/linear_model.html#logistic-regression\n",
      "  extra_warning_msg=_LOGISTIC_SOLVER_CONVERGENCE_MSG)\n",
      "C:\\Users\\kse02\\AppData\\Local\\Continuum\\anaconda3\\lib\\site-packages\\sklearn\\linear_model\\_logistic.py:940: ConvergenceWarning: lbfgs failed to converge (status=1):\n",
      "STOP: TOTAL NO. of ITERATIONS REACHED LIMIT.\n",
      "\n",
      "Increase the number of iterations (max_iter) or scale the data as shown in:\n",
      "    https://scikit-learn.org/stable/modules/preprocessing.html\n",
      "Please also refer to the documentation for alternative solver options:\n",
      "    https://scikit-learn.org/stable/modules/linear_model.html#logistic-regression\n",
      "  extra_warning_msg=_LOGISTIC_SOLVER_CONVERGENCE_MSG)\n",
      "C:\\Users\\kse02\\AppData\\Local\\Continuum\\anaconda3\\lib\\site-packages\\sklearn\\linear_model\\_logistic.py:940: ConvergenceWarning: lbfgs failed to converge (status=1):\n",
      "STOP: TOTAL NO. of ITERATIONS REACHED LIMIT.\n",
      "\n",
      "Increase the number of iterations (max_iter) or scale the data as shown in:\n",
      "    https://scikit-learn.org/stable/modules/preprocessing.html\n",
      "Please also refer to the documentation for alternative solver options:\n",
      "    https://scikit-learn.org/stable/modules/linear_model.html#logistic-regression\n",
      "  extra_warning_msg=_LOGISTIC_SOLVER_CONVERGENCE_MSG)\n",
      "C:\\Users\\kse02\\AppData\\Local\\Continuum\\anaconda3\\lib\\site-packages\\sklearn\\linear_model\\_logistic.py:940: ConvergenceWarning: lbfgs failed to converge (status=1):\n",
      "STOP: TOTAL NO. of ITERATIONS REACHED LIMIT.\n",
      "\n",
      "Increase the number of iterations (max_iter) or scale the data as shown in:\n",
      "    https://scikit-learn.org/stable/modules/preprocessing.html\n",
      "Please also refer to the documentation for alternative solver options:\n",
      "    https://scikit-learn.org/stable/modules/linear_model.html#logistic-regression\n",
      "  extra_warning_msg=_LOGISTIC_SOLVER_CONVERGENCE_MSG)\n",
      "C:\\Users\\kse02\\AppData\\Local\\Continuum\\anaconda3\\lib\\site-packages\\sklearn\\linear_model\\_logistic.py:940: ConvergenceWarning: lbfgs failed to converge (status=1):\n",
      "STOP: TOTAL NO. of ITERATIONS REACHED LIMIT.\n",
      "\n",
      "Increase the number of iterations (max_iter) or scale the data as shown in:\n",
      "    https://scikit-learn.org/stable/modules/preprocessing.html\n",
      "Please also refer to the documentation for alternative solver options:\n",
      "    https://scikit-learn.org/stable/modules/linear_model.html#logistic-regression\n",
      "  extra_warning_msg=_LOGISTIC_SOLVER_CONVERGENCE_MSG)\n",
      "C:\\Users\\kse02\\AppData\\Local\\Continuum\\anaconda3\\lib\\site-packages\\sklearn\\linear_model\\_logistic.py:940: ConvergenceWarning: lbfgs failed to converge (status=1):\n",
      "STOP: TOTAL NO. of ITERATIONS REACHED LIMIT.\n",
      "\n",
      "Increase the number of iterations (max_iter) or scale the data as shown in:\n",
      "    https://scikit-learn.org/stable/modules/preprocessing.html\n",
      "Please also refer to the documentation for alternative solver options:\n",
      "    https://scikit-learn.org/stable/modules/linear_model.html#logistic-regression\n",
      "  extra_warning_msg=_LOGISTIC_SOLVER_CONVERGENCE_MSG)\n",
      "C:\\Users\\kse02\\AppData\\Local\\Continuum\\anaconda3\\lib\\site-packages\\sklearn\\linear_model\\_logistic.py:940: ConvergenceWarning: lbfgs failed to converge (status=1):\n",
      "STOP: TOTAL NO. of ITERATIONS REACHED LIMIT.\n",
      "\n",
      "Increase the number of iterations (max_iter) or scale the data as shown in:\n",
      "    https://scikit-learn.org/stable/modules/preprocessing.html\n",
      "Please also refer to the documentation for alternative solver options:\n",
      "    https://scikit-learn.org/stable/modules/linear_model.html#logistic-regression\n",
      "  extra_warning_msg=_LOGISTIC_SOLVER_CONVERGENCE_MSG)\n",
      "C:\\Users\\kse02\\AppData\\Local\\Continuum\\anaconda3\\lib\\site-packages\\sklearn\\linear_model\\_logistic.py:940: ConvergenceWarning: lbfgs failed to converge (status=1):\n",
      "STOP: TOTAL NO. of ITERATIONS REACHED LIMIT.\n",
      "\n",
      "Increase the number of iterations (max_iter) or scale the data as shown in:\n",
      "    https://scikit-learn.org/stable/modules/preprocessing.html\n",
      "Please also refer to the documentation for alternative solver options:\n",
      "    https://scikit-learn.org/stable/modules/linear_model.html#logistic-regression\n",
      "  extra_warning_msg=_LOGISTIC_SOLVER_CONVERGENCE_MSG)\n",
      "C:\\Users\\kse02\\AppData\\Local\\Continuum\\anaconda3\\lib\\site-packages\\sklearn\\linear_model\\_logistic.py:940: ConvergenceWarning: lbfgs failed to converge (status=1):\n",
      "STOP: TOTAL NO. of ITERATIONS REACHED LIMIT.\n",
      "\n",
      "Increase the number of iterations (max_iter) or scale the data as shown in:\n",
      "    https://scikit-learn.org/stable/modules/preprocessing.html\n",
      "Please also refer to the documentation for alternative solver options:\n",
      "    https://scikit-learn.org/stable/modules/linear_model.html#logistic-regression\n",
      "  extra_warning_msg=_LOGISTIC_SOLVER_CONVERGENCE_MSG)\n",
      "C:\\Users\\kse02\\AppData\\Local\\Continuum\\anaconda3\\lib\\site-packages\\sklearn\\linear_model\\_logistic.py:940: ConvergenceWarning: lbfgs failed to converge (status=1):\n",
      "STOP: TOTAL NO. of ITERATIONS REACHED LIMIT.\n",
      "\n",
      "Increase the number of iterations (max_iter) or scale the data as shown in:\n",
      "    https://scikit-learn.org/stable/modules/preprocessing.html\n",
      "Please also refer to the documentation for alternative solver options:\n",
      "    https://scikit-learn.org/stable/modules/linear_model.html#logistic-regression\n",
      "  extra_warning_msg=_LOGISTIC_SOLVER_CONVERGENCE_MSG)\n",
      "C:\\Users\\kse02\\AppData\\Local\\Continuum\\anaconda3\\lib\\site-packages\\sklearn\\linear_model\\_logistic.py:940: ConvergenceWarning: lbfgs failed to converge (status=1):\n",
      "STOP: TOTAL NO. of ITERATIONS REACHED LIMIT.\n",
      "\n",
      "Increase the number of iterations (max_iter) or scale the data as shown in:\n",
      "    https://scikit-learn.org/stable/modules/preprocessing.html\n",
      "Please also refer to the documentation for alternative solver options:\n",
      "    https://scikit-learn.org/stable/modules/linear_model.html#logistic-regression\n",
      "  extra_warning_msg=_LOGISTIC_SOLVER_CONVERGENCE_MSG)\n",
      "C:\\Users\\kse02\\AppData\\Local\\Continuum\\anaconda3\\lib\\site-packages\\sklearn\\linear_model\\_logistic.py:940: ConvergenceWarning: lbfgs failed to converge (status=1):\n",
      "STOP: TOTAL NO. of ITERATIONS REACHED LIMIT.\n",
      "\n",
      "Increase the number of iterations (max_iter) or scale the data as shown in:\n",
      "    https://scikit-learn.org/stable/modules/preprocessing.html\n",
      "Please also refer to the documentation for alternative solver options:\n",
      "    https://scikit-learn.org/stable/modules/linear_model.html#logistic-regression\n",
      "  extra_warning_msg=_LOGISTIC_SOLVER_CONVERGENCE_MSG)\n",
      "C:\\Users\\kse02\\AppData\\Local\\Continuum\\anaconda3\\lib\\site-packages\\sklearn\\linear_model\\_logistic.py:940: ConvergenceWarning: lbfgs failed to converge (status=1):\n",
      "STOP: TOTAL NO. of ITERATIONS REACHED LIMIT.\n",
      "\n",
      "Increase the number of iterations (max_iter) or scale the data as shown in:\n",
      "    https://scikit-learn.org/stable/modules/preprocessing.html\n",
      "Please also refer to the documentation for alternative solver options:\n",
      "    https://scikit-learn.org/stable/modules/linear_model.html#logistic-regression\n",
      "  extra_warning_msg=_LOGISTIC_SOLVER_CONVERGENCE_MSG)\n",
      "C:\\Users\\kse02\\AppData\\Local\\Continuum\\anaconda3\\lib\\site-packages\\sklearn\\linear_model\\_logistic.py:940: ConvergenceWarning: lbfgs failed to converge (status=1):\n",
      "STOP: TOTAL NO. of ITERATIONS REACHED LIMIT.\n",
      "\n",
      "Increase the number of iterations (max_iter) or scale the data as shown in:\n",
      "    https://scikit-learn.org/stable/modules/preprocessing.html\n",
      "Please also refer to the documentation for alternative solver options:\n",
      "    https://scikit-learn.org/stable/modules/linear_model.html#logistic-regression\n",
      "  extra_warning_msg=_LOGISTIC_SOLVER_CONVERGENCE_MSG)\n",
      "C:\\Users\\kse02\\AppData\\Local\\Continuum\\anaconda3\\lib\\site-packages\\sklearn\\linear_model\\_logistic.py:940: ConvergenceWarning: lbfgs failed to converge (status=1):\n",
      "STOP: TOTAL NO. of ITERATIONS REACHED LIMIT.\n",
      "\n",
      "Increase the number of iterations (max_iter) or scale the data as shown in:\n",
      "    https://scikit-learn.org/stable/modules/preprocessing.html\n",
      "Please also refer to the documentation for alternative solver options:\n",
      "    https://scikit-learn.org/stable/modules/linear_model.html#logistic-regression\n",
      "  extra_warning_msg=_LOGISTIC_SOLVER_CONVERGENCE_MSG)\n",
      "C:\\Users\\kse02\\AppData\\Local\\Continuum\\anaconda3\\lib\\site-packages\\sklearn\\linear_model\\_logistic.py:940: ConvergenceWarning: lbfgs failed to converge (status=1):\n",
      "STOP: TOTAL NO. of ITERATIONS REACHED LIMIT.\n",
      "\n",
      "Increase the number of iterations (max_iter) or scale the data as shown in:\n",
      "    https://scikit-learn.org/stable/modules/preprocessing.html\n",
      "Please also refer to the documentation for alternative solver options:\n",
      "    https://scikit-learn.org/stable/modules/linear_model.html#logistic-regression\n",
      "  extra_warning_msg=_LOGISTIC_SOLVER_CONVERGENCE_MSG)\n",
      "C:\\Users\\kse02\\AppData\\Local\\Continuum\\anaconda3\\lib\\site-packages\\sklearn\\linear_model\\_logistic.py:940: ConvergenceWarning: lbfgs failed to converge (status=1):\n",
      "STOP: TOTAL NO. of ITERATIONS REACHED LIMIT.\n",
      "\n",
      "Increase the number of iterations (max_iter) or scale the data as shown in:\n",
      "    https://scikit-learn.org/stable/modules/preprocessing.html\n",
      "Please also refer to the documentation for alternative solver options:\n",
      "    https://scikit-learn.org/stable/modules/linear_model.html#logistic-regression\n",
      "  extra_warning_msg=_LOGISTIC_SOLVER_CONVERGENCE_MSG)\n",
      "C:\\Users\\kse02\\AppData\\Local\\Continuum\\anaconda3\\lib\\site-packages\\sklearn\\linear_model\\_logistic.py:940: ConvergenceWarning: lbfgs failed to converge (status=1):\n",
      "STOP: TOTAL NO. of ITERATIONS REACHED LIMIT.\n",
      "\n",
      "Increase the number of iterations (max_iter) or scale the data as shown in:\n",
      "    https://scikit-learn.org/stable/modules/preprocessing.html\n",
      "Please also refer to the documentation for alternative solver options:\n",
      "    https://scikit-learn.org/stable/modules/linear_model.html#logistic-regression\n",
      "  extra_warning_msg=_LOGISTIC_SOLVER_CONVERGENCE_MSG)\n",
      "C:\\Users\\kse02\\AppData\\Local\\Continuum\\anaconda3\\lib\\site-packages\\sklearn\\linear_model\\_logistic.py:940: ConvergenceWarning: lbfgs failed to converge (status=1):\n",
      "STOP: TOTAL NO. of ITERATIONS REACHED LIMIT.\n",
      "\n",
      "Increase the number of iterations (max_iter) or scale the data as shown in:\n",
      "    https://scikit-learn.org/stable/modules/preprocessing.html\n",
      "Please also refer to the documentation for alternative solver options:\n",
      "    https://scikit-learn.org/stable/modules/linear_model.html#logistic-regression\n",
      "  extra_warning_msg=_LOGISTIC_SOLVER_CONVERGENCE_MSG)\n",
      "C:\\Users\\kse02\\AppData\\Local\\Continuum\\anaconda3\\lib\\site-packages\\sklearn\\linear_model\\_logistic.py:940: ConvergenceWarning: lbfgs failed to converge (status=1):\n",
      "STOP: TOTAL NO. of ITERATIONS REACHED LIMIT.\n",
      "\n",
      "Increase the number of iterations (max_iter) or scale the data as shown in:\n",
      "    https://scikit-learn.org/stable/modules/preprocessing.html\n",
      "Please also refer to the documentation for alternative solver options:\n",
      "    https://scikit-learn.org/stable/modules/linear_model.html#logistic-regression\n",
      "  extra_warning_msg=_LOGISTIC_SOLVER_CONVERGENCE_MSG)\n"
     ]
    },
    {
     "name": "stdout",
     "output_type": "stream",
     "text": [
      "Bagging 분류기 정확도: 0.3448\n"
     ]
    },
    {
     "name": "stderr",
     "output_type": "stream",
     "text": [
      "C:\\Users\\kse02\\AppData\\Local\\Continuum\\anaconda3\\lib\\site-packages\\sklearn\\linear_model\\_logistic.py:940: ConvergenceWarning: lbfgs failed to converge (status=1):\n",
      "STOP: TOTAL NO. of ITERATIONS REACHED LIMIT.\n",
      "\n",
      "Increase the number of iterations (max_iter) or scale the data as shown in:\n",
      "    https://scikit-learn.org/stable/modules/preprocessing.html\n",
      "Please also refer to the documentation for alternative solver options:\n",
      "    https://scikit-learn.org/stable/modules/linear_model.html#logistic-regression\n",
      "  extra_warning_msg=_LOGISTIC_SOLVER_CONVERGENCE_MSG)\n",
      "C:\\Users\\kse02\\AppData\\Local\\Continuum\\anaconda3\\lib\\site-packages\\sklearn\\linear_model\\_logistic.py:940: ConvergenceWarning: lbfgs failed to converge (status=1):\n",
      "STOP: TOTAL NO. of ITERATIONS REACHED LIMIT.\n",
      "\n",
      "Increase the number of iterations (max_iter) or scale the data as shown in:\n",
      "    https://scikit-learn.org/stable/modules/preprocessing.html\n",
      "Please also refer to the documentation for alternative solver options:\n",
      "    https://scikit-learn.org/stable/modules/linear_model.html#logistic-regression\n",
      "  extra_warning_msg=_LOGISTIC_SOLVER_CONVERGENCE_MSG)\n",
      "C:\\Users\\kse02\\AppData\\Local\\Continuum\\anaconda3\\lib\\site-packages\\sklearn\\linear_model\\_logistic.py:940: ConvergenceWarning: lbfgs failed to converge (status=1):\n",
      "STOP: TOTAL NO. of ITERATIONS REACHED LIMIT.\n",
      "\n",
      "Increase the number of iterations (max_iter) or scale the data as shown in:\n",
      "    https://scikit-learn.org/stable/modules/preprocessing.html\n",
      "Please also refer to the documentation for alternative solver options:\n",
      "    https://scikit-learn.org/stable/modules/linear_model.html#logistic-regression\n",
      "  extra_warning_msg=_LOGISTIC_SOLVER_CONVERGENCE_MSG)\n",
      "C:\\Users\\kse02\\AppData\\Local\\Continuum\\anaconda3\\lib\\site-packages\\sklearn\\linear_model\\_logistic.py:940: ConvergenceWarning: lbfgs failed to converge (status=1):\n",
      "STOP: TOTAL NO. of ITERATIONS REACHED LIMIT.\n",
      "\n",
      "Increase the number of iterations (max_iter) or scale the data as shown in:\n",
      "    https://scikit-learn.org/stable/modules/preprocessing.html\n",
      "Please also refer to the documentation for alternative solver options:\n",
      "    https://scikit-learn.org/stable/modules/linear_model.html#logistic-regression\n",
      "  extra_warning_msg=_LOGISTIC_SOLVER_CONVERGENCE_MSG)\n",
      "C:\\Users\\kse02\\AppData\\Local\\Continuum\\anaconda3\\lib\\site-packages\\sklearn\\linear_model\\_logistic.py:940: ConvergenceWarning: lbfgs failed to converge (status=1):\n",
      "STOP: TOTAL NO. of ITERATIONS REACHED LIMIT.\n",
      "\n",
      "Increase the number of iterations (max_iter) or scale the data as shown in:\n",
      "    https://scikit-learn.org/stable/modules/preprocessing.html\n",
      "Please also refer to the documentation for alternative solver options:\n",
      "    https://scikit-learn.org/stable/modules/linear_model.html#logistic-regression\n",
      "  extra_warning_msg=_LOGISTIC_SOLVER_CONVERGENCE_MSG)\n"
     ]
    }
   ],
   "source": [
    "bag_clf = BaggingClassifier(base_estimator=lr_clf, n_estimators=100, random_state=0)\n",
    "\n",
    "bag_clf.fit(X_train_over,y_train_over)\n",
    "pred = bag_clf.predict(X_test)\n",
    "print('Bagging 분류기 정확도: {0:.4f}'.format(f1_score(y_test,pred)))"
   ]
  },
  {
   "cell_type": "code",
   "execution_count": null,
   "metadata": {},
   "outputs": [],
   "source": []
  }
 ],
 "metadata": {
  "kernelspec": {
   "display_name": "Python 3",
   "language": "python",
   "name": "python3"
  },
  "language_info": {
   "codemirror_mode": {
    "name": "ipython",
    "version": 3
   },
   "file_extension": ".py",
   "mimetype": "text/x-python",
   "name": "python",
   "nbconvert_exporter": "python",
   "pygments_lexer": "ipython3",
   "version": "3.7.4"
  }
 },
 "nbformat": 4,
 "nbformat_minor": 4
}
