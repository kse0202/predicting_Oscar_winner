{
 "cells": [
  {
   "cell_type": "markdown",
   "metadata": {},
   "source": [
    "## predicting Oscar winner_ modeling(best)"
   ]
  },
  {
   "cell_type": "markdown",
   "metadata": {},
   "source": [
    "### 부문별 모델 생성\n",
    "## 1. 작품상"
   ]
  },
  {
   "cell_type": "code",
   "execution_count": 3,
   "metadata": {},
   "outputs": [],
   "source": [
    "import pandas as pd\n",
    "import numpy as np\n",
    "\n",
    "import matplotlib.pyplot as plt\n",
    "%matplotlib inline\n",
    "import seaborn as sns"
   ]
  },
  {
   "cell_type": "code",
   "execution_count": 4,
   "metadata": {},
   "outputs": [],
   "source": [
    "\n",
    "from sklearn.metrics import confusion_matrix\n",
    "from sklearn.metrics import accuracy_score\n",
    "from sklearn.metrics import f1_score \n"
   ]
  },
  {
   "cell_type": "markdown",
   "metadata": {},
   "source": [
    "### 데이터 불러오기 및 전처리"
   ]
  },
  {
   "cell_type": "code",
   "execution_count": 5,
   "metadata": {},
   "outputs": [
    {
     "data": {
      "text/html": [
       "<div>\n",
       "<style scoped>\n",
       "    .dataframe tbody tr th:only-of-type {\n",
       "        vertical-align: middle;\n",
       "    }\n",
       "\n",
       "    .dataframe tbody tr th {\n",
       "        vertical-align: top;\n",
       "    }\n",
       "\n",
       "    .dataframe thead th {\n",
       "        text-align: right;\n",
       "    }\n",
       "</style>\n",
       "<table border=\"1\" class=\"dataframe\">\n",
       "  <thead>\n",
       "    <tr style=\"text-align: right;\">\n",
       "      <th></th>\n",
       "      <th>year_film</th>\n",
       "      <th>year_ceremony</th>\n",
       "      <th>ceremony</th>\n",
       "      <th>category</th>\n",
       "      <th>name</th>\n",
       "      <th>film</th>\n",
       "      <th>win</th>\n",
       "      <th>Gross</th>\n",
       "      <th>Date</th>\n",
       "      <th>Runtime</th>\n",
       "      <th>...</th>\n",
       "      <th>Dec</th>\n",
       "      <th>Feb</th>\n",
       "      <th>Jan</th>\n",
       "      <th>Jul</th>\n",
       "      <th>Jun</th>\n",
       "      <th>Mar</th>\n",
       "      <th>May</th>\n",
       "      <th>Nov</th>\n",
       "      <th>Oct</th>\n",
       "      <th>Sep</th>\n",
       "    </tr>\n",
       "  </thead>\n",
       "  <tbody>\n",
       "    <tr>\n",
       "      <td>0</td>\n",
       "      <td>1976</td>\n",
       "      <td>1977</td>\n",
       "      <td>49</td>\n",
       "      <td>BEST PICTURE</td>\n",
       "      <td>Walter Coblenz Producer</td>\n",
       "      <td>All the Presidents Men</td>\n",
       "      <td>0</td>\n",
       "      <td>7.060000e+07</td>\n",
       "      <td>Apr</td>\n",
       "      <td>138</td>\n",
       "      <td>...</td>\n",
       "      <td>0</td>\n",
       "      <td>0</td>\n",
       "      <td>0</td>\n",
       "      <td>0</td>\n",
       "      <td>0</td>\n",
       "      <td>0</td>\n",
       "      <td>0</td>\n",
       "      <td>0</td>\n",
       "      <td>0</td>\n",
       "      <td>0</td>\n",
       "    </tr>\n",
       "    <tr>\n",
       "      <td>1</td>\n",
       "      <td>1976</td>\n",
       "      <td>1977</td>\n",
       "      <td>49</td>\n",
       "      <td>BEST PICTURE</td>\n",
       "      <td>Robert F Blumofe and Harold Leventhal Producers</td>\n",
       "      <td>Bound for Glory</td>\n",
       "      <td>0</td>\n",
       "      <td>5.986694e+07</td>\n",
       "      <td>Dec</td>\n",
       "      <td>147</td>\n",
       "      <td>...</td>\n",
       "      <td>1</td>\n",
       "      <td>0</td>\n",
       "      <td>0</td>\n",
       "      <td>0</td>\n",
       "      <td>0</td>\n",
       "      <td>0</td>\n",
       "      <td>0</td>\n",
       "      <td>0</td>\n",
       "      <td>0</td>\n",
       "      <td>0</td>\n",
       "    </tr>\n",
       "    <tr>\n",
       "      <td>2</td>\n",
       "      <td>1976</td>\n",
       "      <td>1977</td>\n",
       "      <td>49</td>\n",
       "      <td>BEST PICTURE</td>\n",
       "      <td>Howard Gottfried Producer</td>\n",
       "      <td>Network</td>\n",
       "      <td>0</td>\n",
       "      <td>2.368988e+07</td>\n",
       "      <td>Nov</td>\n",
       "      <td>121</td>\n",
       "      <td>...</td>\n",
       "      <td>0</td>\n",
       "      <td>0</td>\n",
       "      <td>0</td>\n",
       "      <td>0</td>\n",
       "      <td>0</td>\n",
       "      <td>0</td>\n",
       "      <td>0</td>\n",
       "      <td>1</td>\n",
       "      <td>0</td>\n",
       "      <td>0</td>\n",
       "    </tr>\n",
       "    <tr>\n",
       "      <td>3</td>\n",
       "      <td>1976</td>\n",
       "      <td>1977</td>\n",
       "      <td>49</td>\n",
       "      <td>BEST PICTURE</td>\n",
       "      <td>Irwin Winkler and Robert Chartoff Producers</td>\n",
       "      <td>Rocky</td>\n",
       "      <td>1</td>\n",
       "      <td>1.172351e+08</td>\n",
       "      <td>Dec</td>\n",
       "      <td>120</td>\n",
       "      <td>...</td>\n",
       "      <td>1</td>\n",
       "      <td>0</td>\n",
       "      <td>0</td>\n",
       "      <td>0</td>\n",
       "      <td>0</td>\n",
       "      <td>0</td>\n",
       "      <td>0</td>\n",
       "      <td>0</td>\n",
       "      <td>0</td>\n",
       "      <td>0</td>\n",
       "    </tr>\n",
       "    <tr>\n",
       "      <td>4</td>\n",
       "      <td>1976</td>\n",
       "      <td>1977</td>\n",
       "      <td>49</td>\n",
       "      <td>BEST PICTURE</td>\n",
       "      <td>Michael Phillips and Julia Phillips Producers</td>\n",
       "      <td>Taxi Driver</td>\n",
       "      <td>0</td>\n",
       "      <td>2.826257e+07</td>\n",
       "      <td>Feb</td>\n",
       "      <td>114</td>\n",
       "      <td>...</td>\n",
       "      <td>0</td>\n",
       "      <td>1</td>\n",
       "      <td>0</td>\n",
       "      <td>0</td>\n",
       "      <td>0</td>\n",
       "      <td>0</td>\n",
       "      <td>0</td>\n",
       "      <td>0</td>\n",
       "      <td>0</td>\n",
       "      <td>0</td>\n",
       "    </tr>\n",
       "  </tbody>\n",
       "</table>\n",
       "<p>5 rows × 49 columns</p>\n",
       "</div>"
      ],
      "text/plain": [
       "   year_film  year_ceremony  ceremony      category  \\\n",
       "0       1976           1977        49  BEST PICTURE   \n",
       "1       1976           1977        49  BEST PICTURE   \n",
       "2       1976           1977        49  BEST PICTURE   \n",
       "3       1976           1977        49  BEST PICTURE   \n",
       "4       1976           1977        49  BEST PICTURE   \n",
       "\n",
       "                                              name                    film  \\\n",
       "0                          Walter Coblenz Producer  All the Presidents Men   \n",
       "1  Robert F Blumofe and Harold Leventhal Producers         Bound for Glory   \n",
       "2                        Howard Gottfried Producer                 Network   \n",
       "3      Irwin Winkler and Robert Chartoff Producers                   Rocky   \n",
       "4    Michael Phillips and Julia Phillips Producers             Taxi Driver   \n",
       "\n",
       "   win         Gross Date  Runtime  ...  Dec  Feb  Jan  Jul  Jun  Mar  May  \\\n",
       "0    0  7.060000e+07  Apr      138  ...    0    0    0    0    0    0    0   \n",
       "1    0  5.986694e+07  Dec      147  ...    1    0    0    0    0    0    0   \n",
       "2    0  2.368988e+07  Nov      121  ...    0    0    0    0    0    0    0   \n",
       "3    1  1.172351e+08  Dec      120  ...    1    0    0    0    0    0    0   \n",
       "4    0  2.826257e+07  Feb      114  ...    0    1    0    0    0    0    0   \n",
       "\n",
       "   Nov  Oct  Sep  \n",
       "0    0    0    0  \n",
       "1    0    0    0  \n",
       "2    1    0    0  \n",
       "3    0    0    0  \n",
       "4    0    0    0  \n",
       "\n",
       "[5 rows x 49 columns]"
      ]
     },
     "execution_count": 5,
     "metadata": {},
     "output_type": "execute_result"
    }
   ],
   "source": [
    "final_best = pd.read_csv(\"./data/final_best.csv\")\n",
    "final_best.drop(\"Documentary\", axis =1, inplace =True) # 다큐멘터리 장르는 없으므로 의미없는 칼럼, 삭제한다.\n",
    "final_best = pd.concat([final_best,pd.get_dummies(final_best['Date'])], axis=1) # Date 칼럼 원핫인코딩\n",
    "final_best['win'] = final_best['win'].apply(lambda x : 1 if (x == True) else 0) # win 컬럼 01 변환\n",
    "final_best.head()"
   ]
  },
  {
   "cell_type": "markdown",
   "metadata": {},
   "source": [
    "### Train_data, Train_label 분리"
   ]
  },
  {
   "cell_type": "code",
   "execution_count": 6,
   "metadata": {},
   "outputs": [],
   "source": [
    "train_data = final_best.drop([\"win\",\"year_film\",\"year_ceremony\",\"ceremony\",\"category\",\"name\",\"film\",\"Date\"],axis=1)\n",
    "train_label = final_best[\"win\"]"
   ]
  },
  {
   "cell_type": "markdown",
   "metadata": {},
   "source": [
    "### 연속형 변수 StandardScaler로 평균 0, 표준편차 1 이 되는 값으로 변경 \n",
    "\n",
    "스케일링  \n",
    "스케일링은 자료 집합에 적용되는 전처리 과정으로 모든 자료에 선형 변환을 적용하여 전체 자료의 분포를 평균 0, 분산 1이 되도록   만드는 과정이다.스케일링은 자료의 오버플로우(overflow)나 언더플로우(underflow)를 방지하고 독립 변수의 공분산 행렬의 조건수  (condition number)를 감소시켜 최적화 과정에서의 안정성 및 수렴 속도를 향상시킨다.  \n",
    "  \n",
    "\n",
    "scikit-learn에서는 다음과 같은 스케일링 클래스를 제공한다.  \n",
    "  \n",
    "* StandardScaler(X): 평균이 0과 표준편차가 1이 되도록 변환.  \n",
    "* RobustScaler(X): 중앙값(median)이 0, IQR(interquartile range)이 1이 되도록 변환.  \n",
    "* MinMaxScaler(X): 최대값이 각각 1, 최소값이 0이 되도록 변환.  \n",
    "* MaxAbsScaler(X): 0을 기준으로 절대값이 가장 큰 수가 1또는 -1이 되도록 변환.  "
   ]
  },
  {
   "cell_type": "code",
   "execution_count": 7,
   "metadata": {},
   "outputs": [],
   "source": [
    "from sklearn.preprocessing import StandardScaler"
   ]
  },
  {
   "cell_type": "code",
   "execution_count": 8,
   "metadata": {},
   "outputs": [
    {
     "data": {
      "text/html": [
       "<div>\n",
       "<style scoped>\n",
       "    .dataframe tbody tr th:only-of-type {\n",
       "        vertical-align: middle;\n",
       "    }\n",
       "\n",
       "    .dataframe tbody tr th {\n",
       "        vertical-align: top;\n",
       "    }\n",
       "\n",
       "    .dataframe thead th {\n",
       "        text-align: right;\n",
       "    }\n",
       "</style>\n",
       "<table border=\"1\" class=\"dataframe\">\n",
       "  <thead>\n",
       "    <tr style=\"text-align: right;\">\n",
       "      <th></th>\n",
       "      <th>Gross</th>\n",
       "      <th>Runtime</th>\n",
       "      <th>Awards</th>\n",
       "      <th>nominations</th>\n",
       "      <th>imdb</th>\n",
       "      <th>tomato</th>\n",
       "      <th>Metacr</th>\n",
       "      <th>imdbVotes</th>\n",
       "      <th>Thriller</th>\n",
       "      <th>Short</th>\n",
       "      <th>...</th>\n",
       "      <th>Dec</th>\n",
       "      <th>Feb</th>\n",
       "      <th>Jan</th>\n",
       "      <th>Jul</th>\n",
       "      <th>Jun</th>\n",
       "      <th>Mar</th>\n",
       "      <th>May</th>\n",
       "      <th>Nov</th>\n",
       "      <th>Oct</th>\n",
       "      <th>Sep</th>\n",
       "    </tr>\n",
       "  </thead>\n",
       "  <tbody>\n",
       "    <tr>\n",
       "      <td>0</td>\n",
       "      <td>-0.217217</td>\n",
       "      <td>0.389799</td>\n",
       "      <td>13.0</td>\n",
       "      <td>-0.887770</td>\n",
       "      <td>0.635889</td>\n",
       "      <td>0.547883</td>\n",
       "      <td>-0.019685</td>\n",
       "      <td>-0.645448</td>\n",
       "      <td>1.0</td>\n",
       "      <td>0.0</td>\n",
       "      <td>...</td>\n",
       "      <td>0</td>\n",
       "      <td>0</td>\n",
       "      <td>0</td>\n",
       "      <td>0</td>\n",
       "      <td>0</td>\n",
       "      <td>0</td>\n",
       "      <td>0</td>\n",
       "      <td>0</td>\n",
       "      <td>0</td>\n",
       "      <td>0</td>\n",
       "    </tr>\n",
       "    <tr>\n",
       "      <td>1</td>\n",
       "      <td>-0.320594</td>\n",
       "      <td>0.740617</td>\n",
       "      <td>4.0</td>\n",
       "      <td>-1.022498</td>\n",
       "      <td>-0.854225</td>\n",
       "      <td>-0.252807</td>\n",
       "      <td>-0.988183</td>\n",
       "      <td>-0.889990</td>\n",
       "      <td>0.0</td>\n",
       "      <td>0.0</td>\n",
       "      <td>...</td>\n",
       "      <td>1</td>\n",
       "      <td>0</td>\n",
       "      <td>0</td>\n",
       "      <td>0</td>\n",
       "      <td>0</td>\n",
       "      <td>0</td>\n",
       "      <td>0</td>\n",
       "      <td>0</td>\n",
       "      <td>0</td>\n",
       "      <td>0</td>\n",
       "    </tr>\n",
       "    <tr>\n",
       "      <td>2</td>\n",
       "      <td>-0.669039</td>\n",
       "      <td>-0.272859</td>\n",
       "      <td>16.0</td>\n",
       "      <td>-0.820407</td>\n",
       "      <td>0.848762</td>\n",
       "      <td>0.433499</td>\n",
       "      <td>0.270865</td>\n",
       "      <td>-0.537342</td>\n",
       "      <td>0.0</td>\n",
       "      <td>0.0</td>\n",
       "      <td>...</td>\n",
       "      <td>0</td>\n",
       "      <td>0</td>\n",
       "      <td>0</td>\n",
       "      <td>0</td>\n",
       "      <td>0</td>\n",
       "      <td>0</td>\n",
       "      <td>0</td>\n",
       "      <td>1</td>\n",
       "      <td>0</td>\n",
       "      <td>0</td>\n",
       "    </tr>\n",
       "    <tr>\n",
       "      <td>3</td>\n",
       "      <td>0.231958</td>\n",
       "      <td>-0.311839</td>\n",
       "      <td>17.0</td>\n",
       "      <td>-0.887770</td>\n",
       "      <td>0.848762</td>\n",
       "      <td>0.662267</td>\n",
       "      <td>-0.988183</td>\n",
       "      <td>0.404938</td>\n",
       "      <td>0.0</td>\n",
       "      <td>0.0</td>\n",
       "      <td>...</td>\n",
       "      <td>1</td>\n",
       "      <td>0</td>\n",
       "      <td>0</td>\n",
       "      <td>0</td>\n",
       "      <td>0</td>\n",
       "      <td>0</td>\n",
       "      <td>0</td>\n",
       "      <td>0</td>\n",
       "      <td>0</td>\n",
       "      <td>0</td>\n",
       "    </tr>\n",
       "    <tr>\n",
       "      <td>4</td>\n",
       "      <td>-0.624997</td>\n",
       "      <td>-0.545718</td>\n",
       "      <td>21.0</td>\n",
       "      <td>-0.968607</td>\n",
       "      <td>1.274509</td>\n",
       "      <td>1.005420</td>\n",
       "      <td>1.336213</td>\n",
       "      <td>0.890386</td>\n",
       "      <td>0.0</td>\n",
       "      <td>0.0</td>\n",
       "      <td>...</td>\n",
       "      <td>0</td>\n",
       "      <td>1</td>\n",
       "      <td>0</td>\n",
       "      <td>0</td>\n",
       "      <td>0</td>\n",
       "      <td>0</td>\n",
       "      <td>0</td>\n",
       "      <td>0</td>\n",
       "      <td>0</td>\n",
       "      <td>0</td>\n",
       "    </tr>\n",
       "  </tbody>\n",
       "</table>\n",
       "<p>5 rows × 41 columns</p>\n",
       "</div>"
      ],
      "text/plain": [
       "      Gross   Runtime  Awards  nominations      imdb    tomato    Metacr  \\\n",
       "0 -0.217217  0.389799    13.0    -0.887770  0.635889  0.547883 -0.019685   \n",
       "1 -0.320594  0.740617     4.0    -1.022498 -0.854225 -0.252807 -0.988183   \n",
       "2 -0.669039 -0.272859    16.0    -0.820407  0.848762  0.433499  0.270865   \n",
       "3  0.231958 -0.311839    17.0    -0.887770  0.848762  0.662267 -0.988183   \n",
       "4 -0.624997 -0.545718    21.0    -0.968607  1.274509  1.005420  1.336213   \n",
       "\n",
       "   imdbVotes  Thriller  Short  ...  Dec  Feb  Jan  Jul  Jun  Mar  May  Nov  \\\n",
       "0  -0.645448       1.0    0.0  ...    0    0    0    0    0    0    0    0   \n",
       "1  -0.889990       0.0    0.0  ...    1    0    0    0    0    0    0    0   \n",
       "2  -0.537342       0.0    0.0  ...    0    0    0    0    0    0    0    1   \n",
       "3   0.404938       0.0    0.0  ...    1    0    0    0    0    0    0    0   \n",
       "4   0.890386       0.0    0.0  ...    0    1    0    0    0    0    0    0   \n",
       "\n",
       "   Oct  Sep  \n",
       "0    0    0  \n",
       "1    0    0  \n",
       "2    0    0  \n",
       "3    0    0  \n",
       "4    0    0  \n",
       "\n",
       "[5 rows x 41 columns]"
      ]
     },
     "execution_count": 8,
     "metadata": {},
     "output_type": "execute_result"
    }
   ],
   "source": [
    "scaler = StandardScaler()\n",
    "\n",
    "train_data[['Gross', 'Runtime', 'nominations', 'imdb', 'tomato', 'Metacr', 'imdbVotes']] = scaler.fit_transform(train_data[['Gross', 'Runtime', 'nominations', 'imdb', 'tomato', 'Metacr', 'imdbVotes']])\n",
    "train_data.head()"
   ]
  },
  {
   "cell_type": "markdown",
   "metadata": {},
   "source": [
    "### train_test_split 을 이용하여 train, test set분리"
   ]
  },
  {
   "cell_type": "code",
   "execution_count": 9,
   "metadata": {},
   "outputs": [],
   "source": [
    "from sklearn.model_selection import train_test_split"
   ]
  },
  {
   "cell_type": "code",
   "execution_count": 10,
   "metadata": {},
   "outputs": [],
   "source": [
    "\n",
    "\n",
    "X_train, X_test, y_train, y_test = train_test_split(train_data, train_label, test_size =0.25, random_state=123, stratify = train_label)\n",
    "\n",
    "# stratify : train_label의 비율을 살려 테스트와 트레인 부분을 나눈다. "
   ]
  },
  {
   "cell_type": "markdown",
   "metadata": {},
   "source": [
    "### SMOTE 를 이용. 비대칭 데이터 문제를 해결하기 위한 오버샘플링\n",
    "SMOTE : 기존의 소수의 값 주변의 값들로 데이터 생성  \n",
    "\n",
    "### 언더 샘플링\n",
    "* RandomUnderSampler: random under-sampling method\n",
    "* TomekLinks: Tomek’s link method\n",
    "* CondensedNearestNeighbour: condensed nearest neighbour method\n",
    "* OneSidedSelection: under-sampling based on one-sided selection method\n",
    "* EditedNearestNeighbours: edited nearest neighbour method\n",
    "* NeighbourhoodCleaningRule: neighbourhood cleaning rule\n",
    "\n",
    "### 오버 샘플링\n",
    "* RandomOverSampler: random sampler\n",
    "* ADASYN: Adaptive Synthetic Sampling Approach for Imbalanced Learning  \n",
    "* SMOTE: Synthetic Minority Over-sampling Technique\n",
    "\n",
    "###  복합 샘플링\n",
    "* SMOTEENN: SMOTE + ENN\n",
    "* SMOTETomek: SMOTE + Tomek"
   ]
  },
  {
   "cell_type": "code",
   "execution_count": 11,
   "metadata": {},
   "outputs": [
    {
     "name": "stderr",
     "output_type": "stream",
     "text": [
      "Using TensorFlow backend.\n"
     ]
    }
   ],
   "source": [
    "from imblearn.over_sampling import SMOTE"
   ]
  },
  {
   "cell_type": "code",
   "execution_count": 12,
   "metadata": {},
   "outputs": [],
   "source": [
    "smote = SMOTE(random_state=0)\n",
    "X_train_over, y_train_over = smote.fit_sample(X_train,y_train)"
   ]
  },
  {
   "cell_type": "code",
   "execution_count": 13,
   "metadata": {},
   "outputs": [
    {
     "name": "stdout",
     "output_type": "stream",
     "text": [
      "X_train 데이터 수 : 190\n",
      "X_train_over 데이터 수 : 316\n",
      "y_train 데이터 비율 : \n",
      "0    158\n",
      "1     32\n",
      "Name: win, dtype: int64\n",
      "y_train_over 데이터 비율 : \n",
      "1    158\n",
      "0    158\n",
      "Name: win, dtype: int64\n"
     ]
    }
   ],
   "source": [
    "print(\"X_train 데이터 수 : {}\".format(len(X_train)))\n",
    "print(\"X_train_over 데이터 수 : {}\".format(len(X_train_over)))\n",
    "print(\"y_train 데이터 비율 : \\n{}\".format(y_train.value_counts()))\n",
    "print(\"y_train_over 데이터 비율 : \\n{}\".format(y_train_over.value_counts()))\n"
   ]
  },
  {
   "cell_type": "markdown",
   "metadata": {},
   "source": [
    "### StratifiedKFold를 이용하여 비율에 맞게 데이터를 나눈다. \n",
    "\n",
    "일반적으로 회귀에는 기본 k-겹 교차검증을 사용하고, 분류에는 StratifiedKFold를 사용한다. 파라미터 찾을때 사용"
   ]
  },
  {
   "cell_type": "code",
   "execution_count": 14,
   "metadata": {},
   "outputs": [],
   "source": [
    "from sklearn.model_selection import StratifiedKFold"
   ]
  },
  {
   "cell_type": "code",
   "execution_count": 15,
   "metadata": {},
   "outputs": [],
   "source": [
    "skf = StratifiedKFold(n_splits=10)"
   ]
  },
  {
   "cell_type": "markdown",
   "metadata": {},
   "source": [
    "### Decision Tree\n",
    "\n",
    "* max_depth를 임의로 정해주지 않으면 자동으로 모든 leaf가 pure해질때까지 나눈다. 그말인 즉슨, 모든 leaf가 확실한 leaf이고, 확률은 모두 해당 클래스에 대해서만 1이라는 것이다."
   ]
  },
  {
   "cell_type": "code",
   "execution_count": 16,
   "metadata": {},
   "outputs": [],
   "source": [
    "from sklearn.tree import DecisionTreeClassifier"
   ]
  },
  {
   "cell_type": "code",
   "execution_count": 187,
   "metadata": {},
   "outputs": [
    {
     "name": "stdout",
     "output_type": "stream",
     "text": [
      "f1 score : 0.3636\n"
     ]
    },
    {
     "data": {
      "text/plain": [
       "array([[28, 25],\n",
       "       [ 3,  8]], dtype=int64)"
      ]
     },
     "execution_count": 187,
     "metadata": {},
     "output_type": "execute_result"
    }
   ],
   "source": [
    "DTC = DecisionTreeClassifier(ccp_alpha=0.0, class_weight=None, criterion='entropy',\n",
    "                       max_depth=3, max_features=None, max_leaf_nodes=4,\n",
    "                       min_impurity_decrease=0.0, min_impurity_split=None,\n",
    "                       min_samples_leaf=1, min_samples_split=2,\n",
    "                       min_weight_fraction_leaf=0.0, presort='deprecated',\n",
    "                       random_state=1234, splitter='best' )\n",
    "\n",
    "DTC.fit(X_train_over,y_train_over)\n",
    "\n",
    "pred_DTC = DTC.predict(X_test)\n",
    "\n",
    "print(\"f1 score : {0:.4f}\".format(f1_score(y_test,pred)))\n",
    "\n",
    "confusion_matrix(y_test,pred)"
   ]
  },
  {
   "cell_type": "markdown",
   "metadata": {},
   "source": [
    "### GridSearchCV로 최적의 파라미터 찾기¶"
   ]
  },
  {
   "cell_type": "code",
   "execution_count": 18,
   "metadata": {},
   "outputs": [],
   "source": [
    "from sklearn.model_selection import GridSearchCV"
   ]
  },
  {
   "cell_type": "code",
   "execution_count": 185,
   "metadata": {},
   "outputs": [
    {
     "name": "stdout",
     "output_type": "stream",
     "text": [
      "f1 score : 0.3636\n"
     ]
    },
    {
     "data": {
      "text/plain": [
       "array([[28, 25],\n",
       "       [ 3,  8]], dtype=int64)"
      ]
     },
     "execution_count": 185,
     "metadata": {},
     "output_type": "execute_result"
    }
   ],
   "source": [
    "DT = DecisionTreeClassifier(random_state =1234)\n",
    "parameters = {\n",
    "    \"criterion\" :[ \"entropy\"],\n",
    "    \"max_depth\" :[3,4,5,6,7],\n",
    "    \"splitter\" :[\"best\"],\n",
    "    \"max_leaf_nodes\" :[2,3,4,5],\n",
    "    \"min_samples_leaf\" : [1],\n",
    "    \"min_samples_split\" : [2]\n",
    "    \n",
    "    \n",
    "}\n",
    "\n",
    "grid_dt = GridSearchCV(DT,\n",
    "                         param_grid=parameters,\n",
    "                         scoring=\"f1\",\n",
    "                         cv=skf,\n",
    "                        n_jobs=-1 )\n",
    "grid_dt.fit(X_train_over, y_train_over)\n",
    "\n",
    "pred = grid_dt.predict(X_test)\n",
    "\n",
    "print(\"f1 score : {0:.4f}\".format(f1_score(y_test,pred)))\n",
    "\n",
    "confusion_matrix(y_test,pred)"
   ]
  },
  {
   "cell_type": "code",
   "execution_count": 186,
   "metadata": {},
   "outputs": [
    {
     "data": {
      "text/plain": [
       "DecisionTreeClassifier(ccp_alpha=0.0, class_weight=None, criterion='entropy',\n",
       "                       max_depth=3, max_features=None, max_leaf_nodes=4,\n",
       "                       min_impurity_decrease=0.0, min_impurity_split=None,\n",
       "                       min_samples_leaf=1, min_samples_split=2,\n",
       "                       min_weight_fraction_leaf=0.0, presort='deprecated',\n",
       "                       random_state=1234, splitter='best')"
      ]
     },
     "execution_count": 186,
     "metadata": {},
     "output_type": "execute_result"
    }
   ],
   "source": [
    "grid_dt.best_estimator_"
   ]
  },
  {
   "cell_type": "markdown",
   "metadata": {},
   "source": [
    "### Decision Tree 시각화"
   ]
  },
  {
   "cell_type": "code",
   "execution_count": 165,
   "metadata": {},
   "outputs": [],
   "source": [
    "from sklearn.externals.six import StringIO  \n",
    "from IPython.display import Image  \n",
    "from sklearn.tree import export_graphviz\n",
    "import pydotplus\n"
   ]
  },
  {
   "cell_type": "code",
   "execution_count": 166,
   "metadata": {},
   "outputs": [
    {
     "data": {
      "image/png": "[encoded data removed]",
      "text/plain": [
       "<IPython.core.display.Image object>"
      ]
     },
     "execution_count": 166,
     "metadata": {},
     "output_type": "execute_result"
    }
   ],
   "source": [
    "dot_data = StringIO()\n",
    "\n",
    "export_graphviz(DTC, out_file=dot_data,  \n",
    "                filled=True, rounded=True,\n",
    "                special_characters=True,\n",
    "                class_names=[\"win\", \"lose\"],\n",
    "                 feature_names=X_train.columns\n",
    "              )\n",
    "\n",
    "graph = pydotplus.graph_from_dot_data(dot_data.getvalue())  \n",
    "Image(graph.create_png())"
   ]
  },
  {
   "cell_type": "markdown",
   "metadata": {},
   "source": [
    "### plot 한글 패치"
   ]
  },
  {
   "cell_type": "code",
   "execution_count": 23,
   "metadata": {},
   "outputs": [],
   "source": [
    "%matplotlib inline\n",
    "\n",
    "import os\n",
    "from matplotlib import font_manager as fm, rcParams\n",
    "import matplotlib.pyplot as plt\n",
    "import matplotlib as mpl"
   ]
  },
  {
   "cell_type": "code",
   "execution_count": 24,
   "metadata": {},
   "outputs": [],
   "source": [
    "fm.get_fontconfig_fonts()\n",
    "# font_location = '/usr/share/fonts/truetype/nanum/NanumGothicOTF.ttf'\n",
    "font_location = 'C:/Windows/Fonts/NanumGothic.ttf' # For Windows\n",
    "font_name = fm.FontProperties(fname=font_location).get_name()\n",
    "mpl.rc('font', family=font_name)\n"
   ]
  },
  {
   "cell_type": "markdown",
   "metadata": {},
   "source": [
    "### Decision Tree 특성 중요도 plot"
   ]
  },
  {
   "cell_type": "code",
   "execution_count": 25,
   "metadata": {},
   "outputs": [],
   "source": [
    "def plot_feature_importances_final_best(model):\n",
    "    plt.figure(figsize=(9, 9))\n",
    "    n_features = X_train.shape[1]\n",
    "    plt.barh(range(n_features), model.feature_importances_, align='center')\n",
    "    plt.yticks(np.arange(n_features), X_train.columns)\n",
    "    plt.xlabel(\"특성 중요도\")\n",
    "    plt.ylabel(\"특성\")\n",
    "    plt.ylim(-1, n_features)"
   ]
  },
  {
   "cell_type": "code",
   "execution_count": 167,
   "metadata": {},
   "outputs": [
    {
     "data": {
      "image/png": "[encoded data removed]",
      "text/plain": [
       "<Figure size 648x648 with 1 Axes>"
      ]
     },
     "metadata": {
      "needs_background": "light"
     },
     "output_type": "display_data"
    }
   ],
   "source": [
    "plot_feature_importances_final_best(DTC)"
   ]
  },
  {
   "cell_type": "markdown",
   "metadata": {},
   "source": [
    "### 앙상블(emsemble)\n",
    "앙상블이란 여러 개의 결정 트리(Decision Tree)를 결합하여 하나의 결정 트리보다 더 좋은 성능을 내는 머신러닝 기법이다.  \n",
    "크게 3종류로 나눌 수 있다. \n",
    "\n",
    "* Bagging\n",
    "* Boosting\n",
    "* Voting\n",
    "\n",
    "Bagging : Bagging은 Bootstrap Aggregation의 약자. 배깅은 샘플을 여러 번 뽑아(Bootstrap) 각 모델을 학습시켜 결과물을 집계(Aggregration)하는 방법. RandomForest\n",
    "\n",
    "Boosting : 가중치를 활용하여 약 분류기를 강 분류기로 만드는 방법. "
   ]
  },
  {
   "cell_type": "markdown",
   "metadata": {},
   "source": [
    "<img src = \"./img/bagging_and_boosting.png\">\n",
    "\n",
    "출처: swallow.github.io"
   ]
  },
  {
   "cell_type": "markdown",
   "metadata": {},
   "source": [
    "### GBC(GradientBoostingClassifier)\n",
    "\n",
    "여러개의 Decision Tree를 묶어 강력한 모델을 만드는 기법.\n",
    "이전 tree의 오차를 보완하는 방식으로 tree를 만든다. \n",
    "\n",
    "* learning_rate를 높이면 보정을 강하게 하기 때문에 복잡한 모델을 만든다.\n",
    "* n_estimator 값을 키우면 ensemble에 트리가 더 많이 추가되어 모델의 복잡도가 커지고 train 세트를 더 정확하게 fitting한다.(오버피팅 주의)\n",
    "* 기본값: max_depth=3, learning_rate=0.1"
   ]
  },
  {
   "cell_type": "code",
   "execution_count": 27,
   "metadata": {},
   "outputs": [],
   "source": [
    "from sklearn.ensemble import GradientBoostingClassifier"
   ]
  },
  {
   "cell_type": "code",
   "execution_count": 182,
   "metadata": {},
   "outputs": [
    {
     "name": "stdout",
     "output_type": "stream",
     "text": [
      "f1 Score : 0.4615\n"
     ]
    },
    {
     "data": {
      "text/plain": [
       "array([[44,  9],\n",
       "       [ 5,  6]], dtype=int64)"
      ]
     },
     "execution_count": 182,
     "metadata": {},
     "output_type": "execute_result"
    }
   ],
   "source": [
    "GBC = GradientBoostingClassifier(ccp_alpha=0.0, criterion='friedman_mse', init=None,\n",
    "                           learning_rate=0.5, loss='deviance', max_depth=4,\n",
    "                           max_features=None, max_leaf_nodes=None,\n",
    "                           min_impurity_decrease=0.0, min_impurity_split=None,\n",
    "                           min_samples_leaf=1, min_samples_split=2,\n",
    "                           min_weight_fraction_leaf=0.0, n_estimators=100,\n",
    "                           n_iter_no_change=None, presort='deprecated',\n",
    "                           random_state=1234, subsample=1.0, tol=0.0001,\n",
    "                           validation_fraction=0.1, verbose=0,\n",
    "                           warm_start=False)\n",
    "GBC.fit(X_train_over, y_train_over)\n",
    "\n",
    "pred_GBC= GBC.predict(X_test)\n",
    "\n",
    "print(\"f1 Score : {0:.4f}\".format(f1_score(y_test,pred)))\n",
    "\n",
    "confusion_matrix(y_test,pred)"
   ]
  },
  {
   "cell_type": "markdown",
   "metadata": {},
   "source": [
    "### GridSearchCV로 최적의 파라미터 찾기"
   ]
  },
  {
   "cell_type": "code",
   "execution_count": 180,
   "metadata": {},
   "outputs": [
    {
     "name": "stdout",
     "output_type": "stream",
     "text": [
      "f1 score : 0.4615\n"
     ]
    },
    {
     "data": {
      "text/plain": [
       "array([[44,  9],\n",
       "       [ 5,  6]], dtype=int64)"
      ]
     },
     "execution_count": 180,
     "metadata": {},
     "output_type": "execute_result"
    }
   ],
   "source": [
    "GB = GradientBoostingClassifier(random_state =1234)\n",
    "parameters = {\n",
    "    \"max_depth\" :[4],\n",
    "    \"learning_rate\" :[0.55,0.5,0.45],\n",
    "    \"n_estimators\" :[100]\n",
    "   \n",
    "    \n",
    "    \n",
    "}\n",
    "\n",
    "grid_gb = GridSearchCV(GB,\n",
    "                         param_grid=parameters,\n",
    "                         scoring=\"f1\",\n",
    "                         cv=skf,\n",
    "                        n_jobs=-1 )\n",
    "grid_gb.fit(X_train_over, y_train_over)\n",
    "\n",
    "pred = grid_gb.predict(X_test)\n",
    "\n",
    "print(\"f1 score : {0:.4f}\".format(f1_score(y_test,pred)))\n",
    "\n",
    "confusion_matrix(y_test,pred)"
   ]
  },
  {
   "cell_type": "code",
   "execution_count": 181,
   "metadata": {},
   "outputs": [
    {
     "data": {
      "text/plain": [
       "GradientBoostingClassifier(ccp_alpha=0.0, criterion='friedman_mse', init=None,\n",
       "                           learning_rate=0.5, loss='deviance', max_depth=4,\n",
       "                           max_features=None, max_leaf_nodes=None,\n",
       "                           min_impurity_decrease=0.0, min_impurity_split=None,\n",
       "                           min_samples_leaf=1, min_samples_split=2,\n",
       "                           min_weight_fraction_leaf=0.0, n_estimators=100,\n",
       "                           n_iter_no_change=None, presort='deprecated',\n",
       "                           random_state=1234, subsample=1.0, tol=0.0001,\n",
       "                           validation_fraction=0.1, verbose=0,\n",
       "                           warm_start=False)"
      ]
     },
     "execution_count": 181,
     "metadata": {},
     "output_type": "execute_result"
    }
   ],
   "source": [
    "grid_gb.best_estimator_"
   ]
  },
  {
   "cell_type": "markdown",
   "metadata": {},
   "source": [
    "### GBC 특성 중요도 Plot"
   ]
  },
  {
   "cell_type": "code",
   "execution_count": 183,
   "metadata": {},
   "outputs": [
    {
     "data": {
      "image/png": "[encoded data removed]",
      "text/plain": [
       "<Figure size 648x648 with 1 Axes>"
      ]
     },
     "metadata": {
      "needs_background": "light"
     },
     "output_type": "display_data"
    }
   ],
   "source": [
    "plot_feature_importances_final_best(GBC)"
   ]
  },
  {
   "cell_type": "markdown",
   "metadata": {},
   "source": [
    "### XGBC(XGBClassifier)\n",
    "\n",
    "Gradient Boosting(경사하강법)의 단점을 보완한 부스터   \n",
    "CART(Classification and Regresstion Tree)기반 : Addictive learning = 더해서 배운다. 분류와 회귀 둘다 가능하다. \n",
    "\n",
    "일반 파라미터 : 도구 모양을 결정하는 파라미터. linear or tree\n",
    "* booster : ['gbtree', 'gblinear', 'dart']\n",
    "* nthread\n",
    "* num_feature\n",
    "\n",
    "부스팅 파라미터 : 트리마다 가지를 칠 때 적용하는 옵션. 선택한 booster마다 파라미터가 다름 \n",
    "\n",
    "학습과정 파라미터 : 최적화 퍼포먼스를 결정하는 파라미터 \n",
    "\n",
    "커맨드라인 파라미터 : epoch랑 비슷 \n",
    "\n",
    "#### 파라미터 최적화 \n",
    "- learning_rate, default = 0.3, 0~1 사이, 학습 단계별로 가중치를 얼만큼 줄까를 결정. 낮을수록 보수적\n",
    "- gamma : min split loss, default = 0, 0~무한대 사이, 의사결정나무가 가지를 칠때 타켓변수에 대해 얼마나 설명할수 있나. 클수록 보수적, 가지를 안치려고 함\n",
    "- max_depth : default = 6, 0~무한대.\n",
    "\n",
    "xgboost 파라미터 :\n",
    "https://xgboost.readthedocs.io/en/latest/parameter.html\n",
    "https://apple-rbox.tistory.com/6"
   ]
  },
  {
   "cell_type": "code",
   "execution_count": 32,
   "metadata": {},
   "outputs": [],
   "source": [
    "import xgboost as xgb\n",
    "from xgboost import XGBClassifier"
   ]
  },
  {
   "cell_type": "code",
   "execution_count": 177,
   "metadata": {},
   "outputs": [
    {
     "name": "stdout",
     "output_type": "stream",
     "text": [
      "f1 Score : 0.5600\n"
     ]
    },
    {
     "data": {
      "text/plain": [
       "array([[46,  7],\n",
       "       [ 4,  7]], dtype=int64)"
      ]
     },
     "execution_count": 177,
     "metadata": {},
     "output_type": "execute_result"
    }
   ],
   "source": [
    "XGBC = XGBClassifier(base_score=0.1, booster='gbtree', colsample_bylevel=1,\n",
    "              colsample_bynode=1, colsample_bytree=1, gamma=0,\n",
    "              learning_rate=0.5, max_delta_step=0, max_depth=6,\n",
    "              min_child_weight=1, missing=None, n_estimators=200, n_jobs=-1,\n",
    "              nthread=None, objective='binary:logistic', random_state=1234,\n",
    "              reg_alpha=0, reg_lambda=1, scale_pos_weight=1, seed=None,\n",
    "              silent=None, subsample=1, verbosity=1) \n",
    "                     \n",
    "\n",
    "XGBC.fit(X_train_over, y_train_over)\n",
    "\n",
    "pred_XGBC= XGBC.predict(X_test)\n",
    "\n",
    "print(\"f1 Score : {0:.4f}\".format(f1_score(y_test,pred)))\n",
    "\n",
    "confusion_matrix(y_test,pred)"
   ]
  },
  {
   "cell_type": "markdown",
   "metadata": {},
   "source": [
    "### GridSearchCV로 최적의 파라미터 찾기"
   ]
  },
  {
   "cell_type": "code",
   "execution_count": 175,
   "metadata": {},
   "outputs": [
    {
     "name": "stdout",
     "output_type": "stream",
     "text": [
      "f1 score : 0.5600\n"
     ]
    },
    {
     "data": {
      "text/plain": [
       "array([[46,  7],\n",
       "       [ 4,  7]], dtype=int64)"
      ]
     },
     "execution_count": 175,
     "metadata": {},
     "output_type": "execute_result"
    }
   ],
   "source": [
    "XGB = XGBClassifier(random_state =1234, n_jobs=-1)\n",
    "parameters = {\n",
    "    \"n_estimators\" :[100,50,150, 200,250,300],\n",
    "    \"base_score\" :[0.5, 0.1, 1],\n",
    "    \"booster\":['gbtree'],\n",
    "    \"learning_rate\" : [0.1,0.5,0.01,0.001],\n",
    "    \"max_depth\" :[3,4,5,6,7,8]\n",
    "}\n",
    "\n",
    "grid_xgb = GridSearchCV(XGB,\n",
    "                         param_grid=parameters,\n",
    "                         scoring=\"f1\",\n",
    "                         cv=skf,\n",
    "                        n_jobs=-1)\n",
    "grid_xgb.fit(X_train_over, y_train_over)\n",
    "\n",
    "pred = grid_xgb.predict(X_test)\n",
    "\n",
    "print(\"f1 score : {0:.4f}\".format(f1_score(y_test,pred)))\n",
    "\n",
    "confusion_matrix(y_test,pred)"
   ]
  },
  {
   "cell_type": "code",
   "execution_count": 176,
   "metadata": {},
   "outputs": [
    {
     "data": {
      "text/plain": [
       "XGBClassifier(base_score=0.1, booster='gbtree', colsample_bylevel=1,\n",
       "              colsample_bynode=1, colsample_bytree=1, gamma=0,\n",
       "              learning_rate=0.5, max_delta_step=0, max_depth=6,\n",
       "              min_child_weight=1, missing=None, n_estimators=200, n_jobs=-1,\n",
       "              nthread=None, objective='binary:logistic', random_state=1234,\n",
       "              reg_alpha=0, reg_lambda=1, scale_pos_weight=1, seed=None,\n",
       "              silent=None, subsample=1, verbosity=1)"
      ]
     },
     "execution_count": 176,
     "metadata": {},
     "output_type": "execute_result"
    }
   ],
   "source": [
    "grid_xgb.best_estimator_"
   ]
  },
  {
   "cell_type": "markdown",
   "metadata": {},
   "source": [
    "### XGBoostClassifier 특성 중요도 plot"
   ]
  },
  {
   "cell_type": "code",
   "execution_count": 178,
   "metadata": {},
   "outputs": [
    {
     "data": {
      "image/png": "[encoded data removed]",
      "text/plain": [
       "<Figure size 648x648 with 1 Axes>"
      ]
     },
     "metadata": {
      "needs_background": "light"
     },
     "output_type": "display_data"
    }
   ],
   "source": [
    "plot_feature_importances_final_best(XGBC)"
   ]
  },
  {
   "cell_type": "markdown",
   "metadata": {},
   "source": [
    "### Light GBMC(light gradient boosting machine)\n",
    "XGBoost의 느린 단점을 보완하기 위해 나옴\n",
    "\n",
    "다른 Booster의 트리는 level-wise(균형 중심)분할을 이용. depth를 줄이고 균형을 맞춤.\n",
    "lightgbm은 leaf-wise(리프 중심)분할. 균형을 맞추지 않고 계속 분할. 비대칭적이고 깊은 트리, 동일한 leaf를 생성할 때 level-wise보다 손실이 적다.\n",
    "\n",
    "파라미터 튜닝 : https://lightgbm.readthedocs.io/en/latest/Parameters.html"
   ]
  },
  {
   "cell_type": "code",
   "execution_count": 37,
   "metadata": {},
   "outputs": [],
   "source": [
    "from lightgbm import LGBMClassifier\n",
    "import lightgbm as lgb"
   ]
  },
  {
   "cell_type": "code",
   "execution_count": 174,
   "metadata": {},
   "outputs": [
    {
     "name": "stdout",
     "output_type": "stream",
     "text": [
      "f1 Score : 0.5600\n"
     ]
    },
    {
     "data": {
      "text/plain": [
       "array([[46,  7],\n",
       "       [ 4,  7]], dtype=int64)"
      ]
     },
     "execution_count": 174,
     "metadata": {},
     "output_type": "execute_result"
    }
   ],
   "source": [
    "LGBC = LGBMClassifier(boosting_type='gbdt', class_weight=None, colsample_bytree=1.0,\n",
    "               importance_type='split', learning_rate=0.1, max_depth=-1,\n",
    "               min_child_samples=20, min_child_weight=0.001, min_split_gain=0.0,\n",
    "               n_estimators=100, n_jobs=-1, num_leaves=31, objective=None,\n",
    "               random_state=1234, reg_alpha=0.0, reg_lambda=0.0, silent=True,\n",
    "               subsample=1.0, subsample_for_bin=200000, subsample_freq=0)\n",
    "\n",
    "LGBC.fit(X_train_over, y_train_over)\n",
    "\n",
    "pred_LGBC = LGBC.predict(X_test)\n",
    "\n",
    "print(\"f1 Score : {0:.4f}\".format(f1_score(y_test,pred)))\n",
    "\n",
    "confusion_matrix(y_test,pred)"
   ]
  },
  {
   "cell_type": "markdown",
   "metadata": {},
   "source": [
    "### GridSearchCV로 최적의 파라미터 찾기"
   ]
  },
  {
   "cell_type": "code",
   "execution_count": 172,
   "metadata": {},
   "outputs": [
    {
     "name": "stdout",
     "output_type": "stream",
     "text": [
      "f1 Score : 0.5600\n"
     ]
    },
    {
     "data": {
      "text/plain": [
       "array([[46,  7],\n",
       "       [ 4,  7]], dtype=int64)"
      ]
     },
     "execution_count": 172,
     "metadata": {},
     "output_type": "execute_result"
    }
   ],
   "source": [
    "LGB =LGBMClassifier(random_state =1234, n_jobs=-1)\n",
    "parameters = {\n",
    "    \"n_estimators\" :[100],\n",
    "   \"learning_rate\":[0.1,0.15, 0.05, 0.01],\n",
    "    \"num_leaves\" : [31],\n",
    "    \"min_child_samples\" : [20]\n",
    "}\n",
    "grid_lgb = GridSearchCV(LGB,\n",
    "                         param_grid=parameters,\n",
    "                         scoring=\"f1\",\n",
    "                         cv=skf,\n",
    "                        n_jobs=-1)\n",
    "grid_lgb.fit(X_train_over, y_train_over)\n",
    "\n",
    "pred = grid_lgb.predict(X_test)\n",
    "\n",
    "print(\"f1 Score : {0:.4f}\".format(f1_score(y_test,pred)))\n",
    "\n",
    "confusion_matrix(y_test,pred)"
   ]
  },
  {
   "cell_type": "code",
   "execution_count": 173,
   "metadata": {},
   "outputs": [
    {
     "data": {
      "text/plain": [
       "LGBMClassifier(boosting_type='gbdt', class_weight=None, colsample_bytree=1.0,\n",
       "               importance_type='split', learning_rate=0.1, max_depth=-1,\n",
       "               min_child_samples=20, min_child_weight=0.001, min_split_gain=0.0,\n",
       "               n_estimators=100, n_jobs=-1, num_leaves=31, objective=None,\n",
       "               random_state=1234, reg_alpha=0.0, reg_lambda=0.0, silent=True,\n",
       "               subsample=1.0, subsample_for_bin=200000, subsample_freq=0)"
      ]
     },
     "execution_count": 173,
     "metadata": {},
     "output_type": "execute_result"
    }
   ],
   "source": [
    "grid_lgb.best_estimator_"
   ]
  },
  {
   "cell_type": "markdown",
   "metadata": {},
   "source": [
    "### LGBMClassifier 특성 중요도 plot"
   ]
  },
  {
   "cell_type": "code",
   "execution_count": 142,
   "metadata": {},
   "outputs": [
    {
     "data": {
      "image/png": "[encoded data removed]",
      "text/plain": [
       "<Figure size 648x648 with 1 Axes>"
      ]
     },
     "metadata": {
      "needs_background": "light"
     },
     "output_type": "display_data"
    }
   ],
   "source": [
    "plot_feature_importances_final_best(LGBC)"
   ]
  },
  {
   "cell_type": "markdown",
   "metadata": {},
   "source": [
    "### RFC(RandomForestClassifier)\n",
    "여러 개의 의사결정나무를 만들고, 그들의 다수결로 결과를 결정하는 방법\n",
    "classification 과 regression 에 모두 쓸 수 있다.  \n",
    "\n",
    "- N-estimator : 랜덤포레스트 안에 만들어지는 의사결정나무 갯수. 트리가 많아지면 속도가 느려지고 너무 트리가 크면 오히려 정확도가 낮아진다. 그러나 일반적으론 트리가 많아질수록 분류를 잘하게 되므로 적절한 trade-off 필요하다.\n",
    "\n",
    "- Max-depth : 랜덤포레스트 안에 있는 각 의사결정나무의 깊이를 설정. 트리가 깊어질수록 더 잘게 분류를 시키므로 일반적으론 정확도가 높아진다.\n",
    "\n",
    "- Min-samples-split : 내부 노드에 데이터를 얼마 만큼씩 최소한 넣을 것인가 설정. 10%~100%로 설정. 100%로 갈수록 underffiting이 일어나서 정확도가 낮아진다. \n",
    "\n",
    "- Min-samples-leaf : 리프 노드에 데이터를 얼마 만큼씩 최소한 넣을 것인가 설정. 10%~100%로 설정. 100%로 갈수록 underffiting이 일어나서 정확도가 낮아진다.\n",
    "\n",
    "- Max-feature : 가장 잘 분류할 feature의 갯수를 설정. \n",
    "\n"
   ]
  },
  {
   "cell_type": "code",
   "execution_count": 42,
   "metadata": {},
   "outputs": [],
   "source": [
    "from sklearn.ensemble import RandomForestClassifier"
   ]
  },
  {
   "cell_type": "code",
   "execution_count": 146,
   "metadata": {},
   "outputs": [
    {
     "name": "stdout",
     "output_type": "stream",
     "text": [
      "f1 Score : 0.4800\n"
     ]
    },
    {
     "data": {
      "text/plain": [
       "array([[45,  8],\n",
       "       [ 5,  6]], dtype=int64)"
      ]
     },
     "execution_count": 146,
     "metadata": {},
     "output_type": "execute_result"
    }
   ],
   "source": [
    "RFC =RandomForestClassifier(bootstrap=True, ccp_alpha=0.0, class_weight=None,\n",
    "                       criterion='gini', max_depth=None, max_features=30,\n",
    "                       max_leaf_nodes=None, max_samples=None,\n",
    "                       min_impurity_decrease=0.0, min_impurity_split=None,\n",
    "                       min_samples_leaf=2, min_samples_split=5,\n",
    "                       min_weight_fraction_leaf=0.0, n_estimators=20, n_jobs=-1,\n",
    "                       oob_score=False, random_state=1234, verbose=0,\n",
    "                       warm_start=False)\n",
    "\n",
    "RFC.fit(X_train_over, y_train_over)\n",
    "\n",
    "pred_RFC = RFC.predict(X_test)\n",
    "\n",
    "print(\"f1 Score : {0:.4f}\".format(f1_score(y_test,pred)))\n",
    "\n",
    "confusion_matrix(y_test,pred)"
   ]
  },
  {
   "cell_type": "markdown",
   "metadata": {},
   "source": [
    "### GridSearchCV로 최적의 파라미터 찾기"
   ]
  },
  {
   "cell_type": "code",
   "execution_count": 144,
   "metadata": {},
   "outputs": [
    {
     "name": "stdout",
     "output_type": "stream",
     "text": [
      "f1 Score : 0.4800\n"
     ]
    },
    {
     "data": {
      "text/plain": [
       "array([[45,  8],\n",
       "       [ 5,  6]], dtype=int64)"
      ]
     },
     "execution_count": 144,
     "metadata": {},
     "output_type": "execute_result"
    }
   ],
   "source": [
    "RF =RandomForestClassifier(random_state =1234, n_jobs=-1)\n",
    "\n",
    "parameters = {\n",
    "    \"n_estimators\" :[10,20,25,30],\n",
    "    \"min_samples_leaf\" : [1,2,3,4,5],\n",
    "    \"min_samples_split\" : [2,3,4,5],\n",
    "    \"max_features\" : [20,30,40,50]\n",
    "  \n",
    "}\n",
    "grid_rf = GridSearchCV(RF,\n",
    "                         param_grid=parameters,\n",
    "                         scoring=\"f1\",\n",
    "                         cv=skf,\n",
    "                        n_jobs=-1)\n",
    "grid_rf.fit(X_train_over, y_train_over)\n",
    "\n",
    "pred = grid_rf.predict(X_test)\n",
    "\n",
    "print(\"f1 Score : {0:.4f}\".format(f1_score(y_test,pred)))\n",
    "\n",
    "confusion_matrix(y_test,pred)\n",
    "\n"
   ]
  },
  {
   "cell_type": "code",
   "execution_count": 145,
   "metadata": {},
   "outputs": [
    {
     "data": {
      "text/plain": [
       "RandomForestClassifier(bootstrap=True, ccp_alpha=0.0, class_weight=None,\n",
       "                       criterion='gini', max_depth=None, max_features=30,\n",
       "                       max_leaf_nodes=None, max_samples=None,\n",
       "                       min_impurity_decrease=0.0, min_impurity_split=None,\n",
       "                       min_samples_leaf=2, min_samples_split=5,\n",
       "                       min_weight_fraction_leaf=0.0, n_estimators=20, n_jobs=-1,\n",
       "                       oob_score=False, random_state=1234, verbose=0,\n",
       "                       warm_start=False)"
      ]
     },
     "execution_count": 145,
     "metadata": {},
     "output_type": "execute_result"
    }
   ],
   "source": [
    "grid_rf.best_estimator_"
   ]
  },
  {
   "cell_type": "markdown",
   "metadata": {},
   "source": [
    "### RFC 특성 중요도 Plot"
   ]
  },
  {
   "cell_type": "code",
   "execution_count": 147,
   "metadata": {},
   "outputs": [
    {
     "data": {
      "image/png": "[encoded data removed]",
      "text/plain": [
       "<Figure size 648x648 with 1 Axes>"
      ]
     },
     "metadata": {
      "needs_background": "light"
     },
     "output_type": "display_data"
    }
   ],
   "source": [
    "plot_feature_importances_final_best(RFC)"
   ]
  },
  {
   "cell_type": "markdown",
   "metadata": {},
   "source": [
    "### 특성 중요도 top 7으로만 RFC 돌리기"
   ]
  },
  {
   "cell_type": "code",
   "execution_count": 47,
   "metadata": {},
   "outputs": [
    {
     "data": {
      "text/html": [
       "<div>\n",
       "<style scoped>\n",
       "    .dataframe tbody tr th:only-of-type {\n",
       "        vertical-align: middle;\n",
       "    }\n",
       "\n",
       "    .dataframe tbody tr th {\n",
       "        vertical-align: top;\n",
       "    }\n",
       "\n",
       "    .dataframe thead th {\n",
       "        text-align: right;\n",
       "    }\n",
       "</style>\n",
       "<table border=\"1\" class=\"dataframe\">\n",
       "  <thead>\n",
       "    <tr style=\"text-align: right;\">\n",
       "      <th></th>\n",
       "      <th>index</th>\n",
       "      <th>import</th>\n",
       "      <th>ft</th>\n",
       "    </tr>\n",
       "  </thead>\n",
       "  <tbody>\n",
       "    <tr>\n",
       "      <td>0</td>\n",
       "      <td>7</td>\n",
       "      <td>0.144189</td>\n",
       "      <td>imdbVotes</td>\n",
       "    </tr>\n",
       "    <tr>\n",
       "      <td>1</td>\n",
       "      <td>0</td>\n",
       "      <td>0.143456</td>\n",
       "      <td>Gross</td>\n",
       "    </tr>\n",
       "    <tr>\n",
       "      <td>2</td>\n",
       "      <td>2</td>\n",
       "      <td>0.136522</td>\n",
       "      <td>Awards</td>\n",
       "    </tr>\n",
       "    <tr>\n",
       "      <td>3</td>\n",
       "      <td>3</td>\n",
       "      <td>0.086964</td>\n",
       "      <td>nominations</td>\n",
       "    </tr>\n",
       "    <tr>\n",
       "      <td>4</td>\n",
       "      <td>31</td>\n",
       "      <td>0.078023</td>\n",
       "      <td>Dec</td>\n",
       "    </tr>\n",
       "    <tr>\n",
       "      <td>5</td>\n",
       "      <td>1</td>\n",
       "      <td>0.066215</td>\n",
       "      <td>Runtime</td>\n",
       "    </tr>\n",
       "    <tr>\n",
       "      <td>6</td>\n",
       "      <td>6</td>\n",
       "      <td>0.061106</td>\n",
       "      <td>Metacr</td>\n",
       "    </tr>\n",
       "    <tr>\n",
       "      <td>7</td>\n",
       "      <td>5</td>\n",
       "      <td>0.040645</td>\n",
       "      <td>tomato</td>\n",
       "    </tr>\n",
       "    <tr>\n",
       "      <td>8</td>\n",
       "      <td>33</td>\n",
       "      <td>0.026444</td>\n",
       "      <td>Jan</td>\n",
       "    </tr>\n",
       "    <tr>\n",
       "      <td>9</td>\n",
       "      <td>23</td>\n",
       "      <td>0.024276</td>\n",
       "      <td>Romance</td>\n",
       "    </tr>\n",
       "    <tr>\n",
       "      <td>10</td>\n",
       "      <td>28</td>\n",
       "      <td>0.023805</td>\n",
       "      <td>War</td>\n",
       "    </tr>\n",
       "    <tr>\n",
       "      <td>11</td>\n",
       "      <td>18</td>\n",
       "      <td>0.023496</td>\n",
       "      <td>Sci-Fi</td>\n",
       "    </tr>\n",
       "    <tr>\n",
       "      <td>12</td>\n",
       "      <td>26</td>\n",
       "      <td>0.022041</td>\n",
       "      <td>Sport</td>\n",
       "    </tr>\n",
       "    <tr>\n",
       "      <td>13</td>\n",
       "      <td>13</td>\n",
       "      <td>0.012722</td>\n",
       "      <td>Mystery</td>\n",
       "    </tr>\n",
       "    <tr>\n",
       "      <td>14</td>\n",
       "      <td>4</td>\n",
       "      <td>0.011825</td>\n",
       "      <td>imdb</td>\n",
       "    </tr>\n",
       "    <tr>\n",
       "      <td>15</td>\n",
       "      <td>15</td>\n",
       "      <td>0.010872</td>\n",
       "      <td>Biography</td>\n",
       "    </tr>\n",
       "    <tr>\n",
       "      <td>16</td>\n",
       "      <td>22</td>\n",
       "      <td>0.010555</td>\n",
       "      <td>Crime</td>\n",
       "    </tr>\n",
       "    <tr>\n",
       "      <td>17</td>\n",
       "      <td>16</td>\n",
       "      <td>0.010263</td>\n",
       "      <td>Drama</td>\n",
       "    </tr>\n",
       "    <tr>\n",
       "      <td>18</td>\n",
       "      <td>8</td>\n",
       "      <td>0.009329</td>\n",
       "      <td>Thriller</td>\n",
       "    </tr>\n",
       "    <tr>\n",
       "      <td>19</td>\n",
       "      <td>30</td>\n",
       "      <td>0.007600</td>\n",
       "      <td>Aug</td>\n",
       "    </tr>\n",
       "    <tr>\n",
       "      <td>20</td>\n",
       "      <td>20</td>\n",
       "      <td>0.007522</td>\n",
       "      <td>History</td>\n",
       "    </tr>\n",
       "    <tr>\n",
       "      <td>21</td>\n",
       "      <td>25</td>\n",
       "      <td>0.007261</td>\n",
       "      <td>Adventure</td>\n",
       "    </tr>\n",
       "    <tr>\n",
       "      <td>22</td>\n",
       "      <td>11</td>\n",
       "      <td>0.006857</td>\n",
       "      <td>Fantasy</td>\n",
       "    </tr>\n",
       "    <tr>\n",
       "      <td>23</td>\n",
       "      <td>10</td>\n",
       "      <td>0.006476</td>\n",
       "      <td>Comedy</td>\n",
       "    </tr>\n",
       "    <tr>\n",
       "      <td>24</td>\n",
       "      <td>35</td>\n",
       "      <td>0.004957</td>\n",
       "      <td>Jun</td>\n",
       "    </tr>\n",
       "    <tr>\n",
       "      <td>25</td>\n",
       "      <td>38</td>\n",
       "      <td>0.004103</td>\n",
       "      <td>Nov</td>\n",
       "    </tr>\n",
       "    <tr>\n",
       "      <td>26</td>\n",
       "      <td>14</td>\n",
       "      <td>0.002925</td>\n",
       "      <td>Music</td>\n",
       "    </tr>\n",
       "    <tr>\n",
       "      <td>27</td>\n",
       "      <td>21</td>\n",
       "      <td>0.002742</td>\n",
       "      <td>Action</td>\n",
       "    </tr>\n",
       "    <tr>\n",
       "      <td>28</td>\n",
       "      <td>29</td>\n",
       "      <td>0.002198</td>\n",
       "      <td>Apr</td>\n",
       "    </tr>\n",
       "    <tr>\n",
       "      <td>29</td>\n",
       "      <td>32</td>\n",
       "      <td>0.001280</td>\n",
       "      <td>Feb</td>\n",
       "    </tr>\n",
       "    <tr>\n",
       "      <td>30</td>\n",
       "      <td>40</td>\n",
       "      <td>0.001237</td>\n",
       "      <td>Sep</td>\n",
       "    </tr>\n",
       "    <tr>\n",
       "      <td>31</td>\n",
       "      <td>9</td>\n",
       "      <td>0.001160</td>\n",
       "      <td>Short</td>\n",
       "    </tr>\n",
       "    <tr>\n",
       "      <td>32</td>\n",
       "      <td>39</td>\n",
       "      <td>0.000932</td>\n",
       "      <td>Oct</td>\n",
       "    </tr>\n",
       "    <tr>\n",
       "      <td>33</td>\n",
       "      <td>12</td>\n",
       "      <td>0.000000</td>\n",
       "      <td>Animation</td>\n",
       "    </tr>\n",
       "    <tr>\n",
       "      <td>34</td>\n",
       "      <td>27</td>\n",
       "      <td>0.000000</td>\n",
       "      <td>Horror</td>\n",
       "    </tr>\n",
       "    <tr>\n",
       "      <td>35</td>\n",
       "      <td>19</td>\n",
       "      <td>0.000000</td>\n",
       "      <td>Musical</td>\n",
       "    </tr>\n",
       "    <tr>\n",
       "      <td>36</td>\n",
       "      <td>34</td>\n",
       "      <td>0.000000</td>\n",
       "      <td>Jul</td>\n",
       "    </tr>\n",
       "    <tr>\n",
       "      <td>37</td>\n",
       "      <td>24</td>\n",
       "      <td>0.000000</td>\n",
       "      <td>Family</td>\n",
       "    </tr>\n",
       "    <tr>\n",
       "      <td>38</td>\n",
       "      <td>36</td>\n",
       "      <td>0.000000</td>\n",
       "      <td>Mar</td>\n",
       "    </tr>\n",
       "    <tr>\n",
       "      <td>39</td>\n",
       "      <td>37</td>\n",
       "      <td>0.000000</td>\n",
       "      <td>May</td>\n",
       "    </tr>\n",
       "    <tr>\n",
       "      <td>40</td>\n",
       "      <td>17</td>\n",
       "      <td>0.000000</td>\n",
       "      <td>Western</td>\n",
       "    </tr>\n",
       "  </tbody>\n",
       "</table>\n",
       "</div>"
      ],
      "text/plain": [
       "    index    import           ft\n",
       "0       7  0.144189    imdbVotes\n",
       "1       0  0.143456        Gross\n",
       "2       2  0.136522       Awards\n",
       "3       3  0.086964  nominations\n",
       "4      31  0.078023          Dec\n",
       "5       1  0.066215      Runtime\n",
       "6       6  0.061106       Metacr\n",
       "7       5  0.040645       tomato\n",
       "8      33  0.026444          Jan\n",
       "9      23  0.024276      Romance\n",
       "10     28  0.023805          War\n",
       "11     18  0.023496       Sci-Fi\n",
       "12     26  0.022041        Sport\n",
       "13     13  0.012722      Mystery\n",
       "14      4  0.011825         imdb\n",
       "15     15  0.010872    Biography\n",
       "16     22  0.010555        Crime\n",
       "17     16  0.010263        Drama\n",
       "18      8  0.009329     Thriller\n",
       "19     30  0.007600          Aug\n",
       "20     20  0.007522      History\n",
       "21     25  0.007261    Adventure\n",
       "22     11  0.006857      Fantasy\n",
       "23     10  0.006476       Comedy\n",
       "24     35  0.004957          Jun\n",
       "25     38  0.004103          Nov\n",
       "26     14  0.002925        Music\n",
       "27     21  0.002742       Action\n",
       "28     29  0.002198          Apr\n",
       "29     32  0.001280          Feb\n",
       "30     40  0.001237          Sep\n",
       "31      9  0.001160        Short\n",
       "32     39  0.000932          Oct\n",
       "33     12  0.000000    Animation\n",
       "34     27  0.000000       Horror\n",
       "35     19  0.000000      Musical\n",
       "36     34  0.000000          Jul\n",
       "37     24  0.000000       Family\n",
       "38     36  0.000000          Mar\n",
       "39     37  0.000000          May\n",
       "40     17  0.000000      Western"
      ]
     },
     "execution_count": 47,
     "metadata": {},
     "output_type": "execute_result"
    }
   ],
   "source": [
    "df = pd.DataFrame()\n",
    "df['import']= grid_rf.best_estimator_.feature_importances_\n",
    "df['ft']  = X_train_over.columns\n",
    "df.sort_values('import', ascending=False, inplace = True)\n",
    "df.reset_index(inplace=True)\n",
    "df"
   ]
  },
  {
   "cell_type": "code",
   "execution_count": 152,
   "metadata": {},
   "outputs": [
    {
     "name": "stdout",
     "output_type": "stream",
     "text": [
      "f1 Score : 0.3077\n"
     ]
    },
    {
     "data": {
      "text/plain": [
       "array([[42, 11],\n",
       "       [ 7,  4]], dtype=int64)"
      ]
     },
     "execution_count": 152,
     "metadata": {},
     "output_type": "execute_result"
    }
   ],
   "source": [
    "RFC1 =RandomForestClassifier(bootstrap=True, ccp_alpha=0.0, class_weight=None,\n",
    "                       criterion='gini', max_depth=None, max_features=8,\n",
    "                       max_leaf_nodes=None, max_samples=None,\n",
    "                       min_impurity_decrease=0.0, min_impurity_split=None,\n",
    "                       min_samples_leaf=1, min_samples_split=2,\n",
    "                       min_weight_fraction_leaf=0.0, n_estimators=10, n_jobs=-1,\n",
    "                       oob_score=False, random_state=1234, verbose=0,\n",
    "                       warm_start=False)\n",
    "\n",
    "RFC1.fit(X_train_over[list(df.loc[:7,'ft'])], y_train_over)\n",
    "\n",
    "pred_RFC1 = RFC1.predict(X_test[list(df.loc[:7,'ft'])])\n",
    "\n",
    "print(\"f1 Score : {0:.4f}\".format(f1_score(y_test,pred)))\n",
    "\n",
    "confusion_matrix(y_test,pred)"
   ]
  },
  {
   "cell_type": "code",
   "execution_count": 150,
   "metadata": {},
   "outputs": [
    {
     "name": "stdout",
     "output_type": "stream",
     "text": [
      "f1 Score : 0.3077\n"
     ]
    },
    {
     "data": {
      "text/plain": [
       "array([[42, 11],\n",
       "       [ 7,  4]], dtype=int64)"
      ]
     },
     "execution_count": 150,
     "metadata": {},
     "output_type": "execute_result"
    }
   ],
   "source": [
    "RF =RandomForestClassifier(random_state =1234, n_jobs=-1)\n",
    "\n",
    "parameters = {\n",
    "    \"n_estimators\" :[10,20,30,40],\n",
    "    \"min_samples_leaf\" : [1,2,3,4,5,6],\n",
    "    \"min_samples_split\" : [2,3,4,5,6],\n",
    "   \"max_features\" :[8]\n",
    "  \n",
    "}\n",
    "grid_rf1 = GridSearchCV(RF,\n",
    "                         param_grid=parameters,\n",
    "                         scoring=\"f1\",\n",
    "                         cv=skf,\n",
    "                        n_jobs=-1)\n",
    "\n",
    "grid_rf1.fit(X_train_over[list(df.loc[:7,'ft'])], y_train_over)\n",
    "\n",
    "pred = grid_rf1.predict(X_test[list(df.loc[:7,'ft'])])\n",
    "\n",
    "print(\"f1 Score : {0:.4f}\".format(f1_score(y_test,pred)))\n",
    "\n",
    "confusion_matrix(y_test,pred)\n"
   ]
  },
  {
   "cell_type": "code",
   "execution_count": 151,
   "metadata": {},
   "outputs": [
    {
     "data": {
      "text/plain": [
       "RandomForestClassifier(bootstrap=True, ccp_alpha=0.0, class_weight=None,\n",
       "                       criterion='gini', max_depth=None, max_features=8,\n",
       "                       max_leaf_nodes=None, max_samples=None,\n",
       "                       min_impurity_decrease=0.0, min_impurity_split=None,\n",
       "                       min_samples_leaf=1, min_samples_split=2,\n",
       "                       min_weight_fraction_leaf=0.0, n_estimators=10, n_jobs=-1,\n",
       "                       oob_score=False, random_state=1234, verbose=0,\n",
       "                       warm_start=False)"
      ]
     },
     "execution_count": 151,
     "metadata": {},
     "output_type": "execute_result"
    }
   ],
   "source": [
    "grid_rf1.best_estimator_"
   ]
  },
  {
   "cell_type": "markdown",
   "metadata": {},
   "source": [
    "f1 Score가 0.48 -> 0.3226 로 변화하였다.    \n",
    "max_feature의 값이 줄어들면서 분류 성능이 낮아졌다. "
   ]
  },
  {
   "cell_type": "markdown",
   "metadata": {},
   "source": [
    "### LogisticRegression\n",
    "* 범주형 변수를 예측하는 회귀모델 \n",
    "* odds(승산) = 발생할 확률 / 발생하지 않을 확률 = p / (1-p)\n",
    "* log Odds ratio\n",
    "* 로짓변환 : y -> log(y/1-y) =log(Odds) = c + ax\n",
    "* sigmoid 함수 \n",
    "* \"독립변수 X에 대한 선형 회귀식을 X가 주어졌을 때의 반응 변수 Y의 로그 오즈에 적합시킨다.\"\n",
    "* \"편의(bias)가 없는 타당한 계수 추정치를 계산할 수 있다.\" -> 불균형한 데이터를 오버샘플링하면 모집단과 특성이 달라지는데 이러면 수치가 달라짐. 로지스틱 회귀는 계수추정치는 변하지 않고 절편만 바뀜. = 편의 없이 계수 추정치를 구하는 방법이다. \n"
   ]
  },
  {
   "cell_type": "code",
   "execution_count": 51,
   "metadata": {},
   "outputs": [],
   "source": [
    "from sklearn.linear_model import LogisticRegression"
   ]
  },
  {
   "cell_type": "code",
   "execution_count": 156,
   "metadata": {},
   "outputs": [
    {
     "name": "stdout",
     "output_type": "stream",
     "text": [
      "f1 score : 0.3571\n"
     ]
    },
    {
     "data": {
      "text/plain": [
       "array([[41, 12],\n",
       "       [ 6,  5]], dtype=int64)"
      ]
     },
     "execution_count": 156,
     "metadata": {},
     "output_type": "execute_result"
    }
   ],
   "source": [
    "LRC = LogisticRegression(C=1.0, class_weight=None, dual=False, fit_intercept=True,\n",
    "                   intercept_scaling=1, l1_ratio=None, max_iter=100,\n",
    "                   multi_class='auto', n_jobs=-1, penalty='l2',\n",
    "                   random_state=1234, solver='newton-cg', tol=0.0001, verbose=0,\n",
    "                   warm_start=False)\n",
    "LRC.fit(X_train_over, y_train_over)\n",
    "pred_LRC = LRC.predict(X_test)\n",
    "print(\"f1 score : {0:.4f}\".format(f1_score(y_test,pred)))\n",
    "confusion_matrix(y_test,pred)"
   ]
  },
  {
   "cell_type": "markdown",
   "metadata": {},
   "source": [
    "### GridSearchCV로 최적의 파라미터 찾기"
   ]
  },
  {
   "cell_type": "code",
   "execution_count": 154,
   "metadata": {},
   "outputs": [
    {
     "name": "stdout",
     "output_type": "stream",
     "text": [
      "f1 Score : 0.3571\n"
     ]
    },
    {
     "data": {
      "text/plain": [
       "array([[41, 12],\n",
       "       [ 6,  5]], dtype=int64)"
      ]
     },
     "execution_count": 154,
     "metadata": {},
     "output_type": "execute_result"
    }
   ],
   "source": [
    "LR =LogisticRegression(random_state =1234, n_jobs=-1)\n",
    "\n",
    "parameters = {\n",
    "     \"penalty\" : ['l1', 'l2', 'elasticnet', 'none'],\n",
    "    \"solver\" : ['newton-cg', 'lbfgs', 'liblinear', 'sag', 'saga']\n",
    "  \n",
    "}\n",
    "grid_lr = GridSearchCV(LR,\n",
    "                         param_grid=parameters,\n",
    "                         scoring=\"f1\",\n",
    "                         cv=skf,\n",
    "                        n_jobs=-1)\n",
    "grid_lr.fit(X_train_over, y_train_over)\n",
    "\n",
    "pred = grid_lr.predict(X_test)\n",
    "\n",
    "print(\"f1 Score : {0:.4f}\".format(f1_score(y_test,pred)))\n",
    "\n",
    "confusion_matrix(y_test,pred)\n",
    "\n"
   ]
  },
  {
   "cell_type": "code",
   "execution_count": 155,
   "metadata": {},
   "outputs": [
    {
     "data": {
      "text/plain": [
       "LogisticRegression(C=1.0, class_weight=None, dual=False, fit_intercept=True,\n",
       "                   intercept_scaling=1, l1_ratio=None, max_iter=100,\n",
       "                   multi_class='auto', n_jobs=-1, penalty='l2',\n",
       "                   random_state=1234, solver='newton-cg', tol=0.0001, verbose=0,\n",
       "                   warm_start=False)"
      ]
     },
     "execution_count": 155,
     "metadata": {},
     "output_type": "execute_result"
    }
   ],
   "source": [
    "grid_lr.best_estimator_"
   ]
  },
  {
   "cell_type": "markdown",
   "metadata": {},
   "source": [
    "### votingClassifier\n",
    "\n",
    "* hard voting: 단순 투표. 개별 모형의 결과 기준\n",
    "* soft voting: 가중치 투표. 개별 모형의 조건부 확률의 합 기준    \n",
    "#  \n",
    "* estimators: 개별 모형 목록, 리스트나 named parameter 형식으로 입력\n",
    "* voting: 문자열 {hard, soft} hard voting 과 soft voting 선택. 디폴트는 hard\n",
    "* weights: 사용자 가중치 리스트"
   ]
  },
  {
   "cell_type": "code",
   "execution_count": 57,
   "metadata": {},
   "outputs": [],
   "source": [
    "from sklearn.ensemble import VotingClassifier"
   ]
  },
  {
   "cell_type": "code",
   "execution_count": 238,
   "metadata": {},
   "outputs": [
    {
     "name": "stdout",
     "output_type": "stream",
     "text": [
      "Hard Voting 분류기 f1 score: 0.6154\n",
      "DecisionTreeClassifier f1 score :  0.3636\n",
      "GradientBoostingClassifier f1 score :  0.4615\n",
      "XGBClassifier f1 score :  0.5600\n",
      "LGBMClassifier f1 score :  0.5600\n",
      "RandomForestClassifier f1 score :  0.4800\n",
      "LogisticRegression f1 score :  0.3571\n"
     ]
    }
   ],
   "source": [
    "vo_clf = VotingClassifier(estimators=[('DTC', DTC),('GBC', GBC),('XGBC', XGBC), ('LGBC', LGBC ), ('RFC', RFC), ('LRC', LRC)], voting='hard')\n",
    "\n",
    "vo_clf.fit(X_train_over,y_train_over)\n",
    "pred = vo_clf.predict(X_test)\n",
    "print('Hard Voting 분류기 f1 score: {0:.4f}'.format(f1_score(y_test,pred)))\n",
    "\n",
    "classifiers =[DTC, GBC,XGBC,LGBC,RFC, LRC]\n",
    "for classifier in classifiers:\n",
    "    classifier.fit(X_train_over, y_train_over)\n",
    "    pred = classifier.predict(X_test)\n",
    "    class_name = classifier.__class__.__name__\n",
    "    print('{0} f1 score : {1: .4f}'.format(class_name, f1_score(y_test,pred)))"
   ]
  },
  {
   "cell_type": "markdown",
   "metadata": {},
   "source": [
    "hard voting에서 좋은 성능을 위해 좋은 성능을 내는 모델들만 이용하여 hard voting을 할 수 있다.  \n",
    "이 경우에는 빼면 성능이 나빠져서 모두 넣었다. "
   ]
  },
  {
   "cell_type": "code",
   "execution_count": 189,
   "metadata": {
    "scrolled": true
   },
   "outputs": [
    {
     "name": "stdout",
     "output_type": "stream",
     "text": [
      "Soft Voting 분류기 f1 score: 0.5600\n",
      "DecisionTreeClassifier f1 score :  0.3636\n",
      "GradientBoostingClassifier f1 score :  0.4615\n",
      "XGBClassifier f1 score :  0.5600\n",
      "LGBMClassifier f1 score :  0.5600\n",
      "RandomForestClassifier f1 score :  0.4800\n",
      "LogisticRegression f1 score :  0.3571\n"
     ]
    }
   ],
   "source": [
    "vo_clf = VotingClassifier(estimators=[('DTC', DTC),('GBC', GBC),('XGBC', XGBC), ('LGBC', LGBC ), ('RFC', RFC), ('LRC', LRC)], voting='soft')\n",
    "\n",
    "vo_clf.fit(X_train_over,y_train_over)\n",
    "pred = vo_clf.predict(X_test)\n",
    "print('Soft Voting 분류기 f1 score: {0:.4f}'.format(f1_score(y_test,pred)))\n",
    "\n",
    "classifiers =[ DTC, GBC,XGBC,LGBC,RFC, LRC]\n",
    "for classifier in classifiers:\n",
    "    classifier.fit(X_train_over, y_train_over)\n",
    "    pred = classifier.predict(X_test)\n",
    "    class_name = classifier.__class__.__name__\n",
    "    print('{0} f1 score : {1: .4f}'.format(class_name, f1_score(y_test,pred)))"
   ]
  },
  {
   "cell_type": "code",
   "execution_count": 256,
   "metadata": {
    "scrolled": true
   },
   "outputs": [
    {
     "name": "stdout",
     "output_type": "stream",
     "text": [
      "Soft-weighted Voting 분류기 f1 score: 0.5833\n",
      "DecisionTreeClassifier f1 score :  0.3636\n",
      "GradientBoostingClassifier f1 score :  0.4615\n",
      "XGBClassifier f1 score :  0.5600\n",
      "LGBMClassifier f1 score :  0.5600\n",
      "RandomForestClassifier f1 score :  0.4800\n",
      "LogisticRegression f1 score :  0.3571\n"
     ]
    }
   ],
   "source": [
    "vo_clf = VotingClassifier(estimators=[('DTC', DTC),('GBC', GBC),('XGBC', XGBC), ('LGBC', LGBC ), ('RFC', RFC), ('LRC', LRC)], voting='soft', weights=[1,2,2,2,2,1])\n",
    "\n",
    "vo_clf.fit(X_train_over,y_train_over)\n",
    "pred = vo_clf.predict(X_test)\n",
    "print('Soft-weighted Voting 분류기 f1 score: {0:.4f}'.format(f1_score(y_test,pred)))\n",
    "\n",
    "classifiers =[ DTC, GBC,XGBC,LGBC,RFC, LRC]\n",
    "for classifier in classifiers:\n",
    "    classifier.fit(X_train_over, y_train_over)\n",
    "    pred = classifier.predict(X_test)\n",
    "    class_name = classifier.__class__.__name__\n",
    "    print('{0} f1 score : {1: .4f}'.format(class_name, f1_score(y_test,pred)))"
   ]
  },
  {
   "cell_type": "markdown",
   "metadata": {},
   "source": [
    "soft voting 보다 모델에게 가중치를 준 soft-weighted 성능이 더 좋다."
   ]
  },
  {
   "cell_type": "markdown",
   "metadata": {},
   "source": [
    "### EnsembleVoteClassifier을 이용하여 voting\n",
    "VotingClassifier, hard로 한거랑 값이 같다"
   ]
  },
  {
   "cell_type": "code",
   "execution_count": 117,
   "metadata": {},
   "outputs": [],
   "source": [
    "from mlxtend.classifier import EnsembleVoteClassifier\n",
    "from sklearn import model_selection"
   ]
  },
  {
   "cell_type": "code",
   "execution_count": 191,
   "metadata": {},
   "outputs": [
    {
     "name": "stdout",
     "output_type": "stream",
     "text": [
      "EnsembleVoteClassifier 분류기 f1 score: 0.6154\n",
      "DecisionTreeClassifier f1 score :  0.3636\n",
      "GradientBoostingClassifier f1 score :  0.4615\n",
      "XGBClassifier f1 score :  0.5600\n",
      "LGBMClassifier f1 score :  0.5600\n",
      "RandomForestClassifier f1 score :  0.4800\n",
      "LogisticRegression f1 score :  0.3571\n"
     ]
    }
   ],
   "source": [
    "\n",
    "\n",
    "eclf = EnsembleVoteClassifier(clfs=[ DTC, GBC,XGBC, LGBC , RFC, LRC], weights=[1,2,2,2,2,1])\n",
    "\n",
    "eclf.fit(X_train_over,y_train_over)\n",
    "pred = eclf.predict(X_test)\n",
    "print('EnsembleVoteClassifier 분류기 f1 score: {0:.4f}'.format(f1_score(y_test,pred)))\n",
    "\n",
    "classifiers =[ DTC, GBC,XGBC,LGBC,RFC, LRC]\n",
    "for classifier in classifiers:\n",
    "    classifier.fit(X_train_over, y_train_over)\n",
    "    pred = classifier.predict(X_test)\n",
    "    class_name = classifier.__class__.__name__\n",
    "    print('{0} f1 score : {1: .4f}'.format(class_name, f1_score(y_test,pred)))"
   ]
  },
  {
   "cell_type": "markdown",
   "metadata": {},
   "source": [
    "### baggingClassifirer\n",
    "\n",
    "* 부트스트랩 어그리게이팅 Bootstrap AGGregING의 약어\n",
    "* 데이터양이 적으면 성능이 안좋다. \n",
    "* 대표적인 bagging 앙상블 = RandomForest. 위에서 랜포 성능이 안좋았던걸 기억하면..... 안좋음  \n",
    "* Note that using larger subsamples is not guaranteed to improve your results. In bagging there is a tradeoff between base model accuracy and the gain you get through bagging. The aggregation from bagging may improve the ensemble greatly when you have an unstable model, yet when your base models are more stable — been trained on larger subsamples with higher accuracy — improvements from bagging reduces.  \n",
    "#\n",
    "* base_estimator: 기본 모형\n",
    "* n_estimators: 모형 갯수. 디폴트 10\n",
    "* bootstrap: 데이터의 중복 사용 여부. 디폴트 True\n",
    "* max_samples: 데이터 샘플 중 선택할 샘플의 수 혹은 비율. 디폴트 1.0\n",
    "* bootstrap_features: 특징 차원의 중복 사용 여부. 디폴트 False\n",
    "* max_features: 다차원 독립 변수 중 선택할 차원의 수 혹은 비율 1.0"
   ]
  },
  {
   "cell_type": "code",
   "execution_count": 59,
   "metadata": {},
   "outputs": [],
   "source": [
    "from sklearn.ensemble import BaggingClassifier"
   ]
  },
  {
   "cell_type": "code",
   "execution_count": 239,
   "metadata": {},
   "outputs": [
    {
     "name": "stdout",
     "output_type": "stream",
     "text": [
      "voting Bagging 분류기 f1 score: 0.3810\n"
     ]
    }
   ],
   "source": [
    "bag_clf = BaggingClassifier(base_estimator=vo_clf, n_estimators=10, random_state=0)\n",
    "\n",
    "bag_clf.fit(X_train_over,y_train_over)\n",
    "pred = bag_clf.predict(X_test)\n",
    "print('voting Bagging 분류기 f1 score: {0:.4f}'.format(f1_score(y_test,pred)))"
   ]
  },
  {
   "cell_type": "code",
   "execution_count": 240,
   "metadata": {},
   "outputs": [
    {
     "name": "stdout",
     "output_type": "stream",
     "text": [
      "GBC Bagging 분류기 f1 score: 0.4444\n"
     ]
    }
   ],
   "source": [
    "bag_clf = BaggingClassifier(base_estimator=GBC, n_estimators=10, random_state=0)\n",
    "\n",
    "bag_clf.fit(X_train_over,y_train_over)\n",
    "pred = bag_clf.predict(X_test)\n",
    "print('GBC Bagging 분류기 f1 score: {0:.4f}'.format(f1_score(y_test,pred)))"
   ]
  },
  {
   "cell_type": "code",
   "execution_count": 241,
   "metadata": {},
   "outputs": [
    {
     "name": "stdout",
     "output_type": "stream",
     "text": [
      "XGBC Bagging 분류기 f1 score: 0.5185\n"
     ]
    }
   ],
   "source": [
    "bag_clf = BaggingClassifier(base_estimator=XGBC, n_estimators=10, random_state=0)\n",
    "\n",
    "bag_clf.fit(X_train_over,y_train_over)\n",
    "pred = bag_clf.predict(X_test)\n",
    "print('XGBC Bagging 분류기 f1 score: {0:.4f}'.format(f1_score(y_test,pred)))"
   ]
  },
  {
   "cell_type": "code",
   "execution_count": 242,
   "metadata": {},
   "outputs": [
    {
     "name": "stdout",
     "output_type": "stream",
     "text": [
      "LGBC Bagging 분류기 f1 score: 0.4800\n"
     ]
    }
   ],
   "source": [
    "bag_clf = BaggingClassifier(base_estimator=LGBC, n_estimators=10, random_state=0)\n",
    "\n",
    "bag_clf.fit(X_train_over,y_train_over)\n",
    "pred = bag_clf.predict(X_test)\n",
    "print('LGBC Bagging 분류기 f1 score: {0:.4f}'.format(f1_score(y_test,pred)))"
   ]
  },
  {
   "cell_type": "code",
   "execution_count": 243,
   "metadata": {},
   "outputs": [
    {
     "name": "stdout",
     "output_type": "stream",
     "text": [
      "RFC Bagging 분류기 f1 score: 0.3636\n"
     ]
    }
   ],
   "source": [
    "bag_clf = BaggingClassifier(base_estimator=RFC, n_estimators=10, random_state=0)\n",
    "\n",
    "bag_clf.fit(X_train_over,y_train_over)\n",
    "pred = bag_clf.predict(X_test)\n",
    "print('RFC Bagging 분류기 f1 score: {0:.4f}'.format(f1_score(y_test,pred)))"
   ]
  },
  {
   "cell_type": "code",
   "execution_count": 244,
   "metadata": {},
   "outputs": [
    {
     "name": "stdout",
     "output_type": "stream",
     "text": [
      "LRC Bagging 분류기 f1 score: 0.3448\n"
     ]
    }
   ],
   "source": [
    "bag_clf = BaggingClassifier(base_estimator=LRC, n_estimators=10, random_state=0)\n",
    "\n",
    "bag_clf.fit(X_train_over,y_train_over)\n",
    "pred = bag_clf.predict(X_test)\n",
    "print('LRC Bagging 분류기 f1 score: {0:.4f}'.format(f1_score(y_test,pred)))"
   ]
  },
  {
   "cell_type": "markdown",
   "metadata": {},
   "source": [
    "### stacking\n",
    "\n",
    "* 모델에서 나온 예측값을 하나의 데이터 프레임으로 만들어 다시한번 모델에 넣어 예측한다. \n",
    "* 각 모델에서 나온 pred 들은 컬럼으로 생성됨. transpose로 row로 변경해서 데이터 프레임 모양을 맞춰줘야한다. "
   ]
  },
  {
   "cell_type": "code",
   "execution_count": 227,
   "metadata": {},
   "outputs": [
    {
     "data": {
      "text/plain": [
       "(64, 41)"
      ]
     },
     "execution_count": 227,
     "metadata": {},
     "output_type": "execute_result"
    }
   ],
   "source": [
    "X_test.shape"
   ]
  },
  {
   "cell_type": "code",
   "execution_count": 201,
   "metadata": {},
   "outputs": [
    {
     "data": {
      "text/plain": [
       "(6, 64)"
      ]
     },
     "execution_count": 201,
     "metadata": {},
     "output_type": "execute_result"
    }
   ],
   "source": [
    "df_stacking = np.array([pred_DTC, pred_GBC, pred_XGBC, pred_LGBC, pred_RFC, pred_LRC])\n",
    "df_stacking.shape"
   ]
  },
  {
   "cell_type": "code",
   "execution_count": 202,
   "metadata": {},
   "outputs": [
    {
     "data": {
      "text/plain": [
       "(64, 6)"
      ]
     },
     "execution_count": 202,
     "metadata": {},
     "output_type": "execute_result"
    }
   ],
   "source": [
    "df_stacking = np.transpose(df_stacking)\n",
    "df_stacking.shape"
   ]
  },
  {
   "cell_type": "code",
   "execution_count": 250,
   "metadata": {},
   "outputs": [
    {
     "name": "stdout",
     "output_type": "stream",
     "text": [
      "stacking with XGBC f1 score: 0.4706\n"
     ]
    }
   ],
   "source": [
    "XGBC_stacking = XGBClassifier()\n",
    "XGBC_stacking.fit(df_stacking,y_test)\n",
    "pred = XGBC_stacking.predict(df_stacking)\n",
    "print('stacking with XGBC f1 score: {0:.4f}'.format(f1_score(y_test,pred)))"
   ]
  },
  {
   "cell_type": "code",
   "execution_count": 205,
   "metadata": {},
   "outputs": [
    {
     "name": "stdout",
     "output_type": "stream",
     "text": [
      "stacking with XGBC f1 score: 0.6316\n"
     ]
    }
   ],
   "source": [
    "XGBC.fit(df_stacking,y_test)\n",
    "pred = XGBC.predict(df_stacking)\n",
    "print('stacking with XGBC f1 score: {0:.4f}'.format(f1_score(y_test,pred)))"
   ]
  },
  {
   "cell_type": "markdown",
   "metadata": {},
   "source": [
    "XGBC로 stacking할때 f1 score가  votingClassifier로 hard voting할 때보다 약간 성능이 좋아짐을 알 수 있다.  \n",
    "0.6154 -> 0.6316"
   ]
  },
  {
   "cell_type": "code",
   "execution_count": 251,
   "metadata": {},
   "outputs": [
    {
     "name": "stdout",
     "output_type": "stream",
     "text": [
      "stacking with GBC f1 score: 0.6316\n"
     ]
    }
   ],
   "source": [
    "GBC_stacking = GradientBoostingClassifier()\n",
    "GBC_stacking.fit(df_stacking,y_test)\n",
    "pred = GBC_stacking.predict(df_stacking)\n",
    "print('stacking with GBC f1 score: {0:.4f}'.format(f1_score(y_test,pred)))"
   ]
  },
  {
   "cell_type": "code",
   "execution_count": 252,
   "metadata": {},
   "outputs": [
    {
     "name": "stdout",
     "output_type": "stream",
     "text": [
      "stacking with GBC f1 score: 0.6316\n"
     ]
    }
   ],
   "source": [
    "GBC.fit(df_stacking,y_test)\n",
    "pred = GBC.predict(df_stacking)\n",
    "print('stacking with GBC f1 score: {0:.4f}'.format(f1_score(y_test,pred)))"
   ]
  },
  {
   "cell_type": "code",
   "execution_count": 246,
   "metadata": {},
   "outputs": [
    {
     "name": "stdout",
     "output_type": "stream",
     "text": [
      "stacking with RFC_stacking f1 score: 0.6316\n"
     ]
    }
   ],
   "source": [
    "RFC_stacking = RandomForestClassifier()\n",
    "RFC_stacking.fit(df_stacking,y_test)\n",
    "pred = RFC_stacking.predict(df_stacking)\n",
    "print('stacking with RFC_stacking f1 score: {0:.4f}'.format(f1_score(y_test,pred)))"
   ]
  },
  {
   "cell_type": "markdown",
   "metadata": {},
   "source": [
    "위에서 만든 RFC 모델은 feature갯수를 지정해놔서 사용하면 에러가 발생함."
   ]
  },
  {
   "cell_type": "code",
   "execution_count": 248,
   "metadata": {},
   "outputs": [
    {
     "name": "stdout",
     "output_type": "stream",
     "text": [
      "stacking with LRC f1 score: 0.2667\n"
     ]
    }
   ],
   "source": [
    "LRC_stacking = LogisticRegression()\n",
    "LRC_stacking.fit(df_stacking,y_test)\n",
    "pred = LRC_stacking.predict(df_stacking)\n",
    "print('stacking with LRC f1 score: {0:.4f}'.format(f1_score(y_test,pred)))"
   ]
  },
  {
   "cell_type": "code",
   "execution_count": 254,
   "metadata": {},
   "outputs": [
    {
     "name": "stdout",
     "output_type": "stream",
     "text": [
      "stacking with LRC f1 score: 0.2667\n"
     ]
    }
   ],
   "source": [
    "LRC.fit(df_stacking,y_test)\n",
    "pred = LRC.predict(df_stacking)\n",
    "print('stacking with LRC f1 score: {0:.4f}'.format(f1_score(y_test,pred)))"
   ]
  }
 ],
 "metadata": {
  "kernelspec": {
   "display_name": "Python 3",
   "language": "python",
   "name": "python3"
  },
  "language_info": {
   "codemirror_mode": {
    "name": "ipython",
    "version": 3
   },
   "file_extension": ".py",
   "mimetype": "text/x-python",
   "name": "python",
   "nbconvert_exporter": "python",
   "pygments_lexer": "ipython3",
   "version": "3.7.4"
  }
 },
 "nbformat": 4,
 "nbformat_minor": 2
}
