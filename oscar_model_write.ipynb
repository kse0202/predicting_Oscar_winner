{
 "cells": [
  {
   "cell_type": "markdown",
   "metadata": {},
   "source": [
    "## predicting Oscar winner_ modeling(write)"
   ]
  },
  {
   "cell_type": "markdown",
   "metadata": {},
   "source": [
    "### 부문별 모델 생성\n",
    "## 3. 각본상"
   ]
  },
  {
   "cell_type": "code",
   "execution_count": 1,
   "metadata": {},
   "outputs": [],
   "source": [
    "import pandas as pd\n",
    "import numpy as np\n",
    "\n",
    "import matplotlib.pyplot as plt\n",
    "%matplotlib inline\n",
    "import seaborn as sns"
   ]
  },
  {
   "cell_type": "code",
   "execution_count": 2,
   "metadata": {},
   "outputs": [],
   "source": [
    "\n",
    "from sklearn.metrics import confusion_matrix\n",
    "from sklearn.metrics import accuracy_score\n",
    "from sklearn.metrics import f1_score \n"
   ]
  },
  {
   "cell_type": "markdown",
   "metadata": {},
   "source": [
    "### 데이터 불러오기 및 전처리"
   ]
  },
  {
   "cell_type": "code",
   "execution_count": 3,
   "metadata": {},
   "outputs": [
    {
     "data": {
      "text/html": [
       "<div>\n",
       "<style scoped>\n",
       "    .dataframe tbody tr th:only-of-type {\n",
       "        vertical-align: middle;\n",
       "    }\n",
       "\n",
       "    .dataframe tbody tr th {\n",
       "        vertical-align: top;\n",
       "    }\n",
       "\n",
       "    .dataframe thead th {\n",
       "        text-align: right;\n",
       "    }\n",
       "</style>\n",
       "<table border=\"1\" class=\"dataframe\">\n",
       "  <thead>\n",
       "    <tr style=\"text-align: right;\">\n",
       "      <th></th>\n",
       "      <th>year_film</th>\n",
       "      <th>year_ceremony</th>\n",
       "      <th>ceremony</th>\n",
       "      <th>category</th>\n",
       "      <th>name</th>\n",
       "      <th>film</th>\n",
       "      <th>win</th>\n",
       "      <th>Gross</th>\n",
       "      <th>Date</th>\n",
       "      <th>Runtime</th>\n",
       "      <th>...</th>\n",
       "      <th>Dec</th>\n",
       "      <th>Feb</th>\n",
       "      <th>Jan</th>\n",
       "      <th>Jul</th>\n",
       "      <th>Jun</th>\n",
       "      <th>Mar</th>\n",
       "      <th>May</th>\n",
       "      <th>Nov</th>\n",
       "      <th>Oct</th>\n",
       "      <th>Sep</th>\n",
       "    </tr>\n",
       "  </thead>\n",
       "  <tbody>\n",
       "    <tr>\n",
       "      <td>0</td>\n",
       "      <td>1976</td>\n",
       "      <td>1977</td>\n",
       "      <td>49</td>\n",
       "      <td>WRITING</td>\n",
       "      <td>William Goldman</td>\n",
       "      <td>All the Presidents Men</td>\n",
       "      <td>1</td>\n",
       "      <td>7.060000e+07</td>\n",
       "      <td>Apr</td>\n",
       "      <td>138</td>\n",
       "      <td>...</td>\n",
       "      <td>0</td>\n",
       "      <td>0</td>\n",
       "      <td>0</td>\n",
       "      <td>0</td>\n",
       "      <td>0</td>\n",
       "      <td>0</td>\n",
       "      <td>0</td>\n",
       "      <td>0</td>\n",
       "      <td>0</td>\n",
       "      <td>0</td>\n",
       "    </tr>\n",
       "    <tr>\n",
       "      <td>1</td>\n",
       "      <td>1976</td>\n",
       "      <td>1977</td>\n",
       "      <td>49</td>\n",
       "      <td>WRITING</td>\n",
       "      <td>Robert Getchell</td>\n",
       "      <td>Bound for Glory</td>\n",
       "      <td>0</td>\n",
       "      <td>5.986694e+07</td>\n",
       "      <td>Dec</td>\n",
       "      <td>147</td>\n",
       "      <td>...</td>\n",
       "      <td>1</td>\n",
       "      <td>0</td>\n",
       "      <td>0</td>\n",
       "      <td>0</td>\n",
       "      <td>0</td>\n",
       "      <td>0</td>\n",
       "      <td>0</td>\n",
       "      <td>0</td>\n",
       "      <td>0</td>\n",
       "      <td>0</td>\n",
       "    </tr>\n",
       "    <tr>\n",
       "      <td>2</td>\n",
       "      <td>1976</td>\n",
       "      <td>1977</td>\n",
       "      <td>49</td>\n",
       "      <td>WRITING</td>\n",
       "      <td>Federico Fellini Bernardino Zapponi</td>\n",
       "      <td>Fellinis Casanova</td>\n",
       "      <td>0</td>\n",
       "      <td>5.986694e+07</td>\n",
       "      <td>Feb</td>\n",
       "      <td>155</td>\n",
       "      <td>...</td>\n",
       "      <td>0</td>\n",
       "      <td>1</td>\n",
       "      <td>0</td>\n",
       "      <td>0</td>\n",
       "      <td>0</td>\n",
       "      <td>0</td>\n",
       "      <td>0</td>\n",
       "      <td>0</td>\n",
       "      <td>0</td>\n",
       "      <td>0</td>\n",
       "    </tr>\n",
       "    <tr>\n",
       "      <td>3</td>\n",
       "      <td>1976</td>\n",
       "      <td>1977</td>\n",
       "      <td>49</td>\n",
       "      <td>WRITING</td>\n",
       "      <td>Nicholas Meyer</td>\n",
       "      <td>The Seven-per-cent Solution</td>\n",
       "      <td>0</td>\n",
       "      <td>5.986694e+07</td>\n",
       "      <td>May</td>\n",
       "      <td>113</td>\n",
       "      <td>...</td>\n",
       "      <td>0</td>\n",
       "      <td>0</td>\n",
       "      <td>0</td>\n",
       "      <td>0</td>\n",
       "      <td>0</td>\n",
       "      <td>0</td>\n",
       "      <td>1</td>\n",
       "      <td>0</td>\n",
       "      <td>0</td>\n",
       "      <td>0</td>\n",
       "    </tr>\n",
       "    <tr>\n",
       "      <td>4</td>\n",
       "      <td>1976</td>\n",
       "      <td>1977</td>\n",
       "      <td>49</td>\n",
       "      <td>WRITING</td>\n",
       "      <td>Steve Shagan David Butler</td>\n",
       "      <td>Voyage of the Damned</td>\n",
       "      <td>0</td>\n",
       "      <td>5.986694e+07</td>\n",
       "      <td>Dec</td>\n",
       "      <td>155</td>\n",
       "      <td>...</td>\n",
       "      <td>1</td>\n",
       "      <td>0</td>\n",
       "      <td>0</td>\n",
       "      <td>0</td>\n",
       "      <td>0</td>\n",
       "      <td>0</td>\n",
       "      <td>0</td>\n",
       "      <td>0</td>\n",
       "      <td>0</td>\n",
       "      <td>0</td>\n",
       "    </tr>\n",
       "  </tbody>\n",
       "</table>\n",
       "<p>5 rows × 49 columns</p>\n",
       "</div>"
      ],
      "text/plain": [
       "   year_film  year_ceremony  ceremony category  \\\n",
       "0       1976           1977        49  WRITING   \n",
       "1       1976           1977        49  WRITING   \n",
       "2       1976           1977        49  WRITING   \n",
       "3       1976           1977        49  WRITING   \n",
       "4       1976           1977        49  WRITING   \n",
       "\n",
       "                                  name                         film  win  \\\n",
       "0                      William Goldman       All the Presidents Men    1   \n",
       "1                      Robert Getchell              Bound for Glory    0   \n",
       "2  Federico Fellini Bernardino Zapponi            Fellinis Casanova    0   \n",
       "3                       Nicholas Meyer  The Seven-per-cent Solution    0   \n",
       "4            Steve Shagan David Butler         Voyage of the Damned    0   \n",
       "\n",
       "          Gross Date  Runtime  ...  Dec  Feb  Jan  Jul  Jun  Mar  May  Nov  \\\n",
       "0  7.060000e+07  Apr      138  ...    0    0    0    0    0    0    0    0   \n",
       "1  5.986694e+07  Dec      147  ...    1    0    0    0    0    0    0    0   \n",
       "2  5.986694e+07  Feb      155  ...    0    1    0    0    0    0    0    0   \n",
       "3  5.986694e+07  May      113  ...    0    0    0    0    0    0    1    0   \n",
       "4  5.986694e+07  Dec      155  ...    1    0    0    0    0    0    0    0   \n",
       "\n",
       "   Oct  Sep  \n",
       "0    0    0  \n",
       "1    0    0  \n",
       "2    0    0  \n",
       "3    0    0  \n",
       "4    0    0  \n",
       "\n",
       "[5 rows x 49 columns]"
      ]
     },
     "execution_count": 3,
     "metadata": {},
     "output_type": "execute_result"
    }
   ],
   "source": [
    "final_write = pd.read_csv(\"./data/final_write.csv\")\n",
    "final_write.drop(\"Documentary\", axis =1, inplace =True) # 다큐멘터리 장르는 없으므로 의미없는 칼럼, 삭제한다.\n",
    "final_write = pd.concat([final_write,pd.get_dummies(final_write['Date'])], axis=1) # Date 칼럼 원핫인코딩\n",
    "final_write['win'] = final_write['win'].apply(lambda x : 1 if (x == True) else 0) # win 컬럼 01 변환\n",
    "final_write.head()"
   ]
  },
  {
   "cell_type": "markdown",
   "metadata": {},
   "source": [
    "### Train_data, Train_label 분리"
   ]
  },
  {
   "cell_type": "code",
   "execution_count": 4,
   "metadata": {},
   "outputs": [],
   "source": [
    "train_data = final_write.drop([\"win\",\"year_film\",\"year_ceremony\",\"ceremony\",\"category\",\"name\",\"film\",\"Date\"],axis=1)\n",
    "train_label = final_write[\"win\"]"
   ]
  },
  {
   "cell_type": "markdown",
   "metadata": {},
   "source": [
    "### 연속형 변수 StandardScaler로 평균 0, 표준편차 1 이 되는 값으로 변경 \n",
    "\n",
    "스케일링  \n",
    "스케일링은 자료 집합에 적용되는 전처리 과정으로 모든 자료에 선형 변환을 적용하여 전체 자료의 분포를 평균 0, 분산 1이 되도록   만드는 과정이다.스케일링은 자료의 오버플로우(overflow)나 언더플로우(underflow)를 방지하고 독립 변수의 공분산 행렬의 조건수  (condition number)를 감소시켜 최적화 과정에서의 안정성 및 수렴 속도를 향상시킨다.  \n",
    "  \n",
    "\n",
    "scikit-learn에서는 다음과 같은 스케일링 클래스를 제공한다.  \n",
    "  \n",
    "* StandardScaler(X): 평균이 0과 표준편차가 1이 되도록 변환.  \n",
    "* RobustScaler(X): 중앙값(median)이 0, IQR(interquartile range)이 1이 되도록 변환.  \n",
    "* MinMaxScaler(X): 최대값이 각각 1, 최소값이 0이 되도록 변환.  \n",
    "* MaxAbsScaler(X): 0을 기준으로 절대값이 가장 큰 수가 1또는 -1이 되도록 변환.  "
   ]
  },
  {
   "cell_type": "code",
   "execution_count": 5,
   "metadata": {},
   "outputs": [],
   "source": [
    "from sklearn.preprocessing import StandardScaler"
   ]
  },
  {
   "cell_type": "code",
   "execution_count": 6,
   "metadata": {},
   "outputs": [
    {
     "data": {
      "text/html": [
       "<div>\n",
       "<style scoped>\n",
       "    .dataframe tbody tr th:only-of-type {\n",
       "        vertical-align: middle;\n",
       "    }\n",
       "\n",
       "    .dataframe tbody tr th {\n",
       "        vertical-align: top;\n",
       "    }\n",
       "\n",
       "    .dataframe thead th {\n",
       "        text-align: right;\n",
       "    }\n",
       "</style>\n",
       "<table border=\"1\" class=\"dataframe\">\n",
       "  <thead>\n",
       "    <tr style=\"text-align: right;\">\n",
       "      <th></th>\n",
       "      <th>Gross</th>\n",
       "      <th>Runtime</th>\n",
       "      <th>Awards</th>\n",
       "      <th>nominations</th>\n",
       "      <th>imdb</th>\n",
       "      <th>tomato</th>\n",
       "      <th>Metacr</th>\n",
       "      <th>imdbVotes</th>\n",
       "      <th>Thriller</th>\n",
       "      <th>Short</th>\n",
       "      <th>...</th>\n",
       "      <th>Dec</th>\n",
       "      <th>Feb</th>\n",
       "      <th>Jan</th>\n",
       "      <th>Jul</th>\n",
       "      <th>Jun</th>\n",
       "      <th>Mar</th>\n",
       "      <th>May</th>\n",
       "      <th>Nov</th>\n",
       "      <th>Oct</th>\n",
       "      <th>Sep</th>\n",
       "    </tr>\n",
       "  </thead>\n",
       "  <tbody>\n",
       "    <tr>\n",
       "      <td>0</td>\n",
       "      <td>0.116426</td>\n",
       "      <td>0.505114</td>\n",
       "      <td>13.0</td>\n",
       "      <td>-0.605325</td>\n",
       "      <td>0.853840</td>\n",
       "      <td>0.561695</td>\n",
       "      <td>0.079397</td>\n",
       "      <td>-0.425297</td>\n",
       "      <td>1.0</td>\n",
       "      <td>0.0</td>\n",
       "      <td>...</td>\n",
       "      <td>0</td>\n",
       "      <td>0</td>\n",
       "      <td>0</td>\n",
       "      <td>0</td>\n",
       "      <td>0</td>\n",
       "      <td>0</td>\n",
       "      <td>0</td>\n",
       "      <td>0</td>\n",
       "      <td>0</td>\n",
       "      <td>0</td>\n",
       "    </tr>\n",
       "    <tr>\n",
       "      <td>1</td>\n",
       "      <td>-0.033252</td>\n",
       "      <td>0.802919</td>\n",
       "      <td>4.0</td>\n",
       "      <td>-0.761356</td>\n",
       "      <td>-0.467703</td>\n",
       "      <td>-0.282318</td>\n",
       "      <td>-1.000839</td>\n",
       "      <td>-0.707598</td>\n",
       "      <td>0.0</td>\n",
       "      <td>0.0</td>\n",
       "      <td>...</td>\n",
       "      <td>1</td>\n",
       "      <td>0</td>\n",
       "      <td>0</td>\n",
       "      <td>0</td>\n",
       "      <td>0</td>\n",
       "      <td>0</td>\n",
       "      <td>0</td>\n",
       "      <td>0</td>\n",
       "      <td>0</td>\n",
       "      <td>0</td>\n",
       "    </tr>\n",
       "    <tr>\n",
       "      <td>2</td>\n",
       "      <td>-0.033252</td>\n",
       "      <td>1.067635</td>\n",
       "      <td>6.0</td>\n",
       "      <td>-0.886180</td>\n",
       "      <td>-0.845287</td>\n",
       "      <td>-0.301017</td>\n",
       "      <td>-0.201153</td>\n",
       "      <td>-0.701082</td>\n",
       "      <td>0.0</td>\n",
       "      <td>0.0</td>\n",
       "      <td>...</td>\n",
       "      <td>0</td>\n",
       "      <td>1</td>\n",
       "      <td>0</td>\n",
       "      <td>0</td>\n",
       "      <td>0</td>\n",
       "      <td>0</td>\n",
       "      <td>0</td>\n",
       "      <td>0</td>\n",
       "      <td>0</td>\n",
       "      <td>0</td>\n",
       "    </tr>\n",
       "    <tr>\n",
       "      <td>3</td>\n",
       "      <td>-0.033252</td>\n",
       "      <td>-0.322122</td>\n",
       "      <td>1.0</td>\n",
       "      <td>-0.886180</td>\n",
       "      <td>-1.600454</td>\n",
       "      <td>-0.402891</td>\n",
       "      <td>-0.201153</td>\n",
       "      <td>-0.708929</td>\n",
       "      <td>1.0</td>\n",
       "      <td>0.0</td>\n",
       "      <td>...</td>\n",
       "      <td>0</td>\n",
       "      <td>0</td>\n",
       "      <td>0</td>\n",
       "      <td>0</td>\n",
       "      <td>0</td>\n",
       "      <td>0</td>\n",
       "      <td>1</td>\n",
       "      <td>0</td>\n",
       "      <td>0</td>\n",
       "      <td>0</td>\n",
       "    </tr>\n",
       "    <tr>\n",
       "      <td>4</td>\n",
       "      <td>-0.033252</td>\n",
       "      <td>1.067635</td>\n",
       "      <td>1.0</td>\n",
       "      <td>-0.839371</td>\n",
       "      <td>-2.166830</td>\n",
       "      <td>-0.764610</td>\n",
       "      <td>-0.201153</td>\n",
       "      <td>-0.713678</td>\n",
       "      <td>0.0</td>\n",
       "      <td>0.0</td>\n",
       "      <td>...</td>\n",
       "      <td>1</td>\n",
       "      <td>0</td>\n",
       "      <td>0</td>\n",
       "      <td>0</td>\n",
       "      <td>0</td>\n",
       "      <td>0</td>\n",
       "      <td>0</td>\n",
       "      <td>0</td>\n",
       "      <td>0</td>\n",
       "      <td>0</td>\n",
       "    </tr>\n",
       "  </tbody>\n",
       "</table>\n",
       "<p>5 rows × 41 columns</p>\n",
       "</div>"
      ],
      "text/plain": [
       "      Gross   Runtime  Awards  nominations      imdb    tomato    Metacr  \\\n",
       "0  0.116426  0.505114    13.0    -0.605325  0.853840  0.561695  0.079397   \n",
       "1 -0.033252  0.802919     4.0    -0.761356 -0.467703 -0.282318 -1.000839   \n",
       "2 -0.033252  1.067635     6.0    -0.886180 -0.845287 -0.301017 -0.201153   \n",
       "3 -0.033252 -0.322122     1.0    -0.886180 -1.600454 -0.402891 -0.201153   \n",
       "4 -0.033252  1.067635     1.0    -0.839371 -2.166830 -0.764610 -0.201153   \n",
       "\n",
       "   imdbVotes  Thriller  Short  ...  Dec  Feb  Jan  Jul  Jun  Mar  May  Nov  \\\n",
       "0  -0.425297       1.0    0.0  ...    0    0    0    0    0    0    0    0   \n",
       "1  -0.707598       0.0    0.0  ...    1    0    0    0    0    0    0    0   \n",
       "2  -0.701082       0.0    0.0  ...    0    1    0    0    0    0    0    0   \n",
       "3  -0.708929       1.0    0.0  ...    0    0    0    0    0    0    1    0   \n",
       "4  -0.713678       0.0    0.0  ...    1    0    0    0    0    0    0    0   \n",
       "\n",
       "   Oct  Sep  \n",
       "0    0    0  \n",
       "1    0    0  \n",
       "2    0    0  \n",
       "3    0    0  \n",
       "4    0    0  \n",
       "\n",
       "[5 rows x 41 columns]"
      ]
     },
     "execution_count": 6,
     "metadata": {},
     "output_type": "execute_result"
    }
   ],
   "source": [
    "scaler = StandardScaler()\n",
    "\n",
    "train_data[['Gross', 'Runtime', 'nominations', 'imdb', 'tomato', 'Metacr', 'imdbVotes']] = scaler.fit_transform(train_data[['Gross', 'Runtime', 'nominations', 'imdb', 'tomato', 'Metacr', 'imdbVotes']])\n",
    "train_data.head()"
   ]
  },
  {
   "cell_type": "markdown",
   "metadata": {},
   "source": [
    "### train_test_split 을 이용하여 train, test set분리"
   ]
  },
  {
   "cell_type": "code",
   "execution_count": 7,
   "metadata": {},
   "outputs": [],
   "source": [
    "from sklearn.model_selection import train_test_split"
   ]
  },
  {
   "cell_type": "code",
   "execution_count": 8,
   "metadata": {},
   "outputs": [],
   "source": [
    "\n",
    "\n",
    "X_train, X_test, y_train, y_test = train_test_split(train_data, train_label, test_size =0.25, random_state=123, stratify = train_label)\n",
    "\n",
    "# stratify : train_label의 비율을 살려 테스트와 트레인 부분을 나눈다. "
   ]
  },
  {
   "cell_type": "markdown",
   "metadata": {},
   "source": [
    "### SMOTE 를 이용. 비대칭 데이터 문제를 해결하기 위한 오버샘플링\n",
    "SMOTE : 기존의 소수의 값 주변의 값들로 데이터 생성  \n",
    "\n",
    "### 언더 샘플링\n",
    "* RandomUnderSampler: random under-sampling method\n",
    "* TomekLinks: Tomek’s link method\n",
    "* CondensedNearestNeighbour: condensed nearest neighbour method\n",
    "* OneSidedSelection: under-sampling based on one-sided selection method\n",
    "* EditedNearestNeighbours: edited nearest neighbour method\n",
    "* NeighbourhoodCleaningRule: neighbourhood cleaning rule\n",
    "\n",
    "### 오버 샘플링\n",
    "* RandomOverSampler: random sampler\n",
    "* ADASYN: Adaptive Synthetic Sampling Approach for Imbalanced Learning  \n",
    "* SMOTE: Synthetic Minority Over-sampling Technique\n",
    "\n",
    "###  복합 샘플링\n",
    "* SMOTEENN: SMOTE + ENN\n",
    "* SMOTETomek: SMOTE + Tomek"
   ]
  },
  {
   "cell_type": "code",
   "execution_count": 9,
   "metadata": {},
   "outputs": [
    {
     "name": "stderr",
     "output_type": "stream",
     "text": [
      "Using TensorFlow backend.\n"
     ]
    }
   ],
   "source": [
    "from imblearn.over_sampling import SMOTE"
   ]
  },
  {
   "cell_type": "code",
   "execution_count": 10,
   "metadata": {},
   "outputs": [],
   "source": [
    "smote = SMOTE(random_state=0)\n",
    "X_train_over, y_train_over = smote.fit_sample(X_train,y_train)"
   ]
  },
  {
   "cell_type": "code",
   "execution_count": 12,
   "metadata": {},
   "outputs": [
    {
     "name": "stdout",
     "output_type": "stream",
     "text": [
      "X_train 데이터 수 : 322\n",
      "X_train_over 데이터 수 : 516\n",
      "y_train 데이터 비율 : \n",
      "0    258\n",
      "1     64\n",
      "Name: win, dtype: int64\n",
      "y_train_over 데이터 비율 : \n",
      "1    258\n",
      "0    258\n",
      "Name: win, dtype: int64\n"
     ]
    }
   ],
   "source": [
    "print(\"X_train 데이터 수 : {}\".format(len(X_train)))\n",
    "print(\"X_train_over 데이터 수 : {}\".format(len(X_train_over)))\n",
    "print(\"y_train 데이터 비율 : \\n{}\".format(y_train.value_counts()))\n",
    "print(\"y_train_over 데이터 비율 : \\n{}\".format(y_train_over.value_counts()))\n"
   ]
  },
  {
   "cell_type": "markdown",
   "metadata": {},
   "source": [
    "### StratifiedKFold를 이용하여 비율에 맞게 데이터를 나눈다. \n",
    "\n",
    "일반적으로 회귀에는 기본 k-겹 교차검증을 사용하고, 분류에는 StratifiedKFold를 사용한다. 파라미터 찾을때 사용"
   ]
  },
  {
   "cell_type": "code",
   "execution_count": 11,
   "metadata": {},
   "outputs": [],
   "source": [
    "from sklearn.model_selection import StratifiedKFold"
   ]
  },
  {
   "cell_type": "code",
   "execution_count": 12,
   "metadata": {},
   "outputs": [],
   "source": [
    "skf = StratifiedKFold(n_splits=10)"
   ]
  },
  {
   "cell_type": "markdown",
   "metadata": {},
   "source": [
    "### Decision Tree\n",
    "\n",
    "* max_depth를 임의로 정해주지 않으면 자동으로 모든 leaf가 pure해질때까지 나눈다. 그말인 즉슨, 모든 leaf가 확실한 leaf이고, 확률은 모두 해당 클래스에 대해서만 1이라는 것이다."
   ]
  },
  {
   "cell_type": "code",
   "execution_count": 20,
   "metadata": {},
   "outputs": [],
   "source": [
    "from sklearn.tree import DecisionTreeClassifier"
   ]
  },
  {
   "cell_type": "code",
   "execution_count": 21,
   "metadata": {},
   "outputs": [
    {
     "name": "stdout",
     "output_type": "stream",
     "text": [
      "f1 score : 0.3881\n"
     ]
    },
    {
     "data": {
      "text/plain": [
       "array([[54, 32],\n",
       "       [ 9, 13]], dtype=int64)"
      ]
     },
     "execution_count": 21,
     "metadata": {},
     "output_type": "execute_result"
    }
   ],
   "source": [
    "DTC = DecisionTreeClassifier(ccp_alpha=0.0, class_weight=None, criterion='entropy',\n",
    "                       max_depth=3, max_features=None, max_leaf_nodes=5,\n",
    "                       min_impurity_decrease=0.0, min_impurity_split=None,\n",
    "                       min_samples_leaf=1, min_samples_split=2,\n",
    "                       min_weight_fraction_leaf=0.0, presort='deprecated',\n",
    "                       random_state=1234, splitter='best' )\n",
    "\n",
    "DTC.fit(X_train_over,y_train_over)\n",
    "\n",
    "pred_DTC = DTC.predict(X_test)\n",
    "\n",
    "print(\"f1 score : {0:.4f}\".format(f1_score(y_test,pred_DTC)))\n",
    "\n",
    "confusion_matrix(y_test,pred_DTC)"
   ]
  },
  {
   "cell_type": "markdown",
   "metadata": {},
   "source": [
    "### GridSearchCV로 최적의 파라미터 찾기¶"
   ]
  },
  {
   "cell_type": "code",
   "execution_count": 28,
   "metadata": {},
   "outputs": [],
   "source": [
    "from sklearn.model_selection import GridSearchCV"
   ]
  },
  {
   "cell_type": "code",
   "execution_count": 18,
   "metadata": {},
   "outputs": [
    {
     "name": "stdout",
     "output_type": "stream",
     "text": [
      "f1 score : 0.3881\n"
     ]
    },
    {
     "data": {
      "text/plain": [
       "array([[54, 32],\n",
       "       [ 9, 13]], dtype=int64)"
      ]
     },
     "execution_count": 18,
     "metadata": {},
     "output_type": "execute_result"
    }
   ],
   "source": [
    "DT = DecisionTreeClassifier(random_state =1234)\n",
    "parameters = {\n",
    "    \"criterion\" :[ \"entropy\"],\n",
    "    \"max_depth\" :[3,4,5,6,7],\n",
    "    \"splitter\" :[\"best\"],\n",
    "    \"max_leaf_nodes\" :[2,3,4,5],\n",
    "    \"min_samples_leaf\" : [1],\n",
    "    \"min_samples_split\" : [2]\n",
    "    \n",
    "    \n",
    "}\n",
    "\n",
    "grid_dt = GridSearchCV(DT,\n",
    "                         param_grid=parameters,\n",
    "                         scoring=\"f1\",\n",
    "                         cv=skf,\n",
    "                        n_jobs=-1 )\n",
    "grid_dt.fit(X_train_over, y_train_over)\n",
    "\n",
    "pred = grid_dt.predict(X_test)\n",
    "\n",
    "print(\"f1 score : {0:.4f}\".format(f1_score(y_test,pred)))\n",
    "\n",
    "confusion_matrix(y_test,pred)"
   ]
  },
  {
   "cell_type": "code",
   "execution_count": 19,
   "metadata": {},
   "outputs": [
    {
     "data": {
      "text/plain": [
       "DecisionTreeClassifier(ccp_alpha=0.0, class_weight=None, criterion='entropy',\n",
       "                       max_depth=3, max_features=None, max_leaf_nodes=5,\n",
       "                       min_impurity_decrease=0.0, min_impurity_split=None,\n",
       "                       min_samples_leaf=1, min_samples_split=2,\n",
       "                       min_weight_fraction_leaf=0.0, presort='deprecated',\n",
       "                       random_state=1234, splitter='best')"
      ]
     },
     "execution_count": 19,
     "metadata": {},
     "output_type": "execute_result"
    }
   ],
   "source": [
    "grid_dt.best_estimator_"
   ]
  },
  {
   "cell_type": "markdown",
   "metadata": {},
   "source": [
    "### Decision Tree 시각화"
   ]
  },
  {
   "cell_type": "code",
   "execution_count": 19,
   "metadata": {},
   "outputs": [
    {
     "name": "stderr",
     "output_type": "stream",
     "text": [
      "C:\\Users\\kse02\\AppData\\Local\\Continuum\\anaconda3\\lib\\site-packages\\sklearn\\externals\\six.py:31: FutureWarning: The module is deprecated in version 0.21 and will be removed in version 0.23 since we've dropped support for Python 2.7. Please rely on the official version of six (https://pypi.org/project/six/).\n",
      "  \"(https://pypi.org/project/six/).\", FutureWarning)\n"
     ]
    }
   ],
   "source": [
    "from sklearn.externals.six import StringIO  \n",
    "from IPython.display import Image  \n",
    "from sklearn.tree import export_graphviz\n",
    "import pydotplus\n"
   ]
  },
  {
   "cell_type": "code",
   "execution_count": 21,
   "metadata": {},
   "outputs": [
    {
     "data": {
      "image/png": "[encoded data removed]",
      "text/plain": [
       "<IPython.core.display.Image object>"
      ]
     },
     "execution_count": 21,
     "metadata": {},
     "output_type": "execute_result"
    }
   ],
   "source": [
    "dot_data = StringIO()\n",
    "\n",
    "export_graphviz(DTC, out_file=dot_data,  \n",
    "                filled=True, rounded=True,\n",
    "                special_characters=True,\n",
    "                class_names=[\"win\", \"lose\"],\n",
    "                 feature_names=X_train.columns\n",
    "              )\n",
    "\n",
    "graph = pydotplus.graph_from_dot_data(dot_data.getvalue())  \n",
    "Image(graph.create_png())"
   ]
  },
  {
   "cell_type": "markdown",
   "metadata": {},
   "source": [
    "### plot 한글 패치"
   ]
  },
  {
   "cell_type": "code",
   "execution_count": 22,
   "metadata": {},
   "outputs": [],
   "source": [
    "%matplotlib inline\n",
    "\n",
    "import os\n",
    "from matplotlib import font_manager as fm, rcParams\n",
    "import matplotlib.pyplot as plt\n",
    "import matplotlib as mpl"
   ]
  },
  {
   "cell_type": "code",
   "execution_count": 23,
   "metadata": {},
   "outputs": [],
   "source": [
    "fm.get_fontconfig_fonts()\n",
    "# font_location = '/usr/share/fonts/truetype/nanum/NanumGothicOTF.ttf'\n",
    "font_location = 'C:/Windows/Fonts/NanumGothic.ttf' # For Windows\n",
    "font_name = fm.FontProperties(fname=font_location).get_name()\n",
    "mpl.rc('font', family=font_name)\n"
   ]
  },
  {
   "cell_type": "markdown",
   "metadata": {},
   "source": [
    "### Decision Tree 특성 중요도 plot"
   ]
  },
  {
   "cell_type": "code",
   "execution_count": 17,
   "metadata": {},
   "outputs": [],
   "source": [
    "def plot_feature_importances_final_best(model):\n",
    "    plt.figure(figsize=(9, 9))\n",
    "    n_features = X_train.shape[1]\n",
    "    plt.barh(range(n_features), model.feature_importances_, align='center')\n",
    "    plt.yticks(np.arange(n_features), X_train.columns)\n",
    "    plt.xlabel(\"특성 중요도\")\n",
    "    plt.ylabel(\"특성\")\n",
    "    plt.ylim(-1, n_features)"
   ]
  },
  {
   "cell_type": "code",
   "execution_count": 22,
   "metadata": {},
   "outputs": [
    {
     "name": "stderr",
     "output_type": "stream",
     "text": [
      "C:\\Users\\kse02\\AppData\\Local\\Continuum\\anaconda3\\lib\\site-packages\\matplotlib\\backends\\backend_agg.py:211: RuntimeWarning: Glyph 53945 missing from current font.\n",
      "  font.set_text(s, 0.0, flags=flags)\n",
      "C:\\Users\\kse02\\AppData\\Local\\Continuum\\anaconda3\\lib\\site-packages\\matplotlib\\backends\\backend_agg.py:211: RuntimeWarning: Glyph 49457 missing from current font.\n",
      "  font.set_text(s, 0.0, flags=flags)\n",
      "C:\\Users\\kse02\\AppData\\Local\\Continuum\\anaconda3\\lib\\site-packages\\matplotlib\\backends\\backend_agg.py:211: RuntimeWarning: Glyph 51473 missing from current font.\n",
      "  font.set_text(s, 0.0, flags=flags)\n",
      "C:\\Users\\kse02\\AppData\\Local\\Continuum\\anaconda3\\lib\\site-packages\\matplotlib\\backends\\backend_agg.py:211: RuntimeWarning: Glyph 50836 missing from current font.\n",
      "  font.set_text(s, 0.0, flags=flags)\n",
      "C:\\Users\\kse02\\AppData\\Local\\Continuum\\anaconda3\\lib\\site-packages\\matplotlib\\backends\\backend_agg.py:211: RuntimeWarning: Glyph 46020 missing from current font.\n",
      "  font.set_text(s, 0.0, flags=flags)\n",
      "C:\\Users\\kse02\\AppData\\Local\\Continuum\\anaconda3\\lib\\site-packages\\matplotlib\\backends\\backend_agg.py:180: RuntimeWarning: Glyph 53945 missing from current font.\n",
      "  font.set_text(s, 0, flags=flags)\n",
      "C:\\Users\\kse02\\AppData\\Local\\Continuum\\anaconda3\\lib\\site-packages\\matplotlib\\backends\\backend_agg.py:180: RuntimeWarning: Glyph 49457 missing from current font.\n",
      "  font.set_text(s, 0, flags=flags)\n",
      "C:\\Users\\kse02\\AppData\\Local\\Continuum\\anaconda3\\lib\\site-packages\\matplotlib\\backends\\backend_agg.py:180: RuntimeWarning: Glyph 51473 missing from current font.\n",
      "  font.set_text(s, 0, flags=flags)\n",
      "C:\\Users\\kse02\\AppData\\Local\\Continuum\\anaconda3\\lib\\site-packages\\matplotlib\\backends\\backend_agg.py:180: RuntimeWarning: Glyph 50836 missing from current font.\n",
      "  font.set_text(s, 0, flags=flags)\n",
      "C:\\Users\\kse02\\AppData\\Local\\Continuum\\anaconda3\\lib\\site-packages\\matplotlib\\backends\\backend_agg.py:180: RuntimeWarning: Glyph 46020 missing from current font.\n",
      "  font.set_text(s, 0, flags=flags)\n"
     ]
    },
    {
     "data": {
      "image/png": "[encoded data removed]",
      "text/plain": [
       "<Figure size 648x648 with 1 Axes>"
      ]
     },
     "metadata": {
      "needs_background": "light"
     },
     "output_type": "display_data"
    }
   ],
   "source": [
    "plot_feature_importances_final_best(DTC)"
   ]
  },
  {
   "cell_type": "markdown",
   "metadata": {},
   "source": [
    "### 앙상블(emsemble)\n",
    "앙상블이란 여러 개의 결정 트리(Decision Tree)를 결합하여 하나의 결정 트리보다 더 좋은 성능을 내는 머신러닝 기법이다.  \n",
    "크게 3종류로 나눌 수 있다. \n",
    "\n",
    "* Bagging\n",
    "* Boosting\n",
    "* Voting\n",
    "\n",
    "Bagging : Bagging은 Bootstrap Aggregation의 약자. 배깅은 샘플을 여러 번 뽑아(Bootstrap) 각 모델을 학습시켜 결과물을 집계(Aggregration)하는 방법. RandomForest\n",
    "\n",
    "Boosting : 가중치를 활용하여 약 분류기를 강 분류기로 만드는 방법. "
   ]
  },
  {
   "cell_type": "markdown",
   "metadata": {},
   "source": [
    "<img src = \"./img/bagging_and_boosting.png\">\n",
    "\n",
    "출처: swallow.github.io"
   ]
  },
  {
   "cell_type": "markdown",
   "metadata": {},
   "source": [
    "### GBC(GradientBoostingClassifier)\n",
    "\n",
    "여러개의 Decision Tree를 묶어 강력한 모델을 만드는 기법.\n",
    "이전 tree의 오차를 보완하는 방식으로 tree를 만든다. \n",
    "\n",
    "* learning_rate를 높이면 보정을 강하게 하기 때문에 복잡한 모델을 만든다.\n",
    "* n_estimator 값을 키우면 ensemble에 트리가 더 많이 추가되어 모델의 복잡도가 커지고 train 세트를 더 정확하게 fitting한다.(오버피팅 주의)\n",
    "* 기본값: max_depth=3, learning_rate=0.1"
   ]
  },
  {
   "cell_type": "code",
   "execution_count": 26,
   "metadata": {},
   "outputs": [],
   "source": [
    "from sklearn.ensemble import GradientBoostingClassifier"
   ]
  },
  {
   "cell_type": "code",
   "execution_count": 102,
   "metadata": {},
   "outputs": [
    {
     "name": "stdout",
     "output_type": "stream",
     "text": [
      "f1 Score : 0.5128\n"
     ]
    },
    {
     "data": {
      "text/plain": [
       "array([[79,  7],\n",
       "       [12, 10]], dtype=int64)"
      ]
     },
     "execution_count": 102,
     "metadata": {},
     "output_type": "execute_result"
    }
   ],
   "source": [
    "GBC = GradientBoostingClassifier(ccp_alpha=0.0, criterion='friedman_mse', init=None,\n",
    "                           learning_rate=0.5, loss='deviance', max_depth=6,\n",
    "                           max_features=None, max_leaf_nodes=None,\n",
    "                           min_impurity_decrease=0.0, min_impurity_split=None,\n",
    "                           min_samples_leaf=1, min_samples_split=2,\n",
    "                           min_weight_fraction_leaf=0.0, n_estimators=100,\n",
    "                           n_iter_no_change=None, presort='deprecated',\n",
    "                           random_state=1234, subsample=1.0, tol=0.0001,\n",
    "                           validation_fraction=0.1, verbose=0,\n",
    "                           warm_start=False)\n",
    "GBC.fit(X_train_over, y_train_over)\n",
    "\n",
    "pred_GBC= GBC.predict(X_test)\n",
    "\n",
    "print(\"f1 Score : {0:.4f}\".format(f1_score(y_test,pred_GBC)))\n",
    "\n",
    "confusion_matrix(y_test,pred_GBC)"
   ]
  },
  {
   "cell_type": "markdown",
   "metadata": {},
   "source": [
    "### GridSearchCV로 최적의 파라미터 찾기"
   ]
  },
  {
   "cell_type": "code",
   "execution_count": 28,
   "metadata": {},
   "outputs": [
    {
     "name": "stdout",
     "output_type": "stream",
     "text": [
      "f1 score : 0.5128\n"
     ]
    },
    {
     "data": {
      "text/plain": [
       "array([[79,  7],\n",
       "       [12, 10]], dtype=int64)"
      ]
     },
     "execution_count": 28,
     "metadata": {},
     "output_type": "execute_result"
    }
   ],
   "source": [
    "GB = GradientBoostingClassifier(random_state =1234)\n",
    "parameters = {\n",
    "    \"max_depth\" :[4,5,6,10],\n",
    "    \"learning_rate\" :[0.1, 0.5,0.05,0.01],\n",
    "    \"n_estimators\" :[100,10 , 20, 30]\n",
    "   \n",
    "    \n",
    "    \n",
    "}\n",
    "\n",
    "grid_gb = GridSearchCV(GB,\n",
    "                         param_grid=parameters,\n",
    "                         scoring=\"f1\",\n",
    "                         cv=skf,\n",
    "                        n_jobs=-1 )\n",
    "grid_gb.fit(X_train_over, y_train_over)\n",
    "\n",
    "pred = grid_gb.predict(X_test)\n",
    "\n",
    "print(\"f1 score : {0:.4f}\".format(f1_score(y_test,pred)))\n",
    "\n",
    "confusion_matrix(y_test,pred)"
   ]
  },
  {
   "cell_type": "code",
   "execution_count": 29,
   "metadata": {},
   "outputs": [
    {
     "data": {
      "text/plain": [
       "GradientBoostingClassifier(ccp_alpha=0.0, criterion='friedman_mse', init=None,\n",
       "                           learning_rate=0.5, loss='deviance', max_depth=6,\n",
       "                           max_features=None, max_leaf_nodes=None,\n",
       "                           min_impurity_decrease=0.0, min_impurity_split=None,\n",
       "                           min_samples_leaf=1, min_samples_split=2,\n",
       "                           min_weight_fraction_leaf=0.0, n_estimators=100,\n",
       "                           n_iter_no_change=None, presort='deprecated',\n",
       "                           random_state=1234, subsample=1.0, tol=0.0001,\n",
       "                           validation_fraction=0.1, verbose=0,\n",
       "                           warm_start=False)"
      ]
     },
     "execution_count": 29,
     "metadata": {},
     "output_type": "execute_result"
    }
   ],
   "source": [
    "grid_gb.best_estimator_"
   ]
  },
  {
   "cell_type": "markdown",
   "metadata": {},
   "source": [
    "### GBC 특성 중요도 Plot"
   ]
  },
  {
   "cell_type": "code",
   "execution_count": 103,
   "metadata": {},
   "outputs": [
    {
     "data": {
      "image/png": "[encoded data removed]",
      "text/plain": [
       "<Figure size 648x648 with 1 Axes>"
      ]
     },
     "metadata": {
      "needs_background": "light"
     },
     "output_type": "display_data"
    }
   ],
   "source": [
    "plot_feature_importances_final_best(GBC)"
   ]
  },
  {
   "cell_type": "markdown",
   "metadata": {},
   "source": [
    "### XGBC(XGBClassifier)\n",
    "\n",
    "Gradient Boosting(경사하강법)의 단점을 보완한 부스터   \n",
    "CART(Classification and Regresstion Tree)기반 : Addictive learning = 더해서 배운다. 분류와 회귀 둘다 가능하다. \n",
    "\n",
    "일반 파라미터 : 도구 모양을 결정하는 파라미터. linear or tree\n",
    "* booster : ['gbtree', 'gblinear', 'dart']\n",
    "* nthread\n",
    "* num_feature\n",
    "\n",
    "부스팅 파라미터 : 트리마다 가지를 칠 때 적용하는 옵션. 선택한 booster마다 파라미터가 다름 \n",
    "\n",
    "학습과정 파라미터 : 최적화 퍼포먼스를 결정하는 파라미터 \n",
    "\n",
    "커맨드라인 파라미터 : epoch랑 비슷 \n",
    "\n",
    "#### 파라미터 최적화 \n",
    "- learning_rate, default = 0.3, 0~1 사이, 학습 단계별로 가중치를 얼만큼 줄까를 결정. 낮을수록 보수적\n",
    "- gamma : min split loss, default = 0, 0~무한대 사이, 의사결정나무가 가지를 칠때 타켓변수에 대해 얼마나 설명할수 있나. 클수록 보수적, 가지를 안치려고 함\n",
    "- max_depth : default = 6, 0~무한대.\n",
    "\n",
    "xgboost 파라미터 :\n",
    "https://xgboost.readthedocs.io/en/latest/parameter.html\n",
    "https://apple-rbox.tistory.com/6"
   ]
  },
  {
   "cell_type": "code",
   "execution_count": 31,
   "metadata": {},
   "outputs": [],
   "source": [
    "import xgboost as xgb\n",
    "from xgboost import XGBClassifier"
   ]
  },
  {
   "cell_type": "code",
   "execution_count": 104,
   "metadata": {},
   "outputs": [
    {
     "name": "stdout",
     "output_type": "stream",
     "text": [
      "f1 Score : 0.4615\n"
     ]
    },
    {
     "data": {
      "text/plain": [
       "array([[78,  8],\n",
       "       [13,  9]], dtype=int64)"
      ]
     },
     "execution_count": 104,
     "metadata": {},
     "output_type": "execute_result"
    }
   ],
   "source": [
    "XGBC = XGBClassifier(ase_score=0.5, booster='gbtree', colsample_bylevel=1,\n",
    "              colsample_bynode=1, colsample_bytree=1, gamma=0,\n",
    "              learning_rate=0.05, max_delta_step=0, max_depth=15,\n",
    "              min_child_weight=1, missing=None, n_estimators=100, n_jobs=-1,\n",
    "              nthread=None, objective='binary:logistic', random_state=1234,\n",
    "              reg_alpha=0, reg_lambda=1, scale_pos_weight=1, seed=None,\n",
    "              silent=None, subsample=1, verbosity=1) \n",
    "                     \n",
    "b\n",
    "XGBC.fit(X_train_over, y_train_over)\n",
    "\n",
    "pred_XGBC= XGBC.predict(X_test)\n",
    "\n",
    "print(\"f1 Score : {0:.4f}\".format(f1_score(y_test,pred_XGBC)))\n",
    "\n",
    "confusion_matrix(y_test,pred_XGBC)"
   ]
  },
  {
   "cell_type": "markdown",
   "metadata": {},
   "source": [
    "### GridSearchCV로 최적의 파라미터 찾기"
   ]
  },
  {
   "cell_type": "code",
   "execution_count": 33,
   "metadata": {},
   "outputs": [
    {
     "name": "stdout",
     "output_type": "stream",
     "text": [
      "f1 score : 0.4615\n"
     ]
    },
    {
     "data": {
      "text/plain": [
       "array([[78,  8],\n",
       "       [13,  9]], dtype=int64)"
      ]
     },
     "execution_count": 33,
     "metadata": {},
     "output_type": "execute_result"
    }
   ],
   "source": [
    "XGB = XGBClassifier(random_state =1234, n_jobs=-1)\n",
    "parameters = {\n",
    "    \"n_estimators\" :[10,20,30,100],\n",
    "    \"base_score\" :[0.5, 0.1, 1],\n",
    "    \"booster\":['gbtree'],\n",
    "    \"learning_rate\" : [0.05, 0.01,0.001],\n",
    "    \"max_depth\" :[8, 10,15]\n",
    "}\n",
    "\n",
    "grid_xgb = GridSearchCV(XGB,\n",
    "                         param_grid=parameters,\n",
    "                         scoring=\"f1\",\n",
    "                         cv=skf,\n",
    "                        n_jobs=-1)\n",
    "grid_xgb.fit(X_train_over, y_train_over)\n",
    "\n",
    "pred = grid_xgb.predict(X_test)\n",
    "\n",
    "print(\"f1 score : {0:.4f}\".format(f1_score(y_test,pred)))\n",
    "\n",
    "confusion_matrix(y_test,pred)"
   ]
  },
  {
   "cell_type": "code",
   "execution_count": 34,
   "metadata": {},
   "outputs": [
    {
     "data": {
      "text/plain": [
       "XGBClassifier(base_score=0.5, booster='gbtree', colsample_bylevel=1,\n",
       "              colsample_bynode=1, colsample_bytree=1, gamma=0,\n",
       "              learning_rate=0.05, max_delta_step=0, max_depth=15,\n",
       "              min_child_weight=1, missing=None, n_estimators=100, n_jobs=-1,\n",
       "              nthread=None, objective='binary:logistic', random_state=1234,\n",
       "              reg_alpha=0, reg_lambda=1, scale_pos_weight=1, seed=None,\n",
       "              silent=None, subsample=1, verbosity=1)"
      ]
     },
     "execution_count": 34,
     "metadata": {},
     "output_type": "execute_result"
    }
   ],
   "source": [
    "grid_xgb.best_estimator_"
   ]
  },
  {
   "cell_type": "markdown",
   "metadata": {},
   "source": [
    "### XGBoostClassifier 특성 중요도 plot"
   ]
  },
  {
   "cell_type": "code",
   "execution_count": 105,
   "metadata": {},
   "outputs": [
    {
     "data": {
      "image/png": "[encoded data removed]",
      "text/plain": [
       "<Figure size 648x648 with 1 Axes>"
      ]
     },
     "metadata": {
      "needs_background": "light"
     },
     "output_type": "display_data"
    }
   ],
   "source": [
    "plot_feature_importances_final_best(XGBC)"
   ]
  },
  {
   "cell_type": "markdown",
   "metadata": {},
   "source": [
    "### Light GBMC(light gradient boosting machine)\n",
    "XGBoost의 느린 단점을 보완하기 위해 나옴\n",
    "\n",
    "다른 Booster의 트리는 level-wise(균형 중심)분할을 이용. depth를 줄이고 균형을 맞춤.\n",
    "lightgbm은 leaf-wise(리프 중심)분할. 균형을 맞추지 않고 계속 분할. 비대칭적이고 깊은 트리, 동일한 leaf를 생성할 때 level-wise보다 손실이 적다.\n",
    "\n",
    "파라미터 튜닝 : https://lightgbm.readthedocs.io/en/latest/Parameters.html"
   ]
  },
  {
   "cell_type": "code",
   "execution_count": 25,
   "metadata": {},
   "outputs": [],
   "source": [
    "from lightgbm import LGBMClassifier\n",
    "import lightgbm as lgb"
   ]
  },
  {
   "cell_type": "code",
   "execution_count": 26,
   "metadata": {},
   "outputs": [
    {
     "name": "stdout",
     "output_type": "stream",
     "text": [
      "f1 Score : 0.5116\n"
     ]
    },
    {
     "data": {
      "text/plain": [
       "array([[76, 10],\n",
       "       [11, 11]], dtype=int64)"
      ]
     },
     "execution_count": 26,
     "metadata": {},
     "output_type": "execute_result"
    }
   ],
   "source": [
    "LGBC = LGBMClassifier(boosting_type='gbdt', class_weight=None, colsample_bytree=1.0,\n",
    "               importance_type='split', learning_rate=0.15, max_depth=-1,\n",
    "               min_child_samples=1, min_child_weight=0.001, min_split_gain=0.0,\n",
    "               n_estimators=30, n_jobs=-1, num_leaves=31, objective=None,\n",
    "               random_state=1234, reg_alpha=0.0, reg_lambda=0.0, silent=True,\n",
    "               subsample=1.0, subsample_for_bin=200000, subsample_freq=0)\n",
    "\n",
    "LGBC.fit(X_train_over, y_train_over)\n",
    "\n",
    "pred_LGBC = LGBC.predict(X_test)\n",
    "\n",
    "print(\"f1 Score : {0:.4f}\".format(f1_score(y_test,pred_LGBC)))\n",
    "\n",
    "confusion_matrix(y_test,pred_LGBC)"
   ]
  },
  {
   "cell_type": "markdown",
   "metadata": {},
   "source": [
    "### GridSearchCV로 최적의 파라미터 찾기"
   ]
  },
  {
   "cell_type": "code",
   "execution_count": 29,
   "metadata": {},
   "outputs": [
    {
     "name": "stdout",
     "output_type": "stream",
     "text": [
      "f1 Score : 0.5116\n"
     ]
    },
    {
     "data": {
      "text/plain": [
       "array([[76, 10],\n",
       "       [11, 11]], dtype=int64)"
      ]
     },
     "execution_count": 29,
     "metadata": {},
     "output_type": "execute_result"
    }
   ],
   "source": [
    "LGB =LGBMClassifier(random_state =1234, n_jobs=-1)\n",
    "parameters = {\n",
    "    \"n_estimators\" :[10,20,30,100],\n",
    "   \"learning_rate\":[0.1,0.15, 0.05, 0.01],\n",
    "    \"num_leaves\" : [31],\n",
    "    \"min_child_samples\" : [1,2,3,4, 5]\n",
    "}\n",
    "grid_lgb = GridSearchCV(LGB,\n",
    "                         param_grid=parameters,\n",
    "                         scoring=\"f1\",\n",
    "                         cv=skf,\n",
    "                        n_jobs=-1)\n",
    "grid_lgb.fit(X_train_over, y_train_over)\n",
    "\n",
    "pred = grid_lgb.predict(X_test)\n",
    "\n",
    "print(\"f1 Score : {0:.4f}\".format(f1_score(y_test,pred)))\n",
    "\n",
    "confusion_matrix(y_test,pred)"
   ]
  },
  {
   "cell_type": "code",
   "execution_count": 107,
   "metadata": {},
   "outputs": [
    {
     "data": {
      "text/plain": [
       "LGBMClassifier(boosting_type='gbdt', class_weight=None, colsample_bytree=1.0,\n",
       "               importance_type='split', learning_rate=0.15, max_depth=-1,\n",
       "               min_child_samples=1, min_child_weight=0.001, min_split_gain=0.0,\n",
       "               n_estimators=30, n_jobs=-1, num_leaves=31, objective=None,\n",
       "               random_state=1234, reg_alpha=0.0, reg_lambda=0.0, silent=True,\n",
       "               subsample=1.0, subsample_for_bin=200000, subsample_freq=0)"
      ]
     },
     "execution_count": 107,
     "metadata": {},
     "output_type": "execute_result"
    }
   ],
   "source": [
    "grid_lgb.best_estimator_"
   ]
  },
  {
   "cell_type": "markdown",
   "metadata": {},
   "source": [
    "### LGBMClassifier 특성 중요도 plot"
   ]
  },
  {
   "cell_type": "code",
   "execution_count": 109,
   "metadata": {},
   "outputs": [
    {
     "data": {
      "image/png": "[encoded data removed]",
      "text/plain": [
       "<Figure size 648x648 with 1 Axes>"
      ]
     },
     "metadata": {
      "needs_background": "light"
     },
     "output_type": "display_data"
    }
   ],
   "source": [
    "plot_feature_importances_final_best(LGBC)"
   ]
  },
  {
   "cell_type": "markdown",
   "metadata": {},
   "source": [
    "### RFC(RandomForestClassifier)\n",
    "여러 개의 의사결정나무를 만들고, 그들의 다수결로 결과를 결정하는 방법\n",
    "classification 과 regression 에 모두 쓸 수 있다.  \n",
    "\n",
    "- N-estimator : 랜덤포레스트 안에 만들어지는 의사결정나무 갯수. 트리가 많아지면 속도가 느려지고 너무 트리가 크면 오히려 정확도가 낮아진다. 그러나 일반적으론 트리가 많아질수록 분류를 잘하게 되므로 적절한 trade-off 필요하다.\n",
    "\n",
    "- Max-depth : 랜덤포레스트 안에 있는 각 의사결정나무의 깊이를 설정. 트리가 깊어질수록 더 잘게 분류를 시키므로 일반적으론 정확도가 높아진다.\n",
    "\n",
    "- Min-samples-split : 내부 노드에 데이터를 얼마 만큼씩 최소한 넣을 것인가 설정. 10%~100%로 설정. 100%로 갈수록 underffiting이 일어나서 정확도가 낮아진다. \n",
    "\n",
    "- Min-samples-leaf : 리프 노드에 데이터를 얼마 만큼씩 최소한 넣을 것인가 설정. 10%~100%로 설정. 100%로 갈수록 underffiting이 일어나서 정확도가 낮아진다.\n",
    "\n",
    "- Max-feature : 가장 잘 분류할 feature의 갯수를 설정. max_features 값을 크게 하면 랜덤 포레스트의 트리들은 매우 비슷해지고 가장 두드러진 특성을 이용해 데이터에 잘 맞춰진다. max_features를 낮추면 랜덤 포레스트 트리들은 많이 달라지고 각 트리는 데이터에 맞추기 위해 깊이가 깊어지게 된다.\n",
    "\n"
   ]
  },
  {
   "cell_type": "code",
   "execution_count": 13,
   "metadata": {},
   "outputs": [],
   "source": [
    "from sklearn.ensemble import RandomForestClassifier"
   ]
  },
  {
   "cell_type": "code",
   "execution_count": 14,
   "metadata": {},
   "outputs": [
    {
     "name": "stdout",
     "output_type": "stream",
     "text": [
      "f1 Score : 0.4103\n"
     ]
    },
    {
     "data": {
      "text/plain": [
       "array([[77,  9],\n",
       "       [14,  8]], dtype=int64)"
      ]
     },
     "execution_count": 14,
     "metadata": {},
     "output_type": "execute_result"
    }
   ],
   "source": [
    "RFC =RandomForestClassifier(bootstrap=True, ccp_alpha=0.0, class_weight=None,\n",
    "                       criterion='gini', max_depth=None, max_features=10,\n",
    "                       max_leaf_nodes=None, max_samples=None,\n",
    "                       min_impurity_decrease=0.0, min_impurity_split=None,\n",
    "                       min_samples_leaf=1, min_samples_split=2,\n",
    "                       min_weight_fraction_leaf=0.0, n_estimators=100,\n",
    "                       n_jobs=-1, oob_score=False, random_state=1234, verbose=0,\n",
    "                       warm_start=False)\n",
    "\n",
    "RFC.fit(X_train_over, y_train_over)\n",
    "\n",
    "pred_RFC = RFC.predict(X_test)\n",
    "\n",
    "print(\"f1 Score : {0:.4f}\".format(f1_score(y_test,pred_RFC)))\n",
    "\n",
    "confusion_matrix(y_test,pred_RFC)"
   ]
  },
  {
   "cell_type": "markdown",
   "metadata": {},
   "source": [
    "### GridSearchCV로 최적의 파라미터 찾기"
   ]
  },
  {
   "cell_type": "code",
   "execution_count": 31,
   "metadata": {},
   "outputs": [
    {
     "name": "stdout",
     "output_type": "stream",
     "text": [
      "f1 Score : 0.4103\n"
     ]
    },
    {
     "data": {
      "text/plain": [
       "array([[77,  9],\n",
       "       [14,  8]], dtype=int64)"
      ]
     },
     "execution_count": 31,
     "metadata": {},
     "output_type": "execute_result"
    }
   ],
   "source": [
    "RF =RandomForestClassifier(random_state =1234, n_jobs=-1)\n",
    "\n",
    "parameters = {\n",
    "    \"n_estimators\" :[10,20,25,30,100],\n",
    "    \"min_samples_leaf\" : [1,2,3,4,5],\n",
    "    \"min_samples_split\" : [2,3,4,5],\n",
    "    \"max_features\" : [5, 10, 20,30,0]\n",
    "  \n",
    "}\n",
    "grid_rf = GridSearchCV(RF,\n",
    "                         param_grid=parameters,\n",
    "                         scoring=\"f1\",\n",
    "                         cv=skf,\n",
    "                        n_jobs=-1)\n",
    "grid_rf.fit(X_train_over, y_train_over)\n",
    "\n",
    "pred = grid_rf.predict(X_test)\n",
    "\n",
    "print(\"f1 Score : {0:.4f}\".format(f1_score(y_test,pred)))\n",
    "\n",
    "confusion_matrix(y_test,pred)\n",
    "\n"
   ]
  },
  {
   "cell_type": "code",
   "execution_count": 32,
   "metadata": {},
   "outputs": [
    {
     "data": {
      "text/plain": [
       "RandomForestClassifier(bootstrap=True, ccp_alpha=0.0, class_weight=None,\n",
       "                       criterion='gini', max_depth=None, max_features=10,\n",
       "                       max_leaf_nodes=None, max_samples=None,\n",
       "                       min_impurity_decrease=0.0, min_impurity_split=None,\n",
       "                       min_samples_leaf=1, min_samples_split=2,\n",
       "                       min_weight_fraction_leaf=0.0, n_estimators=100,\n",
       "                       n_jobs=-1, oob_score=False, random_state=1234, verbose=0,\n",
       "                       warm_start=False)"
      ]
     },
     "execution_count": 32,
     "metadata": {},
     "output_type": "execute_result"
    }
   ],
   "source": [
    "grid_rf.best_estimator_"
   ]
  },
  {
   "cell_type": "markdown",
   "metadata": {},
   "source": [
    "### RFC 특성 중요도 Plot"
   ]
  },
  {
   "cell_type": "code",
   "execution_count": 33,
   "metadata": {},
   "outputs": [
    {
     "name": "stderr",
     "output_type": "stream",
     "text": [
      "C:\\Users\\kse02\\AppData\\Local\\Continuum\\anaconda3\\lib\\site-packages\\matplotlib\\backends\\backend_agg.py:211: RuntimeWarning: Glyph 53945 missing from current font.\n",
      "  font.set_text(s, 0.0, flags=flags)\n",
      "C:\\Users\\kse02\\AppData\\Local\\Continuum\\anaconda3\\lib\\site-packages\\matplotlib\\backends\\backend_agg.py:211: RuntimeWarning: Glyph 49457 missing from current font.\n",
      "  font.set_text(s, 0.0, flags=flags)\n",
      "C:\\Users\\kse02\\AppData\\Local\\Continuum\\anaconda3\\lib\\site-packages\\matplotlib\\backends\\backend_agg.py:211: RuntimeWarning: Glyph 51473 missing from current font.\n",
      "  font.set_text(s, 0.0, flags=flags)\n",
      "C:\\Users\\kse02\\AppData\\Local\\Continuum\\anaconda3\\lib\\site-packages\\matplotlib\\backends\\backend_agg.py:211: RuntimeWarning: Glyph 50836 missing from current font.\n",
      "  font.set_text(s, 0.0, flags=flags)\n",
      "C:\\Users\\kse02\\AppData\\Local\\Continuum\\anaconda3\\lib\\site-packages\\matplotlib\\backends\\backend_agg.py:211: RuntimeWarning: Glyph 46020 missing from current font.\n",
      "  font.set_text(s, 0.0, flags=flags)\n",
      "C:\\Users\\kse02\\AppData\\Local\\Continuum\\anaconda3\\lib\\site-packages\\matplotlib\\backends\\backend_agg.py:180: RuntimeWarning: Glyph 53945 missing from current font.\n",
      "  font.set_text(s, 0, flags=flags)\n",
      "C:\\Users\\kse02\\AppData\\Local\\Continuum\\anaconda3\\lib\\site-packages\\matplotlib\\backends\\backend_agg.py:180: RuntimeWarning: Glyph 49457 missing from current font.\n",
      "  font.set_text(s, 0, flags=flags)\n",
      "C:\\Users\\kse02\\AppData\\Local\\Continuum\\anaconda3\\lib\\site-packages\\matplotlib\\backends\\backend_agg.py:180: RuntimeWarning: Glyph 51473 missing from current font.\n",
      "  font.set_text(s, 0, flags=flags)\n",
      "C:\\Users\\kse02\\AppData\\Local\\Continuum\\anaconda3\\lib\\site-packages\\matplotlib\\backends\\backend_agg.py:180: RuntimeWarning: Glyph 50836 missing from current font.\n",
      "  font.set_text(s, 0, flags=flags)\n",
      "C:\\Users\\kse02\\AppData\\Local\\Continuum\\anaconda3\\lib\\site-packages\\matplotlib\\backends\\backend_agg.py:180: RuntimeWarning: Glyph 46020 missing from current font.\n",
      "  font.set_text(s, 0, flags=flags)\n"
     ]
    },
    {
     "data": {
      "image/png": "[encoded data removed]",
      "text/plain": [
       "<Figure size 648x648 with 1 Axes>"
      ]
     },
     "metadata": {
      "needs_background": "light"
     },
     "output_type": "display_data"
    }
   ],
   "source": [
    "plot_feature_importances_final_best(RFC)"
   ]
  },
  {
   "cell_type": "markdown",
   "metadata": {},
   "source": [
    "### 특성 중요도 top 7으로만 RFC 돌리기"
   ]
  },
  {
   "cell_type": "code",
   "execution_count": 34,
   "metadata": {},
   "outputs": [
    {
     "data": {
      "text/html": [
       "<div>\n",
       "<style scoped>\n",
       "    .dataframe tbody tr th:only-of-type {\n",
       "        vertical-align: middle;\n",
       "    }\n",
       "\n",
       "    .dataframe tbody tr th {\n",
       "        vertical-align: top;\n",
       "    }\n",
       "\n",
       "    .dataframe thead th {\n",
       "        text-align: right;\n",
       "    }\n",
       "</style>\n",
       "<table border=\"1\" class=\"dataframe\">\n",
       "  <thead>\n",
       "    <tr style=\"text-align: right;\">\n",
       "      <th></th>\n",
       "      <th>index</th>\n",
       "      <th>import</th>\n",
       "      <th>ft</th>\n",
       "    </tr>\n",
       "  </thead>\n",
       "  <tbody>\n",
       "    <tr>\n",
       "      <td>0</td>\n",
       "      <td>0</td>\n",
       "      <td>0.164558</td>\n",
       "      <td>Gross</td>\n",
       "    </tr>\n",
       "    <tr>\n",
       "      <td>1</td>\n",
       "      <td>2</td>\n",
       "      <td>0.131157</td>\n",
       "      <td>Awards</td>\n",
       "    </tr>\n",
       "    <tr>\n",
       "      <td>2</td>\n",
       "      <td>3</td>\n",
       "      <td>0.089659</td>\n",
       "      <td>nominations</td>\n",
       "    </tr>\n",
       "    <tr>\n",
       "      <td>3</td>\n",
       "      <td>7</td>\n",
       "      <td>0.059481</td>\n",
       "      <td>imdbVotes</td>\n",
       "    </tr>\n",
       "    <tr>\n",
       "      <td>4</td>\n",
       "      <td>1</td>\n",
       "      <td>0.057505</td>\n",
       "      <td>Runtime</td>\n",
       "    </tr>\n",
       "    <tr>\n",
       "      <td>5</td>\n",
       "      <td>6</td>\n",
       "      <td>0.050456</td>\n",
       "      <td>Metacr</td>\n",
       "    </tr>\n",
       "    <tr>\n",
       "      <td>6</td>\n",
       "      <td>4</td>\n",
       "      <td>0.046380</td>\n",
       "      <td>imdb</td>\n",
       "    </tr>\n",
       "    <tr>\n",
       "      <td>7</td>\n",
       "      <td>10</td>\n",
       "      <td>0.042721</td>\n",
       "      <td>Comedy</td>\n",
       "    </tr>\n",
       "    <tr>\n",
       "      <td>8</td>\n",
       "      <td>23</td>\n",
       "      <td>0.042057</td>\n",
       "      <td>Romance</td>\n",
       "    </tr>\n",
       "    <tr>\n",
       "      <td>9</td>\n",
       "      <td>5</td>\n",
       "      <td>0.040333</td>\n",
       "      <td>tomato</td>\n",
       "    </tr>\n",
       "    <tr>\n",
       "      <td>10</td>\n",
       "      <td>15</td>\n",
       "      <td>0.039077</td>\n",
       "      <td>Biography</td>\n",
       "    </tr>\n",
       "    <tr>\n",
       "      <td>11</td>\n",
       "      <td>31</td>\n",
       "      <td>0.037322</td>\n",
       "      <td>Dec</td>\n",
       "    </tr>\n",
       "    <tr>\n",
       "      <td>12</td>\n",
       "      <td>28</td>\n",
       "      <td>0.023603</td>\n",
       "      <td>War</td>\n",
       "    </tr>\n",
       "    <tr>\n",
       "      <td>13</td>\n",
       "      <td>8</td>\n",
       "      <td>0.017457</td>\n",
       "      <td>Thriller</td>\n",
       "    </tr>\n",
       "    <tr>\n",
       "      <td>14</td>\n",
       "      <td>25</td>\n",
       "      <td>0.013443</td>\n",
       "      <td>Adventure</td>\n",
       "    </tr>\n",
       "    <tr>\n",
       "      <td>15</td>\n",
       "      <td>20</td>\n",
       "      <td>0.012759</td>\n",
       "      <td>History</td>\n",
       "    </tr>\n",
       "    <tr>\n",
       "      <td>16</td>\n",
       "      <td>33</td>\n",
       "      <td>0.012695</td>\n",
       "      <td>Jan</td>\n",
       "    </tr>\n",
       "    <tr>\n",
       "      <td>17</td>\n",
       "      <td>22</td>\n",
       "      <td>0.012063</td>\n",
       "      <td>Crime</td>\n",
       "    </tr>\n",
       "    <tr>\n",
       "      <td>18</td>\n",
       "      <td>13</td>\n",
       "      <td>0.011192</td>\n",
       "      <td>Mystery</td>\n",
       "    </tr>\n",
       "    <tr>\n",
       "      <td>19</td>\n",
       "      <td>11</td>\n",
       "      <td>0.008933</td>\n",
       "      <td>Fantasy</td>\n",
       "    </tr>\n",
       "    <tr>\n",
       "      <td>20</td>\n",
       "      <td>16</td>\n",
       "      <td>0.008917</td>\n",
       "      <td>Drama</td>\n",
       "    </tr>\n",
       "    <tr>\n",
       "      <td>21</td>\n",
       "      <td>14</td>\n",
       "      <td>0.008686</td>\n",
       "      <td>Music</td>\n",
       "    </tr>\n",
       "    <tr>\n",
       "      <td>22</td>\n",
       "      <td>38</td>\n",
       "      <td>0.007835</td>\n",
       "      <td>Nov</td>\n",
       "    </tr>\n",
       "    <tr>\n",
       "      <td>23</td>\n",
       "      <td>39</td>\n",
       "      <td>0.006989</td>\n",
       "      <td>Oct</td>\n",
       "    </tr>\n",
       "    <tr>\n",
       "      <td>24</td>\n",
       "      <td>26</td>\n",
       "      <td>0.006775</td>\n",
       "      <td>Sport</td>\n",
       "    </tr>\n",
       "    <tr>\n",
       "      <td>25</td>\n",
       "      <td>36</td>\n",
       "      <td>0.006564</td>\n",
       "      <td>Mar</td>\n",
       "    </tr>\n",
       "    <tr>\n",
       "      <td>26</td>\n",
       "      <td>30</td>\n",
       "      <td>0.005317</td>\n",
       "      <td>Aug</td>\n",
       "    </tr>\n",
       "    <tr>\n",
       "      <td>27</td>\n",
       "      <td>21</td>\n",
       "      <td>0.004785</td>\n",
       "      <td>Action</td>\n",
       "    </tr>\n",
       "    <tr>\n",
       "      <td>28</td>\n",
       "      <td>32</td>\n",
       "      <td>0.004625</td>\n",
       "      <td>Feb</td>\n",
       "    </tr>\n",
       "    <tr>\n",
       "      <td>29</td>\n",
       "      <td>40</td>\n",
       "      <td>0.004535</td>\n",
       "      <td>Sep</td>\n",
       "    </tr>\n",
       "    <tr>\n",
       "      <td>30</td>\n",
       "      <td>18</td>\n",
       "      <td>0.004453</td>\n",
       "      <td>Sci-Fi</td>\n",
       "    </tr>\n",
       "    <tr>\n",
       "      <td>31</td>\n",
       "      <td>35</td>\n",
       "      <td>0.003650</td>\n",
       "      <td>Jun</td>\n",
       "    </tr>\n",
       "    <tr>\n",
       "      <td>32</td>\n",
       "      <td>34</td>\n",
       "      <td>0.003074</td>\n",
       "      <td>Jul</td>\n",
       "    </tr>\n",
       "    <tr>\n",
       "      <td>33</td>\n",
       "      <td>24</td>\n",
       "      <td>0.002888</td>\n",
       "      <td>Family</td>\n",
       "    </tr>\n",
       "    <tr>\n",
       "      <td>34</td>\n",
       "      <td>37</td>\n",
       "      <td>0.001998</td>\n",
       "      <td>May</td>\n",
       "    </tr>\n",
       "    <tr>\n",
       "      <td>35</td>\n",
       "      <td>17</td>\n",
       "      <td>0.001346</td>\n",
       "      <td>Western</td>\n",
       "    </tr>\n",
       "    <tr>\n",
       "      <td>36</td>\n",
       "      <td>29</td>\n",
       "      <td>0.001236</td>\n",
       "      <td>Apr</td>\n",
       "    </tr>\n",
       "    <tr>\n",
       "      <td>37</td>\n",
       "      <td>27</td>\n",
       "      <td>0.001220</td>\n",
       "      <td>Horror</td>\n",
       "    </tr>\n",
       "    <tr>\n",
       "      <td>38</td>\n",
       "      <td>9</td>\n",
       "      <td>0.001030</td>\n",
       "      <td>Short</td>\n",
       "    </tr>\n",
       "    <tr>\n",
       "      <td>39</td>\n",
       "      <td>19</td>\n",
       "      <td>0.000857</td>\n",
       "      <td>Musical</td>\n",
       "    </tr>\n",
       "    <tr>\n",
       "      <td>40</td>\n",
       "      <td>12</td>\n",
       "      <td>0.000366</td>\n",
       "      <td>Animation</td>\n",
       "    </tr>\n",
       "  </tbody>\n",
       "</table>\n",
       "</div>"
      ],
      "text/plain": [
       "    index    import           ft\n",
       "0       0  0.164558        Gross\n",
       "1       2  0.131157       Awards\n",
       "2       3  0.089659  nominations\n",
       "3       7  0.059481    imdbVotes\n",
       "4       1  0.057505      Runtime\n",
       "5       6  0.050456       Metacr\n",
       "6       4  0.046380         imdb\n",
       "7      10  0.042721       Comedy\n",
       "8      23  0.042057      Romance\n",
       "9       5  0.040333       tomato\n",
       "10     15  0.039077    Biography\n",
       "11     31  0.037322          Dec\n",
       "12     28  0.023603          War\n",
       "13      8  0.017457     Thriller\n",
       "14     25  0.013443    Adventure\n",
       "15     20  0.012759      History\n",
       "16     33  0.012695          Jan\n",
       "17     22  0.012063        Crime\n",
       "18     13  0.011192      Mystery\n",
       "19     11  0.008933      Fantasy\n",
       "20     16  0.008917        Drama\n",
       "21     14  0.008686        Music\n",
       "22     38  0.007835          Nov\n",
       "23     39  0.006989          Oct\n",
       "24     26  0.006775        Sport\n",
       "25     36  0.006564          Mar\n",
       "26     30  0.005317          Aug\n",
       "27     21  0.004785       Action\n",
       "28     32  0.004625          Feb\n",
       "29     40  0.004535          Sep\n",
       "30     18  0.004453       Sci-Fi\n",
       "31     35  0.003650          Jun\n",
       "32     34  0.003074          Jul\n",
       "33     24  0.002888       Family\n",
       "34     37  0.001998          May\n",
       "35     17  0.001346      Western\n",
       "36     29  0.001236          Apr\n",
       "37     27  0.001220       Horror\n",
       "38      9  0.001030        Short\n",
       "39     19  0.000857      Musical\n",
       "40     12  0.000366    Animation"
      ]
     },
     "execution_count": 34,
     "metadata": {},
     "output_type": "execute_result"
    }
   ],
   "source": [
    "df = pd.DataFrame()\n",
    "df['import']= grid_rf.best_estimator_.feature_importances_\n",
    "df['ft']  = X_train_over.columns\n",
    "df.sort_values('import', ascending=False, inplace = True)\n",
    "df.reset_index(inplace=True)\n",
    "df"
   ]
  },
  {
   "cell_type": "code",
   "execution_count": 37,
   "metadata": {},
   "outputs": [
    {
     "name": "stdout",
     "output_type": "stream",
     "text": [
      "f1 Score : 0.3913\n"
     ]
    },
    {
     "data": {
      "text/plain": [
       "array([[71, 15],\n",
       "       [13,  9]], dtype=int64)"
      ]
     },
     "execution_count": 37,
     "metadata": {},
     "output_type": "execute_result"
    }
   ],
   "source": [
    "RFC1 =RandomForestClassifier(bootstrap=True, ccp_alpha=0.0, class_weight=None,\n",
    "                       criterion='gini', max_depth=None, max_features=8,\n",
    "                       max_leaf_nodes=None, max_samples=None,\n",
    "                       min_impurity_decrease=0.0, min_impurity_split=None,\n",
    "                       min_samples_leaf=1, min_samples_split=2,\n",
    "                       min_weight_fraction_leaf=0.0, n_estimators=10, n_jobs=-1,\n",
    "                       oob_score=False, random_state=1234, verbose=0,\n",
    "                       warm_start=False)\n",
    "\n",
    "RFC1.fit(X_train_over[list(df.loc[:7,'ft'])], y_train_over)\n",
    "\n",
    "pred_RFC1 = RFC1.predict(X_test[list(df.loc[:7,'ft'])])\n",
    "\n",
    "print(\"f1 Score : {0:.4f}\".format(f1_score(y_test,pred_RFC1)))\n",
    "\n",
    "confusion_matrix(y_test,pred_RFC1)"
   ]
  },
  {
   "cell_type": "code",
   "execution_count": 116,
   "metadata": {},
   "outputs": [
    {
     "name": "stdout",
     "output_type": "stream",
     "text": [
      "f1 Score : 0.4762\n"
     ]
    },
    {
     "data": {
      "text/plain": [
       "array([[76, 10],\n",
       "       [12, 10]], dtype=int64)"
      ]
     },
     "execution_count": 116,
     "metadata": {},
     "output_type": "execute_result"
    }
   ],
   "source": [
    "RF =RandomForestClassifier(random_state =1234, n_jobs=-1)\n",
    "\n",
    "parameters = {\n",
    "    \"n_estimators\" :[10,20,25,30,100],\n",
    "    \"min_samples_leaf\" : [1,2,3,4,5],\n",
    "    \"min_samples_split\" : [2,3,4,5],\n",
    "    \"max_features\" : [2,3,4,5,6,7,8]\n",
    "  \n",
    "}\n",
    "grid_rf1 = GridSearchCV(RF,\n",
    "                         param_grid=parameters,\n",
    "                         scoring=\"f1\",\n",
    "                         cv=skf,\n",
    "                        n_jobs=-1)\n",
    "\n",
    "grid_rf1.fit(X_train_over[list(df.loc[:7,'ft'])], y_train_over)\n",
    "\n",
    "pred = grid_rf1.predict(X_test[list(df.loc[:7,'ft'])])\n",
    "\n",
    "print(\"f1 Score : {0:.4f}\".format(f1_score(y_test,pred)))\n",
    "\n",
    "confusion_matrix(y_test,pred)\n"
   ]
  },
  {
   "cell_type": "code",
   "execution_count": 117,
   "metadata": {},
   "outputs": [
    {
     "data": {
      "text/plain": [
       "RandomForestClassifier(bootstrap=True, ccp_alpha=0.0, class_weight=None,\n",
       "                       criterion='gini', max_depth=None, max_features=3,\n",
       "                       max_leaf_nodes=None, max_samples=None,\n",
       "                       min_impurity_decrease=0.0, min_impurity_split=None,\n",
       "                       min_samples_leaf=1, min_samples_split=2,\n",
       "                       min_weight_fraction_leaf=0.0, n_estimators=10, n_jobs=-1,\n",
       "                       oob_score=False, random_state=1234, verbose=0,\n",
       "                       warm_start=False)"
      ]
     },
     "execution_count": 117,
     "metadata": {},
     "output_type": "execute_result"
    }
   ],
   "source": [
    "grid_rf1.best_estimator_"
   ]
  },
  {
   "cell_type": "markdown",
   "metadata": {},
   "source": [
    "f1 Score가 0.4107-> 0.4762 로 변화하였다.    \n",
    "특성 중요도가 높은 feature 8개를 가지고 RandomForest를 돌렸을때, max_features=3 일때 f1 score가 0.4762이다. \n",
    "특성을 많이 선택하는 것이 좋은 모델은 아닌 것을 알 수 있다. "
   ]
  },
  {
   "cell_type": "markdown",
   "metadata": {},
   "source": [
    "### LogisticRegression\n",
    "* 범주형 변수를 예측하는 회귀모델 \n",
    "* odds(승산) = 발생할 확률 / 발생하지 않을 확률 = p / (1-p)\n",
    "* log Odds ratio\n",
    "* 로짓변환 : y -> log(y/1-y) =log(Odds) = c + ax\n",
    "* sigmoid 함수 \n",
    "* \"독립변수 X에 대한 선형 회귀식을 X가 주어졌을 때의 반응 변수 Y의 로그 오즈에 적합시킨다.\"\n",
    "* \"편의(bias)가 없는 타당한 계수 추정치를 계산할 수 있다.\" -> 불균형한 데이터를 오버샘플링하면 모집단과 특성이 달라지는데 이러면 수치가 달라짐. 로지스틱 회귀는 계수추정치는 변하지 않고 절편만 바뀜. = 편의 없이 계수 추정치를 구하는 방법이다. \n"
   ]
  },
  {
   "cell_type": "code",
   "execution_count": 50,
   "metadata": {},
   "outputs": [],
   "source": [
    "from sklearn.linear_model import LogisticRegression"
   ]
  },
  {
   "cell_type": "code",
   "execution_count": 122,
   "metadata": {},
   "outputs": [
    {
     "name": "stdout",
     "output_type": "stream",
     "text": [
      "f1 score : 0.5238\n"
     ]
    },
    {
     "data": {
      "text/plain": [
       "array([[77,  9],\n",
       "       [11, 11]], dtype=int64)"
      ]
     },
     "execution_count": 122,
     "metadata": {},
     "output_type": "execute_result"
    }
   ],
   "source": [
    "LRC = LogisticRegression(C=1.0, class_weight=None, dual=False, fit_intercept=True,\n",
    "                   intercept_scaling=1, l1_ratio=None, max_iter=100,\n",
    "                   multi_class='auto', n_jobs=-1, penalty='none',\n",
    "                   random_state=1234, solver='newton-cg', tol=0.0001, verbose=0,\n",
    "                   warm_start=False)\n",
    "LRC.fit(X_train_over, y_train_over)\n",
    "pred_LRC = LRC.predict(X_test)\n",
    "print(\"f1 score : {0:.4f}\".format(f1_score(y_test,pred_LRC)))\n",
    "confusion_matrix(y_test,pred_LRC)"
   ]
  },
  {
   "cell_type": "markdown",
   "metadata": {},
   "source": [
    "### GridSearchCV로 최적의 파라미터 찾기"
   ]
  },
  {
   "cell_type": "code",
   "execution_count": 119,
   "metadata": {},
   "outputs": [
    {
     "name": "stdout",
     "output_type": "stream",
     "text": [
      "f1 Score : 0.5238\n"
     ]
    },
    {
     "data": {
      "text/plain": [
       "array([[77,  9],\n",
       "       [11, 11]], dtype=int64)"
      ]
     },
     "execution_count": 119,
     "metadata": {},
     "output_type": "execute_result"
    }
   ],
   "source": [
    "LR =LogisticRegression(random_state =1234, n_jobs=-1)\n",
    "\n",
    "parameters = {\n",
    "     \"penalty\" : ['l1', 'l2', 'elasticnet', 'none'],\n",
    "    \"solver\" : ['newton-cg', 'lbfgs', 'liblinear', 'sag', 'saga']\n",
    "  \n",
    "}\n",
    "grid_lr = GridSearchCV(LR,\n",
    "                         param_grid=parameters,\n",
    "                         scoring=\"f1\",\n",
    "                         cv=skf,\n",
    "                        n_jobs=-1)\n",
    "grid_lr.fit(X_train_over, y_train_over)\n",
    "\n",
    "pred = grid_lr.predict(X_test)\n",
    "\n",
    "print(\"f1 Score : {0:.4f}\".format(f1_score(y_test,pred)))\n",
    "\n",
    "confusion_matrix(y_test,pred)\n",
    "\n"
   ]
  },
  {
   "cell_type": "code",
   "execution_count": 120,
   "metadata": {},
   "outputs": [
    {
     "data": {
      "text/plain": [
       "LogisticRegression(C=1.0, class_weight=None, dual=False, fit_intercept=True,\n",
       "                   intercept_scaling=1, l1_ratio=None, max_iter=100,\n",
       "                   multi_class='auto', n_jobs=-1, penalty='none',\n",
       "                   random_state=1234, solver='newton-cg', tol=0.0001, verbose=0,\n",
       "                   warm_start=False)"
      ]
     },
     "execution_count": 120,
     "metadata": {},
     "output_type": "execute_result"
    }
   ],
   "source": [
    "grid_lr.best_estimator_"
   ]
  },
  {
   "cell_type": "markdown",
   "metadata": {},
   "source": [
    "### SVM(Support Vector Machine)\n",
    "\n",
    "* 분류 경계선의 margin을 maxium으로 만드는 모델 \n",
    "* '선'을 넘어서 '면'으로도 분류 경계선을 만들 수 있다. -> 시간이 오래걸림\n",
    "* 복잡한 비선형의 의사결정영역을 모형화 할 수 있기 때문에 매우 정확하고, 다른 모델보다 오버피팅되는 경향이 적다.  \n",
    "#  \n",
    "* hard : 전부 철저하게 분리. 현실적으로 어렵다. -> soft 벡터 마진이 나옴\n",
    "* soft : 여유 변수(slack variable)을 둔다. 약간의 오류를 인정함.   \n",
    "#  \n",
    "* 로버스트(robust)하다= 아웃라이어(outlier)의 영향을 받지 않는다는 뜻 -> 마진이 크면 robustness도 최대가 됨  \n",
    "#  \n",
    "* 커널 트릭(Kernel Trick) = 저차원 공간(low dimensional space)을 고차원 공간(high dimensional space)으로 매핑해주는 작업. 고차원에서 선형라인을 구해서 저차원에 맵핑. 저차원에서 비선형 라인을 구한다. \n",
    "* kernel parameter : linear, polynomial, sigmoid, rbf 등  \n",
    "* C : Controls tradeoff detween smooth decision boundary and classfying training points correctly. 얼마나 오차를 허용할 건지...C가 크면 구불구불...\n",
    "* Gamma: Defines how far the influence of a single training point reaches . reach = 결정선의 굴곡에 영향을 주는 데이터 범위.  \n",
    "감마가 크다 = reach가 작다. 경계선이 더 구불구불... 경계선에 가까운 포인트들만 영향을 준다 -> 하나의 영향력이 큼 -> 구불구불  \n",
    "감마가 작다 = reach가 멀다. 경계선이 직선에 가까움. 포인트 하나하나가 모두 경계선에 영향을 준다 -> 하나의 영향력이 크지 않다. -> 직선이다.\n",
    "* kernel, C, gamma 값을 튜닝하는게 포인트!!!"
   ]
  },
  {
   "cell_type": "code",
   "execution_count": 72,
   "metadata": {},
   "outputs": [],
   "source": [
    "from sklearn.svm import SVC"
   ]
  },
  {
   "cell_type": "code",
   "execution_count": 133,
   "metadata": {},
   "outputs": [
    {
     "name": "stdout",
     "output_type": "stream",
     "text": [
      "f1 score : 0.2222\n"
     ]
    },
    {
     "data": {
      "text/plain": [
       "array([[68, 18],\n",
       "       [17,  5]], dtype=int64)"
      ]
     },
     "execution_count": 133,
     "metadata": {},
     "output_type": "execute_result"
    }
   ],
   "source": [
    "from sklearn.svm import SVC\n",
    "SVC = SVC(C=10, break_ties=False, cache_size=200, class_weight=None, coef0=0.0,\n",
    "    decision_function_shape='ovr', degree=3, gamma='auto', kernel='rbf',\n",
    "    max_iter=-1, probability=True, random_state=1234, shrinking=True,\n",
    "    tol=0.001, verbose=False) \n",
    "SVC.fit(X_train_over,y_train_over)\n",
    "pred_SVC = SVC.predict(X_test)\n",
    "\n",
    "print(\"f1 score : {0:.4f}\".format(f1_score(y_test,pred_SVC)))\n",
    "confusion_matrix(y_test,pred_SVC)"
   ]
  },
  {
   "cell_type": "markdown",
   "metadata": {},
   "source": [
    "### GridSearchCV로 최적의 파라미터 찾기"
   ]
  },
  {
   "cell_type": "code",
   "execution_count": 58,
   "metadata": {},
   "outputs": [
    {
     "name": "stdout",
     "output_type": "stream",
     "text": [
      "f1 Score : 0.2222\n"
     ]
    },
    {
     "data": {
      "text/plain": [
       "array([[68, 18],\n",
       "       [17,  5]], dtype=int64)"
      ]
     },
     "execution_count": 58,
     "metadata": {},
     "output_type": "execute_result"
    }
   ],
   "source": [
    "SV =SVC(random_state =1234)\n",
    "\n",
    "parameters = {\n",
    "     \"kernel\" : [ 'linear', 'poly', 'sigmoid', 'rbf'],\n",
    "    \"C\" : [2,5,10,4],\n",
    "    \"gamma\" :['scale', 'auto']\n",
    "  \n",
    "}\n",
    "grid_sv = GridSearchCV(SV,\n",
    "                         param_grid=parameters,\n",
    "                         scoring=\"f1\",\n",
    "                         cv=skf,\n",
    "                        n_jobs=-1)\n",
    "grid_sv.fit(X_train_over, y_train_over)\n",
    "\n",
    "pred = grid_sv.predict(X_test)\n",
    "\n",
    "print(\"f1 Score : {0:.4f}\".format(f1_score(y_test,pred)))\n",
    "\n",
    "confusion_matrix(y_test,pred)\n",
    "\n"
   ]
  },
  {
   "cell_type": "code",
   "execution_count": 123,
   "metadata": {},
   "outputs": [
    {
     "data": {
      "text/plain": [
       "SVC(C=10, break_ties=False, cache_size=200, class_weight=None, coef0=0.0,\n",
       "    decision_function_shape='ovr', degree=3, gamma='auto', kernel='rbf',\n",
       "    max_iter=-1, probability=False, random_state=1234, shrinking=True,\n",
       "    tol=0.001, verbose=False)"
      ]
     },
     "execution_count": 123,
     "metadata": {},
     "output_type": "execute_result"
    }
   ],
   "source": [
    "grid_sv.best_estimator_"
   ]
  },
  {
   "cell_type": "markdown",
   "metadata": {},
   "source": [
    "### DNN\n",
    "* activation : 활성화 함수 설정합니다.  \n",
    "    -‘linear’ : 디폴트 값, 입력뉴런과 가중치로 계산된 결과값이 그대로 출력으로 나옵니다.  \n",
    "    -‘relu’ : rectifier 함수, 은익층에 주로 쓰입니다.  \n",
    "    -‘sigmoid’ : 시그모이드 함수, 이진 분류 문제에서 출력층에 주로 쓰입니다.  \n",
    "    -‘softmax’ : 소프트맥스 함수, 다중 클래스 분류 문제에서 출력층에 주로 쓰입니다.  \n",
    "\n",
    "* categorical_crossentropy : 다중 분류 손실함수. one-hot encoding 클래스. 확률로 나타냄 [0.2,0.3,0.5]\n",
    "* sparse_categorical_crossentropy : 다중 분류 손실함수. categorical과 비슷하나 integer type 클래스다. [1,2,3]\n",
    "* binary_crossentropy : 0,1 분류. activation을 sigmoid 사용해야함. \n"
   ]
  },
  {
   "cell_type": "markdown",
   "metadata": {},
   "source": [
    "<img src = \"./img/activation.png\">"
   ]
  },
  {
   "cell_type": "code",
   "execution_count": 60,
   "metadata": {},
   "outputs": [],
   "source": [
    "# 3.4 텐서플로 2.0 버전 선택\n",
    "try:\n",
    "    # %tensorflow_version only exists in Colab.\n",
    "    %tensorflow_version 2.x\n",
    "except Exception:\n",
    "    pass\n",
    "import tensorflow as tf\n",
    "import os"
   ]
  },
  {
   "cell_type": "code",
   "execution_count": 61,
   "metadata": {},
   "outputs": [],
   "source": [
    "X_train_over_np= X_train_over.to_numpy()\n",
    "y_train_over_np =y_train_over.to_numpy()\n"
   ]
  },
  {
   "cell_type": "code",
   "execution_count": 62,
   "metadata": {},
   "outputs": [],
   "source": [
    "X_test_np = X_test.to_numpy()\n",
    "y_test_np = y_test.to_numpy()"
   ]
  },
  {
   "cell_type": "code",
   "execution_count": 63,
   "metadata": {},
   "outputs": [],
   "source": [
    "y_train_over_np = tf.keras.utils.to_categorical(y_train_over_np, num_classes=2)\n",
    "y_test_np = tf.keras.utils.to_categorical(y_test_np, num_classes=2)"
   ]
  },
  {
   "cell_type": "code",
   "execution_count": 64,
   "metadata": {},
   "outputs": [],
   "source": [
    "from keras import backend as K\n",
    "def recall(y_target, y_pred):\n",
    "    # clip(t, clip_value_min, clip_value_max) : clip_value_min~clip_value_max 이외 가장자리를 깎아 낸다\n",
    "    # round : 반올림한다\n",
    "    y_target_yn = K.round(K.clip(y_target, 0, 1)) # 실제값을 0(Negative) 또는 1(Positive)로 설정한다\n",
    "    y_pred_yn = K.round(K.clip(y_pred, 0, 1)) # 예측값을 0(Negative) 또는 1(Positive)로 설정한다\n",
    "\n",
    "    # True Positive는 실제 값과 예측 값이 모두 1(Positive)인 경우이다\n",
    "    count_true_positive = K.sum(y_target_yn * y_pred_yn) \n",
    "\n",
    "    # (True Positive + False Negative) = 실제 값이 1(Positive) 전체\n",
    "    count_true_positive_false_negative = K.sum(y_target_yn)\n",
    "\n",
    "    # Recall =  (True Positive) / (True Positive + False Negative)\n",
    "    # K.epsilon()는 'divide by zero error' 예방차원에서 작은 수를 더한다\n",
    "    recall = count_true_positive / (count_true_positive_false_negative + K.epsilon())\n",
    "\n",
    "    # return a single tensor value\n",
    "    return recall\n",
    "\n",
    "\n",
    "def precision(y_target, y_pred):\n",
    "    # clip(t, clip_value_min, clip_value_max) : clip_value_min~clip_value_max 이외 가장자리를 깎아 낸다\n",
    "    # round : 반올림한다\n",
    "    y_pred_yn = K.round(K.clip(y_pred, 0, 1)) # 예측값을 0(Negative) 또는 1(Positive)로 설정한다\n",
    "    y_target_yn = K.round(K.clip(y_target, 0, 1)) # 실제값을 0(Negative) 또는 1(Positive)로 설정한다\n",
    "\n",
    "    # True Positive는 실제 값과 예측 값이 모두 1(Positive)인 경우이다\n",
    "    count_true_positive = K.sum(y_target_yn * y_pred_yn) \n",
    "\n",
    "    # (True Positive + False Positive) = 예측 값이 1(Positive) 전체\n",
    "    count_true_positive_false_positive = K.sum(y_pred_yn)\n",
    "\n",
    "    # Precision = (True Positive) / (True Positive + False Positive)\n",
    "    # K.epsilon()는 'divide by zero error' 예방차원에서 작은 수를 더한다\n",
    "    precision = count_true_positive / (count_true_positive_false_positive + K.epsilon())\n",
    "\n",
    "    # return a single tensor value\n",
    "    return precision\n",
    "\n",
    "\n",
    "def f1score(y_target, y_pred):\n",
    "    _recall = recall(y_target, y_pred)\n",
    "    _precision = precision(y_target, y_pred)\n",
    "    # K.epsilon()는 'divide by zero error' 예방차원에서 작은 수를 더한다\n",
    "    _f1score = ( 2 * _recall * _precision) / (_recall + _precision+ K.epsilon())\n",
    "    \n",
    "    # return a single tensor value\n",
    "    return _f1score"
   ]
  },
  {
   "cell_type": "code",
   "execution_count": 125,
   "metadata": {},
   "outputs": [
    {
     "name": "stdout",
     "output_type": "stream",
     "text": [
      "Train on 387 samples, validate on 129 samples\n",
      "Epoch 1/100\n",
      " 64/387 [===>..........................] - ETA: 9s - loss: 3.4699 - accuracy: 0.6094 - f1score: 0.6094\n",
      "Epoch 00001: saving model to training_3/cp-0001.ckpt\n",
      "387/387 [==============================] - 2s 6ms/sample - loss: 3.1343 - accuracy: 0.5814 - f1score: 0.5930 - val_loss: 6.8375 - val_accuracy: 0.0000e+00 - val_f1score: 0.0000e+00\n",
      "Epoch 2/100\n",
      " 64/387 [===>..........................] - ETA: 0s - loss: 5.0792 - accuracy: 0.5156 - f1score: 0.5156\n",
      "Epoch 00002: saving model to training_3/cp-0002.ckpt\n",
      "387/387 [==============================] - 0s 233us/sample - loss: 3.0408 - accuracy: 0.5736 - f1score: 0.5409 - val_loss: 4.6322 - val_accuracy: 0.0000e+00 - val_f1score: 0.0000e+00\n",
      "Epoch 3/100\n",
      " 64/387 [===>..........................] - ETA: 0s - loss: 1.9275 - accuracy: 0.4531 - f1score: 0.4531\n",
      "Epoch 00003: saving model to training_3/cp-0003.ckpt\n",
      "387/387 [==============================] - 0s 225us/sample - loss: 2.8010 - accuracy: 0.5220 - f1score: 0.4963 - val_loss: 3.9890 - val_accuracy: 0.0000e+00 - val_f1score: 0.0000e+00\n",
      "Epoch 4/100\n",
      " 64/387 [===>..........................] - ETA: 0s - loss: 1.9631 - accuracy: 0.5781 - f1score: 0.5781\n",
      "Epoch 00004: saving model to training_3/cp-0004.ckpt\n",
      "387/387 [==============================] - 0s 238us/sample - loss: 2.8924 - accuracy: 0.5271 - f1score: 0.5461 - val_loss: 2.9880 - val_accuracy: 0.0000e+00 - val_f1score: 0.0000e+00\n",
      "Epoch 5/100\n",
      " 64/387 [===>..........................] - ETA: 0s - loss: 3.1031 - accuracy: 0.4531 - f1score: 0.4531\n",
      "Epoch 00005: saving model to training_3/cp-0005.ckpt\n",
      "387/387 [==============================] - 0s 253us/sample - loss: 2.4211 - accuracy: 0.5762 - f1score: 0.4978 - val_loss: 2.0104 - val_accuracy: 0.0000e+00 - val_f1score: 0.0000e+00\n",
      "Epoch 6/100\n",
      " 64/387 [===>..........................] - ETA: 0s - loss: 1.6465 - accuracy: 0.5781 - f1score: 0.5781\n",
      "Epoch 00006: saving model to training_3/cp-0006.ckpt\n",
      "387/387 [==============================] - 0s 235us/sample - loss: 1.9689 - accuracy: 0.5581 - f1score: 0.5275 - val_loss: 1.4130 - val_accuracy: 0.0000e+00 - val_f1score: 0.0000e+00\n",
      "Epoch 7/100\n",
      " 64/387 [===>..........................] - ETA: 0s - loss: 1.6529 - accuracy: 0.5938 - f1score: 0.5937\n",
      "Epoch 00007: saving model to training_3/cp-0007.ckpt\n",
      "387/387 [==============================] - 0s 243us/sample - loss: 1.6352 - accuracy: 0.5685 - f1score: 0.5818 - val_loss: 1.0084 - val_accuracy: 0.1318 - val_f1score: 0.0885\n",
      "Epoch 8/100\n",
      " 64/387 [===>..........................] - ETA: 0s - loss: 1.8634 - accuracy: 0.5312 - f1score: 0.5312\n",
      "Epoch 00008: saving model to training_3/cp-0008.ckpt\n",
      "387/387 [==============================] - 0s 204us/sample - loss: 1.9534 - accuracy: 0.5788 - f1score: 0.6362 - val_loss: 0.7211 - val_accuracy: 0.4729 - val_f1score: 0.6458\n",
      "Epoch 9/100\n",
      " 64/387 [===>..........................] - ETA: 0s - loss: 1.8069 - accuracy: 0.5781 - f1score: 0.5781\n",
      "Epoch 00009: saving model to training_3/cp-0009.ckpt\n",
      "387/387 [==============================] - 0s 230us/sample - loss: 1.7391 - accuracy: 0.5297 - f1score: 0.5030 - val_loss: 0.6807 - val_accuracy: 0.5116 - val_f1score: 0.6719\n",
      "Epoch 10/100\n",
      " 64/387 [===>..........................] - ETA: 0s - loss: 1.3550 - accuracy: 0.4844 - f1score: 0.4844\n",
      "Epoch 00010: saving model to training_3/cp-0010.ckpt\n",
      "387/387 [==============================] - 0s 248us/sample - loss: 1.6557 - accuracy: 0.5375 - f1score: 0.5097 - val_loss: 0.5544 - val_accuracy: 0.6667 - val_f1score: 0.7760\n",
      "Epoch 11/100\n",
      " 64/387 [===>..........................] - ETA: 0s - loss: 2.5333 - accuracy: 0.4375 - f1score: 0.4375\n",
      "Epoch 00011: saving model to training_3/cp-0011.ckpt\n",
      "387/387 [==============================] - 0s 225us/sample - loss: 1.8353 - accuracy: 0.5452 - f1score: 0.5618 - val_loss: 0.4985 - val_accuracy: 0.7132 - val_f1score: 0.8073\n",
      "Epoch 12/100\n",
      " 64/387 [===>..........................] - ETA: 0s - loss: 1.4658 - accuracy: 0.5312 - f1score: 0.5312\n",
      "Epoch 00012: saving model to training_3/cp-0012.ckpt\n",
      "387/387 [==============================] - 0s 248us/sample - loss: 1.5274 - accuracy: 0.5116 - f1score: 0.5327 - val_loss: 0.5038 - val_accuracy: 0.7132 - val_f1score: 0.8073\n",
      "Epoch 13/100\n",
      " 64/387 [===>..........................] - ETA: 0s - loss: 1.5004 - accuracy: 0.4844 - f1score: 0.4844\n",
      "Epoch 00013: saving model to training_3/cp-0013.ckpt\n",
      "387/387 [==============================] - 0s 230us/sample - loss: 1.6093 - accuracy: 0.4806 - f1score: 0.5513 - val_loss: 0.4613 - val_accuracy: 0.7674 - val_f1score: 0.8437\n",
      "Epoch 14/100\n",
      " 64/387 [===>..........................] - ETA: 0s - loss: 1.1871 - accuracy: 0.6094 - f1score: 0.6094\n",
      "Epoch 00014: saving model to training_3/cp-0014.ckpt\n",
      "387/387 [==============================] - 0s 238us/sample - loss: 1.3572 - accuracy: 0.5814 - f1score: 0.5476 - val_loss: 0.4429 - val_accuracy: 0.7907 - val_f1score: 0.8594\n",
      "Epoch 15/100\n",
      " 64/387 [===>..........................] - ETA: 0s - loss: 1.0963 - accuracy: 0.5625 - f1score: 0.5625\n",
      "Epoch 00015: saving model to training_3/cp-0015.ckpt\n",
      "387/387 [==============================] - 0s 209us/sample - loss: 1.3155 - accuracy: 0.5581 - f1score: 0.6183 - val_loss: 0.4451 - val_accuracy: 0.7907 - val_f1score: 0.8594\n",
      "Epoch 16/100\n",
      " 64/387 [===>..........................] - ETA: 0s - loss: 1.4035 - accuracy: 0.4375 - f1score: 0.4375\n",
      "Epoch 00016: saving model to training_3/cp-0016.ckpt\n",
      "387/387 [==============================] - 0s 204us/sample - loss: 1.1865 - accuracy: 0.5349 - f1score: 0.5528 - val_loss: 0.4358 - val_accuracy: 0.7907 - val_f1score: 0.8594\n",
      "Epoch 17/100\n",
      " 64/387 [===>..........................] - ETA: 0s - loss: 1.4181 - accuracy: 0.5156 - f1score: 0.5156\n",
      "Epoch 00017: saving model to training_3/cp-0017.ckpt\n",
      "387/387 [==============================] - 0s 202us/sample - loss: 1.3178 - accuracy: 0.5762 - f1score: 0.4978 - val_loss: 0.4208 - val_accuracy: 0.7907 - val_f1score: 0.8594\n",
      "Epoch 18/100\n",
      " 64/387 [===>..........................] - ETA: 0s - loss: 0.9895 - accuracy: 0.6250 - f1score: 0.6250\n",
      "Epoch 00018: saving model to training_3/cp-0018.ckpt\n",
      "387/387 [==============================] - 0s 202us/sample - loss: 1.1045 - accuracy: 0.5685 - f1score: 0.5818 - val_loss: 0.4250 - val_accuracy: 0.7907 - val_f1score: 0.8594\n",
      "Epoch 19/100\n",
      " 64/387 [===>..........................] - ETA: 0s - loss: 1.3440 - accuracy: 0.4688 - f1score: 0.4687\n",
      "Epoch 00019: saving model to training_3/cp-0019.ckpt\n",
      "387/387 [==============================] - 0s 245us/sample - loss: 1.0596 - accuracy: 0.5349 - f1score: 0.5074 - val_loss: 0.4301 - val_accuracy: 0.7907 - val_f1score: 0.8594\n",
      "Epoch 20/100\n",
      " 64/387 [===>..........................] - ETA: 0s - loss: 1.4894 - accuracy: 0.5469 - f1score: 0.5469\n",
      "Epoch 00020: saving model to training_3/cp-0020.ckpt\n",
      "387/387 [==============================] - 0s 251us/sample - loss: 1.2364 - accuracy: 0.6047 - f1score: 0.6585 - val_loss: 0.4665 - val_accuracy: 0.7907 - val_f1score: 0.8594\n",
      "Epoch 21/100\n",
      " 64/387 [===>..........................] - ETA: 0s - loss: 1.0133 - accuracy: 0.5625 - f1score: 0.5625\n",
      "Epoch 00021: saving model to training_3/cp-0021.ckpt\n",
      "387/387 [==============================] - 0s 209us/sample - loss: 1.0467 - accuracy: 0.5943 - f1score: 0.6042 - val_loss: 0.5031 - val_accuracy: 0.7907 - val_f1score: 0.8594\n",
      "Epoch 22/100\n",
      " 64/387 [===>..........................] - ETA: 0s - loss: 1.0531 - accuracy: 0.6094 - f1score: 0.6094\n",
      "Epoch 00022: saving model to training_3/cp-0022.ckpt\n",
      "387/387 [==============================] - 0s 207us/sample - loss: 1.2003 - accuracy: 0.5349 - f1score: 0.5074 - val_loss: 0.5268 - val_accuracy: 0.7907 - val_f1score: 0.8594\n",
      "Epoch 23/100\n",
      " 64/387 [===>..........................] - ETA: 0s - loss: 0.9261 - accuracy: 0.5312 - f1score: 0.5312\n",
      "Epoch 00023: saving model to training_3/cp-0023.ckpt\n",
      "387/387 [==============================] - 0s 207us/sample - loss: 1.1029 - accuracy: 0.5685 - f1score: 0.6272 - val_loss: 0.5624 - val_accuracy: 0.7907 - val_f1score: 0.8594\n",
      "Epoch 24/100\n",
      " 64/387 [===>..........................] - ETA: 0s - loss: 1.3598 - accuracy: 0.6719 - f1score: 0.6719\n",
      "Epoch 00024: saving model to training_3/cp-0024.ckpt\n",
      "387/387 [==============================] - 0s 207us/sample - loss: 0.9764 - accuracy: 0.6202 - f1score: 0.6265 - val_loss: 0.6225 - val_accuracy: 0.7752 - val_f1score: 0.8490\n"
     ]
    },
    {
     "name": "stdout",
     "output_type": "stream",
     "text": [
      "Epoch 25/100\n",
      " 64/387 [===>..........................] - ETA: 0s - loss: 1.1391 - accuracy: 0.6719 - f1score: 0.6719\n",
      "Epoch 00025: saving model to training_3/cp-0025.ckpt\n",
      "387/387 [==============================] - 0s 240us/sample - loss: 1.0102 - accuracy: 0.6072 - f1score: 0.6153 - val_loss: 0.6365 - val_accuracy: 0.7674 - val_f1score: 0.8437\n",
      "Epoch 26/100\n",
      " 64/387 [===>..........................] - ETA: 0s - loss: 0.8932 - accuracy: 0.5938 - f1score: 0.5937\n",
      "Epoch 00026: saving model to training_3/cp-0026.ckpt\n",
      "387/387 [==============================] - 0s 235us/sample - loss: 0.8767 - accuracy: 0.6512 - f1score: 0.6987 - val_loss: 0.6528 - val_accuracy: 0.7442 - val_f1score: 0.8281\n",
      "Epoch 27/100\n",
      " 64/387 [===>..........................] - ETA: 0s - loss: 0.9093 - accuracy: 0.6406 - f1score: 0.6406\n",
      "Epoch 00027: saving model to training_3/cp-0027.ckpt\n",
      "387/387 [==============================] - 0s 233us/sample - loss: 0.9969 - accuracy: 0.5917 - f1score: 0.6019 - val_loss: 0.6584 - val_accuracy: 0.7442 - val_f1score: 0.8281\n",
      "Epoch 28/100\n",
      " 64/387 [===>..........................] - ETA: 0s - loss: 1.0509 - accuracy: 0.6094 - f1score: 0.6094\n",
      "Epoch 00028: saving model to training_3/cp-0028.ckpt\n",
      "387/387 [==============================] - 0s 209us/sample - loss: 1.2145 - accuracy: 0.5891 - f1score: 0.5543 - val_loss: 0.6568 - val_accuracy: 0.7442 - val_f1score: 0.8281\n",
      "Epoch 29/100\n",
      " 64/387 [===>..........................] - ETA: 0s - loss: 1.3237 - accuracy: 0.4531 - f1score: 0.4531\n",
      "Epoch 00029: saving model to training_3/cp-0029.ckpt\n",
      "387/387 [==============================] - 0s 217us/sample - loss: 0.9868 - accuracy: 0.5504 - f1score: 0.5208 - val_loss: 0.6621 - val_accuracy: 0.7442 - val_f1score: 0.8281\n",
      "Epoch 30/100\n",
      " 64/387 [===>..........................] - ETA: 0s - loss: 0.9435 - accuracy: 0.6094 - f1score: 0.6094\n",
      "Epoch 00030: saving model to training_3/cp-0030.ckpt\n",
      "387/387 [==============================] - 0s 240us/sample - loss: 0.8748 - accuracy: 0.6357 - f1score: 0.5491 - val_loss: 0.6438 - val_accuracy: 0.7752 - val_f1score: 0.8490\n",
      "Epoch 31/100\n",
      " 64/387 [===>..........................] - ETA: 0s - loss: 1.1047 - accuracy: 0.6094 - f1score: 0.6094\n",
      "Epoch 00031: saving model to training_3/cp-0031.ckpt\n",
      "387/387 [==============================] - 0s 258us/sample - loss: 0.9249 - accuracy: 0.5891 - f1score: 0.6451 - val_loss: 0.6468 - val_accuracy: 0.7752 - val_f1score: 0.8490\n",
      "Epoch 32/100\n",
      " 64/387 [===>..........................] - ETA: 0s - loss: 1.0453 - accuracy: 0.6406 - f1score: 0.6406\n",
      "Epoch 00032: saving model to training_3/cp-0032.ckpt\n",
      "387/387 [==============================] - 0s 227us/sample - loss: 1.0335 - accuracy: 0.5504 - f1score: 0.5662 - val_loss: 0.6508 - val_accuracy: 0.7752 - val_f1score: 0.8490\n",
      "Epoch 33/100\n",
      " 64/387 [===>..........................] - ETA: 0s - loss: 0.6650 - accuracy: 0.7031 - f1score: 0.7031\n",
      "Epoch 00033: saving model to training_3/cp-0033.ckpt\n",
      "387/387 [==============================] - 0s 207us/sample - loss: 1.0362 - accuracy: 0.5685 - f1score: 0.5365 - val_loss: 0.6639 - val_accuracy: 0.7752 - val_f1score: 0.8490\n",
      "Epoch 34/100\n",
      " 64/387 [===>..........................] - ETA: 0s - loss: 1.0131 - accuracy: 0.5781 - f1score: 0.5781\n",
      "Epoch 00034: saving model to training_3/cp-0034.ckpt\n",
      "387/387 [==============================] - 0s 207us/sample - loss: 0.9009 - accuracy: 0.6072 - f1score: 0.6153 - val_loss: 0.6779 - val_accuracy: 0.7752 - val_f1score: 0.8490\n",
      "Epoch 35/100\n",
      " 64/387 [===>..........................] - ETA: 0s - loss: 0.8084 - accuracy: 0.6250 - f1score: 0.6250\n",
      "Epoch 00035: saving model to training_3/cp-0035.ckpt\n",
      "387/387 [==============================] - 0s 217us/sample - loss: 0.9046 - accuracy: 0.6279 - f1score: 0.6332 - val_loss: 0.6975 - val_accuracy: 0.7597 - val_f1score: 0.8385\n",
      "Epoch 36/100\n",
      " 64/387 [===>..........................] - ETA: 0s - loss: 0.6956 - accuracy: 0.6719 - f1score: 0.6719\n",
      "Epoch 00036: saving model to training_3/cp-0036.ckpt\n",
      "387/387 [==============================] - 0s 235us/sample - loss: 0.9468 - accuracy: 0.5969 - f1score: 0.6064 - val_loss: 0.6998 - val_accuracy: 0.7674 - val_f1score: 0.8437\n",
      "Epoch 37/100\n",
      " 64/387 [===>..........................] - ETA: 0s - loss: 0.9591 - accuracy: 0.6094 - f1score: 0.6094\n",
      "Epoch 00037: saving model to training_3/cp-0037.ckpt\n",
      "387/387 [==============================] - 0s 297us/sample - loss: 0.8627 - accuracy: 0.6615 - f1score: 0.6622 - val_loss: 0.7079 - val_accuracy: 0.7597 - val_f1score: 0.8385\n",
      "Epoch 38/100\n",
      " 64/387 [===>..........................] - ETA: 0s - loss: 0.7032 - accuracy: 0.6719 - f1score: 0.6719\n",
      "Epoch 00038: saving model to training_3/cp-0038.ckpt\n",
      "387/387 [==============================] - 0s 313us/sample - loss: 0.8514 - accuracy: 0.6253 - f1score: 0.5856 - val_loss: 0.7029 - val_accuracy: 0.7674 - val_f1score: 0.8437\n",
      "Epoch 39/100\n",
      " 64/387 [===>..........................] - ETA: 0s - loss: 0.8617 - accuracy: 0.6719 - f1score: 0.6719\n",
      "Epoch 00039: saving model to training_3/cp-0039.ckpt\n",
      "387/387 [==============================] - 0s 284us/sample - loss: 0.8878 - accuracy: 0.6357 - f1score: 0.6853 - val_loss: 0.7056 - val_accuracy: 0.7674 - val_f1score: 0.8437\n",
      "Epoch 40/100\n",
      " 64/387 [===>..........................] - ETA: 0s - loss: 0.7490 - accuracy: 0.6094 - f1score: 0.6094\n",
      "Epoch 00040: saving model to training_3/cp-0040.ckpt\n",
      "387/387 [==============================] - 0s 274us/sample - loss: 0.9308 - accuracy: 0.6047 - f1score: 0.5677 - val_loss: 0.7168 - val_accuracy: 0.7597 - val_f1score: 0.8385\n",
      "Epoch 41/100\n",
      " 64/387 [===>..........................] - ETA: 0s - loss: 0.7241 - accuracy: 0.5938 - f1score: 0.5937\n",
      "Epoch 00041: saving model to training_3/cp-0041.ckpt\n",
      "387/387 [==============================] - 0s 287us/sample - loss: 0.8308 - accuracy: 0.6098 - f1score: 0.6176 - val_loss: 0.7244 - val_accuracy: 0.7442 - val_f1score: 0.8281\n",
      "Epoch 42/100\n",
      "384/387 [============================>.] - ETA: 0s - loss: 0.8110 - accuracy: 0.6250 - f1score: 0.6250\n",
      "Epoch 00042: saving model to training_3/cp-0042.ckpt\n",
      "387/387 [==============================] - 0s 444us/sample - loss: 0.8074 - accuracy: 0.6279 - f1score: 0.6786 - val_loss: 0.7357 - val_accuracy: 0.7209 - val_f1score: 0.8125\n",
      "Epoch 43/100\n",
      " 64/387 [===>..........................] - ETA: 0s - loss: 0.8074 - accuracy: 0.5781 - f1score: 0.5781\n",
      "Epoch 00043: saving model to training_3/cp-0043.ckpt\n",
      "387/387 [==============================] - 0s 240us/sample - loss: 0.8463 - accuracy: 0.6047 - f1score: 0.6131 - val_loss: 0.7475 - val_accuracy: 0.6977 - val_f1score: 0.7969\n",
      "Epoch 44/100\n",
      " 64/387 [===>..........................] - ETA: 0s - loss: 1.1601 - accuracy: 0.5938 - f1score: 0.5937\n",
      "Epoch 00044: saving model to training_3/cp-0044.ckpt\n",
      "387/387 [==============================] - 0s 253us/sample - loss: 0.9609 - accuracy: 0.5891 - f1score: 0.5997 - val_loss: 0.7607 - val_accuracy: 0.6899 - val_f1score: 0.7917\n",
      "Epoch 45/100\n",
      " 64/387 [===>..........................] - ETA: 0s - loss: 0.9729 - accuracy: 0.6250 - f1score: 0.6250\n",
      "Epoch 00045: saving model to training_3/cp-0045.ckpt\n",
      "387/387 [==============================] - 0s 277us/sample - loss: 0.9085 - accuracy: 0.6124 - f1score: 0.5744 - val_loss: 0.7734 - val_accuracy: 0.6899 - val_f1score: 0.7917\n",
      "Epoch 46/100\n",
      " 64/387 [===>..........................] - ETA: 0s - loss: 0.6859 - accuracy: 0.5938 - f1score: 0.5937\n",
      "Epoch 00046: saving model to training_3/cp-0046.ckpt\n",
      "387/387 [==============================] - 0s 258us/sample - loss: 0.9469 - accuracy: 0.6021 - f1score: 0.6109 - val_loss: 0.7702 - val_accuracy: 0.6899 - val_f1score: 0.7917\n",
      "Epoch 47/100\n",
      " 64/387 [===>..........................] - ETA: 0s - loss: 1.0777 - accuracy: 0.6094 - f1score: 0.6094\n",
      "Epoch 00047: saving model to training_3/cp-0047.ckpt\n",
      "387/387 [==============================] - 0s 276us/sample - loss: 0.8364 - accuracy: 0.5969 - f1score: 0.6518 - val_loss: 0.7712 - val_accuracy: 0.6899 - val_f1score: 0.7917\n",
      "Epoch 48/100\n",
      " 64/387 [===>..........................] - ETA: 0s - loss: 0.6242 - accuracy: 0.7656 - f1score: 0.7656\n",
      "Epoch 00048: saving model to training_3/cp-0048.ckpt\n",
      "387/387 [==============================] - 0s 238us/sample - loss: 0.7709 - accuracy: 0.6331 - f1score: 0.6376 - val_loss: 0.7795 - val_accuracy: 0.6899 - val_f1score: 0.7917\n"
     ]
    },
    {
     "name": "stdout",
     "output_type": "stream",
     "text": [
      "Epoch 49/100\n",
      " 64/387 [===>..........................] - ETA: 0s - loss: 0.8206 - accuracy: 0.6250 - f1score: 0.6250\n",
      "Epoch 00049: saving model to training_3/cp-0049.ckpt\n",
      "387/387 [==============================] - 0s 225us/sample - loss: 0.7395 - accuracy: 0.6460 - f1score: 0.6488 - val_loss: 0.7849 - val_accuracy: 0.6899 - val_f1score: 0.7917\n",
      "Epoch 50/100\n",
      " 64/387 [===>..........................] - ETA: 0s - loss: 0.8966 - accuracy: 0.6875 - f1score: 0.6875\n",
      "Epoch 00050: saving model to training_3/cp-0050.ckpt\n",
      "387/387 [==============================] - 0s 220us/sample - loss: 0.9161 - accuracy: 0.6098 - f1score: 0.5722 - val_loss: 0.7675 - val_accuracy: 0.6899 - val_f1score: 0.7917\n",
      "Epoch 51/100\n",
      " 64/387 [===>..........................] - ETA: 0s - loss: 0.7805 - accuracy: 0.5625 - f1score: 0.5625\n",
      "Epoch 00051: saving model to training_3/cp-0051.ckpt\n",
      "387/387 [==============================] - 0s 230us/sample - loss: 0.8783 - accuracy: 0.6227 - f1score: 0.6287 - val_loss: 0.7516 - val_accuracy: 0.7442 - val_f1score: 0.8281\n",
      "Epoch 52/100\n",
      " 64/387 [===>..........................] - ETA: 0s - loss: 0.6433 - accuracy: 0.6719 - f1score: 0.6719\n",
      "Epoch 00052: saving model to training_3/cp-0052.ckpt\n",
      "387/387 [==============================] - 0s 357us/sample - loss: 0.7556 - accuracy: 0.6279 - f1score: 0.5878 - val_loss: 0.7416 - val_accuracy: 0.7597 - val_f1score: 0.8385\n",
      "Epoch 53/100\n",
      " 64/387 [===>..........................] - ETA: 0s - loss: 0.7475 - accuracy: 0.5781 - f1score: 0.5781\n",
      "Epoch 00053: saving model to training_3/cp-0053.ckpt\n",
      "387/387 [==============================] - 0s 277us/sample - loss: 0.8227 - accuracy: 0.5866 - f1score: 0.5975 - val_loss: 0.7374 - val_accuracy: 0.7597 - val_f1score: 0.8385\n",
      "Epoch 54/100\n",
      " 64/387 [===>..........................] - ETA: 0s - loss: 0.9745 - accuracy: 0.4844 - f1score: 0.4844\n",
      "Epoch 00054: saving model to training_3/cp-0054.ckpt\n",
      "387/387 [==============================] - 0s 308us/sample - loss: 0.8214 - accuracy: 0.5762 - f1score: 0.5432 - val_loss: 0.7461 - val_accuracy: 0.7597 - val_f1score: 0.8385\n",
      "Epoch 55/100\n",
      " 64/387 [===>..........................] - ETA: 0s - loss: 0.9132 - accuracy: 0.5469 - f1score: 0.5469\n",
      "Epoch 00055: saving model to training_3/cp-0055.ckpt\n",
      "387/387 [==============================] - 0s 305us/sample - loss: 0.7939 - accuracy: 0.6150 - f1score: 0.5766 - val_loss: 0.7716 - val_accuracy: 0.6899 - val_f1score: 0.7917\n",
      "Epoch 56/100\n",
      " 64/387 [===>..........................] - ETA: 0s - loss: 0.5976 - accuracy: 0.7031 - f1score: 0.7031\n",
      "Epoch 00056: saving model to training_3/cp-0056.ckpt\n",
      "387/387 [==============================] - 0s 261us/sample - loss: 0.7538 - accuracy: 0.6098 - f1score: 0.6176 - val_loss: 0.8131 - val_accuracy: 0.5426 - val_f1score: 0.6927\n",
      "Epoch 57/100\n",
      " 64/387 [===>..........................] - ETA: 0s - loss: 0.9389 - accuracy: 0.5781 - f1score: 0.5781\n",
      "Epoch 00057: saving model to training_3/cp-0057.ckpt\n",
      "387/387 [==============================] - 0s 233us/sample - loss: 0.7844 - accuracy: 0.6331 - f1score: 0.6830 - val_loss: 0.8368 - val_accuracy: 0.0000e+00 - val_f1score: 0.0000e+00\n",
      "Epoch 58/100\n",
      " 64/387 [===>..........................] - ETA: 0s - loss: 0.7193 - accuracy: 0.6250 - f1score: 0.6250\n",
      "Epoch 00058: saving model to training_3/cp-0058.ckpt\n",
      "387/387 [==============================] - 0s 256us/sample - loss: 0.7805 - accuracy: 0.6512 - f1score: 0.6079 - val_loss: 0.8499 - val_accuracy: 0.0000e+00 - val_f1score: 0.0000e+00\n",
      "Epoch 59/100\n",
      " 64/387 [===>..........................] - ETA: 0s - loss: 0.8278 - accuracy: 0.6250 - f1score: 0.6250\n",
      "Epoch 00059: saving model to training_3/cp-0059.ckpt\n",
      "387/387 [==============================] - 0s 238us/sample - loss: 0.8035 - accuracy: 0.6124 - f1score: 0.5744 - val_loss: 0.8470 - val_accuracy: 0.0000e+00 - val_f1score: 0.0000e+00\n",
      "Epoch 60/100\n",
      " 64/387 [===>..........................] - ETA: 0s - loss: 0.8874 - accuracy: 0.6094 - f1score: 0.6094\n",
      "Epoch 00060: saving model to training_3/cp-0060.ckpt\n",
      "387/387 [==============================] - 0s 220us/sample - loss: 0.7389 - accuracy: 0.6331 - f1score: 0.6830 - val_loss: 0.8422 - val_accuracy: 0.0000e+00 - val_f1score: 0.0000e+00\n",
      "Epoch 61/100\n",
      " 64/387 [===>..........................] - ETA: 0s - loss: 0.7537 - accuracy: 0.6250 - f1score: 0.6250\n",
      "Epoch 00061: saving model to training_3/cp-0061.ckpt\n",
      "387/387 [==============================] - 0s 217us/sample - loss: 0.7717 - accuracy: 0.6253 - f1score: 0.5856 - val_loss: 0.8393 - val_accuracy: 0.0000e+00 - val_f1score: 0.0000e+00\n",
      "Epoch 62/100\n",
      " 64/387 [===>..........................] - ETA: 0s - loss: 0.7156 - accuracy: 0.5938 - f1score: 0.5937\n",
      "Epoch 00062: saving model to training_3/cp-0062.ckpt\n",
      "387/387 [==============================] - 0s 222us/sample - loss: 0.7761 - accuracy: 0.6202 - f1score: 0.5811 - val_loss: 0.8471 - val_accuracy: 0.0000e+00 - val_f1score: 0.0000e+00\n",
      "Epoch 63/100\n",
      " 64/387 [===>..........................] - ETA: 0s - loss: 0.7642 - accuracy: 0.6094 - f1score: 0.6094\n",
      "Epoch 00063: saving model to training_3/cp-0063.ckpt\n",
      "387/387 [==============================] - 0s 253us/sample - loss: 0.7634 - accuracy: 0.6279 - f1score: 0.5878 - val_loss: 0.8541 - val_accuracy: 0.0000e+00 - val_f1score: 0.0000e+00\n",
      "Epoch 64/100\n",
      " 64/387 [===>..........................] - ETA: 0s - loss: 0.8042 - accuracy: 0.5312 - f1score: 0.5312\n",
      "Epoch 00064: saving model to training_3/cp-0064.ckpt\n",
      "387/387 [==============================] - 0s 209us/sample - loss: 0.7607 - accuracy: 0.6279 - f1score: 0.5878 - val_loss: 0.8731 - val_accuracy: 0.0000e+00 - val_f1score: 0.0000e+00\n",
      "Epoch 65/100\n",
      " 64/387 [===>..........................] - ETA: 0s - loss: 0.5963 - accuracy: 0.7656 - f1score: 0.7656\n",
      "Epoch 00065: saving model to training_3/cp-0065.ckpt\n",
      "387/387 [==============================] - 0s 212us/sample - loss: 0.7554 - accuracy: 0.6408 - f1score: 0.5990 - val_loss: 0.8832 - val_accuracy: 0.0000e+00 - val_f1score: 0.0000e+00\n",
      "Epoch 66/100\n",
      " 64/387 [===>..........................] - ETA: 0s - loss: 0.7088 - accuracy: 0.6406 - f1score: 0.6406\n",
      "Epoch 00066: saving model to training_3/cp-0066.ckpt\n",
      "387/387 [==============================] - 0s 214us/sample - loss: 0.8034 - accuracy: 0.6227 - f1score: 0.5379 - val_loss: 0.8746 - val_accuracy: 0.0000e+00 - val_f1score: 0.0000e+00\n",
      "Epoch 67/100\n",
      " 64/387 [===>..........................] - ETA: 0s - loss: 0.5900 - accuracy: 0.7031 - f1score: 0.7031\n",
      "Epoch 00067: saving model to training_3/cp-0067.ckpt\n",
      "387/387 [==============================] - 0s 230us/sample - loss: 0.7619 - accuracy: 0.6408 - f1score: 0.5990 - val_loss: 0.8649 - val_accuracy: 0.0000e+00 - val_f1score: 0.0000e+00\n",
      "Epoch 68/100\n",
      " 64/387 [===>..........................] - ETA: 0s - loss: 0.7265 - accuracy: 0.6719 - f1score: 0.6719\n",
      "Epoch 00068: saving model to training_3/cp-0068.ckpt\n",
      "387/387 [==============================] - 0s 235us/sample - loss: 0.7692 - accuracy: 0.6047 - f1score: 0.6585 - val_loss: 0.8636 - val_accuracy: 0.0000e+00 - val_f1score: 0.0000e+00\n",
      "Epoch 69/100\n",
      " 64/387 [===>..........................] - ETA: 0s - loss: 0.8588 - accuracy: 0.6562 - f1score: 0.6562\n",
      "Epoch 00069: saving model to training_3/cp-0069.ckpt\n",
      "387/387 [==============================] - 0s 230us/sample - loss: 0.8114 - accuracy: 0.6176 - f1score: 0.6696 - val_loss: 0.8644 - val_accuracy: 0.0000e+00 - val_f1score: 0.0000e+00\n",
      "Epoch 70/100\n",
      " 64/387 [===>..........................] - ETA: 0s - loss: 0.8136 - accuracy: 0.6094 - f1score: 0.6094\n",
      "Epoch 00070: saving model to training_3/cp-0070.ckpt\n",
      "387/387 [==============================] - 0s 209us/sample - loss: 0.7659 - accuracy: 0.6098 - f1score: 0.6176 - val_loss: 0.8636 - val_accuracy: 0.0000e+00 - val_f1score: 0.0000e+00\n",
      "Epoch 71/100\n",
      " 64/387 [===>..........................] - ETA: 0s - loss: 0.6658 - accuracy: 0.6875 - f1score: 0.6875\n",
      "Epoch 00071: saving model to training_3/cp-0071.ckpt\n",
      "387/387 [==============================] - 0s 207us/sample - loss: 0.7511 - accuracy: 0.6072 - f1score: 0.6153 - val_loss: 0.8676 - val_accuracy: 0.0000e+00 - val_f1score: 0.0000e+00\n",
      "Epoch 72/100\n",
      " 64/387 [===>..........................] - ETA: 0s - loss: 0.8244 - accuracy: 0.5781 - f1score: 0.5781\n",
      "Epoch 00072: saving model to training_3/cp-0072.ckpt\n",
      "387/387 [==============================] - 0s 214us/sample - loss: 0.7679 - accuracy: 0.5943 - f1score: 0.6042 - val_loss: 0.8732 - val_accuracy: 0.0000e+00 - val_f1score: 0.0000e+00\n",
      "Epoch 73/100\n",
      " 64/387 [===>..........................] - ETA: 0s - loss: 0.7127 - accuracy: 0.6406 - f1score: 0.6406\n",
      "Epoch 00073: saving model to training_3/cp-0073.ckpt\n",
      "387/387 [==============================] - 0s 199us/sample - loss: 0.7060 - accuracy: 0.6279 - f1score: 0.6786 - val_loss: 0.8819 - val_accuracy: 0.0000e+00 - val_f1score: 0.0000e+00\n",
      "Epoch 74/100\n",
      " 64/387 [===>..........................] - ETA: 0s - loss: 0.6235 - accuracy: 0.7188 - f1score: 0.7187\n",
      "Epoch 00074: saving model to training_3/cp-0074.ckpt\n",
      "387/387 [==============================] - 0s 202us/sample - loss: 0.7438 - accuracy: 0.6434 - f1score: 0.6466 - val_loss: 0.8938 - val_accuracy: 0.0000e+00 - val_f1score: 0.0000e+00\n",
      "Epoch 75/100\n",
      " 64/387 [===>..........................] - ETA: 0s - loss: 0.8219 - accuracy: 0.5156 - f1score: 0.5156\n",
      "Epoch 00075: saving model to training_3/cp-0075.ckpt\n",
      "387/387 [==============================] - 0s 230us/sample - loss: 0.7341 - accuracy: 0.6331 - f1score: 0.5923 - val_loss: 0.9039 - val_accuracy: 0.0000e+00 - val_f1score: 0.0000e+00\n",
      "Epoch 76/100\n",
      " 64/387 [===>..........................] - ETA: 0s - loss: 0.7491 - accuracy: 0.5625 - f1score: 0.5625\n",
      "Epoch 00076: saving model to training_3/cp-0076.ckpt\n",
      "387/387 [==============================] - 0s 499us/sample - loss: 0.7387 - accuracy: 0.6098 - f1score: 0.6629 - val_loss: 0.9142 - val_accuracy: 0.0000e+00 - val_f1score: 0.0000e+00\n",
      "Epoch 77/100\n",
      " 64/387 [===>..........................] - ETA: 0s - loss: 0.9353 - accuracy: 0.4688 - f1score: 0.4687\n",
      "Epoch 00077: saving model to training_3/cp-0077.ckpt\n",
      "387/387 [==============================] - 0s 258us/sample - loss: 0.7475 - accuracy: 0.5891 - f1score: 0.6451 - val_loss: 0.9208 - val_accuracy: 0.0000e+00 - val_f1score: 0.0000e+00\n",
      "Epoch 78/100\n",
      " 64/387 [===>..........................] - ETA: 0s - loss: 0.7583 - accuracy: 0.6719 - f1score: 0.6719\n",
      "Epoch 00078: saving model to training_3/cp-0078.ckpt\n",
      "387/387 [==============================] - 0s 261us/sample - loss: 0.7317 - accuracy: 0.6486 - f1score: 0.5603 - val_loss: 0.9131 - val_accuracy: 0.0000e+00 - val_f1score: 0.0000e+00\n",
      "Epoch 79/100\n",
      " 64/387 [===>..........................] - ETA: 0s - loss: 0.8701 - accuracy: 0.5469 - f1score: 0.5469\n",
      "Epoch 00079: saving model to training_3/cp-0079.ckpt\n",
      "387/387 [==============================] - 0s 261us/sample - loss: 0.7461 - accuracy: 0.6253 - f1score: 0.5856 - val_loss: 0.9045 - val_accuracy: 0.0000e+00 - val_f1score: 0.0000e+00\n",
      "Epoch 80/100\n",
      " 64/387 [===>..........................] - ETA: 0s - loss: 0.6792 - accuracy: 0.6406 - f1score: 0.6406\n",
      "Epoch 00080: saving model to training_3/cp-0080.ckpt\n",
      "387/387 [==============================] - 0s 220us/sample - loss: 0.6797 - accuracy: 0.6434 - f1score: 0.6012 - val_loss: 0.8961 - val_accuracy: 0.0000e+00 - val_f1score: 0.0000e+00\n",
      "Epoch 81/100\n",
      " 64/387 [===>..........................] - ETA: 0s - loss: 0.7870 - accuracy: 0.5938 - f1score: 0.5937\n",
      "Epoch 00081: saving model to training_3/cp-0081.ckpt\n",
      "387/387 [==============================] - 0s 209us/sample - loss: 0.7978 - accuracy: 0.6408 - f1score: 0.6897 - val_loss: 0.8953 - val_accuracy: 0.0000e+00 - val_f1score: 0.0000e+00\n",
      "Epoch 82/100\n",
      " 64/387 [===>..........................] - ETA: 0s - loss: 0.6811 - accuracy: 0.6406 - f1score: 0.6406\n",
      "Epoch 00082: saving model to training_3/cp-0082.ckpt\n",
      "387/387 [==============================] - 0s 835us/sample - loss: 0.7273 - accuracy: 0.6589 - f1score: 0.6600 - val_loss: 0.8925 - val_accuracy: 0.0000e+00 - val_f1score: 0.0000e+00\n",
      "Epoch 83/100\n",
      " 64/387 [===>..........................] - ETA: 0s - loss: 0.8489 - accuracy: 0.5625 - f1score: 0.5625\n",
      "Epoch 00083: saving model to training_3/cp-0083.ckpt\n",
      "387/387 [==============================] - 0s 282us/sample - loss: 0.7324 - accuracy: 0.5995 - f1score: 0.6540 - val_loss: 0.8980 - val_accuracy: 0.0000e+00 - val_f1score: 0.0000e+00\n",
      "Epoch 84/100\n",
      " 64/387 [===>..........................] - ETA: 0s - loss: 0.7779 - accuracy: 0.5781 - f1score: 0.5781\n",
      "Epoch 00084: saving model to training_3/cp-0084.ckpt\n",
      "387/387 [==============================] - 0s 227us/sample - loss: 0.7110 - accuracy: 0.6227 - f1score: 0.6287 - val_loss: 0.8996 - val_accuracy: 0.0000e+00 - val_f1score: 0.0000e+00\n",
      "Epoch 85/100\n",
      " 64/387 [===>..........................] - ETA: 0s - loss: 0.6536 - accuracy: 0.6719 - f1score: 0.6719\n",
      "Epoch 00085: saving model to training_3/cp-0085.ckpt\n",
      "387/387 [==============================] - 0s 204us/sample - loss: 0.7282 - accuracy: 0.6382 - f1score: 0.6421 - val_loss: 0.8951 - val_accuracy: 0.0000e+00 - val_f1score: 0.0000e+00\n",
      "Epoch 86/100\n",
      " 64/387 [===>..........................] - ETA: 0s - loss: 0.6302 - accuracy: 0.7031 - f1score: 0.7031\n",
      "Epoch 00086: saving model to training_3/cp-0086.ckpt\n",
      "387/387 [==============================] - 0s 186us/sample - loss: 0.6829 - accuracy: 0.6434 - f1score: 0.6920 - val_loss: 0.8954 - val_accuracy: 0.0000e+00 - val_f1score: 0.0000e+00\n",
      "Epoch 87/100\n",
      " 64/387 [===>..........................] - ETA: 0s - loss: 0.7675 - accuracy: 0.5625 - f1score: 0.5625\n",
      "Epoch 00087: saving model to training_3/cp-0087.ckpt\n",
      "387/387 [==============================] - 0s 199us/sample - loss: 0.7515 - accuracy: 0.6202 - f1score: 0.6719 - val_loss: 0.8987 - val_accuracy: 0.0000e+00 - val_f1score: 0.0000e+00\n",
      "Epoch 88/100\n",
      " 64/387 [===>..........................] - ETA: 0s - loss: 0.7041 - accuracy: 0.6719 - f1score: 0.6719\n",
      "Epoch 00088: saving model to training_3/cp-0088.ckpt\n",
      "387/387 [==============================] - 0s 207us/sample - loss: 0.7234 - accuracy: 0.6408 - f1score: 0.6443 - val_loss: 0.8984 - val_accuracy: 0.0000e+00 - val_f1score: 0.0000e+00\n",
      "Epoch 89/100\n",
      " 64/387 [===>..........................] - ETA: 0s - loss: 0.6237 - accuracy: 0.6875 - f1score: 0.6875\n",
      "Epoch 00089: saving model to training_3/cp-0089.ckpt\n",
      "387/387 [==============================] - 0s 214us/sample - loss: 0.6874 - accuracy: 0.6512 - f1score: 0.6533 - val_loss: 0.9022 - val_accuracy: 0.0000e+00 - val_f1score: 0.0000e+00\n",
      "Epoch 90/100\n",
      " 64/387 [===>..........................] - ETA: 0s - loss: 0.7880 - accuracy: 0.6094 - f1score: 0.6094\n",
      "Epoch 00090: saving model to training_3/cp-0090.ckpt\n",
      "387/387 [==============================] - 0s 271us/sample - loss: 0.7237 - accuracy: 0.6305 - f1score: 0.6354 - val_loss: 0.9101 - val_accuracy: 0.0000e+00 - val_f1score: 0.0000e+00\n",
      "Epoch 91/100\n",
      " 64/387 [===>..........................] - ETA: 0s - loss: 0.7863 - accuracy: 0.5938 - f1score: 0.5937\n",
      "Epoch 00091: saving model to training_3/cp-0091.ckpt\n",
      "387/387 [==============================] - 0s 212us/sample - loss: 0.7181 - accuracy: 0.6176 - f1score: 0.6696 - val_loss: 0.9198 - val_accuracy: 0.0000e+00 - val_f1score: 0.0000e+00\n",
      "Epoch 92/100\n",
      " 64/387 [===>..........................] - ETA: 0s - loss: 0.7950 - accuracy: 0.5625 - f1score: 0.5625\n",
      "Epoch 00092: saving model to training_3/cp-0092.ckpt\n",
      "387/387 [==============================] - 0s 202us/sample - loss: 0.7113 - accuracy: 0.6408 - f1score: 0.6443 - val_loss: 0.9257 - val_accuracy: 0.0000e+00 - val_f1score: 0.0000e+00\n",
      "Epoch 93/100\n",
      " 64/387 [===>..........................] - ETA: 0s - loss: 0.6654 - accuracy: 0.6719 - f1score: 0.6719\n",
      "Epoch 00093: saving model to training_3/cp-0093.ckpt\n",
      "387/387 [==============================] - 0s 196us/sample - loss: 0.7066 - accuracy: 0.6641 - f1score: 0.6644 - val_loss: 0.9304 - val_accuracy: 0.0000e+00 - val_f1score: 0.0000e+00\n",
      "Epoch 94/100\n",
      " 64/387 [===>..........................] - ETA: 0s - loss: 0.7157 - accuracy: 0.6719 - f1score: 0.6719\n",
      "Epoch 00094: saving model to training_3/cp-0094.ckpt\n",
      "387/387 [==============================] - 0s 191us/sample - loss: 0.6586 - accuracy: 0.6770 - f1score: 0.6756 - val_loss: 0.9317 - val_accuracy: 0.0000e+00 - val_f1score: 0.0000e+00\n",
      "Epoch 95/100\n",
      " 64/387 [===>..........................] - ETA: 0s - loss: 0.6065 - accuracy: 0.7188 - f1score: 0.7187\n",
      "Epoch 00095: saving model to training_3/cp-0095.ckpt\n",
      "387/387 [==============================] - 0s 202us/sample - loss: 0.7226 - accuracy: 0.6434 - f1score: 0.6012 - val_loss: 0.9329 - val_accuracy: 0.0000e+00 - val_f1score: 0.0000e+00\n"
     ]
    },
    {
     "name": "stdout",
     "output_type": "stream",
     "text": [
      "Epoch 96/100\n",
      " 64/387 [===>..........................] - ETA: 0s - loss: 0.6005 - accuracy: 0.6406 - f1score: 0.6406\n",
      "Epoch 00096: saving model to training_3/cp-0096.ckpt\n",
      "387/387 [==============================] - 0s 214us/sample - loss: 0.6831 - accuracy: 0.6408 - f1score: 0.6443 - val_loss: 0.9177 - val_accuracy: 0.0000e+00 - val_f1score: 0.0000e+00\n",
      "Epoch 97/100\n",
      " 64/387 [===>..........................] - ETA: 0s - loss: 0.7235 - accuracy: 0.6406 - f1score: 0.6406\n",
      "Epoch 00097: saving model to training_3/cp-0097.ckpt\n",
      "387/387 [==============================] - 0s 199us/sample - loss: 0.7397 - accuracy: 0.6382 - f1score: 0.6875 - val_loss: 0.9160 - val_accuracy: 0.0000e+00 - val_f1score: 0.0000e+00\n",
      "Epoch 98/100\n",
      " 64/387 [===>..........................] - ETA: 0s - loss: 0.7810 - accuracy: 0.6094 - f1score: 0.6094\n",
      "Epoch 00098: saving model to training_3/cp-0098.ckpt\n",
      "387/387 [==============================] - 0s 191us/sample - loss: 0.7372 - accuracy: 0.6382 - f1score: 0.5967 - val_loss: 0.9125 - val_accuracy: 0.0000e+00 - val_f1score: 0.0000e+00\n",
      "Epoch 99/100\n",
      " 64/387 [===>..........................] - ETA: 0s - loss: 0.7189 - accuracy: 0.6250 - f1score: 0.6250\n",
      "Epoch 00099: saving model to training_3/cp-0099.ckpt\n",
      "387/387 [==============================] - 0s 204us/sample - loss: 0.7993 - accuracy: 0.6047 - f1score: 0.6131 - val_loss: 0.9067 - val_accuracy: 0.0000e+00 - val_f1score: 0.0000e+00\n",
      "Epoch 100/100\n",
      " 64/387 [===>..........................] - ETA: 0s - loss: 0.6813 - accuracy: 0.5781 - f1score: 0.5781\n",
      "Epoch 00100: saving model to training_3/cp-0100.ckpt\n",
      "387/387 [==============================] - 0s 220us/sample - loss: 0.6743 - accuracy: 0.6408 - f1score: 0.6897 - val_loss: 0.9097 - val_accuracy: 0.0000e+00 - val_f1score: 0.0000e+00\n",
      "108/108 - 0s - loss: 0.4957 - accuracy: 0.7963 - f1score: 0.8021\n"
     ]
    },
    {
     "data": {
      "text/plain": [
       "[0.4956603326179363, 0.7962963, 0.80208325]"
      ]
     },
     "execution_count": 125,
     "metadata": {},
     "output_type": "execute_result"
    }
   ],
   "source": [
    "checkpoint_path = \"training_3/cp-{epoch:04d}.ckpt\"\n",
    "checkpoint_dir = os.path.dirname(checkpoint_path)\n",
    "\n",
    "cp_callback = tf.keras.callbacks.ModelCheckpoint(\n",
    "    checkpoint_path, verbose=1, save_weights_only=True)\n",
    "\n",
    "\n",
    "\n",
    "model = tf.keras.Sequential([\n",
    "    tf.keras.layers.Dense(units=32,activation='elu', input_shape=(41,)),\n",
    "    tf.keras.layers.Dropout(rate=0.3),\n",
    "    tf.keras.layers.Dense(units=16, activation='elu', kernel_regularizer=tf.keras.regularizers.l2(0.001)),\n",
    "    tf.keras.layers.Dropout(rate=0.3),\n",
    "      tf.keras.layers.Dense(units=8, activation='elu', kernel_regularizer=tf.keras.regularizers.l2(0.001)),\n",
    "    tf.keras.layers.Dropout(rate=0.3),\n",
    "\n",
    "  \n",
    "    \n",
    "    # 분류 모델이기 때문에 최종 단에 있어서는 softmax를 활용을 해야 함!!!!\n",
    "    tf.keras.layers.Dense(units=2, activation='softmax')\n",
    "    #tf.keras.layers.Dense(units=1, activation='sigmoid')\n",
    "])\n",
    "\n",
    "model.compile(optimizer=tf.keras.optimizers.Nadam(),  loss='categorical_crossentropy', metrics=['accuracy', f1score])\n",
    "#model.compile(optimizer=tf.keras.optimizers.Adam(),  loss='binary_crossentropy', metrics=['accuracy'])\n",
    "\n",
    "history = model.fit(X_train_over_np, y_train_over_np, epochs=100, batch_size=64, validation_split=0.25 , callbacks = [cp_callback])\n",
    "model.evaluate(X_test_np, y_test_np,verbose=2)\n",
    "\n"
   ]
  },
  {
   "cell_type": "code",
   "execution_count": 126,
   "metadata": {},
   "outputs": [
    {
     "data": {
      "image/png": "[encoded data removed]",
      "text/plain": [
       "<Figure size 864x288 with 2 Axes>"
      ]
     },
     "metadata": {
      "needs_background": "light"
     },
     "output_type": "display_data"
    }
   ],
   "source": [
    "import matplotlib.pyplot as plt\n",
    "plt.figure(figsize=(12, 4))\n",
    "\n",
    "plt.subplot(1, 2, 1)\n",
    "plt.plot(history.history['loss'], 'b-', label='loss')\n",
    "plt.plot(history.history['val_loss'], 'r--', label='val_loss')\n",
    "plt.xlabel('Epoch')\n",
    "plt.legend()\n",
    "\n",
    "plt.subplot(1, 2, 2)\n",
    "plt.plot(history.history['accuracy'], 'g-', label='accuracy')\n",
    "plt.plot(history.history['val_accuracy'], 'k--', label='val_accuracy')\n",
    "plt.xlabel('Epoch')\n",
    "plt.ylim(0.7, 1)\n",
    "plt.legend()\n",
    "\n",
    "plt.show()"
   ]
  },
  {
   "cell_type": "markdown",
   "metadata": {},
   "source": [
    "과대 적합을 방지하는 방법 \n",
    "* 더 많은 훈련 데이터를 모읍니다.\n",
    "* 네트워크의 용량을 줄입니다.tf.keras.layers.Dense(units=24)\n",
    "* 가중치 규제를 추가합니다. kernel_regularizer=tf.keras.regularizers.l2(0.001)\n",
    "* 드롭아웃을 추가합니다.  tf.keras.layers.Dropout(rate=0.5)"
   ]
  },
  {
   "cell_type": "markdown",
   "metadata": {},
   "source": [
    "큰 모델 (dense 의 units의 값이 큰거)이 과대적합이 빨리 된다. \n",
    "<img src = \"./img/loss.png\">"
   ]
  },
  {
   "cell_type": "markdown",
   "metadata": {},
   "source": [
    "optimizer\n",
    "<img src = \"./img/optimizer.jpg\">"
   ]
  },
  {
   "cell_type": "markdown",
   "metadata": {},
   "source": [
    "### 제일 성능이 잘나오는 가중치를 선택"
   ]
  },
  {
   "cell_type": "code",
   "execution_count": 128,
   "metadata": {
    "scrolled": true
   },
   "outputs": [
    {
     "name": "stdout",
     "output_type": "stream",
     "text": [
      "108/108 - 0s - loss: 0.7861 - accuracy: 0.5741 - f1score: 0.5885\n"
     ]
    },
    {
     "data": {
      "text/plain": [
       "[0.7860723778053567, 0.5740741, 0.5885416]"
      ]
     },
     "execution_count": 128,
     "metadata": {},
     "output_type": "execute_result"
    }
   ],
   "source": [
    "model2 = tf.keras.Sequential([\n",
    "    tf.keras.layers.Dense(units=32,activation='elu', input_shape=(41,)),\n",
    "    tf.keras.layers.Dropout(rate=0.3),\n",
    "    tf.keras.layers.Dense(units=16, activation='elu', kernel_regularizer=tf.keras.regularizers.l2(0.001)),\n",
    "    tf.keras.layers.Dropout(rate=0.3),\n",
    "    tf.keras.layers.Dense(units=8, activation='elu', kernel_regularizer=tf.keras.regularizers.l2(0.001)),\n",
    "    tf.keras.layers.Dropout(rate=0.3),\n",
    "\n",
    "    \n",
    "    # 분류 모델이기 때문에 최종 단에 있어서는 softmax를 활용을 해야 함!!!!\n",
    "    tf.keras.layers.Dense(units=2, activation='softmax')\n",
    "])\n",
    "\n",
    "model2.compile(optimizer=tf.keras.optimizers.Nadam(),  loss='categorical_crossentropy', metrics=['accuracy', f1score])\n",
    "\n",
    "model2.load_weights(\"training_3/cp-0018.ckpt\")\n",
    "model2.evaluate(X_test_np, y_test_np,verbose=2)"
   ]
  },
  {
   "cell_type": "markdown",
   "metadata": {},
   "source": [
    "### stacking에 이용할 predict array 생성"
   ]
  },
  {
   "cell_type": "code",
   "execution_count": 129,
   "metadata": {},
   "outputs": [],
   "source": [
    "pred_DNN = model2.predict(X_test_np)"
   ]
  },
  {
   "cell_type": "code",
   "execution_count": 130,
   "metadata": {},
   "outputs": [],
   "source": [
    "pred_DNN1 = []\n",
    "for i in range(pred_DNN.shape[0]):\n",
    "    if pred_DNN[i][0] > pred_DNN[i][1]:\n",
    "        pred_DNN1.append(pred_DNN[i][0]) \n",
    "    else:\n",
    "        pred_DNN1.append(pred_DNN[i][1])\n"
   ]
  },
  {
   "cell_type": "markdown",
   "metadata": {},
   "source": [
    "### votingClassifier\n",
    "\n",
    "* hard voting: 단순 투표. 개별 모형의 결과 기준\n",
    "* soft voting: 가중치 투표. 개별 모형의 조건부 확률의 합 기준    \n",
    "#  \n",
    "* estimators: 개별 모형 목록, 리스트나 named parameter 형식으로 입력\n",
    "* voting: 문자열 {hard, soft} hard voting 과 soft voting 선택. 디폴트는 hard\n",
    "* weights: 사용자 가중치 리스트"
   ]
  },
  {
   "cell_type": "code",
   "execution_count": 70,
   "metadata": {},
   "outputs": [],
   "source": [
    "from sklearn.ensemble import VotingClassifier"
   ]
  },
  {
   "cell_type": "code",
   "execution_count": 135,
   "metadata": {},
   "outputs": [
    {
     "name": "stdout",
     "output_type": "stream",
     "text": [
      "Hard Voting 분류기 f1 score: 0.4762\n",
      "DecisionTreeClassifier f1 score :  0.3881\n",
      "GradientBoostingClassifier f1 score :  0.5128\n",
      "XGBClassifier f1 score :  0.4615\n",
      "LGBMClassifier f1 score :  0.5116\n",
      "RandomForestClassifier f1 score :  0.4103\n",
      "LogisticRegression f1 score :  0.5238\n",
      "SVC f1 score :  0.2222\n"
     ]
    }
   ],
   "source": [
    "vo_clf = VotingClassifier(estimators=[('DTC', DTC),('GBC', GBC),('XGBC', XGBC), ('LGBC', LGBC ), ('RFC', RFC), ('LRC', LRC),('SVC', SVC)], voting='hard')\n",
    "\n",
    "vo_clf.fit(X_train_over,y_train_over)\n",
    "pred = vo_clf.predict(X_test)\n",
    "print('Hard Voting 분류기 f1 score: {0:.4f}'.format(f1_score(y_test,pred)))\n",
    "\n",
    "classifiers =[DTC, GBC,XGBC,LGBC,RFC, LRC,SVC]\n",
    "for classifier in classifiers:\n",
    "    classifier.fit(X_train_over, y_train_over)\n",
    "    pred = classifier.predict(X_test)\n",
    "    class_name = classifier.__class__.__name__\n",
    "    print('{0} f1 score : {1: .4f}'.format(class_name, f1_score(y_test,pred)))"
   ]
  },
  {
   "cell_type": "markdown",
   "metadata": {},
   "source": [
    "DNN은 classifier가 아니여서 votingClassifier()의 estimator에 모델을 넣을 수가 없다.  \n",
    "hard voting에서 좋은 성능을 위해 좋은 성능을 내는 모델들만 이용하여 hard voting을 할 수 있다.  \n",
    "이 경우에는 빼면 성능이 나빠져서 모두 넣었다. "
   ]
  },
  {
   "cell_type": "code",
   "execution_count": 134,
   "metadata": {
    "scrolled": true
   },
   "outputs": [
    {
     "name": "stdout",
     "output_type": "stream",
     "text": [
      "Soft Voting 분류기 f1 score: 0.4878\n",
      "DecisionTreeClassifier f1 score :  0.3881\n",
      "GradientBoostingClassifier f1 score :  0.5128\n",
      "XGBClassifier f1 score :  0.4615\n",
      "LGBMClassifier f1 score :  0.5116\n",
      "RandomForestClassifier f1 score :  0.4103\n",
      "LogisticRegression f1 score :  0.5238\n",
      "SVC f1 score :  0.2222\n"
     ]
    }
   ],
   "source": [
    "vo_clf = VotingClassifier(estimators=[('DTC', DTC),('GBC', GBC),('XGBC', XGBC), ('LGBC', LGBC ), ('RFC', RFC), ('LRC', LRC),('SVC', SVC)], voting='soft')\n",
    "\n",
    "vo_clf.fit(X_train_over,y_train_over)\n",
    "pred = vo_clf.predict(X_test)\n",
    "print('Soft Voting 분류기 f1 score: {0:.4f}'.format(f1_score(y_test,pred)))\n",
    "\n",
    "classifiers =[ DTC, GBC,XGBC,LGBC,RFC, LRC,SVC]\n",
    "for classifier in classifiers:\n",
    "    classifier.fit(X_train_over, y_train_over)\n",
    "    pred = classifier.predict(X_test)\n",
    "    class_name = classifier.__class__.__name__\n",
    "    print('{0} f1 score : {1: .4f}'.format(class_name, f1_score(y_test,pred)))"
   ]
  },
  {
   "cell_type": "markdown",
   "metadata": {},
   "source": [
    "각본상에서는 soft voting이 hard voting보다 성능이 좋다."
   ]
  },
  {
   "cell_type": "code",
   "execution_count": 136,
   "metadata": {
    "scrolled": true
   },
   "outputs": [
    {
     "name": "stdout",
     "output_type": "stream",
     "text": [
      "Soft-weighted Voting 분류기 f1 score: 0.4878\n",
      "DecisionTreeClassifier f1 score :  0.3881\n",
      "GradientBoostingClassifier f1 score :  0.5128\n",
      "XGBClassifier f1 score :  0.4615\n",
      "LGBMClassifier f1 score :  0.5116\n",
      "RandomForestClassifier f1 score :  0.4103\n",
      "LogisticRegression f1 score :  0.5238\n",
      "SVC f1 score :  0.2222\n"
     ]
    }
   ],
   "source": [
    "vo_clf = VotingClassifier(estimators=[('DTC', DTC),('GBC', GBC),('XGBC', XGBC), ('LGBC', LGBC ), ('RFC', RFC), ('LRC', LRC),('SVC',SVC)], voting='soft', weights=[1,2,2,2,2,1,0.5])\n",
    "\n",
    "vo_clf.fit(X_train_over,y_train_over)\n",
    "pred = vo_clf.predict(X_test)\n",
    "print('Soft-weighted Voting 분류기 f1 score: {0:.4f}'.format(f1_score(y_test,pred)))\n",
    "\n",
    "classifiers =[ DTC, GBC,XGBC,LGBC,RFC, LRC,SVC]\n",
    "for classifier in classifiers:\n",
    "    classifier.fit(X_train_over, y_train_over)\n",
    "    pred = classifier.predict(X_test)\n",
    "    class_name = classifier.__class__.__name__\n",
    "    print('{0} f1 score : {1: .4f}'.format(class_name, f1_score(y_test,pred)))"
   ]
  },
  {
   "cell_type": "markdown",
   "metadata": {},
   "source": [
    "soft voting 보다 모델에게 가중치를 준 soft-weighted 성능이 더 좋다."
   ]
  },
  {
   "cell_type": "markdown",
   "metadata": {},
   "source": [
    "### EnsembleVoteClassifier을 이용하여 voting\n",
    "VotingClassifier, hard로 한거랑 값이 같다"
   ]
  },
  {
   "cell_type": "code",
   "execution_count": 78,
   "metadata": {},
   "outputs": [],
   "source": [
    "from mlxtend.classifier import EnsembleVoteClassifier\n",
    "from sklearn import model_selection"
   ]
  },
  {
   "cell_type": "code",
   "execution_count": 137,
   "metadata": {},
   "outputs": [
    {
     "name": "stdout",
     "output_type": "stream",
     "text": [
      "EnsembleVoteClassifier 분류기 f1 score: 0.4762\n",
      "DecisionTreeClassifier f1 score :  0.3881\n",
      "GradientBoostingClassifier f1 score :  0.5128\n",
      "XGBClassifier f1 score :  0.4615\n",
      "LGBMClassifier f1 score :  0.5116\n",
      "RandomForestClassifier f1 score :  0.4103\n",
      "LogisticRegression f1 score :  0.5238\n",
      "SVC f1 score :  0.2222\n"
     ]
    }
   ],
   "source": [
    "\n",
    "\n",
    "eclf = EnsembleVoteClassifier(clfs=[ DTC, GBC,XGBC, LGBC , RFC, LRC , SVC], weights=[1,2,2,2,2,1,1])\n",
    "\n",
    "eclf.fit(X_train_over,y_train_over)\n",
    "pred = eclf.predict(X_test)\n",
    "print('EnsembleVoteClassifier 분류기 f1 score: {0:.4f}'.format(f1_score(y_test,pred)))\n",
    "\n",
    "classifiers =[ DTC, GBC,XGBC,LGBC,RFC, LRC, SVC]\n",
    "for classifier in classifiers:\n",
    "    classifier.fit(X_train_over, y_train_over)\n",
    "    pred = classifier.predict(X_test)\n",
    "    class_name = classifier.__class__.__name__\n",
    "    print('{0} f1 score : {1: .4f}'.format(class_name, f1_score(y_test,pred)))"
   ]
  },
  {
   "cell_type": "markdown",
   "metadata": {},
   "source": [
    "### baggingClassifirer\n",
    "\n",
    "* 부트스트랩 어그리게이팅 Bootstrap AGGregING의 약어\n",
    "* 데이터양이 적으면 성능이 안좋다. \n",
    "* 대표적인 bagging 앙상블 = RandomForest. 위에서 랜포 성능이 안좋았던걸 기억하면..... 안좋음  \n",
    "* Note that using larger subsamples is not guaranteed to improve your results. In bagging there is a tradeoff between base model accuracy and the gain you get through bagging. The aggregation from bagging may improve the ensemble greatly when you have an unstable model, yet when your base models are more stable — been trained on larger subsamples with higher accuracy — improvements from bagging reduces.  \n",
    "#  \n",
    "* base_estimator: 기본 모형\n",
    "* n_estimators: 모형 갯수. 디폴트 10\n",
    "* bootstrap: 데이터의 중복 사용 여부. 디폴트 True\n",
    "* max_samples: 데이터 샘플 중 선택할 샘플의 수 혹은 비율. 디폴트 1.0\n",
    "* bootstrap_features: 특징 차원의 중복 사용 여부. 디폴트 False\n",
    "* max_features: 다차원 독립 변수 중 선택할 차원의 수 혹은 비율 1.0"
   ]
  },
  {
   "cell_type": "code",
   "execution_count": 80,
   "metadata": {},
   "outputs": [],
   "source": [
    "from sklearn.ensemble import BaggingClassifier"
   ]
  },
  {
   "cell_type": "code",
   "execution_count": 145,
   "metadata": {},
   "outputs": [
    {
     "name": "stdout",
     "output_type": "stream",
     "text": [
      "voting Bagging 분류기 f1 score: 0.4390\n"
     ]
    }
   ],
   "source": [
    "bag_clf = BaggingClassifier(base_estimator=vo_clf, n_estimators=10, random_state=0)\n",
    "\n",
    "bag_clf.fit(X_train_over,y_train_over)\n",
    "pred = bag_clf.predict(X_test)\n",
    "print('voting Bagging 분류기 f1 score: {0:.4f}'.format(f1_score(y_test,pred)))"
   ]
  },
  {
   "cell_type": "code",
   "execution_count": 139,
   "metadata": {},
   "outputs": [
    {
     "name": "stdout",
     "output_type": "stream",
     "text": [
      "GBC Bagging 분류기 f1 score: 0.4500\n"
     ]
    }
   ],
   "source": [
    "bag_clf = BaggingClassifier(base_estimator=GBC, n_estimators=10, random_state=0)\n",
    "\n",
    "bag_clf.fit(X_train_over,y_train_over)\n",
    "pred = bag_clf.predict(X_test)\n",
    "print('GBC Bagging 분류기 f1 score: {0:.4f}'.format(f1_score(y_test,pred)))"
   ]
  },
  {
   "cell_type": "code",
   "execution_count": 140,
   "metadata": {},
   "outputs": [
    {
     "name": "stdout",
     "output_type": "stream",
     "text": [
      "XGBC Bagging 분류기 f1 score: 0.4651\n"
     ]
    }
   ],
   "source": [
    "bag_clf = BaggingClassifier(base_estimator=XGBC, n_estimators=10, random_state=0)\n",
    "\n",
    "bag_clf.fit(X_train_over,y_train_over)\n",
    "pred = bag_clf.predict(X_test)\n",
    "print('XGBC Bagging 분류기 f1 score: {0:.4f}'.format(f1_score(y_test,pred)))"
   ]
  },
  {
   "cell_type": "code",
   "execution_count": 141,
   "metadata": {},
   "outputs": [
    {
     "name": "stdout",
     "output_type": "stream",
     "text": [
      "LGBC Bagging 분류기 f1 score: 0.4545\n"
     ]
    }
   ],
   "source": [
    "bag_clf = BaggingClassifier(base_estimator=LGBC, n_estimators=10, random_state=0)\n",
    "\n",
    "bag_clf.fit(X_train_over,y_train_over)\n",
    "pred = bag_clf.predict(X_test)\n",
    "print('LGBC Bagging 분류기 f1 score: {0:.4f}'.format(f1_score(y_test,pred)))"
   ]
  },
  {
   "cell_type": "code",
   "execution_count": 142,
   "metadata": {},
   "outputs": [
    {
     "name": "stdout",
     "output_type": "stream",
     "text": [
      "RFC Bagging 분류기 f1 score: 0.4615\n"
     ]
    }
   ],
   "source": [
    "bag_clf = BaggingClassifier(base_estimator=RFC, n_estimators=10, random_state=0)\n",
    "\n",
    "bag_clf.fit(X_train_over,y_train_over)\n",
    "pred = bag_clf.predict(X_test)\n",
    "print('RFC Bagging 분류기 f1 score: {0:.4f}'.format(f1_score(y_test,pred)))"
   ]
  },
  {
   "cell_type": "code",
   "execution_count": 143,
   "metadata": {},
   "outputs": [
    {
     "name": "stdout",
     "output_type": "stream",
     "text": [
      "LRC Bagging 분류기 f1 score: 0.4737\n"
     ]
    }
   ],
   "source": [
    "bag_clf = BaggingClassifier(base_estimator=LRC, n_estimators=10, random_state=0)\n",
    "\n",
    "bag_clf.fit(X_train_over,y_train_over)\n",
    "pred = bag_clf.predict(X_test)\n",
    "print('LRC Bagging 분류기 f1 score: {0:.4f}'.format(f1_score(y_test,pred)))"
   ]
  },
  {
   "cell_type": "markdown",
   "metadata": {},
   "source": [
    "### stacking\n",
    "\n",
    "* 모델에서 나온 예측값을 하나의 데이터 프레임으로 만들어 다시한번 모델에 넣어 예측한다. \n",
    "* 각 모델에서 나온 pred 들은 컬럼으로 생성됨. transpose로 row로 변경해서 데이터 프레임 모양을 맞춰줘야한다. "
   ]
  },
  {
   "cell_type": "code",
   "execution_count": 146,
   "metadata": {},
   "outputs": [
    {
     "data": {
      "text/plain": [
       "(108, 41)"
      ]
     },
     "execution_count": 146,
     "metadata": {},
     "output_type": "execute_result"
    }
   ],
   "source": [
    "X_test.shape"
   ]
  },
  {
   "cell_type": "code",
   "execution_count": 147,
   "metadata": {},
   "outputs": [
    {
     "data": {
      "text/plain": [
       "(7, 108)"
      ]
     },
     "execution_count": 147,
     "metadata": {},
     "output_type": "execute_result"
    }
   ],
   "source": [
    "df_stacking = np.array([pred_DTC, pred_GBC, pred_XGBC, pred_LGBC, pred_RFC, pred_LRC, pred_SVC])\n",
    "df_stacking.shape"
   ]
  },
  {
   "cell_type": "code",
   "execution_count": 148,
   "metadata": {},
   "outputs": [
    {
     "data": {
      "text/plain": [
       "(108, 7)"
      ]
     },
     "execution_count": 148,
     "metadata": {},
     "output_type": "execute_result"
    }
   ],
   "source": [
    "df_stacking = np.transpose(df_stacking)\n",
    "df_stacking.shape"
   ]
  },
  {
   "cell_type": "code",
   "execution_count": 149,
   "metadata": {},
   "outputs": [
    {
     "name": "stdout",
     "output_type": "stream",
     "text": [
      "stacking with XGBC f1 score: 0.5000\n"
     ]
    }
   ],
   "source": [
    "XGBC_stacking = XGBClassifier()\n",
    "XGBC_stacking.fit(df_stacking,y_test)\n",
    "pred = XGBC_stacking.predict(df_stacking)\n",
    "print('stacking with XGBC f1 score: {0:.4f}'.format(f1_score(y_test,pred)))"
   ]
  },
  {
   "cell_type": "code",
   "execution_count": 150,
   "metadata": {},
   "outputs": [
    {
     "name": "stdout",
     "output_type": "stream",
     "text": [
      "stacking with XGBC f1 score: 0.5000\n"
     ]
    }
   ],
   "source": [
    "XGBC.fit(df_stacking,y_test)\n",
    "pred = XGBC.predict(df_stacking)\n",
    "print('stacking with XGBC f1 score: {0:.4f}'.format(f1_score(y_test,pred)))"
   ]
  },
  {
   "cell_type": "code",
   "execution_count": 151,
   "metadata": {},
   "outputs": [
    {
     "name": "stdout",
     "output_type": "stream",
     "text": [
      "stacking with GBC f1 score: 0.5455\n"
     ]
    }
   ],
   "source": [
    "GBC_stacking = GradientBoostingClassifier()\n",
    "GBC_stacking.fit(df_stacking,y_test)\n",
    "pred = GBC_stacking.predict(df_stacking)\n",
    "print('stacking with GBC f1 score: {0:.4f}'.format(f1_score(y_test,pred)))"
   ]
  },
  {
   "cell_type": "code",
   "execution_count": 152,
   "metadata": {},
   "outputs": [
    {
     "name": "stdout",
     "output_type": "stream",
     "text": [
      "stacking with GBC f1 score: 0.5161\n"
     ]
    }
   ],
   "source": [
    "GBC.fit(df_stacking,y_test)\n",
    "pred = GBC.predict(df_stacking)\n",
    "print('stacking with GBC f1 score: {0:.4f}'.format(f1_score(y_test,pred)))"
   ]
  },
  {
   "cell_type": "code",
   "execution_count": 153,
   "metadata": {},
   "outputs": [
    {
     "name": "stdout",
     "output_type": "stream",
     "text": [
      "stacking with RFC_stacking f1 score: 0.6154\n"
     ]
    }
   ],
   "source": [
    "RFC_stacking = RandomForestClassifier()\n",
    "RFC_stacking.fit(df_stacking,y_test)\n",
    "pred = RFC_stacking.predict(df_stacking)\n",
    "print('stacking with RFC_stacking f1 score: {0:.4f}'.format(f1_score(y_test,pred)))"
   ]
  },
  {
   "cell_type": "markdown",
   "metadata": {},
   "source": [
    "각본상은 RFC로 stacking했을 때 성능이 가장 좋다.  \n",
    "위에서 만든 RFC 모델은 feature갯수를 지정해놔서 사용하면 에러가 발생함."
   ]
  },
  {
   "cell_type": "code",
   "execution_count": 154,
   "metadata": {},
   "outputs": [
    {
     "name": "stdout",
     "output_type": "stream",
     "text": [
      "stacking with LRC f1 score: 0.4516\n"
     ]
    }
   ],
   "source": [
    "LRC_stacking = LogisticRegression()\n",
    "LRC_stacking.fit(df_stacking,y_test)\n",
    "pred = LRC_stacking.predict(df_stacking)\n",
    "print('stacking with LRC f1 score: {0:.4f}'.format(f1_score(y_test,pred)))"
   ]
  },
  {
   "cell_type": "code",
   "execution_count": 155,
   "metadata": {},
   "outputs": [
    {
     "name": "stdout",
     "output_type": "stream",
     "text": [
      "stacking with LRC f1 score: 0.4848\n"
     ]
    }
   ],
   "source": [
    "LRC.fit(df_stacking,y_test)\n",
    "pred = LRC.predict(df_stacking)\n",
    "print('stacking with LRC f1 score: {0:.4f}'.format(f1_score(y_test,pred)))"
   ]
  },
  {
   "cell_type": "markdown",
   "metadata": {},
   "source": [
    "### stacking - DNN포함"
   ]
  },
  {
   "cell_type": "code",
   "execution_count": 156,
   "metadata": {},
   "outputs": [
    {
     "data": {
      "text/plain": [
       "(8, 108)"
      ]
     },
     "execution_count": 156,
     "metadata": {},
     "output_type": "execute_result"
    }
   ],
   "source": [
    "df_stacking = np.array([pred_DTC, pred_GBC, pred_XGBC, pred_LGBC, pred_RFC, pred_LRC, pred_SVC, pred_DNN1])\n",
    "df_stacking.shape"
   ]
  },
  {
   "cell_type": "code",
   "execution_count": 157,
   "metadata": {},
   "outputs": [
    {
     "data": {
      "text/plain": [
       "(108, 8)"
      ]
     },
     "execution_count": 157,
     "metadata": {},
     "output_type": "execute_result"
    }
   ],
   "source": [
    "df_stacking = np.transpose(df_stacking)\n",
    "df_stacking.shape"
   ]
  },
  {
   "cell_type": "code",
   "execution_count": 158,
   "metadata": {},
   "outputs": [
    {
     "name": "stdout",
     "output_type": "stream",
     "text": [
      "stacking with XGBC f1 score: 0.7568\n"
     ]
    }
   ],
   "source": [
    "XGBC_stacking = XGBClassifier()\n",
    "XGBC_stacking.fit(df_stacking,y_test)\n",
    "pred = XGBC_stacking.predict(df_stacking)\n",
    "print('stacking with XGBC f1 score: {0:.4f}'.format(f1_score(y_test,pred)))"
   ]
  },
  {
   "cell_type": "code",
   "execution_count": 159,
   "metadata": {},
   "outputs": [
    {
     "name": "stdout",
     "output_type": "stream",
     "text": [
      "stacking with XGBC f1 score: 0.7568\n"
     ]
    }
   ],
   "source": [
    "XGBC.fit(df_stacking,y_test)\n",
    "pred = XGBC.predict(df_stacking)\n",
    "print('stacking with XGBC f1 score: {0:.4f}'.format(f1_score(y_test,pred)))"
   ]
  },
  {
   "cell_type": "markdown",
   "metadata": {},
   "source": [
    "DNN을 포함하여 stacking하면 f1 score가 0.7568까지 좋아진다."
   ]
  }
 ],
 "metadata": {
  "kernelspec": {
   "display_name": "Python 3",
   "language": "python",
   "name": "python3"
  },
  "language_info": {
   "codemirror_mode": {
    "name": "ipython",
    "version": 3
   },
   "file_extension": ".py",
   "mimetype": "text/x-python",
   "name": "python",
   "nbconvert_exporter": "python",
   "pygments_lexer": "ipython3",
   "version": "3.7.4"
  }
 },
 "nbformat": 4,
 "nbformat_minor": 2
}
