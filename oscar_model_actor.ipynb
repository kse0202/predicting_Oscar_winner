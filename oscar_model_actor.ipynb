{
 "cells": [
  {
   "cell_type": "markdown",
   "metadata": {},
   "source": [
    "## predicting Oscar winner_ modeling(actor)"
   ]
  },
  {
   "cell_type": "markdown",
   "metadata": {},
   "source": [
    "### 부문별 모델 생성\n",
    "## 4. 남우주연상"
   ]
  },
  {
   "cell_type": "code",
   "execution_count": 1,
   "metadata": {},
   "outputs": [],
   "source": [
    "import pandas as pd\n",
    "import numpy as np\n",
    "\n",
    "import matplotlib.pyplot as plt\n",
    "%matplotlib inline\n",
    "import seaborn as sns"
   ]
  },
  {
   "cell_type": "code",
   "execution_count": 2,
   "metadata": {},
   "outputs": [],
   "source": [
    "\n",
    "from sklearn.metrics import confusion_matrix\n",
    "from sklearn.metrics import accuracy_score\n",
    "from sklearn.metrics import f1_score \n"
   ]
  },
  {
   "cell_type": "markdown",
   "metadata": {},
   "source": [
    "### 데이터 불러오기 및 전처리"
   ]
  },
  {
   "cell_type": "code",
   "execution_count": 3,
   "metadata": {},
   "outputs": [
    {
     "data": {
      "text/html": [
       "<div>\n",
       "<style scoped>\n",
       "    .dataframe tbody tr th:only-of-type {\n",
       "        vertical-align: middle;\n",
       "    }\n",
       "\n",
       "    .dataframe tbody tr th {\n",
       "        vertical-align: top;\n",
       "    }\n",
       "\n",
       "    .dataframe thead th {\n",
       "        text-align: right;\n",
       "    }\n",
       "</style>\n",
       "<table border=\"1\" class=\"dataframe\">\n",
       "  <thead>\n",
       "    <tr style=\"text-align: right;\">\n",
       "      <th></th>\n",
       "      <th>year_film</th>\n",
       "      <th>year_ceremony</th>\n",
       "      <th>ceremony</th>\n",
       "      <th>category</th>\n",
       "      <th>name</th>\n",
       "      <th>film</th>\n",
       "      <th>win</th>\n",
       "      <th>Gross</th>\n",
       "      <th>Date</th>\n",
       "      <th>Runtime</th>\n",
       "      <th>...</th>\n",
       "      <th>Dec</th>\n",
       "      <th>Feb</th>\n",
       "      <th>Jan</th>\n",
       "      <th>Jul</th>\n",
       "      <th>Jun</th>\n",
       "      <th>Mar</th>\n",
       "      <th>May</th>\n",
       "      <th>Nov</th>\n",
       "      <th>Oct</th>\n",
       "      <th>Sep</th>\n",
       "    </tr>\n",
       "  </thead>\n",
       "  <tbody>\n",
       "    <tr>\n",
       "      <td>0</td>\n",
       "      <td>1976</td>\n",
       "      <td>1977</td>\n",
       "      <td>49</td>\n",
       "      <td>ACTOR IN A LEADING ROLE</td>\n",
       "      <td>Robert De Niro</td>\n",
       "      <td>Taxi Driver</td>\n",
       "      <td>0</td>\n",
       "      <td>28262574.0</td>\n",
       "      <td>Feb</td>\n",
       "      <td>114</td>\n",
       "      <td>...</td>\n",
       "      <td>0</td>\n",
       "      <td>1</td>\n",
       "      <td>0</td>\n",
       "      <td>0</td>\n",
       "      <td>0</td>\n",
       "      <td>0</td>\n",
       "      <td>0</td>\n",
       "      <td>0</td>\n",
       "      <td>0</td>\n",
       "      <td>0</td>\n",
       "    </tr>\n",
       "    <tr>\n",
       "      <td>1</td>\n",
       "      <td>1976</td>\n",
       "      <td>1977</td>\n",
       "      <td>49</td>\n",
       "      <td>ACTOR IN A LEADING ROLE</td>\n",
       "      <td>Peter Finch</td>\n",
       "      <td>Network</td>\n",
       "      <td>1</td>\n",
       "      <td>23689877.0</td>\n",
       "      <td>Nov</td>\n",
       "      <td>121</td>\n",
       "      <td>...</td>\n",
       "      <td>0</td>\n",
       "      <td>0</td>\n",
       "      <td>0</td>\n",
       "      <td>0</td>\n",
       "      <td>0</td>\n",
       "      <td>0</td>\n",
       "      <td>0</td>\n",
       "      <td>1</td>\n",
       "      <td>0</td>\n",
       "      <td>0</td>\n",
       "    </tr>\n",
       "    <tr>\n",
       "      <td>2</td>\n",
       "      <td>1976</td>\n",
       "      <td>1977</td>\n",
       "      <td>49</td>\n",
       "      <td>ACTOR IN A LEADING ROLE</td>\n",
       "      <td>Giancarlo Giannini</td>\n",
       "      <td>Seven Beauties</td>\n",
       "      <td>0</td>\n",
       "      <td>12408.0</td>\n",
       "      <td>Jan</td>\n",
       "      <td>116</td>\n",
       "      <td>...</td>\n",
       "      <td>0</td>\n",
       "      <td>0</td>\n",
       "      <td>1</td>\n",
       "      <td>0</td>\n",
       "      <td>0</td>\n",
       "      <td>0</td>\n",
       "      <td>0</td>\n",
       "      <td>0</td>\n",
       "      <td>0</td>\n",
       "      <td>0</td>\n",
       "    </tr>\n",
       "    <tr>\n",
       "      <td>3</td>\n",
       "      <td>1976</td>\n",
       "      <td>1977</td>\n",
       "      <td>49</td>\n",
       "      <td>ACTOR IN A LEADING ROLE</td>\n",
       "      <td>William Holden</td>\n",
       "      <td>Network</td>\n",
       "      <td>0</td>\n",
       "      <td>23689877.0</td>\n",
       "      <td>Nov</td>\n",
       "      <td>121</td>\n",
       "      <td>...</td>\n",
       "      <td>0</td>\n",
       "      <td>0</td>\n",
       "      <td>0</td>\n",
       "      <td>0</td>\n",
       "      <td>0</td>\n",
       "      <td>0</td>\n",
       "      <td>0</td>\n",
       "      <td>1</td>\n",
       "      <td>0</td>\n",
       "      <td>0</td>\n",
       "    </tr>\n",
       "    <tr>\n",
       "      <td>4</td>\n",
       "      <td>1976</td>\n",
       "      <td>1977</td>\n",
       "      <td>49</td>\n",
       "      <td>ACTOR IN A LEADING ROLE</td>\n",
       "      <td>Sylvester Stallone</td>\n",
       "      <td>Rocky</td>\n",
       "      <td>0</td>\n",
       "      <td>117235147.0</td>\n",
       "      <td>Dec</td>\n",
       "      <td>120</td>\n",
       "      <td>...</td>\n",
       "      <td>1</td>\n",
       "      <td>0</td>\n",
       "      <td>0</td>\n",
       "      <td>0</td>\n",
       "      <td>0</td>\n",
       "      <td>0</td>\n",
       "      <td>0</td>\n",
       "      <td>0</td>\n",
       "      <td>0</td>\n",
       "      <td>0</td>\n",
       "    </tr>\n",
       "  </tbody>\n",
       "</table>\n",
       "<p>5 rows × 49 columns</p>\n",
       "</div>"
      ],
      "text/plain": [
       "   year_film  year_ceremony  ceremony                 category  \\\n",
       "0       1976           1977        49  ACTOR IN A LEADING ROLE   \n",
       "1       1976           1977        49  ACTOR IN A LEADING ROLE   \n",
       "2       1976           1977        49  ACTOR IN A LEADING ROLE   \n",
       "3       1976           1977        49  ACTOR IN A LEADING ROLE   \n",
       "4       1976           1977        49  ACTOR IN A LEADING ROLE   \n",
       "\n",
       "                 name            film  win        Gross Date  Runtime  ...  \\\n",
       "0      Robert De Niro     Taxi Driver    0   28262574.0  Feb      114  ...   \n",
       "1         Peter Finch         Network    1   23689877.0  Nov      121  ...   \n",
       "2  Giancarlo Giannini  Seven Beauties    0      12408.0  Jan      116  ...   \n",
       "3      William Holden         Network    0   23689877.0  Nov      121  ...   \n",
       "4  Sylvester Stallone           Rocky    0  117235147.0  Dec      120  ...   \n",
       "\n",
       "   Dec  Feb  Jan  Jul  Jun  Mar  May  Nov  Oct  Sep  \n",
       "0    0    1    0    0    0    0    0    0    0    0  \n",
       "1    0    0    0    0    0    0    0    1    0    0  \n",
       "2    0    0    1    0    0    0    0    0    0    0  \n",
       "3    0    0    0    0    0    0    0    1    0    0  \n",
       "4    1    0    0    0    0    0    0    0    0    0  \n",
       "\n",
       "[5 rows x 49 columns]"
      ]
     },
     "execution_count": 3,
     "metadata": {},
     "output_type": "execute_result"
    }
   ],
   "source": [
    "final_actor = pd.read_csv(\"./data/final_actor.csv\")\n",
    "final_actor.drop(\"Documentary\", axis =1, inplace =True) # 다큐멘터리 장르는 없으므로 의미없는 칼럼, 삭제한다.\n",
    "final_actor = pd.concat([final_actor,pd.get_dummies(final_actor['Date'])], axis=1) # Date 칼럼 원핫인코딩\n",
    "final_actor['win'] = final_actor['win'].apply(lambda x : 1 if (x == True) else 0) # win 컬럼 01 변환\n",
    "final_actor.head()"
   ]
  },
  {
   "cell_type": "markdown",
   "metadata": {},
   "source": [
    "### Train_data, Train_label 분리"
   ]
  },
  {
   "cell_type": "code",
   "execution_count": 4,
   "metadata": {},
   "outputs": [],
   "source": [
    "train_data = final_actor.drop([\"win\",\"year_film\",\"year_ceremony\",\"ceremony\",\"category\",\"name\",\"film\",\"Date\"],axis=1)\n",
    "train_label = final_actor[\"win\"]"
   ]
  },
  {
   "cell_type": "markdown",
   "metadata": {},
   "source": [
    "### 연속형 변수 StandardScaler로 평균 0, 표준편차 1 이 되는 값으로 변경 \n",
    "\n",
    "스케일링  \n",
    "스케일링은 자료 집합에 적용되는 전처리 과정으로 모든 자료에 선형 변환을 적용하여 전체 자료의 분포를 평균 0, 분산 1이 되도록   만드는 과정이다.스케일링은 자료의 오버플로우(overflow)나 언더플로우(underflow)를 방지하고 독립 변수의 공분산 행렬의 조건수  (condition number)를 감소시켜 최적화 과정에서의 안정성 및 수렴 속도를 향상시킨다.  \n",
    "  \n",
    "\n",
    "scikit-learn에서는 다음과 같은 스케일링 클래스를 제공한다.  \n",
    "  \n",
    "* StandardScaler(X): 평균이 0과 표준편차가 1이 되도록 변환.  \n",
    "* RobustScaler(X): 중앙값(median)이 0, IQR(interquartile range)이 1이 되도록 변환.  \n",
    "* MinMaxScaler(X): 최대값이 각각 1, 최소값이 0이 되도록 변환.  \n",
    "* MaxAbsScaler(X): 0을 기준으로 절대값이 가장 큰 수가 1또는 -1이 되도록 변환.  "
   ]
  },
  {
   "cell_type": "code",
   "execution_count": 5,
   "metadata": {},
   "outputs": [],
   "source": [
    "from sklearn.preprocessing import StandardScaler"
   ]
  },
  {
   "cell_type": "code",
   "execution_count": 6,
   "metadata": {},
   "outputs": [
    {
     "data": {
      "text/html": [
       "<div>\n",
       "<style scoped>\n",
       "    .dataframe tbody tr th:only-of-type {\n",
       "        vertical-align: middle;\n",
       "    }\n",
       "\n",
       "    .dataframe tbody tr th {\n",
       "        vertical-align: top;\n",
       "    }\n",
       "\n",
       "    .dataframe thead th {\n",
       "        text-align: right;\n",
       "    }\n",
       "</style>\n",
       "<table border=\"1\" class=\"dataframe\">\n",
       "  <thead>\n",
       "    <tr style=\"text-align: right;\">\n",
       "      <th></th>\n",
       "      <th>Gross</th>\n",
       "      <th>Runtime</th>\n",
       "      <th>Awards</th>\n",
       "      <th>nominations</th>\n",
       "      <th>imdb</th>\n",
       "      <th>tomato</th>\n",
       "      <th>Metacr</th>\n",
       "      <th>imdbVotes</th>\n",
       "      <th>Thriller</th>\n",
       "      <th>Short</th>\n",
       "      <th>...</th>\n",
       "      <th>Dec</th>\n",
       "      <th>Feb</th>\n",
       "      <th>Jan</th>\n",
       "      <th>Jul</th>\n",
       "      <th>Jun</th>\n",
       "      <th>Mar</th>\n",
       "      <th>May</th>\n",
       "      <th>Nov</th>\n",
       "      <th>Oct</th>\n",
       "      <th>Sep</th>\n",
       "    </tr>\n",
       "  </thead>\n",
       "  <tbody>\n",
       "    <tr>\n",
       "      <td>0</td>\n",
       "      <td>-0.510165</td>\n",
       "      <td>-0.537887</td>\n",
       "      <td>21.0</td>\n",
       "      <td>-0.655485</td>\n",
       "      <td>1.525489</td>\n",
       "      <td>1.077113</td>\n",
       "      <td>1.652787</td>\n",
       "      <td>1.366374</td>\n",
       "      <td>0.0</td>\n",
       "      <td>0.0</td>\n",
       "      <td>...</td>\n",
       "      <td>0</td>\n",
       "      <td>1</td>\n",
       "      <td>0</td>\n",
       "      <td>0</td>\n",
       "      <td>0</td>\n",
       "      <td>0</td>\n",
       "      <td>0</td>\n",
       "      <td>0</td>\n",
       "      <td>0</td>\n",
       "      <td>0</td>\n",
       "    </tr>\n",
       "    <tr>\n",
       "      <td>1</td>\n",
       "      <td>-0.585271</td>\n",
       "      <td>-0.227726</td>\n",
       "      <td>16.0</td>\n",
       "      <td>-0.484661</td>\n",
       "      <td>1.103579</td>\n",
       "      <td>0.587470</td>\n",
       "      <td>0.576485</td>\n",
       "      <td>-0.301377</td>\n",
       "      <td>0.0</td>\n",
       "      <td>0.0</td>\n",
       "      <td>...</td>\n",
       "      <td>0</td>\n",
       "      <td>0</td>\n",
       "      <td>0</td>\n",
       "      <td>0</td>\n",
       "      <td>0</td>\n",
       "      <td>0</td>\n",
       "      <td>0</td>\n",
       "      <td>1</td>\n",
       "      <td>0</td>\n",
       "      <td>0</td>\n",
       "    </tr>\n",
       "    <tr>\n",
       "      <td>2</td>\n",
       "      <td>-0.974170</td>\n",
       "      <td>-0.449269</td>\n",
       "      <td>2.0</td>\n",
       "      <td>-0.810778</td>\n",
       "      <td>0.470715</td>\n",
       "      <td>-0.587674</td>\n",
       "      <td>0.028831</td>\n",
       "      <td>-0.713004</td>\n",
       "      <td>0.0</td>\n",
       "      <td>0.0</td>\n",
       "      <td>...</td>\n",
       "      <td>0</td>\n",
       "      <td>0</td>\n",
       "      <td>1</td>\n",
       "      <td>0</td>\n",
       "      <td>0</td>\n",
       "      <td>0</td>\n",
       "      <td>0</td>\n",
       "      <td>0</td>\n",
       "      <td>0</td>\n",
       "      <td>0</td>\n",
       "    </tr>\n",
       "    <tr>\n",
       "      <td>3</td>\n",
       "      <td>-0.585271</td>\n",
       "      <td>-0.227726</td>\n",
       "      <td>16.0</td>\n",
       "      <td>-0.484661</td>\n",
       "      <td>1.103579</td>\n",
       "      <td>0.587470</td>\n",
       "      <td>0.576485</td>\n",
       "      <td>-0.301377</td>\n",
       "      <td>0.0</td>\n",
       "      <td>0.0</td>\n",
       "      <td>...</td>\n",
       "      <td>0</td>\n",
       "      <td>0</td>\n",
       "      <td>0</td>\n",
       "      <td>0</td>\n",
       "      <td>0</td>\n",
       "      <td>0</td>\n",
       "      <td>0</td>\n",
       "      <td>1</td>\n",
       "      <td>0</td>\n",
       "      <td>0</td>\n",
       "    </tr>\n",
       "    <tr>\n",
       "      <td>4</td>\n",
       "      <td>0.951198</td>\n",
       "      <td>-0.272035</td>\n",
       "      <td>17.0</td>\n",
       "      <td>-0.562308</td>\n",
       "      <td>1.103579</td>\n",
       "      <td>0.783327</td>\n",
       "      <td>-0.695508</td>\n",
       "      <td>0.799315</td>\n",
       "      <td>0.0</td>\n",
       "      <td>0.0</td>\n",
       "      <td>...</td>\n",
       "      <td>1</td>\n",
       "      <td>0</td>\n",
       "      <td>0</td>\n",
       "      <td>0</td>\n",
       "      <td>0</td>\n",
       "      <td>0</td>\n",
       "      <td>0</td>\n",
       "      <td>0</td>\n",
       "      <td>0</td>\n",
       "      <td>0</td>\n",
       "    </tr>\n",
       "  </tbody>\n",
       "</table>\n",
       "<p>5 rows × 41 columns</p>\n",
       "</div>"
      ],
      "text/plain": [
       "      Gross   Runtime  Awards  nominations      imdb    tomato    Metacr  \\\n",
       "0 -0.510165 -0.537887    21.0    -0.655485  1.525489  1.077113  1.652787   \n",
       "1 -0.585271 -0.227726    16.0    -0.484661  1.103579  0.587470  0.576485   \n",
       "2 -0.974170 -0.449269     2.0    -0.810778  0.470715 -0.587674  0.028831   \n",
       "3 -0.585271 -0.227726    16.0    -0.484661  1.103579  0.587470  0.576485   \n",
       "4  0.951198 -0.272035    17.0    -0.562308  1.103579  0.783327 -0.695508   \n",
       "\n",
       "   imdbVotes  Thriller  Short  ...  Dec  Feb  Jan  Jul  Jun  Mar  May  Nov  \\\n",
       "0   1.366374       0.0    0.0  ...    0    1    0    0    0    0    0    0   \n",
       "1  -0.301377       0.0    0.0  ...    0    0    0    0    0    0    0    1   \n",
       "2  -0.713004       0.0    0.0  ...    0    0    1    0    0    0    0    0   \n",
       "3  -0.301377       0.0    0.0  ...    0    0    0    0    0    0    0    1   \n",
       "4   0.799315       0.0    0.0  ...    1    0    0    0    0    0    0    0   \n",
       "\n",
       "   Oct  Sep  \n",
       "0    0    0  \n",
       "1    0    0  \n",
       "2    0    0  \n",
       "3    0    0  \n",
       "4    0    0  \n",
       "\n",
       "[5 rows x 41 columns]"
      ]
     },
     "execution_count": 6,
     "metadata": {},
     "output_type": "execute_result"
    }
   ],
   "source": [
    "scaler = StandardScaler()\n",
    "\n",
    "train_data[['Gross', 'Runtime', 'nominations', 'imdb', 'tomato', 'Metacr', 'imdbVotes']] = scaler.fit_transform(train_data[['Gross', 'Runtime', 'nominations', 'imdb', 'tomato', 'Metacr', 'imdbVotes']])\n",
    "train_data.head()"
   ]
  },
  {
   "cell_type": "markdown",
   "metadata": {},
   "source": [
    "### train_test_split 을 이용하여 train, test set분리"
   ]
  },
  {
   "cell_type": "code",
   "execution_count": 7,
   "metadata": {},
   "outputs": [],
   "source": [
    "from sklearn.model_selection import train_test_split"
   ]
  },
  {
   "cell_type": "code",
   "execution_count": 8,
   "metadata": {},
   "outputs": [],
   "source": [
    "\n",
    "\n",
    "X_train, X_test, y_train, y_test = train_test_split(train_data, train_label, test_size =0.25, random_state=123, stratify = train_label)\n",
    "\n",
    "# stratify : train_label의 비율을 살려 테스트와 트레인 부분을 나눈다. "
   ]
  },
  {
   "cell_type": "markdown",
   "metadata": {},
   "source": [
    "### SMOTE 를 이용. 비대칭 데이터 문제를 해결하기 위한 오버샘플링\n",
    "SMOTE : 기존의 소수의 값 주변의 값들로 데이터 생성  \n",
    "\n",
    "### 언더 샘플링\n",
    "* RandomUnderSampler: random under-sampling method\n",
    "* TomekLinks: Tomek’s link method\n",
    "* CondensedNearestNeighbour: condensed nearest neighbour method\n",
    "* OneSidedSelection: under-sampling based on one-sided selection method\n",
    "* EditedNearestNeighbours: edited nearest neighbour method\n",
    "* NeighbourhoodCleaningRule: neighbourhood cleaning rule\n",
    "\n",
    "### 오버 샘플링\n",
    "* RandomOverSampler: random sampler\n",
    "* ADASYN: Adaptive Synthetic Sampling Approach for Imbalanced Learning  \n",
    "* SMOTE: Synthetic Minority Over-sampling Technique\n",
    "\n",
    "###  복합 샘플링\n",
    "* SMOTEENN: SMOTE + ENN\n",
    "* SMOTETomek: SMOTE + Tomek"
   ]
  },
  {
   "cell_type": "code",
   "execution_count": 9,
   "metadata": {},
   "outputs": [
    {
     "name": "stderr",
     "output_type": "stream",
     "text": [
      "Using TensorFlow backend.\n"
     ]
    }
   ],
   "source": [
    "from imblearn.over_sampling import SMOTE"
   ]
  },
  {
   "cell_type": "code",
   "execution_count": 10,
   "metadata": {},
   "outputs": [],
   "source": [
    "smote = SMOTE(random_state=0)\n",
    "X_train_over, y_train_over = smote.fit_sample(X_train,y_train)"
   ]
  },
  {
   "cell_type": "code",
   "execution_count": 13,
   "metadata": {},
   "outputs": [
    {
     "name": "stdout",
     "output_type": "stream",
     "text": [
      "X_train 데이터 수 : 161\n",
      "X_train_over 데이터 수 : 258\n",
      "y_train 데이터 비율 : \n",
      "0    129\n",
      "1     32\n",
      "Name: win, dtype: int64\n",
      "y_train_over 데이터 비율 : \n",
      "1    129\n",
      "0    129\n",
      "Name: win, dtype: int64\n"
     ]
    }
   ],
   "source": [
    "print(\"X_train 데이터 수 : {}\".format(len(X_train)))\n",
    "print(\"X_train_over 데이터 수 : {}\".format(len(X_train_over)))\n",
    "print(\"y_train 데이터 비율 : \\n{}\".format(y_train.value_counts()))\n",
    "print(\"y_train_over 데이터 비율 : \\n{}\".format(y_train_over.value_counts()))\n"
   ]
  },
  {
   "cell_type": "markdown",
   "metadata": {},
   "source": [
    "### StratifiedKFold를 이용하여 비율에 맞게 데이터를 나눈다. \n",
    "\n",
    "일반적으로 회귀에는 기본 k-겹 교차검증을 사용하고, 분류에는 StratifiedKFold를 사용한다. 파라미터 찾을때 사용"
   ]
  },
  {
   "cell_type": "code",
   "execution_count": 12,
   "metadata": {},
   "outputs": [],
   "source": [
    "from sklearn.model_selection import StratifiedKFold"
   ]
  },
  {
   "cell_type": "code",
   "execution_count": 13,
   "metadata": {},
   "outputs": [],
   "source": [
    "skf = StratifiedKFold(n_splits=10)"
   ]
  },
  {
   "cell_type": "markdown",
   "metadata": {},
   "source": [
    "### Decision Tree\n",
    "\n",
    "* max_depth를 임의로 정해주지 않으면 자동으로 모든 leaf가 pure해질때까지 나눈다. 그말인 즉슨, 모든 leaf가 확실한 leaf이고, 확률은 모두 해당 클래스에 대해서만 1이라는 것이다."
   ]
  },
  {
   "cell_type": "code",
   "execution_count": 16,
   "metadata": {},
   "outputs": [],
   "source": [
    "from sklearn.tree import DecisionTreeClassifier"
   ]
  },
  {
   "cell_type": "code",
   "execution_count": 107,
   "metadata": {},
   "outputs": [
    {
     "name": "stdout",
     "output_type": "stream",
     "text": [
      "f1 score : 0.3810\n"
     ]
    },
    {
     "data": {
      "text/plain": [
       "array([[20, 23],\n",
       "       [ 3,  8]], dtype=int64)"
      ]
     },
     "execution_count": 107,
     "metadata": {},
     "output_type": "execute_result"
    }
   ],
   "source": [
    "DTC = DecisionTreeClassifier(ccp_alpha=0.0, class_weight=None, criterion='gini',\n",
    "                       max_depth=4, max_features=None, max_leaf_nodes=6,\n",
    "                       min_impurity_decrease=0.0, min_impurity_split=None,\n",
    "                       min_samples_leaf=1, min_samples_split=2,\n",
    "                       min_weight_fraction_leaf=0.0, presort='deprecated',\n",
    "                       random_state=1234, splitter='best')\n",
    "\n",
    "DTC.fit(X_train_over,y_train_over)\n",
    "\n",
    "pred_DTC = DTC.predict(X_test)\n",
    "\n",
    "print(\"f1 score : {0:.4f}\".format(f1_score(y_test,pred_DTC)))\n",
    "\n",
    "confusion_matrix(y_test,pred_DTC)"
   ]
  },
  {
   "cell_type": "markdown",
   "metadata": {},
   "source": [
    "### GridSearchCV로 최적의 파라미터 찾기¶"
   ]
  },
  {
   "cell_type": "code",
   "execution_count": 14,
   "metadata": {},
   "outputs": [],
   "source": [
    "from sklearn.model_selection import GridSearchCV"
   ]
  },
  {
   "cell_type": "code",
   "execution_count": 105,
   "metadata": {},
   "outputs": [
    {
     "name": "stdout",
     "output_type": "stream",
     "text": [
      "f1 score : 0.3810\n"
     ]
    },
    {
     "data": {
      "text/plain": [
       "array([[20, 23],\n",
       "       [ 3,  8]], dtype=int64)"
      ]
     },
     "execution_count": 105,
     "metadata": {},
     "output_type": "execute_result"
    }
   ],
   "source": [
    "DT = DecisionTreeClassifier(random_state =1234)\n",
    "parameters = {\n",
    "  \n",
    "    \"max_depth\" :[3,4,5,6,7],\n",
    "    \"splitter\" :[\"best\"],\n",
    "    \"max_leaf_nodes\" :[2,3,4,5,6,7],\n",
    "    \"min_samples_leaf\" : [1],\n",
    "    \"min_samples_split\" : [2]\n",
    "    \n",
    "    \n",
    "}\n",
    "\n",
    "grid_dt = GridSearchCV(DT,\n",
    "                         param_grid=parameters,\n",
    "                         scoring=\"f1\",\n",
    "                         cv=skf,\n",
    "                        n_jobs=-1 )\n",
    "grid_dt.fit(X_train_over, y_train_over)\n",
    "\n",
    "pred = grid_dt.predict(X_test)\n",
    "\n",
    "print(\"f1 score : {0:.4f}\".format(f1_score(y_test,pred)))\n",
    "\n",
    "confusion_matrix(y_test,pred)"
   ]
  },
  {
   "cell_type": "code",
   "execution_count": 106,
   "metadata": {},
   "outputs": [
    {
     "data": {
      "text/plain": [
       "DecisionTreeClassifier(ccp_alpha=0.0, class_weight=None, criterion='gini',\n",
       "                       max_depth=4, max_features=None, max_leaf_nodes=6,\n",
       "                       min_impurity_decrease=0.0, min_impurity_split=None,\n",
       "                       min_samples_leaf=1, min_samples_split=2,\n",
       "                       min_weight_fraction_leaf=0.0, presort='deprecated',\n",
       "                       random_state=1234, splitter='best')"
      ]
     },
     "execution_count": 106,
     "metadata": {},
     "output_type": "execute_result"
    }
   ],
   "source": [
    "grid_dt.best_estimator_"
   ]
  },
  {
   "cell_type": "markdown",
   "metadata": {},
   "source": [
    "### Decision Tree 시각화"
   ]
  },
  {
   "cell_type": "code",
   "execution_count": 21,
   "metadata": {},
   "outputs": [
    {
     "name": "stderr",
     "output_type": "stream",
     "text": [
      "C:\\Users\\kse02\\AppData\\Local\\Continuum\\anaconda3\\lib\\site-packages\\sklearn\\externals\\six.py:31: FutureWarning: The module is deprecated in version 0.21 and will be removed in version 0.23 since we've dropped support for Python 2.7. Please rely on the official version of six (https://pypi.org/project/six/).\n",
      "  \"(https://pypi.org/project/six/).\", FutureWarning)\n"
     ]
    }
   ],
   "source": [
    "from sklearn.externals.six import StringIO  \n",
    "from IPython.display import Image  \n",
    "from sklearn.tree import export_graphviz\n",
    "import pydotplus\n"
   ]
  },
  {
   "cell_type": "code",
   "execution_count": 108,
   "metadata": {},
   "outputs": [
    {
     "data": {
      "image/png": "[encoded data removed]",
      "text/plain": [
       "<IPython.core.display.Image object>"
      ]
     },
     "execution_count": 108,
     "metadata": {},
     "output_type": "execute_result"
    }
   ],
   "source": [
    "dot_data = StringIO()\n",
    "\n",
    "export_graphviz(DTC, out_file=dot_data,  \n",
    "                filled=True, rounded=True,\n",
    "                special_characters=True,\n",
    "                class_names=[\"win\", \"lose\"],\n",
    "                 feature_names=X_train.columns\n",
    "              )\n",
    "\n",
    "graph = pydotplus.graph_from_dot_data(dot_data.getvalue())  \n",
    "Image(graph.create_png())"
   ]
  },
  {
   "cell_type": "markdown",
   "metadata": {},
   "source": [
    "### plot 한글 패치"
   ]
  },
  {
   "cell_type": "code",
   "execution_count": 23,
   "metadata": {},
   "outputs": [],
   "source": [
    "%matplotlib inline\n",
    "\n",
    "import os\n",
    "from matplotlib import font_manager as fm, rcParams\n",
    "import matplotlib.pyplot as plt\n",
    "import matplotlib as mpl"
   ]
  },
  {
   "cell_type": "code",
   "execution_count": 24,
   "metadata": {},
   "outputs": [],
   "source": [
    "fm.get_fontconfig_fonts()\n",
    "# font_location = '/usr/share/fonts/truetype/nanum/NanumGothicOTF.ttf'\n",
    "font_location = 'C:/Windows/Fonts/NanumGothic.ttf' # For Windows\n",
    "font_name = fm.FontProperties(fname=font_location).get_name()\n",
    "mpl.rc('font', family=font_name)\n"
   ]
  },
  {
   "cell_type": "markdown",
   "metadata": {},
   "source": [
    "### Decision Tree 특성 중요도 plot"
   ]
  },
  {
   "cell_type": "code",
   "execution_count": 25,
   "metadata": {},
   "outputs": [],
   "source": [
    "def plot_feature_importances_final_best(model):\n",
    "    plt.figure(figsize=(9, 9))\n",
    "    n_features = X_train.shape[1]\n",
    "    plt.barh(range(n_features), model.feature_importances_, align='center')\n",
    "    plt.yticks(np.arange(n_features), X_train.columns)\n",
    "    plt.xlabel(\"특성 중요도\")\n",
    "    plt.ylabel(\"특성\")\n",
    "    plt.ylim(-1, n_features)"
   ]
  },
  {
   "cell_type": "code",
   "execution_count": 109,
   "metadata": {},
   "outputs": [
    {
     "data": {
      "image/png": "[encoded data removed]",
      "text/plain": [
       "<Figure size 648x648 with 1 Axes>"
      ]
     },
     "metadata": {
      "needs_background": "light"
     },
     "output_type": "display_data"
    }
   ],
   "source": [
    "plot_feature_importances_final_best(DTC)"
   ]
  },
  {
   "cell_type": "markdown",
   "metadata": {},
   "source": [
    "### 앙상블(emsemble)\n",
    "앙상블이란 여러 개의 결정 트리(Decision Tree)를 결합하여 하나의 결정 트리보다 더 좋은 성능을 내는 머신러닝 기법이다.  \n",
    "크게 3종류로 나눌 수 있다. \n",
    "\n",
    "* Bagging\n",
    "* Boosting\n",
    "* Voting\n",
    "\n",
    "Bagging : Bagging은 Bootstrap Aggregation의 약자. 배깅은 샘플을 여러 번 뽑아(Bootstrap) 각 모델을 학습시켜 결과물을 집계(Aggregration)하는 방법. RandomForest\n",
    "\n",
    "Boosting : 가중치를 활용하여 약 분류기를 강 분류기로 만드는 방법. "
   ]
  },
  {
   "cell_type": "markdown",
   "metadata": {},
   "source": [
    "<img src = \"./img/bagging_and_boosting.png\">\n",
    "\n",
    "출처: swallow.github.io"
   ]
  },
  {
   "cell_type": "markdown",
   "metadata": {},
   "source": [
    "### GBC(GradientBoostingClassifier)\n",
    "\n",
    "여러개의 Decision Tree를 묶어 강력한 모델을 만드는 기법.\n",
    "이전 tree의 오차를 보완하는 방식으로 tree를 만든다. \n",
    "\n",
    "* learning_rate를 높이면 보정을 강하게 하기 때문에 복잡한 모델을 만든다.\n",
    "* n_estimator 값을 키우면 ensemble에 트리가 더 많이 추가되어 모델의 복잡도가 커지고 train 세트를 더 정확하게 fitting한다.(오버피팅 주의)\n",
    "* 기본값: max_depth=3, learning_rate=0.1"
   ]
  },
  {
   "cell_type": "code",
   "execution_count": 27,
   "metadata": {},
   "outputs": [],
   "source": [
    "from sklearn.ensemble import GradientBoostingClassifier"
   ]
  },
  {
   "cell_type": "code",
   "execution_count": 110,
   "metadata": {},
   "outputs": [
    {
     "name": "stdout",
     "output_type": "stream",
     "text": [
      "f1 Score : 0.2857\n"
     ]
    },
    {
     "data": {
      "text/plain": [
       "array([[36,  7],\n",
       "       [ 8,  3]], dtype=int64)"
      ]
     },
     "execution_count": 110,
     "metadata": {},
     "output_type": "execute_result"
    }
   ],
   "source": [
    "GBC = GradientBoostingClassifier(ccp_alpha=0.0, criterion='friedman_mse', init=None,\n",
    "                           learning_rate=0.1, loss='deviance', max_depth=5,\n",
    "                           max_features=None, max_leaf_nodes=None,\n",
    "                           min_impurity_decrease=0.0, min_impurity_split=None,\n",
    "                           min_samples_leaf=1, min_samples_split=2,\n",
    "                           min_weight_fraction_leaf=0.0, n_estimators=100,\n",
    "                           n_iter_no_change=None, presort='deprecated',\n",
    "                           random_state=1234, subsample=1.0, tol=0.0001,\n",
    "                           validation_fraction=0.1, verbose=0,\n",
    "                           warm_start=False)\n",
    "GBC.fit(X_train_over, y_train_over)\n",
    "\n",
    "pred_GBC= GBC.predict(X_test)\n",
    "\n",
    "print(\"f1 Score : {0:.4f}\".format(f1_score(y_test,pred_GBC)))\n",
    "\n",
    "confusion_matrix(y_test,pred_GBC)"
   ]
  },
  {
   "cell_type": "markdown",
   "metadata": {},
   "source": [
    "### GridSearchCV로 최적의 파라미터 찾기"
   ]
  },
  {
   "cell_type": "code",
   "execution_count": 29,
   "metadata": {},
   "outputs": [
    {
     "name": "stdout",
     "output_type": "stream",
     "text": [
      "f1 score : 0.2857\n"
     ]
    },
    {
     "data": {
      "text/plain": [
       "array([[36,  7],\n",
       "       [ 8,  3]], dtype=int64)"
      ]
     },
     "execution_count": 29,
     "metadata": {},
     "output_type": "execute_result"
    }
   ],
   "source": [
    "GB = GradientBoostingClassifier(random_state =1234)\n",
    "parameters = {\n",
    "    \"max_depth\" :[4,5,6,10],\n",
    "    \"learning_rate\" :[0.1, 0.5,0.05,0.01],\n",
    "    \"n_estimators\" :[100,10 , 20, 30]\n",
    "   \n",
    "    \n",
    "    \n",
    "}\n",
    "\n",
    "grid_gb = GridSearchCV(GB,\n",
    "                         param_grid=parameters,\n",
    "                         scoring=\"f1\",\n",
    "                         cv=skf,\n",
    "                        n_jobs=-1 )\n",
    "grid_gb.fit(X_train_over, y_train_over)\n",
    "\n",
    "pred = grid_gb.predict(X_test)\n",
    "\n",
    "print(\"f1 score : {0:.4f}\".format(f1_score(y_test,pred)))\n",
    "\n",
    "confusion_matrix(y_test,pred)"
   ]
  },
  {
   "cell_type": "code",
   "execution_count": 30,
   "metadata": {},
   "outputs": [
    {
     "data": {
      "text/plain": [
       "GradientBoostingClassifier(ccp_alpha=0.0, criterion='friedman_mse', init=None,\n",
       "                           learning_rate=0.1, loss='deviance', max_depth=5,\n",
       "                           max_features=None, max_leaf_nodes=None,\n",
       "                           min_impurity_decrease=0.0, min_impurity_split=None,\n",
       "                           min_samples_leaf=1, min_samples_split=2,\n",
       "                           min_weight_fraction_leaf=0.0, n_estimators=100,\n",
       "                           n_iter_no_change=None, presort='deprecated',\n",
       "                           random_state=1234, subsample=1.0, tol=0.0001,\n",
       "                           validation_fraction=0.1, verbose=0,\n",
       "                           warm_start=False)"
      ]
     },
     "execution_count": 30,
     "metadata": {},
     "output_type": "execute_result"
    }
   ],
   "source": [
    "grid_gb.best_estimator_"
   ]
  },
  {
   "cell_type": "markdown",
   "metadata": {},
   "source": [
    "### GBC 특성 중요도 Plot"
   ]
  },
  {
   "cell_type": "code",
   "execution_count": 111,
   "metadata": {},
   "outputs": [
    {
     "data": {
      "image/png": "[encoded data removed]",
      "text/plain": [
       "<Figure size 648x648 with 1 Axes>"
      ]
     },
     "metadata": {
      "needs_background": "light"
     },
     "output_type": "display_data"
    }
   ],
   "source": [
    "plot_feature_importances_final_best(GBC)"
   ]
  },
  {
   "cell_type": "markdown",
   "metadata": {},
   "source": [
    "### XGBC(XGBClassifier)\n",
    "\n",
    "Gradient Boosting(경사하강법)의 단점을 보완한 부스터   \n",
    "CART(Classification and Regresstion Tree)기반 : Addictive learning = 더해서 배운다. 분류와 회귀 둘다 가능하다. \n",
    "\n",
    "일반 파라미터 : 도구 모양을 결정하는 파라미터. linear or tree\n",
    "* booster : ['gbtree', 'gblinear', 'dart']\n",
    "* nthread\n",
    "* num_feature\n",
    "\n",
    "부스팅 파라미터 : 트리마다 가지를 칠 때 적용하는 옵션. 선택한 booster마다 파라미터가 다름 \n",
    "\n",
    "학습과정 파라미터 : 최적화 퍼포먼스를 결정하는 파라미터 \n",
    "\n",
    "커맨드라인 파라미터 : epoch랑 비슷 \n",
    "\n",
    "#### 파라미터 최적화 \n",
    "- learning_rate, default = 0.3, 0~1 사이, 학습 단계별로 가중치를 얼만큼 줄까를 결정. 낮을수록 보수적\n",
    "- gamma : min split loss, default = 0, 0~무한대 사이, 의사결정나무가 가지를 칠때 타켓변수에 대해 얼마나 설명할수 있나. 클수록 보수적, 가지를 안치려고 함\n",
    "- max_depth : default = 6, 0~무한대.\n",
    "\n",
    "xgboost 파라미터 :\n",
    "https://xgboost.readthedocs.io/en/latest/parameter.html\n",
    "https://apple-rbox.tistory.com/6"
   ]
  },
  {
   "cell_type": "code",
   "execution_count": 32,
   "metadata": {},
   "outputs": [],
   "source": [
    "import xgboost as xgb\n",
    "from xgboost import XGBClassifier"
   ]
  },
  {
   "cell_type": "code",
   "execution_count": 112,
   "metadata": {},
   "outputs": [
    {
     "name": "stdout",
     "output_type": "stream",
     "text": [
      "f1 Score : 0.5000\n"
     ]
    },
    {
     "data": {
      "text/plain": [
       "array([[39,  4],\n",
       "       [ 6,  5]], dtype=int64)"
      ]
     },
     "execution_count": 112,
     "metadata": {},
     "output_type": "execute_result"
    }
   ],
   "source": [
    "XGBC = XGBClassifier(base_score=0.5, booster='gbtree', colsample_bylevel=1,\n",
    "              colsample_bynode=1, colsample_bytree=1, gamma=0,\n",
    "              learning_rate=0.05, max_delta_step=0, max_depth=8,\n",
    "              min_child_weight=1, missing=None, n_estimators=100, n_jobs=-1,\n",
    "              nthread=None, objective='binary:logistic', random_state=1234,\n",
    "              reg_alpha=0, reg_lambda=1, scale_pos_weight=1, seed=None,\n",
    "              silent=None, subsample=1, verbosity=1) \n",
    "                     \n",
    "\n",
    "XGBC.fit(X_train_over, y_train_over)\n",
    "\n",
    "pred_XGBC= XGBC.predict(X_test)\n",
    "\n",
    "print(\"f1 Score : {0:.4f}\".format(f1_score(y_test,pred_XGBC)))\n",
    "\n",
    "confusion_matrix(y_test,pred_XGBC)"
   ]
  },
  {
   "cell_type": "markdown",
   "metadata": {},
   "source": [
    "### GridSearchCV로 최적의 파라미터 찾기"
   ]
  },
  {
   "cell_type": "code",
   "execution_count": 34,
   "metadata": {},
   "outputs": [
    {
     "name": "stdout",
     "output_type": "stream",
     "text": [
      "f1 score : 0.5000\n"
     ]
    },
    {
     "data": {
      "text/plain": [
       "array([[39,  4],\n",
       "       [ 6,  5]], dtype=int64)"
      ]
     },
     "execution_count": 34,
     "metadata": {},
     "output_type": "execute_result"
    }
   ],
   "source": [
    "XGB = XGBClassifier(random_state =1234, n_jobs=-1)\n",
    "parameters = {\n",
    "    \"n_estimators\" :[10,20,30,100],\n",
    "    \"base_score\" :[0.5, 0.1, 1],\n",
    "    \"booster\":['gbtree'],\n",
    "    \"learning_rate\" : [0.05, 0.01,0.001],\n",
    "    \"max_depth\" :[8, 10,15]\n",
    "}\n",
    "\n",
    "grid_xgb = GridSearchCV(XGB,\n",
    "                         param_grid=parameters,\n",
    "                         scoring=\"f1\",\n",
    "                         cv=skf,\n",
    "                        n_jobs=-1)\n",
    "grid_xgb.fit(X_train_over, y_train_over)\n",
    "\n",
    "pred = grid_xgb.predict(X_test)\n",
    "\n",
    "print(\"f1 score : {0:.4f}\".format(f1_score(y_test,pred)))\n",
    "\n",
    "confusion_matrix(y_test,pred)"
   ]
  },
  {
   "cell_type": "code",
   "execution_count": 35,
   "metadata": {},
   "outputs": [
    {
     "data": {
      "text/plain": [
       "XGBClassifier(base_score=0.5, booster='gbtree', colsample_bylevel=1,\n",
       "              colsample_bynode=1, colsample_bytree=1, gamma=0,\n",
       "              learning_rate=0.05, max_delta_step=0, max_depth=8,\n",
       "              min_child_weight=1, missing=None, n_estimators=100, n_jobs=-1,\n",
       "              nthread=None, objective='binary:logistic', random_state=1234,\n",
       "              reg_alpha=0, reg_lambda=1, scale_pos_weight=1, seed=None,\n",
       "              silent=None, subsample=1, verbosity=1)"
      ]
     },
     "execution_count": 35,
     "metadata": {},
     "output_type": "execute_result"
    }
   ],
   "source": [
    "grid_xgb.best_estimator_"
   ]
  },
  {
   "cell_type": "markdown",
   "metadata": {},
   "source": [
    "### XGBoostClassifier 특성 중요도 plot"
   ]
  },
  {
   "cell_type": "code",
   "execution_count": 113,
   "metadata": {},
   "outputs": [
    {
     "data": {
      "image/png": "[encoded data removed]",
      "text/plain": [
       "<Figure size 648x648 with 1 Axes>"
      ]
     },
     "metadata": {
      "needs_background": "light"
     },
     "output_type": "display_data"
    }
   ],
   "source": [
    "plot_feature_importances_final_best(XGBC)"
   ]
  },
  {
   "cell_type": "markdown",
   "metadata": {},
   "source": [
    "### Light GBMC(light gradient boosting machine)\n",
    "XGBoost의 느린 단점을 보완하기 위해 나옴\n",
    "\n",
    "다른 Booster의 트리는 level-wise(균형 중심)분할을 이용. depth를 줄이고 균형을 맞춤.\n",
    "lightgbm은 leaf-wise(리프 중심)분할. 균형을 맞추지 않고 계속 분할. 비대칭적이고 깊은 트리, 동일한 leaf를 생성할 때 level-wise보다 손실이 적다.\n",
    "\n",
    "파라미터 튜닝 : https://lightgbm.readthedocs.io/en/latest/Parameters.html"
   ]
  },
  {
   "cell_type": "code",
   "execution_count": 37,
   "metadata": {},
   "outputs": [],
   "source": [
    "from lightgbm import LGBMClassifier\n",
    "import lightgbm as lgb"
   ]
  },
  {
   "cell_type": "code",
   "execution_count": 118,
   "metadata": {},
   "outputs": [
    {
     "name": "stdout",
     "output_type": "stream",
     "text": [
      "f1 Score : 0.3000\n"
     ]
    },
    {
     "data": {
      "text/plain": [
       "array([[37,  6],\n",
       "       [ 8,  3]], dtype=int64)"
      ]
     },
     "execution_count": 118,
     "metadata": {},
     "output_type": "execute_result"
    }
   ],
   "source": [
    "LGBC = LGBMClassifier(boosting_type='gbdt', class_weight=None, colsample_bytree=1.0,\n",
    "               importance_type='split', learning_rate=0.15, max_depth=-1,\n",
    "               min_child_samples=2, min_child_weight=0.001, min_split_gain=0.0,\n",
    "               n_estimators=100, n_jobs=-1, num_leaves=16, objective=None,\n",
    "               random_state=1234, reg_alpha=0.0, reg_lambda=0.0, silent=True,\n",
    "               subsample=1.0, subsample_for_bin=200000, subsample_freq=0)\n",
    "\n",
    "LGBC.fit(X_train_over, y_train_over)\n",
    "\n",
    "pred_LGBC = LGBC.predict(X_test)\n",
    "\n",
    "print(\"f1 Score : {0:.4f}\".format(f1_score(y_test,pred_LGBC)))\n",
    "\n",
    "confusion_matrix(y_test,pred_LGBC)"
   ]
  },
  {
   "cell_type": "markdown",
   "metadata": {},
   "source": [
    "### GridSearchCV로 최적의 파라미터 찾기"
   ]
  },
  {
   "cell_type": "code",
   "execution_count": 116,
   "metadata": {},
   "outputs": [
    {
     "name": "stdout",
     "output_type": "stream",
     "text": [
      "f1 Score : 0.3000\n"
     ]
    },
    {
     "data": {
      "text/plain": [
       "array([[37,  6],\n",
       "       [ 8,  3]], dtype=int64)"
      ]
     },
     "execution_count": 116,
     "metadata": {},
     "output_type": "execute_result"
    }
   ],
   "source": [
    "LGB =LGBMClassifier(random_state =1234, n_jobs=-1)\n",
    "parameters = {\n",
    "    \"n_estimators\" :[100,10,20,30,50],\n",
    "   \"learning_rate\":[0.1,0.15, 0.05, 0.01],\n",
    "    \"num_leaves\" : [31,16,8],\n",
    "    \"min_child_samples\" : [1,2,3,4, 5]\n",
    "}\n",
    "grid_lgb = GridSearchCV(LGB,\n",
    "                         param_grid=parameters,\n",
    "                         scoring=\"f1\",\n",
    "                         cv=skf,\n",
    "                        n_jobs=-1)\n",
    "grid_lgb.fit(X_train_over, y_train_over)\n",
    "\n",
    "pred = grid_lgb.predict(X_test)\n",
    "\n",
    "print(\"f1 Score : {0:.4f}\".format(f1_score(y_test,pred)))\n",
    "\n",
    "confusion_matrix(y_test,pred)"
   ]
  },
  {
   "cell_type": "code",
   "execution_count": 117,
   "metadata": {},
   "outputs": [
    {
     "data": {
      "text/plain": [
       "LGBMClassifier(boosting_type='gbdt', class_weight=None, colsample_bytree=1.0,\n",
       "               importance_type='split', learning_rate=0.15, max_depth=-1,\n",
       "               min_child_samples=2, min_child_weight=0.001, min_split_gain=0.0,\n",
       "               n_estimators=100, n_jobs=-1, num_leaves=16, objective=None,\n",
       "               random_state=1234, reg_alpha=0.0, reg_lambda=0.0, silent=True,\n",
       "               subsample=1.0, subsample_for_bin=200000, subsample_freq=0)"
      ]
     },
     "execution_count": 117,
     "metadata": {},
     "output_type": "execute_result"
    }
   ],
   "source": [
    "grid_lgb.best_estimator_"
   ]
  },
  {
   "cell_type": "markdown",
   "metadata": {},
   "source": [
    "### LGBMClassifier 특성 중요도 plot"
   ]
  },
  {
   "cell_type": "code",
   "execution_count": 119,
   "metadata": {},
   "outputs": [
    {
     "data": {
      "image/png": "[encoded data removed]",
      "text/plain": [
       "<Figure size 648x648 with 1 Axes>"
      ]
     },
     "metadata": {
      "needs_background": "light"
     },
     "output_type": "display_data"
    }
   ],
   "source": [
    "plot_feature_importances_final_best(LGBC)"
   ]
  },
  {
   "cell_type": "markdown",
   "metadata": {},
   "source": [
    "### RFC(RandomForestClassifier)\n",
    "여러 개의 의사결정나무를 만들고, 그들의 다수결로 결과를 결정하는 방법\n",
    "classification 과 regression 에 모두 쓸 수 있다.  \n",
    "\n",
    "- N-estimator : 랜덤포레스트 안에 만들어지는 의사결정나무 갯수. 트리가 많아지면 속도가 느려지고 너무 트리가 크면 오히려 정확도가 낮아진다. 그러나 일반적으론 트리가 많아질수록 분류를 잘하게 되므로 적절한 trade-off 필요하다.\n",
    "\n",
    "- Max-depth : 랜덤포레스트 안에 있는 각 의사결정나무의 깊이를 설정. 트리가 깊어질수록 더 잘게 분류를 시키므로 일반적으론 정확도가 높아진다.\n",
    "\n",
    "- Min-samples-split : 내부 노드에 데이터를 얼마 만큼씩 최소한 넣을 것인가 설정. 10%~100%로 설정. 100%로 갈수록 underffiting이 일어나서 정확도가 낮아진다. \n",
    "\n",
    "- Min-samples-leaf : 리프 노드에 데이터를 얼마 만큼씩 최소한 넣을 것인가 설정. 10%~100%로 설정. 100%로 갈수록 underffiting이 일어나서 정확도가 낮아진다.\n",
    "\n",
    "- Max-feature : 가장 잘 분류할 feature의 갯수를 설정. max_features 값을 크게 하면 랜덤 포레스트의 트리들은 매우 비슷해지고 가장 두드러진 특성을 이용해 데이터에 잘 맞춰진다. max_features를 낮추면 랜덤 포레스트 트리들은 많이 달라지고 각 트리는 데이터에 맞추기 위해 깊이가 깊어지게 된다.\n",
    "\n"
   ]
  },
  {
   "cell_type": "code",
   "execution_count": 15,
   "metadata": {},
   "outputs": [],
   "source": [
    "from sklearn.ensemble import RandomForestClassifier"
   ]
  },
  {
   "cell_type": "code",
   "execution_count": 16,
   "metadata": {},
   "outputs": [
    {
     "name": "stdout",
     "output_type": "stream",
     "text": [
      "f1 Score : 0.4348\n"
     ]
    },
    {
     "data": {
      "text/plain": [
       "array([[36,  7],\n",
       "       [ 6,  5]], dtype=int64)"
      ]
     },
     "execution_count": 16,
     "metadata": {},
     "output_type": "execute_result"
    }
   ],
   "source": [
    "RFC =RandomForestClassifier(bootstrap=True, ccp_alpha=0.0, class_weight=None,\n",
    "                       criterion='gini', max_depth=None, max_features=20,\n",
    "                       max_leaf_nodes=None, max_samples=None,\n",
    "                       min_impurity_decrease=0.0, min_impurity_split=None,\n",
    "                       min_samples_leaf=1, min_samples_split=2,\n",
    "                       min_weight_fraction_leaf=0.0, n_estimators=30, n_jobs=-1,\n",
    "                       oob_score=False, random_state=1234, verbose=0,\n",
    "                       warm_start=False)\n",
    "\n",
    "RFC.fit(X_train_over, y_train_over)\n",
    "\n",
    "pred_RFC = RFC.predict(X_test)\n",
    "\n",
    "print(\"f1 Score : {0:.4f}\".format(f1_score(y_test,pred_RFC)))\n",
    "\n",
    "confusion_matrix(y_test,pred_RFC)"
   ]
  },
  {
   "cell_type": "markdown",
   "metadata": {},
   "source": [
    "### GridSearchCV로 최적의 파라미터 찾기"
   ]
  },
  {
   "cell_type": "code",
   "execution_count": 18,
   "metadata": {},
   "outputs": [
    {
     "name": "stdout",
     "output_type": "stream",
     "text": [
      "f1 Score : 0.4348\n"
     ]
    },
    {
     "data": {
      "text/plain": [
       "array([[36,  7],\n",
       "       [ 6,  5]], dtype=int64)"
      ]
     },
     "execution_count": 18,
     "metadata": {},
     "output_type": "execute_result"
    }
   ],
   "source": [
    "RF =RandomForestClassifier(random_state =1234, n_jobs=-1)\n",
    "\n",
    "parameters = {\n",
    "    \"n_estimators\" :[10,20,25,30,100],\n",
    "    \"min_samples_leaf\" : [1,2,3,4,5],\n",
    "    \"min_samples_split\" : [2,3,4,5],\n",
    "    \"max_features\" : [5, 10, 20,30,40,50]\n",
    "  \n",
    "}\n",
    "grid_rf = GridSearchCV(RF,\n",
    "                         param_grid=parameters,\n",
    "                         scoring=\"f1\",\n",
    "                         cv=skf,\n",
    "                        n_jobs=-1)\n",
    "grid_rf.fit(X_train_over, y_train_over)\n",
    "\n",
    "pred = grid_rf.predict(X_test)\n",
    "\n",
    "print(\"f1 Score : {0:.4f}\".format(f1_score(y_test,pred)))\n",
    "\n",
    "confusion_matrix(y_test,pred)\n",
    "\n"
   ]
  },
  {
   "cell_type": "code",
   "execution_count": 19,
   "metadata": {},
   "outputs": [
    {
     "data": {
      "text/plain": [
       "RandomForestClassifier(bootstrap=True, ccp_alpha=0.0, class_weight=None,\n",
       "                       criterion='gini', max_depth=None, max_features=20,\n",
       "                       max_leaf_nodes=None, max_samples=None,\n",
       "                       min_impurity_decrease=0.0, min_impurity_split=None,\n",
       "                       min_samples_leaf=1, min_samples_split=2,\n",
       "                       min_weight_fraction_leaf=0.0, n_estimators=30, n_jobs=-1,\n",
       "                       oob_score=False, random_state=1234, verbose=0,\n",
       "                       warm_start=False)"
      ]
     },
     "execution_count": 19,
     "metadata": {},
     "output_type": "execute_result"
    }
   ],
   "source": [
    "grid_rf.best_estimator_"
   ]
  },
  {
   "cell_type": "markdown",
   "metadata": {},
   "source": [
    "### RFC 특성 중요도 Plot"
   ]
  },
  {
   "cell_type": "code",
   "execution_count": 121,
   "metadata": {},
   "outputs": [
    {
     "data": {
      "image/png": "[encoded data removed]",
      "text/plain": [
       "<Figure size 648x648 with 1 Axes>"
      ]
     },
     "metadata": {
      "needs_background": "light"
     },
     "output_type": "display_data"
    }
   ],
   "source": [
    "plot_feature_importances_final_best(RFC)"
   ]
  },
  {
   "cell_type": "markdown",
   "metadata": {},
   "source": [
    "### 특성 중요도 top 7으로만 RFC 돌리기"
   ]
  },
  {
   "cell_type": "code",
   "execution_count": 20,
   "metadata": {},
   "outputs": [
    {
     "data": {
      "text/html": [
       "<div>\n",
       "<style scoped>\n",
       "    .dataframe tbody tr th:only-of-type {\n",
       "        vertical-align: middle;\n",
       "    }\n",
       "\n",
       "    .dataframe tbody tr th {\n",
       "        vertical-align: top;\n",
       "    }\n",
       "\n",
       "    .dataframe thead th {\n",
       "        text-align: right;\n",
       "    }\n",
       "</style>\n",
       "<table border=\"1\" class=\"dataframe\">\n",
       "  <thead>\n",
       "    <tr style=\"text-align: right;\">\n",
       "      <th></th>\n",
       "      <th>index</th>\n",
       "      <th>import</th>\n",
       "      <th>ft</th>\n",
       "    </tr>\n",
       "  </thead>\n",
       "  <tbody>\n",
       "    <tr>\n",
       "      <td>0</td>\n",
       "      <td>7</td>\n",
       "      <td>0.123588</td>\n",
       "      <td>imdbVotes</td>\n",
       "    </tr>\n",
       "    <tr>\n",
       "      <td>1</td>\n",
       "      <td>15</td>\n",
       "      <td>0.118894</td>\n",
       "      <td>Biography</td>\n",
       "    </tr>\n",
       "    <tr>\n",
       "      <td>2</td>\n",
       "      <td>4</td>\n",
       "      <td>0.097988</td>\n",
       "      <td>imdb</td>\n",
       "    </tr>\n",
       "    <tr>\n",
       "      <td>3</td>\n",
       "      <td>2</td>\n",
       "      <td>0.088714</td>\n",
       "      <td>Awards</td>\n",
       "    </tr>\n",
       "    <tr>\n",
       "      <td>4</td>\n",
       "      <td>6</td>\n",
       "      <td>0.075672</td>\n",
       "      <td>Metacr</td>\n",
       "    </tr>\n",
       "    <tr>\n",
       "      <td>5</td>\n",
       "      <td>1</td>\n",
       "      <td>0.074935</td>\n",
       "      <td>Runtime</td>\n",
       "    </tr>\n",
       "    <tr>\n",
       "      <td>6</td>\n",
       "      <td>3</td>\n",
       "      <td>0.073885</td>\n",
       "      <td>nominations</td>\n",
       "    </tr>\n",
       "    <tr>\n",
       "      <td>7</td>\n",
       "      <td>0</td>\n",
       "      <td>0.067810</td>\n",
       "      <td>Gross</td>\n",
       "    </tr>\n",
       "    <tr>\n",
       "      <td>8</td>\n",
       "      <td>5</td>\n",
       "      <td>0.052536</td>\n",
       "      <td>tomato</td>\n",
       "    </tr>\n",
       "    <tr>\n",
       "      <td>9</td>\n",
       "      <td>14</td>\n",
       "      <td>0.046164</td>\n",
       "      <td>Music</td>\n",
       "    </tr>\n",
       "    <tr>\n",
       "      <td>10</td>\n",
       "      <td>31</td>\n",
       "      <td>0.030127</td>\n",
       "      <td>Dec</td>\n",
       "    </tr>\n",
       "    <tr>\n",
       "      <td>11</td>\n",
       "      <td>28</td>\n",
       "      <td>0.024733</td>\n",
       "      <td>War</td>\n",
       "    </tr>\n",
       "    <tr>\n",
       "      <td>12</td>\n",
       "      <td>10</td>\n",
       "      <td>0.024334</td>\n",
       "      <td>Comedy</td>\n",
       "    </tr>\n",
       "    <tr>\n",
       "      <td>13</td>\n",
       "      <td>38</td>\n",
       "      <td>0.011318</td>\n",
       "      <td>Nov</td>\n",
       "    </tr>\n",
       "    <tr>\n",
       "      <td>14</td>\n",
       "      <td>23</td>\n",
       "      <td>0.010827</td>\n",
       "      <td>Romance</td>\n",
       "    </tr>\n",
       "    <tr>\n",
       "      <td>15</td>\n",
       "      <td>20</td>\n",
       "      <td>0.009883</td>\n",
       "      <td>History</td>\n",
       "    </tr>\n",
       "    <tr>\n",
       "      <td>16</td>\n",
       "      <td>33</td>\n",
       "      <td>0.009415</td>\n",
       "      <td>Jan</td>\n",
       "    </tr>\n",
       "    <tr>\n",
       "      <td>17</td>\n",
       "      <td>26</td>\n",
       "      <td>0.007627</td>\n",
       "      <td>Sport</td>\n",
       "    </tr>\n",
       "    <tr>\n",
       "      <td>18</td>\n",
       "      <td>25</td>\n",
       "      <td>0.007285</td>\n",
       "      <td>Adventure</td>\n",
       "    </tr>\n",
       "    <tr>\n",
       "      <td>19</td>\n",
       "      <td>39</td>\n",
       "      <td>0.006818</td>\n",
       "      <td>Oct</td>\n",
       "    </tr>\n",
       "    <tr>\n",
       "      <td>20</td>\n",
       "      <td>22</td>\n",
       "      <td>0.005081</td>\n",
       "      <td>Crime</td>\n",
       "    </tr>\n",
       "    <tr>\n",
       "      <td>21</td>\n",
       "      <td>13</td>\n",
       "      <td>0.004961</td>\n",
       "      <td>Mystery</td>\n",
       "    </tr>\n",
       "    <tr>\n",
       "      <td>22</td>\n",
       "      <td>8</td>\n",
       "      <td>0.004552</td>\n",
       "      <td>Thriller</td>\n",
       "    </tr>\n",
       "    <tr>\n",
       "      <td>23</td>\n",
       "      <td>32</td>\n",
       "      <td>0.004508</td>\n",
       "      <td>Feb</td>\n",
       "    </tr>\n",
       "    <tr>\n",
       "      <td>24</td>\n",
       "      <td>40</td>\n",
       "      <td>0.003847</td>\n",
       "      <td>Sep</td>\n",
       "    </tr>\n",
       "    <tr>\n",
       "      <td>25</td>\n",
       "      <td>34</td>\n",
       "      <td>0.003130</td>\n",
       "      <td>Jul</td>\n",
       "    </tr>\n",
       "    <tr>\n",
       "      <td>26</td>\n",
       "      <td>16</td>\n",
       "      <td>0.001855</td>\n",
       "      <td>Drama</td>\n",
       "    </tr>\n",
       "    <tr>\n",
       "      <td>27</td>\n",
       "      <td>17</td>\n",
       "      <td>0.001815</td>\n",
       "      <td>Western</td>\n",
       "    </tr>\n",
       "    <tr>\n",
       "      <td>28</td>\n",
       "      <td>30</td>\n",
       "      <td>0.001416</td>\n",
       "      <td>Aug</td>\n",
       "    </tr>\n",
       "    <tr>\n",
       "      <td>29</td>\n",
       "      <td>21</td>\n",
       "      <td>0.001386</td>\n",
       "      <td>Action</td>\n",
       "    </tr>\n",
       "    <tr>\n",
       "      <td>30</td>\n",
       "      <td>19</td>\n",
       "      <td>0.001380</td>\n",
       "      <td>Musical</td>\n",
       "    </tr>\n",
       "    <tr>\n",
       "      <td>31</td>\n",
       "      <td>37</td>\n",
       "      <td>0.001333</td>\n",
       "      <td>May</td>\n",
       "    </tr>\n",
       "    <tr>\n",
       "      <td>32</td>\n",
       "      <td>11</td>\n",
       "      <td>0.000994</td>\n",
       "      <td>Fantasy</td>\n",
       "    </tr>\n",
       "    <tr>\n",
       "      <td>33</td>\n",
       "      <td>18</td>\n",
       "      <td>0.000930</td>\n",
       "      <td>Sci-Fi</td>\n",
       "    </tr>\n",
       "    <tr>\n",
       "      <td>34</td>\n",
       "      <td>36</td>\n",
       "      <td>0.000259</td>\n",
       "      <td>Mar</td>\n",
       "    </tr>\n",
       "    <tr>\n",
       "      <td>35</td>\n",
       "      <td>27</td>\n",
       "      <td>0.000000</td>\n",
       "      <td>Horror</td>\n",
       "    </tr>\n",
       "    <tr>\n",
       "      <td>36</td>\n",
       "      <td>29</td>\n",
       "      <td>0.000000</td>\n",
       "      <td>Apr</td>\n",
       "    </tr>\n",
       "    <tr>\n",
       "      <td>37</td>\n",
       "      <td>9</td>\n",
       "      <td>0.000000</td>\n",
       "      <td>Short</td>\n",
       "    </tr>\n",
       "    <tr>\n",
       "      <td>38</td>\n",
       "      <td>24</td>\n",
       "      <td>0.000000</td>\n",
       "      <td>Family</td>\n",
       "    </tr>\n",
       "    <tr>\n",
       "      <td>39</td>\n",
       "      <td>12</td>\n",
       "      <td>0.000000</td>\n",
       "      <td>Animation</td>\n",
       "    </tr>\n",
       "    <tr>\n",
       "      <td>40</td>\n",
       "      <td>35</td>\n",
       "      <td>0.000000</td>\n",
       "      <td>Jun</td>\n",
       "    </tr>\n",
       "  </tbody>\n",
       "</table>\n",
       "</div>"
      ],
      "text/plain": [
       "    index    import           ft\n",
       "0       7  0.123588    imdbVotes\n",
       "1      15  0.118894    Biography\n",
       "2       4  0.097988         imdb\n",
       "3       2  0.088714       Awards\n",
       "4       6  0.075672       Metacr\n",
       "5       1  0.074935      Runtime\n",
       "6       3  0.073885  nominations\n",
       "7       0  0.067810        Gross\n",
       "8       5  0.052536       tomato\n",
       "9      14  0.046164        Music\n",
       "10     31  0.030127          Dec\n",
       "11     28  0.024733          War\n",
       "12     10  0.024334       Comedy\n",
       "13     38  0.011318          Nov\n",
       "14     23  0.010827      Romance\n",
       "15     20  0.009883      History\n",
       "16     33  0.009415          Jan\n",
       "17     26  0.007627        Sport\n",
       "18     25  0.007285    Adventure\n",
       "19     39  0.006818          Oct\n",
       "20     22  0.005081        Crime\n",
       "21     13  0.004961      Mystery\n",
       "22      8  0.004552     Thriller\n",
       "23     32  0.004508          Feb\n",
       "24     40  0.003847          Sep\n",
       "25     34  0.003130          Jul\n",
       "26     16  0.001855        Drama\n",
       "27     17  0.001815      Western\n",
       "28     30  0.001416          Aug\n",
       "29     21  0.001386       Action\n",
       "30     19  0.001380      Musical\n",
       "31     37  0.001333          May\n",
       "32     11  0.000994      Fantasy\n",
       "33     18  0.000930       Sci-Fi\n",
       "34     36  0.000259          Mar\n",
       "35     27  0.000000       Horror\n",
       "36     29  0.000000          Apr\n",
       "37      9  0.000000        Short\n",
       "38     24  0.000000       Family\n",
       "39     12  0.000000    Animation\n",
       "40     35  0.000000          Jun"
      ]
     },
     "execution_count": 20,
     "metadata": {},
     "output_type": "execute_result"
    }
   ],
   "source": [
    "df = pd.DataFrame()\n",
    "df['import']= grid_rf.best_estimator_.feature_importances_\n",
    "df['ft']  = X_train_over.columns\n",
    "df.sort_values('import', ascending=False, inplace = True)\n",
    "df.reset_index(inplace=True)\n",
    "df"
   ]
  },
  {
   "cell_type": "markdown",
   "metadata": {},
   "source": [
    "남우주연상의 특성중요도 중 Biography 장르가 높은 것을 특이하게 알 수 있다."
   ]
  },
  {
   "cell_type": "code",
   "execution_count": 22,
   "metadata": {},
   "outputs": [
    {
     "name": "stdout",
     "output_type": "stream",
     "text": [
      "f1 Score : 0.3636\n"
     ]
    },
    {
     "data": {
      "text/plain": [
       "array([[36,  7],\n",
       "       [ 7,  4]], dtype=int64)"
      ]
     },
     "execution_count": 22,
     "metadata": {},
     "output_type": "execute_result"
    }
   ],
   "source": [
    "RFC1 =RandomForestClassifier(bootstrap=True, ccp_alpha=0.0, class_weight=None,\n",
    "                       criterion='gini', max_depth=None, max_features=8,\n",
    "                       max_leaf_nodes=None, max_samples=None,\n",
    "                       min_impurity_decrease=0.0, min_impurity_split=None,\n",
    "                       min_samples_leaf=1, min_samples_split=3,\n",
    "                       min_weight_fraction_leaf=0.0, n_estimators=30, n_jobs=-1,\n",
    "                       oob_score=False, random_state=1234, verbose=0,\n",
    "                       warm_start=False)\n",
    "\n",
    "RFC1.fit(X_train_over[list(df.loc[:7,'ft'])], y_train_over)\n",
    "\n",
    "pred_RFC1 = RFC1.predict(X_test[list(df.loc[:7,'ft'])])\n",
    "\n",
    "print(\"f1 Score : {0:.4f}\".format(f1_score(y_test,pred_RFC1)))\n",
    "\n",
    "confusion_matrix(y_test,pred_RFC1)"
   ]
  },
  {
   "cell_type": "code",
   "execution_count": 21,
   "metadata": {},
   "outputs": [
    {
     "name": "stdout",
     "output_type": "stream",
     "text": [
      "f1 Score : 0.3636\n"
     ]
    },
    {
     "data": {
      "text/plain": [
       "array([[36,  7],\n",
       "       [ 7,  4]], dtype=int64)"
      ]
     },
     "execution_count": 21,
     "metadata": {},
     "output_type": "execute_result"
    }
   ],
   "source": [
    "RF =RandomForestClassifier(random_state =1234, n_jobs=-1)\n",
    "\n",
    "parameters = {\n",
    "    \"n_estimators\" :[10,20,25,30,100],\n",
    "    \"min_samples_leaf\" : [1,2,3,4,5],\n",
    "    \"min_samples_split\" : [2,3,4,5],\n",
    "    \"max_features\" : [8]\n",
    "  \n",
    "}\n",
    "grid_rf1 = GridSearchCV(RF,\n",
    "                         param_grid=parameters,\n",
    "                         scoring=\"f1\",\n",
    "                         cv=skf,\n",
    "                        n_jobs=-1)\n",
    "\n",
    "grid_rf1.fit(X_train_over[list(df.loc[:7,'ft'])], y_train_over)\n",
    "\n",
    "pred = grid_rf1.predict(X_test[list(df.loc[:7,'ft'])])\n",
    "\n",
    "print(\"f1 Score : {0:.4f}\".format(f1_score(y_test,pred)))\n",
    "\n",
    "confusion_matrix(y_test,pred)\n"
   ]
  },
  {
   "cell_type": "code",
   "execution_count": 124,
   "metadata": {},
   "outputs": [
    {
     "data": {
      "text/plain": [
       "RandomForestClassifier(bootstrap=True, ccp_alpha=0.0, class_weight=None,\n",
       "                       criterion='gini', max_depth=None, max_features=3,\n",
       "                       max_leaf_nodes=None, max_samples=None,\n",
       "                       min_impurity_decrease=0.0, min_impurity_split=None,\n",
       "                       min_samples_leaf=1, min_samples_split=3,\n",
       "                       min_weight_fraction_leaf=0.0, n_estimators=30, n_jobs=-1,\n",
       "                       oob_score=False, random_state=1234, verbose=0,\n",
       "                       warm_start=False)"
      ]
     },
     "execution_count": 124,
     "metadata": {},
     "output_type": "execute_result"
    }
   ],
   "source": [
    "grid_rf1.best_estimator_"
   ]
  },
  {
   "cell_type": "markdown",
   "metadata": {},
   "source": [
    "f1 Score가 0.4348-> 0.3333 로 변화하였다.    \n",
    "특성 중요도가 높은 것들로 모델을 돌렸을 때 항상 성능이 개선되는 것은 아니다. \n",
    "특성 중요도가 높은 feature 8개를 가지고 RandomForest를 돌렸을때, max_features=3 일때 f1 score가 0.3333으로 가장 좋은 성능을 보인다.\n"
   ]
  },
  {
   "cell_type": "markdown",
   "metadata": {},
   "source": [
    "### LogisticRegression\n",
    "* 범주형 변수를 예측하는 회귀모델 \n",
    "* odds(승산) = 발생할 확률 / 발생하지 않을 확률 = p / (1-p)\n",
    "* log Odds ratio\n",
    "* 로짓변환 : y -> log(y/1-y) =log(Odds) = c + ax\n",
    "* sigmoid 함수 \n",
    "* \"독립변수 X에 대한 선형 회귀식을 X가 주어졌을 때의 반응 변수 Y의 로그 오즈에 적합시킨다.\"\n",
    "* \"편의(bias)가 없는 타당한 계수 추정치를 계산할 수 있다.\" -> 불균형한 데이터를 오버샘플링하면 모집단과 특성이 달라지는데 이러면 수치가 달라짐. 로지스틱 회귀는 계수추정치는 변하지 않고 절편만 바뀜. = 편의 없이 계수 추정치를 구하는 방법이다. \n"
   ]
  },
  {
   "cell_type": "code",
   "execution_count": 51,
   "metadata": {},
   "outputs": [],
   "source": [
    "from sklearn.linear_model import LogisticRegression"
   ]
  },
  {
   "cell_type": "code",
   "execution_count": 128,
   "metadata": {},
   "outputs": [
    {
     "name": "stdout",
     "output_type": "stream",
     "text": [
      "f1 score : 0.3448\n"
     ]
    },
    {
     "data": {
      "text/plain": [
       "array([[30, 13],\n",
       "       [ 6,  5]], dtype=int64)"
      ]
     },
     "execution_count": 128,
     "metadata": {},
     "output_type": "execute_result"
    }
   ],
   "source": [
    "LRC = LogisticRegression(C=1.0, class_weight=None, dual=False, fit_intercept=True,\n",
    "                   intercept_scaling=1, l1_ratio=None, max_iter=100,\n",
    "                   multi_class='auto', n_jobs=-1, penalty='l2',\n",
    "                   random_state=1234, solver='newton-cg', tol=0.0001, verbose=0,\n",
    "                   warm_start=False)\n",
    "LRC.fit(X_train_over, y_train_over)\n",
    "pred_LRC = LRC.predict(X_test)\n",
    "print(\"f1 score : {0:.4f}\".format(f1_score(y_test,pred_LRC)))\n",
    "confusion_matrix(y_test,pred_LRC)"
   ]
  },
  {
   "cell_type": "markdown",
   "metadata": {},
   "source": [
    "### GridSearchCV로 최적의 파라미터 찾기"
   ]
  },
  {
   "cell_type": "code",
   "execution_count": 126,
   "metadata": {},
   "outputs": [
    {
     "name": "stdout",
     "output_type": "stream",
     "text": [
      "f1 Score : 0.3448\n"
     ]
    },
    {
     "data": {
      "text/plain": [
       "array([[30, 13],\n",
       "       [ 6,  5]], dtype=int64)"
      ]
     },
     "execution_count": 126,
     "metadata": {},
     "output_type": "execute_result"
    }
   ],
   "source": [
    "LR =LogisticRegression(random_state =1234, n_jobs=-1)\n",
    "\n",
    "parameters = {\n",
    "     \"penalty\" : ['l1', 'l2', 'elasticnet', 'none'],\n",
    "    \"solver\" : ['newton-cg', 'lbfgs', 'liblinear', 'sag', 'saga']\n",
    "  \n",
    "}\n",
    "grid_lr = GridSearchCV(LR,\n",
    "                         param_grid=parameters,\n",
    "                         scoring=\"f1\",\n",
    "                         cv=skf,\n",
    "                        n_jobs=-1)\n",
    "grid_lr.fit(X_train_over, y_train_over)\n",
    "\n",
    "pred = grid_lr.predict(X_test)\n",
    "\n",
    "print(\"f1 Score : {0:.4f}\".format(f1_score(y_test,pred)))\n",
    "\n",
    "confusion_matrix(y_test,pred)\n",
    "\n"
   ]
  },
  {
   "cell_type": "code",
   "execution_count": 127,
   "metadata": {},
   "outputs": [
    {
     "data": {
      "text/plain": [
       "LogisticRegression(C=1.0, class_weight=None, dual=False, fit_intercept=True,\n",
       "                   intercept_scaling=1, l1_ratio=None, max_iter=100,\n",
       "                   multi_class='auto', n_jobs=-1, penalty='l2',\n",
       "                   random_state=1234, solver='newton-cg', tol=0.0001, verbose=0,\n",
       "                   warm_start=False)"
      ]
     },
     "execution_count": 127,
     "metadata": {},
     "output_type": "execute_result"
    }
   ],
   "source": [
    "grid_lr.best_estimator_"
   ]
  },
  {
   "cell_type": "markdown",
   "metadata": {},
   "source": [
    "### SVM(Support Vector Machine)\n",
    "\n",
    "* 분류 경계선의 margin을 maxium으로 만드는 모델 \n",
    "* '선'을 넘어서 '면'으로도 분류 경계선을 만들 수 있다. -> 시간이 오래걸림\n",
    "* 복잡한 비선형의 의사결정영역을 모형화 할 수 있기 때문에 매우 정확하고, 다른 모델보다 오버피팅되는 경향이 적다.  \n",
    "#  \n",
    "* hard : 전부 철저하게 분리. 현실적으로 어렵다. -> soft 벡터 마진이 나옴\n",
    "* soft : 여유 변수(slack variable)을 둔다. 약간의 오류를 인정함.   \n",
    "#  \n",
    "* 로버스트(robust)하다= 아웃라이어(outlier)의 영향을 받지 않는다는 뜻 -> 마진이 크면 robustness도 최대가 됨  \n",
    "#  \n",
    "* 커널 트릭(Kernel Trick) = 저차원 공간(low dimensional space)을 고차원 공간(high dimensional space)으로 매핑해주는 작업. 고차원에서 선형라인을 구해서 저차원에 맵핑. 저차원에서 비선형 라인을 구한다. \n",
    "* kernel parameter : linear, polynomial, sigmoid, rbf 등  \n",
    "* C : Controls tradeoff detween smooth decision boundary and classfying training points correctly. 얼마나 오차를 허용할 건지...C가 크면 구불구불...\n",
    "* Gamma: Defines how far the influence of a single training point reaches . reach = 결정선의 굴곡에 영향을 주는 데이터 범위.  \n",
    "감마가 크다 = reach가 작다. 경계선이 더 구불구불... 경계선에 가까운 포인트들만 영향을 준다 -> 하나의 영향력이 큼 -> 구불구불\n",
    "감마가 작다 = reach가 멀다. 경계선이 직선에 가까움. 포인트 하나하나가 모두 경계선에 영향을 준다 -> 하나의 영향력이 크지 않다. -> 직선이다.\n",
    "* kernel, C, gamma 값을 튜닝하는게 포인트!!!"
   ]
  },
  {
   "cell_type": "code",
   "execution_count": 58,
   "metadata": {},
   "outputs": [],
   "source": [
    "from sklearn.svm import SVC"
   ]
  },
  {
   "cell_type": "code",
   "execution_count": 147,
   "metadata": {},
   "outputs": [
    {
     "name": "stdout",
     "output_type": "stream",
     "text": [
      "f1 score : 0.2222\n"
     ]
    },
    {
     "data": {
      "text/plain": [
       "array([[30, 13],\n",
       "       [ 8,  3]], dtype=int64)"
      ]
     },
     "execution_count": 147,
     "metadata": {},
     "output_type": "execute_result"
    }
   ],
   "source": [
    "from sklearn.svm import SVC\n",
    "SVC = SVC(C=10, break_ties=False, cache_size=200, class_weight=None, coef0=0.0,\n",
    "    decision_function_shape='ovr', degree=3, gamma='auto', kernel='rbf',\n",
    "    max_iter=-1, probability=True, random_state=1234, shrinking=True,\n",
    "    tol=0.001, verbose=False) \n",
    "SVC.fit(X_train_over,y_train_over)\n",
    "pred_SVC = SVC.predict(X_test)\n",
    "\n",
    "print(\"f1 score : {0:.4f}\".format(f1_score(y_test,pred_SVC)))\n",
    "confusion_matrix(y_test,pred_SVC)"
   ]
  },
  {
   "cell_type": "markdown",
   "metadata": {},
   "source": [
    "### GridSearchCV로 최적의 파라미터 찾기"
   ]
  },
  {
   "cell_type": "code",
   "execution_count": 59,
   "metadata": {},
   "outputs": [
    {
     "name": "stdout",
     "output_type": "stream",
     "text": [
      "f1 Score : 0.2222\n"
     ]
    },
    {
     "data": {
      "text/plain": [
       "array([[30, 13],\n",
       "       [ 8,  3]], dtype=int64)"
      ]
     },
     "execution_count": 59,
     "metadata": {},
     "output_type": "execute_result"
    }
   ],
   "source": [
    "SV =SVC(random_state =1234)\n",
    "\n",
    "parameters = {\n",
    "     \"kernel\" : [ 'linear', 'poly', 'sigmoid', 'rbf'],\n",
    "    \"C\" : [2,5,10,4],\n",
    "    \"gamma\" :['scale', 'auto']\n",
    "  \n",
    "}\n",
    "grid_sv = GridSearchCV(SV,\n",
    "                         param_grid=parameters,\n",
    "                         scoring=\"f1\",\n",
    "                         cv=skf,\n",
    "                        n_jobs=-1)\n",
    "grid_sv.fit(X_train_over, y_train_over)\n",
    "\n",
    "pred = grid_sv.predict(X_test)\n",
    "\n",
    "print(\"f1 Score : {0:.4f}\".format(f1_score(y_test,pred)))\n",
    "\n",
    "confusion_matrix(y_test,pred)\n",
    "\n"
   ]
  },
  {
   "cell_type": "code",
   "execution_count": 130,
   "metadata": {},
   "outputs": [
    {
     "data": {
      "text/plain": [
       "SVC(C=10, break_ties=False, cache_size=200, class_weight=None, coef0=0.0,\n",
       "    decision_function_shape='ovr', degree=3, gamma='auto', kernel='rbf',\n",
       "    max_iter=-1, probability=False, random_state=1234, shrinking=True,\n",
       "    tol=0.001, verbose=False)"
      ]
     },
     "execution_count": 130,
     "metadata": {},
     "output_type": "execute_result"
    }
   ],
   "source": [
    "grid_sv.best_estimator_"
   ]
  },
  {
   "cell_type": "markdown",
   "metadata": {},
   "source": [
    "### DNN\n",
    "* activation : 활성화 함수 설정합니다.  \n",
    "    -‘linear’ : 디폴트 값, 입력뉴런과 가중치로 계산된 결과값이 그대로 출력으로 나옵니다.  \n",
    "    -‘relu’ : rectifier 함수, 은익층에 주로 쓰입니다.  \n",
    "    -‘sigmoid’ : 시그모이드 함수, 이진 분류 문제에서 출력층에 주로 쓰입니다.  \n",
    "    -‘softmax’ : 소프트맥스 함수, 다중 클래스 분류 문제에서 출력층에 주로 쓰입니다.  \n",
    "\n",
    "* categorical_crossentropy : 다중 분류 손실함수. one-hot encoding 클래스. 확률로 나타냄 [0.2,0.3,0.5]\n",
    "* sparse_categorical_crossentropy : 다중 분류 손실함수. categorical과 비슷하나 integer type 클래스다. [1,2,3]\n",
    "* binary_crossentropy : 0,1 분류. activation을 sigmoid 사용해야함. \n"
   ]
  },
  {
   "cell_type": "markdown",
   "metadata": {},
   "source": [
    "<img src = \"./img/activation.png\">"
   ]
  },
  {
   "cell_type": "code",
   "execution_count": 61,
   "metadata": {},
   "outputs": [],
   "source": [
    "# 3.4 텐서플로 2.0 버전 선택\n",
    "try:\n",
    "    # %tensorflow_version only exists in Colab.\n",
    "    %tensorflow_version 2.x\n",
    "except Exception:\n",
    "    pass\n",
    "import tensorflow as tf\n",
    "import os"
   ]
  },
  {
   "cell_type": "code",
   "execution_count": 62,
   "metadata": {},
   "outputs": [],
   "source": [
    "X_train_over_np= X_train_over.to_numpy()\n",
    "y_train_over_np =y_train_over.to_numpy()\n"
   ]
  },
  {
   "cell_type": "code",
   "execution_count": 63,
   "metadata": {},
   "outputs": [],
   "source": [
    "X_test_np = X_test.to_numpy()\n",
    "y_test_np = y_test.to_numpy()"
   ]
  },
  {
   "cell_type": "code",
   "execution_count": 64,
   "metadata": {},
   "outputs": [],
   "source": [
    "y_train_over_np = tf.keras.utils.to_categorical(y_train_over_np, num_classes=2)\n",
    "y_test_np = tf.keras.utils.to_categorical(y_test_np, num_classes=2)"
   ]
  },
  {
   "cell_type": "code",
   "execution_count": 65,
   "metadata": {},
   "outputs": [],
   "source": [
    "from keras import backend as K\n",
    "def recall(y_target, y_pred):\n",
    "    # clip(t, clip_value_min, clip_value_max) : clip_value_min~clip_value_max 이외 가장자리를 깎아 낸다\n",
    "    # round : 반올림한다\n",
    "    y_target_yn = K.round(K.clip(y_target, 0, 1)) # 실제값을 0(Negative) 또는 1(Positive)로 설정한다\n",
    "    y_pred_yn = K.round(K.clip(y_pred, 0, 1)) # 예측값을 0(Negative) 또는 1(Positive)로 설정한다\n",
    "\n",
    "    # True Positive는 실제 값과 예측 값이 모두 1(Positive)인 경우이다\n",
    "    count_true_positive = K.sum(y_target_yn * y_pred_yn) \n",
    "\n",
    "    # (True Positive + False Negative) = 실제 값이 1(Positive) 전체\n",
    "    count_true_positive_false_negative = K.sum(y_target_yn)\n",
    "\n",
    "    # Recall =  (True Positive) / (True Positive + False Negative)\n",
    "    # K.epsilon()는 'divide by zero error' 예방차원에서 작은 수를 더한다\n",
    "    recall = count_true_positive / (count_true_positive_false_negative + K.epsilon())\n",
    "\n",
    "    # return a single tensor value\n",
    "    return recall\n",
    "\n",
    "\n",
    "def precision(y_target, y_pred):\n",
    "    # clip(t, clip_value_min, clip_value_max) : clip_value_min~clip_value_max 이외 가장자리를 깎아 낸다\n",
    "    # round : 반올림한다\n",
    "    y_pred_yn = K.round(K.clip(y_pred, 0, 1)) # 예측값을 0(Negative) 또는 1(Positive)로 설정한다\n",
    "    y_target_yn = K.round(K.clip(y_target, 0, 1)) # 실제값을 0(Negative) 또는 1(Positive)로 설정한다\n",
    "\n",
    "    # True Positive는 실제 값과 예측 값이 모두 1(Positive)인 경우이다\n",
    "    count_true_positive = K.sum(y_target_yn * y_pred_yn) \n",
    "\n",
    "    # (True Positive + False Positive) = 예측 값이 1(Positive) 전체\n",
    "    count_true_positive_false_positive = K.sum(y_pred_yn)\n",
    "\n",
    "    # Precision = (True Positive) / (True Positive + False Positive)\n",
    "    # K.epsilon()는 'divide by zero error' 예방차원에서 작은 수를 더한다\n",
    "    precision = count_true_positive / (count_true_positive_false_positive + K.epsilon())\n",
    "\n",
    "    # return a single tensor value\n",
    "    return precision\n",
    "\n",
    "\n",
    "def f1score(y_target, y_pred):\n",
    "    _recall = recall(y_target, y_pred)\n",
    "    _precision = precision(y_target, y_pred)\n",
    "    # K.epsilon()는 'divide by zero error' 예방차원에서 작은 수를 더한다\n",
    "    _f1score = ( 2 * _recall * _precision) / (_recall + _precision+ K.epsilon())\n",
    "    \n",
    "    # return a single tensor value\n",
    "    return _f1score"
   ]
  },
  {
   "cell_type": "code",
   "execution_count": 139,
   "metadata": {},
   "outputs": [
    {
     "name": "stdout",
     "output_type": "stream",
     "text": [
      "Train on 193 samples, validate on 65 samples\n",
      "Epoch 1/100\n",
      " 64/193 [========>.....................] - ETA: 3s - loss: 1.9538 - accuracy: 0.4531 - f1score: 0.4531\n",
      "Epoch 00001: saving model to training_4/cp-0001.ckpt\n",
      "193/193 [==============================] - 2s 11ms/sample - loss: 1.9573 - accuracy: 0.4508 - f1score: 0.3398 - val_loss: 0.8201 - val_accuracy: 0.3077 - val_f1score: 0.1562\n",
      "Epoch 2/100\n",
      " 64/193 [========>.....................] - ETA: 0s - loss: 1.8182 - accuracy: 0.5469 - f1score: 0.5469\n",
      "Epoch 00002: saving model to training_4/cp-0002.ckpt\n",
      "193/193 [==============================] - 0s 373us/sample - loss: 2.0073 - accuracy: 0.4767 - f1score: 0.6055 - val_loss: 1.1328 - val_accuracy: 0.0000e+00 - val_f1score: 0.0000e+00\n",
      "Epoch 3/100\n",
      " 64/193 [========>.....................] - ETA: 0s - loss: 1.9166 - accuracy: 0.5156 - f1score: 0.5156\n",
      "Epoch 00003: saving model to training_4/cp-0003.ckpt\n",
      "193/193 [==============================] - 0s 415us/sample - loss: 1.5028 - accuracy: 0.5492 - f1score: 0.4141 - val_loss: 1.2753 - val_accuracy: 0.0000e+00 - val_f1score: 0.0000e+00\n",
      "Epoch 4/100\n",
      " 64/193 [========>.....................] - ETA: 0s - loss: 1.7942 - accuracy: 0.5156 - f1score: 0.5156\n",
      "Epoch 00004: saving model to training_4/cp-0004.ckpt\n",
      "193/193 [==============================] - 0s 409us/sample - loss: 1.5044 - accuracy: 0.4922 - f1score: 0.3711 - val_loss: 1.3799 - val_accuracy: 0.0000e+00 - val_f1score: 0.0000e+00\n",
      "Epoch 5/100\n",
      " 64/193 [========>.....................] - ETA: 0s - loss: 2.2866 - accuracy: 0.6250 - f1score: 0.6250\n",
      "Epoch 00005: saving model to training_4/cp-0005.ckpt\n",
      "193/193 [==============================] - 0s 420us/sample - loss: 1.7952 - accuracy: 0.5181 - f1score: 0.6367 - val_loss: 1.4078 - val_accuracy: 0.0000e+00 - val_f1score: 0.0000e+00\n",
      "Epoch 6/100\n",
      " 64/193 [========>.....................] - ETA: 0s - loss: 1.1511 - accuracy: 0.5938 - f1score: 0.5937\n",
      "Epoch 00006: saving model to training_4/cp-0006.ckpt\n",
      "193/193 [==============================] - 0s 394us/sample - loss: 1.2230 - accuracy: 0.5803 - f1score: 0.6836 - val_loss: 1.4891 - val_accuracy: 0.0000e+00 - val_f1score: 0.0000e+00\n",
      "Epoch 7/100\n",
      " 64/193 [========>.....................] - ETA: 0s - loss: 1.6333 - accuracy: 0.5938 - f1score: 0.5937\n",
      "Epoch 00007: saving model to training_4/cp-0007.ckpt\n",
      "193/193 [==============================] - 0s 394us/sample - loss: 1.2995 - accuracy: 0.6269 - f1score: 0.4727 - val_loss: 1.5413 - val_accuracy: 0.0000e+00 - val_f1score: 0.0000e+00\n",
      "Epoch 8/100\n",
      " 64/193 [========>.....................] - ETA: 0s - loss: 0.9880 - accuracy: 0.7031 - f1score: 0.7031\n",
      "Epoch 00008: saving model to training_4/cp-0008.ckpt\n",
      "193/193 [==============================] - 0s 503us/sample - loss: 1.2703 - accuracy: 0.6373 - f1score: 0.7266 - val_loss: 1.5489 - val_accuracy: 0.0000e+00 - val_f1score: 0.0000e+00\n",
      "Epoch 9/100\n",
      " 64/193 [========>.....................] - ETA: 0s - loss: 2.0601 - accuracy: 0.5469 - f1score: 0.5469\n",
      "Epoch 00009: saving model to training_4/cp-0009.ckpt\n",
      "193/193 [==============================] - 0s 368us/sample - loss: 1.3537 - accuracy: 0.5959 - f1score: 0.6953 - val_loss: 1.5115 - val_accuracy: 0.0000e+00 - val_f1score: 0.0000e+00\n",
      "Epoch 10/100\n",
      " 64/193 [========>.....................] - ETA: 0s - loss: 0.9004 - accuracy: 0.7031 - f1score: 0.7031\n",
      "Epoch 00010: saving model to training_4/cp-0010.ckpt\n",
      "193/193 [==============================] - 0s 389us/sample - loss: 1.3946 - accuracy: 0.6114 - f1score: 0.7070 - val_loss: 1.4376 - val_accuracy: 0.0000e+00 - val_f1score: 0.0000e+00\n",
      "Epoch 11/100\n",
      " 64/193 [========>.....................] - ETA: 0s - loss: 1.3232 - accuracy: 0.6406 - f1score: 0.6406\n",
      "Epoch 00011: saving model to training_4/cp-0011.ckpt\n",
      "193/193 [==============================] - 0s 378us/sample - loss: 1.2036 - accuracy: 0.6166 - f1score: 0.7109 - val_loss: 1.5174 - val_accuracy: 0.0000e+00 - val_f1score: 0.0000e+00\n",
      "Epoch 12/100\n",
      " 64/193 [========>.....................] - ETA: 0s - loss: 1.4408 - accuracy: 0.5469 - f1score: 0.5469\n",
      "Epoch 00012: saving model to training_4/cp-0012.ckpt\n",
      "193/193 [==============================] - 0s 394us/sample - loss: 1.1604 - accuracy: 0.6373 - f1score: 0.7266 - val_loss: 1.4860 - val_accuracy: 0.0000e+00 - val_f1score: 0.0000e+00\n",
      "Epoch 13/100\n",
      " 64/193 [========>.....................] - ETA: 0s - loss: 1.3691 - accuracy: 0.6250 - f1score: 0.6250\n",
      "Epoch 00013: saving model to training_4/cp-0013.ckpt\n",
      "193/193 [==============================] - 0s 373us/sample - loss: 1.2392 - accuracy: 0.5907 - f1score: 0.6914 - val_loss: 1.3692 - val_accuracy: 0.0000e+00 - val_f1score: 0.0000e+00\n",
      "Epoch 14/100\n",
      " 64/193 [========>.....................] - ETA: 0s - loss: 1.2341 - accuracy: 0.5469 - f1score: 0.5469\n",
      "Epoch 00014: saving model to training_4/cp-0014.ckpt\n",
      "193/193 [==============================] - 0s 404us/sample - loss: 1.0314 - accuracy: 0.6114 - f1score: 0.4609 - val_loss: 1.3714 - val_accuracy: 0.0000e+00 - val_f1score: 0.0000e+00\n",
      "Epoch 15/100\n",
      " 64/193 [========>.....................] - ETA: 0s - loss: 1.1050 - accuracy: 0.6250 - f1score: 0.6250\n",
      "Epoch 00015: saving model to training_4/cp-0015.ckpt\n",
      "193/193 [==============================] - 0s 420us/sample - loss: 0.9967 - accuracy: 0.6425 - f1score: 0.4844 - val_loss: 1.1276 - val_accuracy: 0.0000e+00 - val_f1score: 0.0000e+00\n",
      "Epoch 16/100\n",
      " 64/193 [========>.....................] - ETA: 0s - loss: 1.1725 - accuracy: 0.6719 - f1score: 0.6719\n",
      "Epoch 00016: saving model to training_4/cp-0016.ckpt\n",
      "193/193 [==============================] - 0s 435us/sample - loss: 1.2006 - accuracy: 0.6062 - f1score: 0.4570 - val_loss: 1.1611 - val_accuracy: 0.0000e+00 - val_f1score: 0.0000e+00\n",
      "Epoch 17/100\n",
      " 64/193 [========>.....................] - ETA: 0s - loss: 0.7852 - accuracy: 0.7188 - f1score: 0.7187\n",
      "Epoch 00017: saving model to training_4/cp-0017.ckpt\n",
      "193/193 [==============================] - 0s 404us/sample - loss: 0.8677 - accuracy: 0.6943 - f1score: 0.5234 - val_loss: 1.3119 - val_accuracy: 0.0000e+00 - val_f1score: 0.0000e+00\n",
      "Epoch 18/100\n",
      " 64/193 [========>.....................] - ETA: 0s - loss: 0.7853 - accuracy: 0.7031 - f1score: 0.7031\n",
      "Epoch 00018: saving model to training_4/cp-0018.ckpt\n",
      "193/193 [==============================] - 0s 404us/sample - loss: 1.0189 - accuracy: 0.6477 - f1score: 0.7344 - val_loss: 1.2778 - val_accuracy: 0.0000e+00 - val_f1score: 0.0000e+00\n",
      "Epoch 19/100\n",
      " 64/193 [========>.....................] - ETA: 0s - loss: 1.0908 - accuracy: 0.6406 - f1score: 0.6406\n",
      "Epoch 00019: saving model to training_4/cp-0019.ckpt\n",
      "193/193 [==============================] - 0s 399us/sample - loss: 0.9546 - accuracy: 0.6062 - f1score: 0.4570 - val_loss: 1.1434 - val_accuracy: 0.0000e+00 - val_f1score: 0.0000e+00\n",
      "Epoch 20/100\n",
      " 64/193 [========>.....................] - ETA: 0s - loss: 0.9977 - accuracy: 0.5781 - f1score: 0.5781\n",
      "Epoch 00020: saving model to training_4/cp-0020.ckpt\n",
      "193/193 [==============================] - 0s 389us/sample - loss: 1.0363 - accuracy: 0.6580 - f1score: 0.7422 - val_loss: 1.1178 - val_accuracy: 0.0000e+00 - val_f1score: 0.0000e+00\n",
      "Epoch 21/100\n",
      " 64/193 [========>.....................] - ETA: 0s - loss: 0.8449 - accuracy: 0.6719 - f1score: 0.6719\n",
      "Epoch 00021: saving model to training_4/cp-0021.ckpt\n",
      "193/193 [==============================] - 0s 446us/sample - loss: 0.8976 - accuracy: 0.6373 - f1score: 0.7266 - val_loss: 1.1141 - val_accuracy: 0.0000e+00 - val_f1score: 0.0000e+00\n",
      "Epoch 22/100\n",
      " 64/193 [========>.....................] - ETA: 0s - loss: 0.8502 - accuracy: 0.6875 - f1score: 0.6875\n",
      "Epoch 00022: saving model to training_4/cp-0022.ckpt\n",
      "193/193 [==============================] - 0s 415us/sample - loss: 0.9215 - accuracy: 0.6477 - f1score: 0.4883 - val_loss: 1.0328 - val_accuracy: 0.0000e+00 - val_f1score: 0.0000e+00\n",
      "Epoch 23/100\n",
      " 64/193 [========>.....................] - ETA: 0s - loss: 0.8208 - accuracy: 0.6562 - f1score: 0.6562\n",
      "Epoch 00023: saving model to training_4/cp-0023.ckpt\n",
      "193/193 [==============================] - 0s 368us/sample - loss: 0.8758 - accuracy: 0.6528 - f1score: 0.4922 - val_loss: 1.0403 - val_accuracy: 0.0000e+00 - val_f1score: 0.0000e+00\n",
      "Epoch 24/100\n",
      " 64/193 [========>.....................] - ETA: 0s - loss: 0.7102 - accuracy: 0.7500 - f1score: 0.7500\n",
      "Epoch 00024: saving model to training_4/cp-0024.ckpt\n",
      "193/193 [==============================] - 0s 373us/sample - loss: 0.7925 - accuracy: 0.6632 - f1score: 0.7461 - val_loss: 1.0016 - val_accuracy: 0.0923 - val_f1score: 0.0469\n",
      "Epoch 25/100\n",
      " 64/193 [========>.....................] - ETA: 0s - loss: 0.8405 - accuracy: 0.6562 - f1score: 0.6562\n",
      "Epoch 00025: saving model to training_4/cp-0025.ckpt\n",
      "193/193 [==============================] - 0s 420us/sample - loss: 0.8288 - accuracy: 0.6684 - f1score: 0.5039 - val_loss: 0.8986 - val_accuracy: 0.4154 - val_f1score: 0.2109\n",
      "Epoch 26/100\n",
      " 64/193 [========>.....................] - ETA: 0s - loss: 1.1482 - accuracy: 0.6562 - f1score: 0.6562\n",
      "Epoch 00026: saving model to training_4/cp-0026.ckpt\n",
      "193/193 [==============================] - 0s 477us/sample - loss: 0.8961 - accuracy: 0.6736 - f1score: 0.7539 - val_loss: 0.9142 - val_accuracy: 0.3692 - val_f1score: 0.1875\n",
      "Epoch 27/100\n",
      " 64/193 [========>.....................] - ETA: 0s - loss: 0.8251 - accuracy: 0.6250 - f1score: 0.6250\n",
      "Epoch 00027: saving model to training_4/cp-0027.ckpt\n",
      "193/193 [==============================] - 0s 446us/sample - loss: 0.8276 - accuracy: 0.6684 - f1score: 0.7500 - val_loss: 0.8726 - val_accuracy: 0.4923 - val_f1score: 0.2500\n",
      "Epoch 28/100\n",
      " 64/193 [========>.....................] - ETA: 0s - loss: 1.1055 - accuracy: 0.6250 - f1score: 0.6250\n",
      "Epoch 00028: saving model to training_4/cp-0028.ckpt\n",
      "193/193 [==============================] - 0s 425us/sample - loss: 1.0727 - accuracy: 0.5907 - f1score: 0.4453 - val_loss: 0.8806 - val_accuracy: 0.4923 - val_f1score: 0.2500\n",
      "Epoch 29/100\n",
      " 64/193 [========>.....................] - ETA: 0s - loss: 1.3118 - accuracy: 0.5156 - f1score: 0.5156\n",
      "Epoch 00029: saving model to training_4/cp-0029.ckpt\n",
      "193/193 [==============================] - 0s 420us/sample - loss: 0.9788 - accuracy: 0.6114 - f1score: 0.4609 - val_loss: 0.8730 - val_accuracy: 0.4615 - val_f1score: 0.2344\n",
      "Epoch 30/100\n",
      " 64/193 [========>.....................] - ETA: 0s - loss: 0.7776 - accuracy: 0.5938 - f1score: 0.5937\n",
      "Epoch 00030: saving model to training_4/cp-0030.ckpt\n",
      "193/193 [==============================] - 0s 420us/sample - loss: 0.7604 - accuracy: 0.6580 - f1score: 0.4961 - val_loss: 0.9606 - val_accuracy: 0.1692 - val_f1score: 0.0859\n",
      "Epoch 31/100\n",
      " 64/193 [========>.....................] - ETA: 0s - loss: 0.7900 - accuracy: 0.6094 - f1score: 0.6094\n",
      "Epoch 00031: saving model to training_4/cp-0031.ckpt\n",
      "193/193 [==============================] - 0s 409us/sample - loss: 0.7601 - accuracy: 0.6425 - f1score: 0.7305 - val_loss: 1.0154 - val_accuracy: 0.0000e+00 - val_f1score: 0.0000e+00\n",
      "Epoch 32/100\n",
      " 64/193 [========>.....................] - ETA: 0s - loss: 0.8951 - accuracy: 0.6094 - f1score: 0.6094\n",
      "Epoch 00032: saving model to training_4/cp-0032.ckpt\n",
      "193/193 [==============================] - 0s 420us/sample - loss: 0.9138 - accuracy: 0.6373 - f1score: 0.4805 - val_loss: 0.9050 - val_accuracy: 0.3385 - val_f1score: 0.1719\n",
      "Epoch 33/100\n",
      " 64/193 [========>.....................] - ETA: 0s - loss: 0.9105 - accuracy: 0.5938 - f1score: 0.5937\n",
      "Epoch 00033: saving model to training_4/cp-0033.ckpt\n",
      "193/193 [==============================] - 0s 409us/sample - loss: 0.9287 - accuracy: 0.5959 - f1score: 0.4492 - val_loss: 0.9467 - val_accuracy: 0.1692 - val_f1score: 0.0859\n",
      "Epoch 34/100\n",
      " 64/193 [========>.....................] - ETA: 0s - loss: 0.8477 - accuracy: 0.5938 - f1score: 0.5937\n",
      "Epoch 00034: saving model to training_4/cp-0034.ckpt\n",
      "193/193 [==============================] - 0s 430us/sample - loss: 0.8594 - accuracy: 0.5907 - f1score: 0.4453 - val_loss: 0.9478 - val_accuracy: 0.1692 - val_f1score: 0.0859\n",
      "Epoch 35/100\n",
      " 64/193 [========>.....................] - ETA: 0s - loss: 0.8944 - accuracy: 0.5938 - f1score: 0.5937\n",
      "Epoch 00035: saving model to training_4/cp-0035.ckpt\n",
      "193/193 [==============================] - 0s 420us/sample - loss: 0.8816 - accuracy: 0.5959 - f1score: 0.6953 - val_loss: 0.9680 - val_accuracy: 0.0923 - val_f1score: 0.0469\n",
      "Epoch 36/100\n",
      " 64/193 [========>.....................] - ETA: 0s - loss: 0.8945 - accuracy: 0.6094 - f1score: 0.6094\n",
      "Epoch 00036: saving model to training_4/cp-0036.ckpt\n",
      "193/193 [==============================] - 0s 399us/sample - loss: 0.7715 - accuracy: 0.6839 - f1score: 0.7617 - val_loss: 0.9828 - val_accuracy: 0.0462 - val_f1score: 0.0234\n",
      "Epoch 37/100\n",
      " 64/193 [========>.....................] - ETA: 0s - loss: 0.7384 - accuracy: 0.6719 - f1score: 0.6719\n",
      "Epoch 00037: saving model to training_4/cp-0037.ckpt\n",
      "193/193 [==============================] - 0s 420us/sample - loss: 0.8233 - accuracy: 0.6218 - f1score: 0.7148 - val_loss: 0.9831 - val_accuracy: 0.1231 - val_f1score: 0.0625\n",
      "Epoch 38/100\n",
      " 64/193 [========>.....................] - ETA: 0s - loss: 0.7103 - accuracy: 0.6875 - f1score: 0.6875\n",
      "Epoch 00038: saving model to training_4/cp-0038.ckpt\n",
      "193/193 [==============================] - 0s 404us/sample - loss: 0.7222 - accuracy: 0.6736 - f1score: 0.5078 - val_loss: 1.0313 - val_accuracy: 0.0000e+00 - val_f1score: 0.0000e+00\n",
      "Epoch 39/100\n",
      " 64/193 [========>.....................] - ETA: 0s - loss: 0.7427 - accuracy: 0.7188 - f1score: 0.7187\n",
      "Epoch 00039: saving model to training_4/cp-0039.ckpt\n",
      "193/193 [==============================] - 0s 399us/sample - loss: 0.7546 - accuracy: 0.6684 - f1score: 0.5039 - val_loss: 1.0152 - val_accuracy: 0.0000e+00 - val_f1score: 0.0000e+00\n",
      "Epoch 40/100\n",
      " 64/193 [========>.....................] - ETA: 0s - loss: 0.8986 - accuracy: 0.5625 - f1score: 0.5625\n",
      "Epoch 00040: saving model to training_4/cp-0040.ckpt\n",
      "193/193 [==============================] - 0s 420us/sample - loss: 0.8721 - accuracy: 0.6010 - f1score: 0.6992 - val_loss: 1.0130 - val_accuracy: 0.0154 - val_f1score: 0.0078\n",
      "Epoch 41/100\n",
      " 64/193 [========>.....................] - ETA: 0s - loss: 0.8675 - accuracy: 0.6562 - f1score: 0.6562\n",
      "Epoch 00041: saving model to training_4/cp-0041.ckpt\n",
      "193/193 [==============================] - 0s 394us/sample - loss: 0.8236 - accuracy: 0.6425 - f1score: 0.7305 - val_loss: 1.0248 - val_accuracy: 0.0000e+00 - val_f1score: 0.0000e+00\n",
      "Epoch 42/100\n",
      " 64/193 [========>.....................] - ETA: 0s - loss: 0.8323 - accuracy: 0.6094 - f1score: 0.6094\n",
      "Epoch 00042: saving model to training_4/cp-0042.ckpt\n",
      "193/193 [==============================] - 0s 409us/sample - loss: 0.8315 - accuracy: 0.6632 - f1score: 0.7461 - val_loss: 0.9786 - val_accuracy: 0.1846 - val_f1score: 0.0937\n",
      "Epoch 43/100\n",
      " 64/193 [========>.....................] - ETA: 0s - loss: 0.7652 - accuracy: 0.6875 - f1score: 0.6875\n",
      "Epoch 00043: saving model to training_4/cp-0043.ckpt\n",
      "193/193 [==============================] - 0s 446us/sample - loss: 0.8515 - accuracy: 0.6010 - f1score: 0.4531 - val_loss: 1.0025 - val_accuracy: 0.1385 - val_f1score: 0.0703\n",
      "Epoch 44/100\n",
      " 64/193 [========>.....................] - ETA: 0s - loss: 0.7358 - accuracy: 0.6562 - f1score: 0.6562\n",
      "Epoch 00044: saving model to training_4/cp-0044.ckpt\n",
      "193/193 [==============================] - 0s 440us/sample - loss: 0.8726 - accuracy: 0.6373 - f1score: 0.7266 - val_loss: 1.0248 - val_accuracy: 0.0308 - val_f1score: 0.0156\n",
      "Epoch 45/100\n",
      " 64/193 [========>.....................] - ETA: 0s - loss: 0.8094 - accuracy: 0.6875 - f1score: 0.6875\n",
      "Epoch 00045: saving model to training_4/cp-0045.ckpt\n",
      "193/193 [==============================] - 0s 435us/sample - loss: 0.8714 - accuracy: 0.6580 - f1score: 0.4961 - val_loss: 1.0077 - val_accuracy: 0.1077 - val_f1score: 0.0547\n",
      "Epoch 46/100\n",
      " 64/193 [========>.....................] - ETA: 0s - loss: 0.7351 - accuracy: 0.7188 - f1score: 0.7187\n",
      "Epoch 00046: saving model to training_4/cp-0046.ckpt\n",
      "193/193 [==============================] - 0s 415us/sample - loss: 0.7176 - accuracy: 0.6684 - f1score: 0.7500 - val_loss: 1.0092 - val_accuracy: 0.1385 - val_f1score: 0.0703\n",
      "Epoch 47/100\n",
      " 64/193 [========>.....................] - ETA: 0s - loss: 0.7685 - accuracy: 0.6719 - f1score: 0.6719\n",
      "Epoch 00047: saving model to training_4/cp-0047.ckpt\n",
      "193/193 [==============================] - 0s 487us/sample - loss: 0.8666 - accuracy: 0.6477 - f1score: 0.7344 - val_loss: 1.0142 - val_accuracy: 0.1385 - val_f1score: 0.0703\n"
     ]
    },
    {
     "name": "stdout",
     "output_type": "stream",
     "text": [
      "Epoch 48/100\n",
      " 64/193 [========>.....................] - ETA: 0s - loss: 0.8049 - accuracy: 0.6406 - f1score: 0.6406\n",
      "Epoch 00048: saving model to training_4/cp-0048.ckpt\n",
      "193/193 [==============================] - 0s 446us/sample - loss: 0.7662 - accuracy: 0.6425 - f1score: 0.4844 - val_loss: 1.1423 - val_accuracy: 0.0000e+00 - val_f1score: 0.0000e+00\n",
      "Epoch 49/100\n",
      " 64/193 [========>.....................] - ETA: 0s - loss: 0.6174 - accuracy: 0.7188 - f1score: 0.7187\n",
      "Epoch 00049: saving model to training_4/cp-0049.ckpt\n",
      "193/193 [==============================] - 0s 425us/sample - loss: 0.7038 - accuracy: 0.6891 - f1score: 0.7656 - val_loss: 1.1845 - val_accuracy: 0.0000e+00 - val_f1score: 0.0000e+00\n",
      "Epoch 50/100\n",
      " 64/193 [========>.....................] - ETA: 0s - loss: 0.6446 - accuracy: 0.6406 - f1score: 0.6406\n",
      "Epoch 00050: saving model to training_4/cp-0050.ckpt\n",
      "193/193 [==============================] - 0s 425us/sample - loss: 0.7161 - accuracy: 0.6425 - f1score: 0.7305 - val_loss: 1.1976 - val_accuracy: 0.0000e+00 - val_f1score: 0.0000e+00\n",
      "Epoch 51/100\n",
      " 64/193 [========>.....................] - ETA: 0s - loss: 0.8477 - accuracy: 0.5781 - f1score: 0.5781\n",
      "Epoch 00051: saving model to training_4/cp-0051.ckpt\n",
      "193/193 [==============================] - 0s 430us/sample - loss: 0.8639 - accuracy: 0.6218 - f1score: 0.7148 - val_loss: 1.2313 - val_accuracy: 0.0000e+00 - val_f1score: 0.0000e+00\n",
      "Epoch 52/100\n",
      " 64/193 [========>.....................] - ETA: 0s - loss: 0.6554 - accuracy: 0.7344 - f1score: 0.7344\n",
      "Epoch 00052: saving model to training_4/cp-0052.ckpt\n",
      "193/193 [==============================] - 0s 456us/sample - loss: 0.8710 - accuracy: 0.6269 - f1score: 0.4727 - val_loss: 1.1650 - val_accuracy: 0.0000e+00 - val_f1score: 0.0000e+00\n",
      "Epoch 53/100\n",
      " 64/193 [========>.....................] - ETA: 0s - loss: 1.0125 - accuracy: 0.6250 - f1score: 0.6250\n",
      "Epoch 00053: saving model to training_4/cp-0053.ckpt\n",
      "193/193 [==============================] - 0s 534us/sample - loss: 0.8427 - accuracy: 0.6684 - f1score: 0.7500 - val_loss: 1.1638 - val_accuracy: 0.0000e+00 - val_f1score: 0.0000e+00\n",
      "Epoch 54/100\n",
      " 64/193 [========>.....................] - ETA: 0s - loss: 0.8560 - accuracy: 0.6094 - f1score: 0.6094\n",
      "Epoch 00054: saving model to training_4/cp-0054.ckpt\n",
      "193/193 [==============================] - 0s 461us/sample - loss: 0.7569 - accuracy: 0.6477 - f1score: 0.7344 - val_loss: 1.1601 - val_accuracy: 0.0000e+00 - val_f1score: 0.0000e+00\n",
      "Epoch 55/100\n",
      " 64/193 [========>.....................] - ETA: 0s - loss: 0.7708 - accuracy: 0.6719 - f1score: 0.6719\n",
      "Epoch 00055: saving model to training_4/cp-0055.ckpt\n",
      "193/193 [==============================] - 0s 435us/sample - loss: 0.8320 - accuracy: 0.6218 - f1score: 0.7148 - val_loss: 1.1551 - val_accuracy: 0.0000e+00 - val_f1score: 0.0000e+00\n",
      "Epoch 56/100\n",
      " 64/193 [========>.....................] - ETA: 0s - loss: 0.9776 - accuracy: 0.5625 - f1score: 0.5625\n",
      "Epoch 00056: saving model to training_4/cp-0056.ckpt\n",
      "193/193 [==============================] - 0s 425us/sample - loss: 0.8794 - accuracy: 0.6269 - f1score: 0.4727 - val_loss: 1.0734 - val_accuracy: 0.0000e+00 - val_f1score: 0.0000e+00\n",
      "Epoch 57/100\n",
      " 64/193 [========>.....................] - ETA: 0s - loss: 0.9747 - accuracy: 0.5000 - f1score: 0.5000\n",
      "Epoch 00057: saving model to training_4/cp-0057.ckpt\n",
      "193/193 [==============================] - 0s 409us/sample - loss: 0.7866 - accuracy: 0.6218 - f1score: 0.7148 - val_loss: 1.0451 - val_accuracy: 0.0000e+00 - val_f1score: 0.0000e+00\n",
      "Epoch 58/100\n",
      " 64/193 [========>.....................] - ETA: 0s - loss: 0.7068 - accuracy: 0.6875 - f1score: 0.6875\n",
      "Epoch 00058: saving model to training_4/cp-0058.ckpt\n",
      "193/193 [==============================] - 0s 440us/sample - loss: 0.8155 - accuracy: 0.6269 - f1score: 0.7187 - val_loss: 1.0340 - val_accuracy: 0.0000e+00 - val_f1score: 0.0000e+00\n",
      "Epoch 59/100\n",
      " 64/193 [========>.....................] - ETA: 0s - loss: 0.7274 - accuracy: 0.6094 - f1score: 0.6094\n",
      "Epoch 00059: saving model to training_4/cp-0059.ckpt\n",
      "193/193 [==============================] - 0s 435us/sample - loss: 0.7987 - accuracy: 0.6321 - f1score: 0.7227 - val_loss: 1.0426 - val_accuracy: 0.0000e+00 - val_f1score: 0.0000e+00\n",
      "Epoch 60/100\n",
      " 64/193 [========>.....................] - ETA: 0s - loss: 0.7947 - accuracy: 0.6250 - f1score: 0.6250\n",
      "Epoch 00060: saving model to training_4/cp-0060.ckpt\n",
      "193/193 [==============================] - 0s 456us/sample - loss: 0.7858 - accuracy: 0.6891 - f1score: 0.7656 - val_loss: 1.0449 - val_accuracy: 0.0000e+00 - val_f1score: 0.0000e+00\n",
      "Epoch 61/100\n",
      " 64/193 [========>.....................] - ETA: 0s - loss: 0.7465 - accuracy: 0.6094 - f1score: 0.6094\n",
      "Epoch 00061: saving model to training_4/cp-0061.ckpt\n",
      "193/193 [==============================] - 0s 425us/sample - loss: 0.8474 - accuracy: 0.6477 - f1score: 0.4883 - val_loss: 0.9829 - val_accuracy: 0.1846 - val_f1score: 0.0937\n",
      "Epoch 62/100\n",
      " 64/193 [========>.....................] - ETA: 0s - loss: 0.6463 - accuracy: 0.7344 - f1score: 0.7344\n",
      "Epoch 00062: saving model to training_4/cp-0062.ckpt\n",
      "193/193 [==============================] - 0s 415us/sample - loss: 0.7287 - accuracy: 0.6736 - f1score: 0.5078 - val_loss: 0.9515 - val_accuracy: 0.3077 - val_f1score: 0.1562\n",
      "Epoch 63/100\n",
      " 64/193 [========>.....................] - ETA: 0s - loss: 0.8830 - accuracy: 0.6406 - f1score: 0.6406\n",
      "Epoch 00063: saving model to training_4/cp-0063.ckpt\n",
      "193/193 [==============================] - 0s 420us/sample - loss: 0.8178 - accuracy: 0.6684 - f1score: 0.7500 - val_loss: 0.9623 - val_accuracy: 0.2615 - val_f1score: 0.1328\n",
      "Epoch 64/100\n",
      " 64/193 [========>.....................] - ETA: 0s - loss: 0.7241 - accuracy: 0.5312 - f1score: 0.5312\n",
      "Epoch 00064: saving model to training_4/cp-0064.ckpt\n",
      "193/193 [==============================] - 0s 435us/sample - loss: 0.6885 - accuracy: 0.6373 - f1score: 0.7266 - val_loss: 0.9753 - val_accuracy: 0.2154 - val_f1score: 0.1094\n",
      "Epoch 65/100\n",
      " 64/193 [========>.....................] - ETA: 0s - loss: 0.7153 - accuracy: 0.6250 - f1score: 0.6250\n",
      "Epoch 00065: saving model to training_4/cp-0065.ckpt\n",
      "193/193 [==============================] - 0s 472us/sample - loss: 0.7886 - accuracy: 0.6528 - f1score: 0.7383 - val_loss: 1.0001 - val_accuracy: 0.0615 - val_f1score: 0.0312\n",
      "Epoch 66/100\n",
      " 64/193 [========>.....................] - ETA: 0s - loss: 0.8352 - accuracy: 0.6875 - f1score: 0.6875\n",
      "Epoch 00066: saving model to training_4/cp-0066.ckpt\n",
      "193/193 [==============================] - 0s 472us/sample - loss: 0.7588 - accuracy: 0.6788 - f1score: 0.7578 - val_loss: 1.0187 - val_accuracy: 0.0000e+00 - val_f1score: 0.0000e+00\n",
      "Epoch 67/100\n",
      " 64/193 [========>.....................] - ETA: 0s - loss: 0.7180 - accuracy: 0.6719 - f1score: 0.6719\n",
      "Epoch 00067: saving model to training_4/cp-0067.ckpt\n",
      "193/193 [==============================] - 0s 404us/sample - loss: 0.7453 - accuracy: 0.6736 - f1score: 0.7539 - val_loss: 1.0510 - val_accuracy: 0.0000e+00 - val_f1score: 0.0000e+00\n",
      "Epoch 68/100\n",
      " 64/193 [========>.....................] - ETA: 0s - loss: 0.7995 - accuracy: 0.6094 - f1score: 0.6094\n",
      "Epoch 00068: saving model to training_4/cp-0068.ckpt\n",
      "193/193 [==============================] - 0s 404us/sample - loss: 0.8005 - accuracy: 0.6425 - f1score: 0.4844 - val_loss: 1.0903 - val_accuracy: 0.0000e+00 - val_f1score: 0.0000e+00\n",
      "Epoch 69/100\n",
      " 64/193 [========>.....................] - ETA: 0s - loss: 0.6614 - accuracy: 0.7031 - f1score: 0.7031\n",
      "Epoch 00069: saving model to training_4/cp-0069.ckpt\n",
      "193/193 [==============================] - 0s 415us/sample - loss: 0.7247 - accuracy: 0.6477 - f1score: 0.4883 - val_loss: 1.1170 - val_accuracy: 0.0000e+00 - val_f1score: 0.0000e+00\n",
      "Epoch 70/100\n",
      " 64/193 [========>.....................] - ETA: 0s - loss: 0.7209 - accuracy: 0.6250 - f1score: 0.6250\n",
      "Epoch 00070: saving model to training_4/cp-0070.ckpt\n",
      "193/193 [==============================] - 0s 435us/sample - loss: 0.7475 - accuracy: 0.6528 - f1score: 0.7383 - val_loss: 1.0916 - val_accuracy: 0.0000e+00 - val_f1score: 0.0000e+00\n",
      "Epoch 71/100\n",
      " 64/193 [========>.....................] - ETA: 0s - loss: 0.8881 - accuracy: 0.5938 - f1score: 0.5937\n",
      "Epoch 00071: saving model to training_4/cp-0071.ckpt\n",
      "193/193 [==============================] - 0s 451us/sample - loss: 0.8646 - accuracy: 0.6010 - f1score: 0.6992 - val_loss: 1.0938 - val_accuracy: 0.0000e+00 - val_f1score: 0.0000e+00\n",
      "Epoch 72/100\n",
      " 64/193 [========>.....................] - ETA: 0s - loss: 0.7917 - accuracy: 0.6094 - f1score: 0.6094\n",
      "Epoch 00072: saving model to training_4/cp-0072.ckpt\n",
      "193/193 [==============================] - 0s 461us/sample - loss: 0.6900 - accuracy: 0.6788 - f1score: 0.7578 - val_loss: 1.1047 - val_accuracy: 0.0000e+00 - val_f1score: 0.0000e+00\n",
      "Epoch 73/100\n",
      " 64/193 [========>.....................] - ETA: 0s - loss: 0.8325 - accuracy: 0.7188 - f1score: 0.7187\n",
      "Epoch 00073: saving model to training_4/cp-0073.ckpt\n",
      "193/193 [==============================] - 0s 435us/sample - loss: 0.7831 - accuracy: 0.6632 - f1score: 0.7461 - val_loss: 1.0986 - val_accuracy: 0.0000e+00 - val_f1score: 0.0000e+00\n",
      "Epoch 74/100\n",
      " 64/193 [========>.....................] - ETA: 0s - loss: 0.6697 - accuracy: 0.6094 - f1score: 0.6094\n",
      "Epoch 00074: saving model to training_4/cp-0074.ckpt\n",
      "193/193 [==============================] - 0s 420us/sample - loss: 0.8060 - accuracy: 0.6166 - f1score: 0.7109 - val_loss: 1.1158 - val_accuracy: 0.0000e+00 - val_f1score: 0.0000e+00\n",
      "Epoch 75/100\n",
      " 64/193 [========>.....................] - ETA: 0s - loss: 0.6562 - accuracy: 0.6719 - f1score: 0.6719\n",
      "Epoch 00075: saving model to training_4/cp-0075.ckpt\n",
      "193/193 [==============================] - 0s 440us/sample - loss: 0.7101 - accuracy: 0.6995 - f1score: 0.7734 - val_loss: 1.1141 - val_accuracy: 0.0000e+00 - val_f1score: 0.0000e+00\n",
      "Epoch 76/100\n",
      " 64/193 [========>.....................] - ETA: 0s - loss: 0.5796 - accuracy: 0.7812 - f1score: 0.7812\n",
      "Epoch 00076: saving model to training_4/cp-0076.ckpt\n",
      "193/193 [==============================] - 0s 2ms/sample - loss: 0.6909 - accuracy: 0.6839 - f1score: 0.7617 - val_loss: 1.1167 - val_accuracy: 0.0000e+00 - val_f1score: 0.0000e+00\n",
      "Epoch 77/100\n",
      " 64/193 [========>.....................] - ETA: 0s - loss: 0.7322 - accuracy: 0.6562 - f1score: 0.6562\n",
      "Epoch 00077: saving model to training_4/cp-0077.ckpt\n",
      "193/193 [==============================] - 0s 425us/sample - loss: 0.7077 - accuracy: 0.6736 - f1score: 0.7539 - val_loss: 1.1245 - val_accuracy: 0.0000e+00 - val_f1score: 0.0000e+00\n",
      "Epoch 78/100\n",
      " 64/193 [========>.....................] - ETA: 0s - loss: 0.9269 - accuracy: 0.5938 - f1score: 0.5937\n",
      "Epoch 00078: saving model to training_4/cp-0078.ckpt\n",
      "193/193 [==============================] - 0s 425us/sample - loss: 0.8170 - accuracy: 0.6684 - f1score: 0.7500 - val_loss: 1.1512 - val_accuracy: 0.0000e+00 - val_f1score: 0.0000e+00\n",
      "Epoch 79/100\n",
      " 64/193 [========>.....................] - ETA: 0s - loss: 0.8710 - accuracy: 0.6562 - f1score: 0.6562\n",
      "Epoch 00079: saving model to training_4/cp-0079.ckpt\n",
      "193/193 [==============================] - 0s 415us/sample - loss: 0.8318 - accuracy: 0.6477 - f1score: 0.4883 - val_loss: 1.1004 - val_accuracy: 0.0000e+00 - val_f1score: 0.0000e+00\n",
      "Epoch 80/100\n",
      " 64/193 [========>.....................] - ETA: 0s - loss: 0.6642 - accuracy: 0.7188 - f1score: 0.7187\n",
      "Epoch 00080: saving model to training_4/cp-0080.ckpt\n",
      "193/193 [==============================] - 0s 425us/sample - loss: 0.7133 - accuracy: 0.6736 - f1score: 0.7539 - val_loss: 1.1045 - val_accuracy: 0.0000e+00 - val_f1score: 0.0000e+00\n",
      "Epoch 81/100\n",
      " 64/193 [========>.....................] - ETA: 0s - loss: 0.9023 - accuracy: 0.6250 - f1score: 0.6250\n",
      "Epoch 00081: saving model to training_4/cp-0081.ckpt\n",
      "193/193 [==============================] - 0s 440us/sample - loss: 0.7945 - accuracy: 0.6632 - f1score: 0.5000 - val_loss: 1.0292 - val_accuracy: 0.1846 - val_f1score: 0.0937\n",
      "Epoch 82/100\n",
      " 64/193 [========>.....................] - ETA: 0s - loss: 0.7617 - accuracy: 0.6719 - f1score: 0.6719\n",
      "Epoch 00082: saving model to training_4/cp-0082.ckpt\n",
      "193/193 [==============================] - 0s 425us/sample - loss: 0.7674 - accuracy: 0.6684 - f1score: 0.5039 - val_loss: 1.0038 - val_accuracy: 0.2308 - val_f1score: 0.1172\n",
      "Epoch 83/100\n",
      " 64/193 [========>.....................] - ETA: 0s - loss: 0.7525 - accuracy: 0.6406 - f1score: 0.6406\n",
      "Epoch 00083: saving model to training_4/cp-0083.ckpt\n",
      "193/193 [==============================] - 0s 430us/sample - loss: 0.7916 - accuracy: 0.6425 - f1score: 0.7305 - val_loss: 0.9875 - val_accuracy: 0.2923 - val_f1score: 0.1484\n",
      "Epoch 84/100\n",
      " 64/193 [========>.....................] - ETA: 0s - loss: 0.8585 - accuracy: 0.6094 - f1score: 0.6094\n",
      "Epoch 00084: saving model to training_4/cp-0084.ckpt\n",
      "193/193 [==============================] - 0s 446us/sample - loss: 0.7456 - accuracy: 0.6632 - f1score: 0.5000 - val_loss: 0.9719 - val_accuracy: 0.2769 - val_f1score: 0.1406\n",
      "Epoch 85/100\n",
      " 64/193 [========>.....................] - ETA: 0s - loss: 0.6272 - accuracy: 0.7188 - f1score: 0.7187\n",
      "Epoch 00085: saving model to training_4/cp-0085.ckpt\n",
      "193/193 [==============================] - 0s 435us/sample - loss: 0.7206 - accuracy: 0.6839 - f1score: 0.7617 - val_loss: 1.0088 - val_accuracy: 0.1846 - val_f1score: 0.0937\n",
      "Epoch 86/100\n",
      " 64/193 [========>.....................] - ETA: 0s - loss: 0.8291 - accuracy: 0.6094 - f1score: 0.6094\n",
      "Epoch 00086: saving model to training_4/cp-0086.ckpt\n",
      "193/193 [==============================] - 0s 420us/sample - loss: 0.7791 - accuracy: 0.6528 - f1score: 0.7383 - val_loss: 1.0271 - val_accuracy: 0.1846 - val_f1score: 0.0937\n",
      "Epoch 87/100\n",
      " 64/193 [========>.....................] - ETA: 0s - loss: 0.7331 - accuracy: 0.6094 - f1score: 0.6094\n",
      "Epoch 00087: saving model to training_4/cp-0087.ckpt\n",
      "193/193 [==============================] - 0s 420us/sample - loss: 0.7466 - accuracy: 0.6373 - f1score: 0.7266 - val_loss: 1.0571 - val_accuracy: 0.1538 - val_f1score: 0.0781\n",
      "Epoch 88/100\n",
      " 64/193 [========>.....................] - ETA: 0s - loss: 0.9752 - accuracy: 0.5625 - f1score: 0.5625\n",
      "Epoch 00088: saving model to training_4/cp-0088.ckpt\n",
      "193/193 [==============================] - 0s 409us/sample - loss: 0.7759 - accuracy: 0.6269 - f1score: 0.7187 - val_loss: 1.0810 - val_accuracy: 0.0462 - val_f1score: 0.0234\n",
      "Epoch 89/100\n",
      " 64/193 [========>.....................] - ETA: 0s - loss: 0.6533 - accuracy: 0.7031 - f1score: 0.7031\n",
      "Epoch 00089: saving model to training_4/cp-0089.ckpt\n",
      "193/193 [==============================] - 0s 425us/sample - loss: 0.7851 - accuracy: 0.6425 - f1score: 0.7305 - val_loss: 1.1512 - val_accuracy: 0.0000e+00 - val_f1score: 0.0000e+00\n",
      "Epoch 90/100\n",
      " 64/193 [========>.....................] - ETA: 0s - loss: 0.7048 - accuracy: 0.6406 - f1score: 0.6406\n",
      "Epoch 00090: saving model to training_4/cp-0090.ckpt\n",
      "193/193 [==============================] - 0s 430us/sample - loss: 0.8026 - accuracy: 0.6166 - f1score: 0.7109 - val_loss: 1.1769 - val_accuracy: 0.0000e+00 - val_f1score: 0.0000e+00\n",
      "Epoch 91/100\n",
      " 64/193 [========>.....................] - ETA: 0s - loss: 0.6471 - accuracy: 0.7969 - f1score: 0.7969\n",
      "Epoch 00091: saving model to training_4/cp-0091.ckpt\n",
      "193/193 [==============================] - 0s 420us/sample - loss: 0.7224 - accuracy: 0.6995 - f1score: 0.7734 - val_loss: 1.1750 - val_accuracy: 0.0000e+00 - val_f1score: 0.0000e+00\n",
      "Epoch 92/100\n",
      " 64/193 [========>.....................] - ETA: 0s - loss: 0.7317 - accuracy: 0.6250 - f1score: 0.6250\n",
      "Epoch 00092: saving model to training_4/cp-0092.ckpt\n",
      "193/193 [==============================] - 0s 420us/sample - loss: 0.7230 - accuracy: 0.6580 - f1score: 0.4961 - val_loss: 1.1440 - val_accuracy: 0.0000e+00 - val_f1score: 0.0000e+00\n",
      "Epoch 93/100\n",
      " 64/193 [========>.....................] - ETA: 0s - loss: 0.9144 - accuracy: 0.5938 - f1score: 0.5937\n",
      "Epoch 00093: saving model to training_4/cp-0093.ckpt\n",
      "193/193 [==============================] - 0s 539us/sample - loss: 0.8211 - accuracy: 0.6166 - f1score: 0.4648 - val_loss: 1.2123 - val_accuracy: 0.0000e+00 - val_f1score: 0.0000e+00\n",
      "Epoch 94/100\n",
      " 64/193 [========>.....................] - ETA: 0s - loss: 0.6779 - accuracy: 0.7344 - f1score: 0.7344\n",
      "Epoch 00094: saving model to training_4/cp-0094.ckpt\n",
      "193/193 [==============================] - 0s 549us/sample - loss: 0.7481 - accuracy: 0.6995 - f1score: 0.5273 - val_loss: 1.1328 - val_accuracy: 0.0000e+00 - val_f1score: 0.0000e+00\n"
     ]
    },
    {
     "name": "stdout",
     "output_type": "stream",
     "text": [
      "Epoch 95/100\n",
      " 64/193 [========>.....................] - ETA: 0s - loss: 0.5723 - accuracy: 0.7344 - f1score: 0.7344\n",
      "Epoch 00095: saving model to training_4/cp-0095.ckpt\n",
      "193/193 [==============================] - 0s 383us/sample - loss: 0.7188 - accuracy: 0.6528 - f1score: 0.7383 - val_loss: 1.0914 - val_accuracy: 0.0000e+00 - val_f1score: 0.0000e+00\n",
      "Epoch 96/100\n",
      " 64/193 [========>.....................] - ETA: 0s - loss: 0.6090 - accuracy: 0.7344 - f1score: 0.7344\n",
      "Epoch 00096: saving model to training_4/cp-0096.ckpt\n",
      "193/193 [==============================] - 0s 394us/sample - loss: 0.7039 - accuracy: 0.6684 - f1score: 0.5039 - val_loss: 1.0467 - val_accuracy: 0.0000e+00 - val_f1score: 0.0000e+00\n",
      "Epoch 97/100\n",
      " 64/193 [========>.....................] - ETA: 0s - loss: 0.7420 - accuracy: 0.5938 - f1score: 0.5937\n",
      "Epoch 00097: saving model to training_4/cp-0097.ckpt\n",
      "193/193 [==============================] - 0s 425us/sample - loss: 0.7504 - accuracy: 0.6166 - f1score: 0.7109 - val_loss: 1.0444 - val_accuracy: 0.0000e+00 - val_f1score: 0.0000e+00\n",
      "Epoch 98/100\n",
      " 64/193 [========>.....................] - ETA: 0s - loss: 0.8808 - accuracy: 0.5781 - f1score: 0.5781\n",
      "Epoch 00098: saving model to training_4/cp-0098.ckpt\n",
      "193/193 [==============================] - 0s 389us/sample - loss: 0.7674 - accuracy: 0.6166 - f1score: 0.4648 - val_loss: 0.9960 - val_accuracy: 0.0000e+00 - val_f1score: 0.0000e+00\n",
      "Epoch 99/100\n",
      " 64/193 [========>.....................] - ETA: 0s - loss: 0.6781 - accuracy: 0.6875 - f1score: 0.6875\n",
      "Epoch 00099: saving model to training_4/cp-0099.ckpt\n",
      "193/193 [==============================] - 0s 420us/sample - loss: 0.7910 - accuracy: 0.6580 - f1score: 0.7422 - val_loss: 0.9916 - val_accuracy: 0.0000e+00 - val_f1score: 0.0000e+00\n",
      "Epoch 100/100\n",
      " 64/193 [========>.....................] - ETA: 0s - loss: 0.7855 - accuracy: 0.5781 - f1score: 0.5781\n",
      "Epoch 00100: saving model to training_4/cp-0100.ckpt\n",
      "193/193 [==============================] - 0s 404us/sample - loss: 0.7112 - accuracy: 0.6736 - f1score: 0.7539 - val_loss: 0.9637 - val_accuracy: 0.0000e+00 - val_f1score: 0.0000e+00\n",
      "54/54 - 0s - loss: 0.5963 - accuracy: 0.7963 - f1score: 0.7997\n"
     ]
    },
    {
     "data": {
      "text/plain": [
       "[0.5962688878730491, 0.7962963, 0.7997159]"
      ]
     },
     "execution_count": 139,
     "metadata": {},
     "output_type": "execute_result"
    }
   ],
   "source": [
    "checkpoint_path = \"training_4/cp-{epoch:04d}.ckpt\"\n",
    "checkpoint_dir = os.path.dirname(checkpoint_path)\n",
    "\n",
    "cp_callback = tf.keras.callbacks.ModelCheckpoint(\n",
    "    checkpoint_path, verbose=1, save_weights_only=True)\n",
    "\n",
    "\n",
    "\n",
    "model = tf.keras.Sequential([\n",
    "    tf.keras.layers.Dense(units=64,activation='elu', input_shape=(41,)),\n",
    "    tf.keras.layers.Dropout(rate=0.3),\n",
    "    tf.keras.layers.Dense(units=32, activation='elu', kernel_regularizer=tf.keras.regularizers.l2(0.001)),\n",
    "    tf.keras.layers.Dropout(rate=0.3),\n",
    "      tf.keras.layers.Dense(units=16, activation='elu', kernel_regularizer=tf.keras.regularizers.l2(0.001)),\n",
    "    tf.keras.layers.Dropout(rate=0.3),\n",
    "\n",
    "  \n",
    "    \n",
    "    # 분류 모델이기 때문에 최종 단에 있어서는 softmax를 활용을 해야 함!!!!\n",
    "    tf.keras.layers.Dense(units=2, activation='softmax')\n",
    "    #tf.keras.layers.Dense(units=1, activation='sigmoid')\n",
    "])\n",
    "\n",
    "model.compile(optimizer=tf.keras.optimizers.Nadam(),  loss='categorical_crossentropy', metrics=['accuracy', f1score])\n",
    "#model.compile(optimizer=tf.keras.optimizers.Adam(),  loss='binary_crossentropy', metrics=['accuracy'])\n",
    "\n",
    "history = model.fit(X_train_over_np, y_train_over_np, epochs=100, batch_size=64, validation_split=0.25 , callbacks = [cp_callback])\n",
    "model.evaluate(X_test_np, y_test_np,verbose=2)\n",
    "\n"
   ]
  },
  {
   "cell_type": "code",
   "execution_count": 140,
   "metadata": {},
   "outputs": [
    {
     "data": {
      "image/png": "[encoded data removed]",
      "text/plain": [
       "<Figure size 864x288 with 2 Axes>"
      ]
     },
     "metadata": {
      "needs_background": "light"
     },
     "output_type": "display_data"
    }
   ],
   "source": [
    "import matplotlib.pyplot as plt\n",
    "plt.figure(figsize=(12, 4))\n",
    "\n",
    "plt.subplot(1, 2, 1)\n",
    "plt.plot(history.history['loss'], 'b-', label='loss')\n",
    "plt.plot(history.history['val_loss'], 'r--', label='val_loss')\n",
    "plt.xlabel('Epoch')\n",
    "plt.legend()\n",
    "\n",
    "plt.subplot(1, 2, 2)\n",
    "plt.plot(history.history['accuracy'], 'g-', label='accuracy')\n",
    "plt.plot(history.history['val_accuracy'], 'k--', label='val_accuracy')\n",
    "plt.xlabel('Epoch')\n",
    "plt.ylim(0.7, 1)\n",
    "plt.legend()\n",
    "\n",
    "plt.show()"
   ]
  },
  {
   "cell_type": "markdown",
   "metadata": {},
   "source": [
    "과대 적합을 방지하는 방법 \n",
    "* 더 많은 훈련 데이터를 모읍니다.\n",
    "* 네트워크의 용량을 줄입니다.tf.keras.layers.Dense(units=24)\n",
    "* 가중치 규제를 추가합니다. kernel_regularizer=tf.keras.regularizers.l2(0.001)\n",
    "* 드롭아웃을 추가합니다.  tf.keras.layers.Dropout(rate=0.5)"
   ]
  },
  {
   "cell_type": "markdown",
   "metadata": {},
   "source": [
    "큰 모델 (dense 의 units의 값이 큰거)이 과대적합이 빨리 된다. \n",
    "<img src = \"./img/loss.png\">"
   ]
  },
  {
   "cell_type": "markdown",
   "metadata": {},
   "source": [
    "optimizer\n",
    "<img src = \"./img/optimizer.jpg\">"
   ]
  },
  {
   "cell_type": "markdown",
   "metadata": {},
   "source": [
    "### 제일 성능이 잘나오는 가중치를 선택"
   ]
  },
  {
   "cell_type": "code",
   "execution_count": 141,
   "metadata": {
    "scrolled": true
   },
   "outputs": [
    {
     "name": "stdout",
     "output_type": "stream",
     "text": [
      "54/54 - 0s - loss: 0.5808 - accuracy: 0.7778 - f1score: 0.7770\n"
     ]
    },
    {
     "data": {
      "text/plain": [
       "[0.5807553397284614, 0.7777778, 0.77698857]"
      ]
     },
     "execution_count": 141,
     "metadata": {},
     "output_type": "execute_result"
    }
   ],
   "source": [
    "model2 = tf.keras.Sequential([\n",
    "    tf.keras.layers.Dense(units=64,activation='elu', input_shape=(41,)),\n",
    "    tf.keras.layers.Dropout(rate=0.3),\n",
    "    tf.keras.layers.Dense(units=32, activation='elu', kernel_regularizer=tf.keras.regularizers.l2(0.001)),\n",
    "    tf.keras.layers.Dropout(rate=0.3),\n",
    "      tf.keras.layers.Dense(units=16, activation='elu', kernel_regularizer=tf.keras.regularizers.l2(0.001)),\n",
    "    tf.keras.layers.Dropout(rate=0.3),\n",
    "\n",
    "    \n",
    "    # 분류 모델이기 때문에 최종 단에 있어서는 softmax를 활용을 해야 함!!!!\n",
    "    tf.keras.layers.Dense(units=2, activation='softmax')\n",
    "])\n",
    "\n",
    "model2.compile(optimizer=tf.keras.optimizers.Nadam(),  loss='categorical_crossentropy', metrics=['accuracy', f1score])\n",
    "\n",
    "model2.load_weights(\"training_4/cp-0022.ckpt\")\n",
    "model2.evaluate(X_test_np, y_test_np,verbose=2)"
   ]
  },
  {
   "cell_type": "markdown",
   "metadata": {},
   "source": [
    "### stacking에 이용할 predict array 생성"
   ]
  },
  {
   "cell_type": "code",
   "execution_count": 142,
   "metadata": {},
   "outputs": [],
   "source": [
    "pred_DNN = model2.predict(X_test_np)"
   ]
  },
  {
   "cell_type": "code",
   "execution_count": 143,
   "metadata": {},
   "outputs": [],
   "source": [
    "pred_DNN1 = []\n",
    "for i in range(pred_DNN.shape[0]):\n",
    "    if pred_DNN[i][0] > pred_DNN[i][1]:\n",
    "        pred_DNN1.append(pred_DNN[i][0]) \n",
    "    else:\n",
    "        pred_DNN1.append(pred_DNN[i][1])\n"
   ]
  },
  {
   "cell_type": "markdown",
   "metadata": {},
   "source": [
    "### votingClassifier\n",
    "\n",
    "* hard voting: 단순 투표. 개별 모형의 결과 기준\n",
    "* soft voting: 가중치 투표. 개별 모형의 조건부 확률의 합 기준    \n",
    "#  \n",
    "* estimators: 개별 모형 목록, 리스트나 named parameter 형식으로 입력\n",
    "* voting: 문자열 {hard, soft} hard voting 과 soft voting 선택. 디폴트는 hard\n",
    "* weights: 사용자 가중치 리스트"
   ]
  },
  {
   "cell_type": "code",
   "execution_count": 71,
   "metadata": {},
   "outputs": [],
   "source": [
    "from sklearn.ensemble import VotingClassifier"
   ]
  },
  {
   "cell_type": "code",
   "execution_count": 144,
   "metadata": {},
   "outputs": [
    {
     "name": "stdout",
     "output_type": "stream",
     "text": [
      "Hard Voting 분류기 f1 score: 0.3636\n",
      "DecisionTreeClassifier f1 score :  0.3810\n",
      "GradientBoostingClassifier f1 score :  0.2857\n",
      "XGBClassifier f1 score :  0.5000\n",
      "LGBMClassifier f1 score :  0.3000\n",
      "RandomForestClassifier f1 score :  0.4348\n",
      "LogisticRegression f1 score :  0.3448\n",
      "SVC f1 score :  0.2222\n"
     ]
    }
   ],
   "source": [
    "vo_clf = VotingClassifier(estimators=[('DTC', DTC),('GBC', GBC),('XGBC', XGBC), ('LGBC', LGBC ), ('RFC', RFC), ('LRC', LRC),('SVC', SVC)], voting='hard')\n",
    "\n",
    "vo_clf.fit(X_train_over,y_train_over)\n",
    "pred = vo_clf.predict(X_test)\n",
    "print('Hard Voting 분류기 f1 score: {0:.4f}'.format(f1_score(y_test,pred)))\n",
    "\n",
    "classifiers =[DTC, GBC,XGBC,LGBC,RFC, LRC,SVC]\n",
    "for classifier in classifiers:\n",
    "    classifier.fit(X_train_over, y_train_over)\n",
    "    pred = classifier.predict(X_test)\n",
    "    class_name = classifier.__class__.__name__\n",
    "    print('{0} f1 score : {1: .4f}'.format(class_name, f1_score(y_test,pred)))"
   ]
  },
  {
   "cell_type": "markdown",
   "metadata": {},
   "source": [
    "DNN은 classifier가 아니여서 votingClassifier()의 estimator에 모델을 넣을 수가 없다.  \n",
    "hard voting에서 좋은 성능을 위해 좋은 성능을 내는 모델들만 이용하여 hard voting을 할 수 있다.  \n",
    "이 경우에는 빼면 성능이 나빠져서 모두 넣었다. "
   ]
  },
  {
   "cell_type": "code",
   "execution_count": 148,
   "metadata": {
    "scrolled": true
   },
   "outputs": [
    {
     "name": "stdout",
     "output_type": "stream",
     "text": [
      "Soft Voting 분류기 f1 score: 0.4000\n",
      "DecisionTreeClassifier f1 score :  0.3810\n",
      "GradientBoostingClassifier f1 score :  0.2857\n",
      "XGBClassifier f1 score :  0.5000\n",
      "LGBMClassifier f1 score :  0.3000\n",
      "RandomForestClassifier f1 score :  0.4348\n",
      "LogisticRegression f1 score :  0.3448\n",
      "SVC f1 score :  0.2222\n"
     ]
    }
   ],
   "source": [
    "vo_clf = VotingClassifier(estimators=[('DTC', DTC),('GBC', GBC),('XGBC', XGBC), ('LGBC', LGBC ), ('RFC', RFC), ('LRC', LRC),('SVC', SVC)], voting='soft')\n",
    "\n",
    "vo_clf.fit(X_train_over,y_train_over)\n",
    "pred = vo_clf.predict(X_test)\n",
    "print('Soft Voting 분류기 f1 score: {0:.4f}'.format(f1_score(y_test,pred)))\n",
    "\n",
    "classifiers =[ DTC, GBC,XGBC,LGBC,RFC, LRC,SVC]\n",
    "for classifier in classifiers:\n",
    "    classifier.fit(X_train_over, y_train_over)\n",
    "    pred = classifier.predict(X_test)\n",
    "    class_name = classifier.__class__.__name__\n",
    "    print('{0} f1 score : {1: .4f}'.format(class_name, f1_score(y_test,pred)))"
   ]
  },
  {
   "cell_type": "code",
   "execution_count": 150,
   "metadata": {
    "scrolled": true
   },
   "outputs": [
    {
     "name": "stdout",
     "output_type": "stream",
     "text": [
      "Soft-weighted Voting 분류기 f1 score: 0.3810\n",
      "DecisionTreeClassifier f1 score :  0.3810\n",
      "GradientBoostingClassifier f1 score :  0.2857\n",
      "XGBClassifier f1 score :  0.5000\n",
      "LGBMClassifier f1 score :  0.3000\n",
      "RandomForestClassifier f1 score :  0.4348\n",
      "LogisticRegression f1 score :  0.3448\n",
      "SVC f1 score :  0.2222\n"
     ]
    }
   ],
   "source": [
    "vo_clf = VotingClassifier(estimators=[('DTC', DTC),('GBC', GBC),('XGBC', XGBC), ('LGBC', LGBC ), ('RFC', RFC), ('LRC', LRC),('SVC',SVC)], voting='soft', weights=[2,1,3,1,2,1,0.5])\n",
    "\n",
    "vo_clf.fit(X_train_over,y_train_over)\n",
    "pred = vo_clf.predict(X_test)\n",
    "print('Soft-weighted Voting 분류기 f1 score: {0:.4f}'.format(f1_score(y_test,pred)))\n",
    "\n",
    "classifiers =[ DTC, GBC,XGBC,LGBC,RFC, LRC,SVC]\n",
    "for classifier in classifiers:\n",
    "    classifier.fit(X_train_over, y_train_over)\n",
    "    pred = classifier.predict(X_test)\n",
    "    class_name = classifier.__class__.__name__\n",
    "    print('{0} f1 score : {1: .4f}'.format(class_name, f1_score(y_test,pred)))"
   ]
  },
  {
   "cell_type": "markdown",
   "metadata": {},
   "source": [
    "### EnsembleVoteClassifier을 이용하여 voting\n",
    "VotingClassifier, hard, soft, soft-weighted 보다 성능이 좋다."
   ]
  },
  {
   "cell_type": "code",
   "execution_count": 79,
   "metadata": {},
   "outputs": [],
   "source": [
    "from mlxtend.classifier import EnsembleVoteClassifier\n",
    "from sklearn import model_selection"
   ]
  },
  {
   "cell_type": "code",
   "execution_count": 152,
   "metadata": {},
   "outputs": [
    {
     "name": "stdout",
     "output_type": "stream",
     "text": [
      "EnsembleVoteClassifier 분류기 f1 score: 0.4348\n",
      "DecisionTreeClassifier f1 score :  0.3810\n",
      "GradientBoostingClassifier f1 score :  0.2857\n",
      "XGBClassifier f1 score :  0.5000\n",
      "LGBMClassifier f1 score :  0.3000\n",
      "RandomForestClassifier f1 score :  0.4348\n",
      "LogisticRegression f1 score :  0.3448\n",
      "SVC f1 score :  0.2222\n"
     ]
    }
   ],
   "source": [
    "\n",
    "\n",
    "eclf = EnsembleVoteClassifier(clfs=[ DTC, GBC,XGBC, LGBC , RFC, LRC , SVC], weights=[2,1,3,1,2,1,0.5])\n",
    "\n",
    "eclf.fit(X_train_over,y_train_over)\n",
    "pred = eclf.predict(X_test)\n",
    "print('EnsembleVoteClassifier 분류기 f1 score: {0:.4f}'.format(f1_score(y_test,pred)))\n",
    "\n",
    "classifiers =[ DTC, GBC,XGBC,LGBC,RFC, LRC, SVC]\n",
    "for classifier in classifiers:\n",
    "    classifier.fit(X_train_over, y_train_over)\n",
    "    pred = classifier.predict(X_test)\n",
    "    class_name = classifier.__class__.__name__\n",
    "    print('{0} f1 score : {1: .4f}'.format(class_name, f1_score(y_test,pred)))"
   ]
  },
  {
   "cell_type": "markdown",
   "metadata": {},
   "source": [
    "### baggingClassifirer\n",
    "\n",
    "* 부트스트랩 어그리게이팅 Bootstrap AGGregING의 약어\n",
    "* 데이터양이 적으면 성능이 안좋다. \n",
    "* 대표적인 bagging 앙상블 = RandomForest. 위에서 랜포 성능이 안좋았던걸 기억하면..... 안좋음  \n",
    "* Note that using larger subsamples is not guaranteed to improve your results. In bagging there is a tradeoff between base model accuracy and the gain you get through bagging. The aggregation from bagging may improve the ensemble greatly when you have an unstable model, yet when your base models are more stable — been trained on larger subsamples with higher accuracy — improvements from bagging reduces.  \n",
    "#  \n",
    "* base_estimator: 기본 모형\n",
    "* n_estimators: 모형 갯수. 디폴트 10\n",
    "* bootstrap: 데이터의 중복 사용 여부. 디폴트 True\n",
    "* max_samples: 데이터 샘플 중 선택할 샘플의 수 혹은 비율. 디폴트 1.0\n",
    "* bootstrap_features: 특징 차원의 중복 사용 여부. 디폴트 False\n",
    "* max_features: 다차원 독립 변수 중 선택할 차원의 수 혹은 비율 1.0"
   ]
  },
  {
   "cell_type": "code",
   "execution_count": 81,
   "metadata": {},
   "outputs": [],
   "source": [
    "from sklearn.ensemble import BaggingClassifier"
   ]
  },
  {
   "cell_type": "code",
   "execution_count": 153,
   "metadata": {},
   "outputs": [
    {
     "name": "stdout",
     "output_type": "stream",
     "text": [
      "voting Bagging 분류기 f1 score: 0.3478\n"
     ]
    }
   ],
   "source": [
    "bag_clf = BaggingClassifier(base_estimator=vo_clf, n_estimators=10, random_state=0)\n",
    "\n",
    "bag_clf.fit(X_train_over,y_train_over)\n",
    "pred = bag_clf.predict(X_test)\n",
    "print('voting Bagging 분류기 f1 score: {0:.4f}'.format(f1_score(y_test,pred)))"
   ]
  },
  {
   "cell_type": "code",
   "execution_count": 154,
   "metadata": {},
   "outputs": [
    {
     "name": "stdout",
     "output_type": "stream",
     "text": [
      "GBC Bagging 분류기 f1 score: 0.3846\n"
     ]
    }
   ],
   "source": [
    "bag_clf = BaggingClassifier(base_estimator=GBC, n_estimators=10, random_state=0)\n",
    "\n",
    "bag_clf.fit(X_train_over,y_train_over)\n",
    "pred = bag_clf.predict(X_test)\n",
    "print('GBC Bagging 분류기 f1 score: {0:.4f}'.format(f1_score(y_test,pred)))"
   ]
  },
  {
   "cell_type": "code",
   "execution_count": 155,
   "metadata": {},
   "outputs": [
    {
     "name": "stdout",
     "output_type": "stream",
     "text": [
      "XGBC Bagging 분류기 f1 score: 0.4167\n"
     ]
    }
   ],
   "source": [
    "bag_clf = BaggingClassifier(base_estimator=XGBC, n_estimators=10, random_state=0)\n",
    "\n",
    "bag_clf.fit(X_train_over,y_train_over)\n",
    "pred = bag_clf.predict(X_test)\n",
    "print('XGBC Bagging 분류기 f1 score: {0:.4f}'.format(f1_score(y_test,pred)))"
   ]
  },
  {
   "cell_type": "code",
   "execution_count": 156,
   "metadata": {},
   "outputs": [
    {
     "name": "stdout",
     "output_type": "stream",
     "text": [
      "LGBC Bagging 분류기 f1 score: 0.3636\n"
     ]
    }
   ],
   "source": [
    "bag_clf = BaggingClassifier(base_estimator=LGBC, n_estimators=10, random_state=0)\n",
    "\n",
    "bag_clf.fit(X_train_over,y_train_over)\n",
    "pred = bag_clf.predict(X_test)\n",
    "print('LGBC Bagging 분류기 f1 score: {0:.4f}'.format(f1_score(y_test,pred)))"
   ]
  },
  {
   "cell_type": "code",
   "execution_count": 157,
   "metadata": {},
   "outputs": [
    {
     "name": "stdout",
     "output_type": "stream",
     "text": [
      "RFC Bagging 분류기 f1 score: 0.3200\n"
     ]
    }
   ],
   "source": [
    "bag_clf = BaggingClassifier(base_estimator=RFC, n_estimators=10, random_state=0)\n",
    "\n",
    "bag_clf.fit(X_train_over,y_train_over)\n",
    "pred = bag_clf.predict(X_test)\n",
    "print('RFC Bagging 분류기 f1 score: {0:.4f}'.format(f1_score(y_test,pred)))"
   ]
  },
  {
   "cell_type": "code",
   "execution_count": 158,
   "metadata": {},
   "outputs": [
    {
     "name": "stdout",
     "output_type": "stream",
     "text": [
      "LRC Bagging 분류기 f1 score: 0.3448\n"
     ]
    }
   ],
   "source": [
    "bag_clf = BaggingClassifier(base_estimator=LRC, n_estimators=10, random_state=0)\n",
    "\n",
    "bag_clf.fit(X_train_over,y_train_over)\n",
    "pred = bag_clf.predict(X_test)\n",
    "print('LRC Bagging 분류기 f1 score: {0:.4f}'.format(f1_score(y_test,pred)))"
   ]
  },
  {
   "cell_type": "markdown",
   "metadata": {},
   "source": [
    "### stacking\n",
    "\n",
    "* 모델에서 나온 예측값을 하나의 데이터 프레임으로 만들어 다시한번 모델에 넣어 예측한다. \n",
    "* 각 모델에서 나온 pred 들은 컬럼으로 생성됨. transpose로 row로 변경해서 데이터 프레임 모양을 맞춰줘야한다. "
   ]
  },
  {
   "cell_type": "code",
   "execution_count": 159,
   "metadata": {},
   "outputs": [
    {
     "data": {
      "text/plain": [
       "(54, 41)"
      ]
     },
     "execution_count": 159,
     "metadata": {},
     "output_type": "execute_result"
    }
   ],
   "source": [
    "X_test.shape"
   ]
  },
  {
   "cell_type": "code",
   "execution_count": 162,
   "metadata": {},
   "outputs": [
    {
     "data": {
      "text/plain": [
       "(7, 54)"
      ]
     },
     "execution_count": 162,
     "metadata": {},
     "output_type": "execute_result"
    }
   ],
   "source": [
    "df_stacking = np.array([pred_DTC, pred_GBC, pred_XGBC, pred_LGBC, pred_RFC, pred_LRC, pred_SVC])\n",
    "df_stacking.shape"
   ]
  },
  {
   "cell_type": "code",
   "execution_count": 164,
   "metadata": {},
   "outputs": [
    {
     "data": {
      "text/plain": [
       "(54, 7)"
      ]
     },
     "execution_count": 164,
     "metadata": {},
     "output_type": "execute_result"
    }
   ],
   "source": [
    "df_stacking = np.transpose(df_stacking)\n",
    "df_stacking.shape"
   ]
  },
  {
   "cell_type": "code",
   "execution_count": 165,
   "metadata": {},
   "outputs": [
    {
     "name": "stdout",
     "output_type": "stream",
     "text": [
      "stacking with XGBC f1 score: 0.4286\n"
     ]
    }
   ],
   "source": [
    "XGBC_stacking = XGBClassifier()\n",
    "XGBC_stacking.fit(df_stacking,y_test)\n",
    "pred = XGBC_stacking.predict(df_stacking)\n",
    "print('stacking with XGBC f1 score: {0:.4f}'.format(f1_score(y_test,pred)))"
   ]
  },
  {
   "cell_type": "code",
   "execution_count": 166,
   "metadata": {},
   "outputs": [
    {
     "name": "stdout",
     "output_type": "stream",
     "text": [
      "stacking with XGBC f1 score: 0.3077\n"
     ]
    }
   ],
   "source": [
    "XGBC.fit(df_stacking,y_test)\n",
    "pred = XGBC.predict(df_stacking)\n",
    "print('stacking with XGBC f1 score: {0:.4f}'.format(f1_score(y_test,pred)))"
   ]
  },
  {
   "cell_type": "code",
   "execution_count": 167,
   "metadata": {},
   "outputs": [
    {
     "name": "stdout",
     "output_type": "stream",
     "text": [
      "stacking with GBC f1 score: 0.5333\n"
     ]
    }
   ],
   "source": [
    "GBC_stacking = GradientBoostingClassifier()\n",
    "GBC_stacking.fit(df_stacking,y_test)\n",
    "pred = GBC_stacking.predict(df_stacking)\n",
    "print('stacking with GBC f1 score: {0:.4f}'.format(f1_score(y_test,pred)))"
   ]
  },
  {
   "cell_type": "code",
   "execution_count": 168,
   "metadata": {},
   "outputs": [
    {
     "name": "stdout",
     "output_type": "stream",
     "text": [
      "stacking with GBC f1 score: 0.5333\n"
     ]
    }
   ],
   "source": [
    "GBC.fit(df_stacking,y_test)\n",
    "pred = GBC.predict(df_stacking)\n",
    "print('stacking with GBC f1 score: {0:.4f}'.format(f1_score(y_test,pred)))"
   ]
  },
  {
   "cell_type": "code",
   "execution_count": 169,
   "metadata": {},
   "outputs": [
    {
     "name": "stdout",
     "output_type": "stream",
     "text": [
      "stacking with RFC_stacking f1 score: 0.5882\n"
     ]
    }
   ],
   "source": [
    "RFC_stacking = RandomForestClassifier()\n",
    "RFC_stacking.fit(df_stacking,y_test)\n",
    "pred = RFC_stacking.predict(df_stacking)\n",
    "print('stacking with RFC_stacking f1 score: {0:.4f}'.format(f1_score(y_test,pred)))"
   ]
  },
  {
   "cell_type": "markdown",
   "metadata": {},
   "source": [
    "RandomForestClassifier로 stacking할때 f1 score가  EnsembleVoteClassifier로 voting 할 때보다 성능이 좋아짐을 알 수 있다.  \n",
    "0.4348 -> 0.5882"
   ]
  },
  {
   "cell_type": "markdown",
   "metadata": {},
   "source": [
    "위에서 만든 RFC 모델은 feature갯수를 지정해놔서 사용하면 에러가 발생함."
   ]
  },
  {
   "cell_type": "code",
   "execution_count": 170,
   "metadata": {},
   "outputs": [
    {
     "name": "stdout",
     "output_type": "stream",
     "text": [
      "stacking with LRC f1 score: 0.1667\n"
     ]
    }
   ],
   "source": [
    "LRC_stacking = LogisticRegression()\n",
    "LRC_stacking.fit(df_stacking,y_test)\n",
    "pred = LRC_stacking.predict(df_stacking)\n",
    "print('stacking with LRC f1 score: {0:.4f}'.format(f1_score(y_test,pred)))"
   ]
  },
  {
   "cell_type": "code",
   "execution_count": 171,
   "metadata": {},
   "outputs": [
    {
     "name": "stdout",
     "output_type": "stream",
     "text": [
      "stacking with LRC f1 score: 0.1667\n"
     ]
    }
   ],
   "source": [
    "LRC.fit(df_stacking,y_test)\n",
    "pred = LRC.predict(df_stacking)\n",
    "print('stacking with LRC f1 score: {0:.4f}'.format(f1_score(y_test,pred)))"
   ]
  },
  {
   "cell_type": "markdown",
   "metadata": {},
   "source": [
    "### stacking - DNN포함"
   ]
  },
  {
   "cell_type": "code",
   "execution_count": 172,
   "metadata": {},
   "outputs": [
    {
     "data": {
      "text/plain": [
       "(8, 54)"
      ]
     },
     "execution_count": 172,
     "metadata": {},
     "output_type": "execute_result"
    }
   ],
   "source": [
    "df_stacking = np.array([pred_DTC, pred_GBC, pred_XGBC, pred_LGBC, pred_RFC, pred_LRC, pred_SVC, pred_DNN1])\n",
    "df_stacking.shape"
   ]
  },
  {
   "cell_type": "code",
   "execution_count": 173,
   "metadata": {},
   "outputs": [
    {
     "data": {
      "text/plain": [
       "(54, 8)"
      ]
     },
     "execution_count": 173,
     "metadata": {},
     "output_type": "execute_result"
    }
   ],
   "source": [
    "df_stacking = np.transpose(df_stacking)\n",
    "df_stacking.shape"
   ]
  },
  {
   "cell_type": "code",
   "execution_count": 174,
   "metadata": {},
   "outputs": [
    {
     "name": "stdout",
     "output_type": "stream",
     "text": [
      "stacking with XGBC f1 score: 0.7059\n"
     ]
    }
   ],
   "source": [
    "XGBC_stacking = XGBClassifier()\n",
    "XGBC_stacking.fit(df_stacking,y_test)\n",
    "pred = XGBC_stacking.predict(df_stacking)\n",
    "print('stacking with XGBC f1 score: {0:.4f}'.format(f1_score(y_test,pred)))"
   ]
  },
  {
   "cell_type": "code",
   "execution_count": 175,
   "metadata": {},
   "outputs": [
    {
     "name": "stdout",
     "output_type": "stream",
     "text": [
      "stacking with XGBC f1 score: 0.7059\n"
     ]
    }
   ],
   "source": [
    "XGBC.fit(df_stacking,y_test)\n",
    "pred = XGBC.predict(df_stacking)\n",
    "print('stacking with XGBC f1 score: {0:.4f}'.format(f1_score(y_test,pred)))"
   ]
  },
  {
   "cell_type": "markdown",
   "metadata": {},
   "source": [
    "DNN을 포함하여 stacking하면 f1 score가 0.7059까지 좋아진다."
   ]
  }
 ],
 "metadata": {
  "kernelspec": {
   "display_name": "Python 3",
   "language": "python",
   "name": "python3"
  },
  "language_info": {
   "codemirror_mode": {
    "name": "ipython",
    "version": 3
   },
   "file_extension": ".py",
   "mimetype": "text/x-python",
   "name": "python",
   "nbconvert_exporter": "python",
   "pygments_lexer": "ipython3",
   "version": "3.7.4"
  }
 },
 "nbformat": 4,
 "nbformat_minor": 2
}
